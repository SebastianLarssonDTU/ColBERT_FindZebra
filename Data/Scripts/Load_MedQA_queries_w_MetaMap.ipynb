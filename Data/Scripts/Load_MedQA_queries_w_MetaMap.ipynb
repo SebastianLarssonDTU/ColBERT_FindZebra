{
 "cells": [
  {
   "cell_type": "code",
   "execution_count": 1,
   "id": "noble-flour",
   "metadata": {},
   "outputs": [],
   "source": [
    "import pandas as pd"
   ]
  },
  {
   "cell_type": "code",
   "execution_count": 2,
   "id": "parliamentary-sitting",
   "metadata": {},
   "outputs": [],
   "source": [
    "df = pd.read_csv(\"/scratch/s190619/Data_etc/MedQA/MedQAQueries_disorders_full_v2.csv\").drop(\"Unnamed: 0\",axis=1)"
   ]
  },
  {
   "cell_type": "code",
   "execution_count": 3,
   "id": "preceding-empire",
   "metadata": {},
   "outputs": [
    {
     "data": {
      "text/html": [
       "<div>\n",
       "<style scoped>\n",
       "    .dataframe tbody tr th:only-of-type {\n",
       "        vertical-align: middle;\n",
       "    }\n",
       "\n",
       "    .dataframe tbody tr th {\n",
       "        vertical-align: top;\n",
       "    }\n",
       "\n",
       "    .dataframe thead th {\n",
       "        text-align: right;\n",
       "    }\n",
       "</style>\n",
       "<table border=\"1\" class=\"dataframe\">\n",
       "  <thead>\n",
       "    <tr style=\"text-align: right;\">\n",
       "      <th></th>\n",
       "      <th>qid</th>\n",
       "      <th>query</th>\n",
       "      <th>answer</th>\n",
       "      <th>options</th>\n",
       "      <th>meta_info</th>\n",
       "      <th>Disorder</th>\n",
       "      <th>CUI</th>\n",
       "      <th>TUI</th>\n",
       "      <th>short_category</th>\n",
       "      <th>long_category</th>\n",
       "      <th>description</th>\n",
       "      <th>CUI_METAMAP</th>\n",
       "    </tr>\n",
       "  </thead>\n",
       "  <tbody>\n",
       "    <tr>\n",
       "      <th>0</th>\n",
       "      <td>3</td>\n",
       "      <td>A pulmonary autopsy specimen from a 58-year-ol...</td>\n",
       "      <td>Thromboembolism</td>\n",
       "      <td>{'A': 'Thromboembolism', 'B': 'Pulmonary ische...</td>\n",
       "      <td>step1</td>\n",
       "      <td>True</td>\n",
       "      <td>C0040038</td>\n",
       "      <td>T046</td>\n",
       "      <td>DISO</td>\n",
       "      <td>Disorders</td>\n",
       "      <td>Pathologic Function</td>\n",
       "      <td>['C0040038']</td>\n",
       "    </tr>\n",
       "    <tr>\n",
       "      <th>1</th>\n",
       "      <td>4</td>\n",
       "      <td>A 20-year-old woman presents with menorrhagia ...</td>\n",
       "      <td>Von Willebrand disease</td>\n",
       "      <td>{'A': 'Factor V Leiden', 'B': 'Hemophilia A', ...</td>\n",
       "      <td>step1</td>\n",
       "      <td>True</td>\n",
       "      <td>C0042974</td>\n",
       "      <td>T047</td>\n",
       "      <td>DISO</td>\n",
       "      <td>Disorders</td>\n",
       "      <td>Disease or Syndrome</td>\n",
       "      <td>['C0042974']</td>\n",
       "    </tr>\n",
       "    <tr>\n",
       "      <th>2</th>\n",
       "      <td>5</td>\n",
       "      <td>A 40-year-old zookeeper presents to the emerge...</td>\n",
       "      <td>Scorpion sting</td>\n",
       "      <td>{'A': 'Aspirin', 'B': 'Oral contraceptive pill...</td>\n",
       "      <td>step1</td>\n",
       "      <td>True</td>\n",
       "      <td>C0238417</td>\n",
       "      <td>T037</td>\n",
       "      <td>DISO</td>\n",
       "      <td>Disorders</td>\n",
       "      <td>Injury or Poisoning</td>\n",
       "      <td>['C0238417']</td>\n",
       "    </tr>\n",
       "    <tr>\n",
       "      <th>4</th>\n",
       "      <td>21</td>\n",
       "      <td>An investigator is studying the function of th...</td>\n",
       "      <td>Anorexia</td>\n",
       "      <td>{'A': 'Hypothermia', 'B': 'Hyperthermia', 'C':...</td>\n",
       "      <td>step1</td>\n",
       "      <td>True</td>\n",
       "      <td>C0003123</td>\n",
       "      <td>T047</td>\n",
       "      <td>DISO</td>\n",
       "      <td>Disorders</td>\n",
       "      <td>Disease or Syndrome</td>\n",
       "      <td>['C0003123', 'C1971624']</td>\n",
       "    </tr>\n",
       "    <tr>\n",
       "      <th>7</th>\n",
       "      <td>23</td>\n",
       "      <td>A 42-year-old woman is in the hospital recover...</td>\n",
       "      <td>Delirium tremens</td>\n",
       "      <td>{'A': 'Acute cholangitis', 'B': 'Alcoholic hal...</td>\n",
       "      <td>step1</td>\n",
       "      <td>True</td>\n",
       "      <td>C0001957</td>\n",
       "      <td>T047</td>\n",
       "      <td>DISO</td>\n",
       "      <td>Disorders</td>\n",
       "      <td>Disease or Syndrome</td>\n",
       "      <td>['C0001957']</td>\n",
       "    </tr>\n",
       "  </tbody>\n",
       "</table>\n",
       "</div>"
      ],
      "text/plain": [
       "   qid                                              query  \\\n",
       "0    3  A pulmonary autopsy specimen from a 58-year-ol...   \n",
       "1    4  A 20-year-old woman presents with menorrhagia ...   \n",
       "2    5  A 40-year-old zookeeper presents to the emerge...   \n",
       "4   21  An investigator is studying the function of th...   \n",
       "7   23  A 42-year-old woman is in the hospital recover...   \n",
       "\n",
       "                   answer                                            options  \\\n",
       "0         Thromboembolism  {'A': 'Thromboembolism', 'B': 'Pulmonary ische...   \n",
       "1  Von Willebrand disease  {'A': 'Factor V Leiden', 'B': 'Hemophilia A', ...   \n",
       "2          Scorpion sting  {'A': 'Aspirin', 'B': 'Oral contraceptive pill...   \n",
       "4                Anorexia  {'A': 'Hypothermia', 'B': 'Hyperthermia', 'C':...   \n",
       "7        Delirium tremens  {'A': 'Acute cholangitis', 'B': 'Alcoholic hal...   \n",
       "\n",
       "  meta_info  Disorder       CUI   TUI short_category long_category  \\\n",
       "0     step1      True  C0040038  T046           DISO     Disorders   \n",
       "1     step1      True  C0042974  T047           DISO     Disorders   \n",
       "2     step1      True  C0238417  T037           DISO     Disorders   \n",
       "4     step1      True  C0003123  T047           DISO     Disorders   \n",
       "7     step1      True  C0001957  T047           DISO     Disorders   \n",
       "\n",
       "           description               CUI_METAMAP  \n",
       "0  Pathologic Function              ['C0040038']  \n",
       "1  Disease or Syndrome              ['C0042974']  \n",
       "2  Injury or Poisoning              ['C0238417']  \n",
       "4  Disease or Syndrome  ['C0003123', 'C1971624']  \n",
       "7  Disease or Syndrome              ['C0001957']  "
      ]
     },
     "execution_count": 3,
     "metadata": {},
     "output_type": "execute_result"
    }
   ],
   "source": [
    "df.columns = ['qid', 'query', 'answer', 'options', 'meta_info', 'Disorder', 'CUI',\n",
    "              'TUI', 'short_category', 'long_category', 'description', 'CUI_METAMAP']\n",
    "df = df.drop_duplicates(\"query\")\n",
    "df.head()"
   ]
  },
  {
   "cell_type": "code",
   "execution_count": 4,
   "id": "patent-thirty",
   "metadata": {},
   "outputs": [
    {
     "data": {
      "text/plain": [
       "Index(['qid', 'query', 'answer', 'options', 'meta_info', 'Disorder', 'CUI',\n",
       "       'TUI', 'short_category', 'long_category', 'description', 'CUI_METAMAP'],\n",
       "      dtype='object')"
      ]
     },
     "execution_count": 4,
     "metadata": {},
     "output_type": "execute_result"
    }
   ],
   "source": [
    "df.columns"
   ]
  },
  {
   "cell_type": "code",
   "execution_count": null,
   "id": "found-glance",
   "metadata": {},
   "outputs": [],
   "source": []
  },
  {
   "cell_type": "markdown",
   "id": "returning-motion",
   "metadata": {},
   "source": [
    "### Analyse structure an stuff"
   ]
  },
  {
   "cell_type": "code",
   "execution_count": 13,
   "id": "equal-backup",
   "metadata": {},
   "outputs": [],
   "source": [
    "from nltk import word_tokenize"
   ]
  },
  {
   "cell_type": "code",
   "execution_count": 14,
   "id": "available-maintenance",
   "metadata": {},
   "outputs": [],
   "source": [
    "count_tokens = []\n",
    "for i in range(df.shape[0]):\n",
    "    count_tokens.append(len(word_tokenize(df[\"query\"].iloc[i])))"
   ]
  },
  {
   "cell_type": "code",
   "execution_count": 21,
   "id": "international-portable",
   "metadata": {},
   "outputs": [],
   "source": [
    "import matplotlib.pyplot as plt\n",
    "from matplotlib.pyplot import figure"
   ]
  },
  {
   "cell_type": "code",
   "execution_count": 26,
   "id": "planned-motorcycle",
   "metadata": {},
   "outputs": [
    {
     "data": {
      "image/png": "[encoded data removed]",
      "text/plain": [
       "<Figure size 640x480 with 1 Axes>"
      ]
     },
     "metadata": {
      "needs_background": "light"
     },
     "output_type": "display_data"
    }
   ],
   "source": [
    "bins = [x*10 for x in list(range(36))]\n",
    "\n",
    "\n",
    "figure(figsize=(8, 6), dpi=80)\n",
    "\n",
    "plt.hist(count_tokens, bins=bins)\n",
    "#plt.hist(sum(count_tokens)/len(count_tokens),color='r')\n",
    "plt.xlabel(\"Number of tokens\", fontsize=18)\n",
    "plt.ylabel(\"Number of queries\", fontsize=18)\n",
    "plt.title(\"Distribution of number of tokens per query\", fontsize=20)\n",
    "plt.xticks(fontsize=14)\n",
    "plt.yticks(fontsize=14)\n",
    "\n",
    "\n",
    "plt.show()"
   ]
  },
  {
   "cell_type": "code",
   "execution_count": 31,
   "id": "driving-pastor",
   "metadata": {},
   "outputs": [
    {
     "data": {
      "text/plain": [
       "249.80000000000018"
      ]
     },
     "execution_count": 31,
     "metadata": {},
     "output_type": "execute_result"
    }
   ],
   "source": [
    "import numpy as np\n",
    "np.percentile(np.array(count_tokens),98)"
   ]
  },
  {
   "cell_type": "code",
   "execution_count": 9,
   "id": "specified-graphics",
   "metadata": {},
   "outputs": [
    {
     "data": {
      "text/plain": [
       "['A',\n",
       " 'pulmonary',\n",
       " 'autopsy',\n",
       " 'specimen',\n",
       " 'from',\n",
       " 'a',\n",
       " '58-year-old',\n",
       " 'woman',\n",
       " 'who',\n",
       " 'died',\n",
       " 'of',\n",
       " 'acute',\n",
       " 'hypoxic',\n",
       " 'respiratory',\n",
       " 'failure',\n",
       " 'was',\n",
       " 'examined',\n",
       " '.',\n",
       " 'She',\n",
       " 'had',\n",
       " 'recently',\n",
       " 'undergone',\n",
       " 'surgery',\n",
       " 'for',\n",
       " 'a',\n",
       " 'fractured',\n",
       " 'femur',\n",
       " '3',\n",
       " 'months',\n",
       " 'ago',\n",
       " '.',\n",
       " 'Initial']"
      ]
     },
     "execution_count": 9,
     "metadata": {},
     "output_type": "execute_result"
    }
   ],
   "source": [
    "word_tokenize(df[\"query\"].iloc[0])[:32]"
   ]
  },
  {
   "cell_type": "code",
   "execution_count": 10,
   "id": "opened-increase",
   "metadata": {},
   "outputs": [
    {
     "data": {
      "text/plain": [
       "'A pulmonary autopsy specimen from a 58-year-old woman who died of acute hypoxic respiratory failure was examined. She had recently undergone surgery for a fractured femur 3 months ago. Initial hospital course was uncomplicated, and she was discharged to a rehab facility in good health. Shortly after discharge home from rehab, she developed sudden shortness of breath and had cardiac arrest. Resuscitation was unsuccessful. On histological examination of lung tissue, fibrous connective tissue around the lumen of the pulmonary artery is observed. Which of the following is the most likely pathogenesis for the present findings?'"
      ]
     },
     "execution_count": 10,
     "metadata": {},
     "output_type": "execute_result"
    }
   ],
   "source": [
    "df[\"query\"].iloc[0]"
   ]
  },
  {
   "cell_type": "code",
   "execution_count": null,
   "id": "muslim-underwear",
   "metadata": {},
   "outputs": [],
   "source": []
  }
 ],
 "metadata": {
  "kernelspec": {
   "display_name": "Python 3",
   "language": "python",
   "name": "python3"
  },
  "language_info": {
   "codemirror_mode": {
    "name": "ipython",
    "version": 3
   },
   "file_extension": ".py",
   "mimetype": "text/x-python",
   "name": "python",
   "nbconvert_exporter": "python",
   "pygments_lexer": "ipython3",
   "version": "3.7.9"
  }
 },
 "nbformat": 4,
 "nbformat_minor": 5
}
