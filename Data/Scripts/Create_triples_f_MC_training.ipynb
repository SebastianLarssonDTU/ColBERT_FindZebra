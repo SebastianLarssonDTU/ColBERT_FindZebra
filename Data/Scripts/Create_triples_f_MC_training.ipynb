{
 "cells": [
  {
   "cell_type": "code",
   "execution_count": 2,
   "id": "sacred-yugoslavia",
   "metadata": {},
   "outputs": [],
   "source": [
    "import pandas as pd\n",
    "import ast"
   ]
  },
  {
   "cell_type": "code",
   "execution_count": null,
   "id": "experienced-catholic",
   "metadata": {},
   "outputs": [],
   "source": []
  },
  {
   "cell_type": "code",
   "execution_count": 5,
   "id": "tropical-former",
   "metadata": {},
   "outputs": [
    {
     "data": {
      "text/html": [
       "<div>\n",
       "<style scoped>\n",
       "    .dataframe tbody tr th:only-of-type {\n",
       "        vertical-align: middle;\n",
       "    }\n",
       "\n",
       "    .dataframe tbody tr th {\n",
       "        vertical-align: top;\n",
       "    }\n",
       "\n",
       "    .dataframe thead th {\n",
       "        text-align: right;\n",
       "    }\n",
       "</style>\n",
       "<table border=\"1\" class=\"dataframe\">\n",
       "  <thead>\n",
       "    <tr style=\"text-align: right;\">\n",
       "      <th></th>\n",
       "      <th>qid</th>\n",
       "      <th>query</th>\n",
       "      <th>answer</th>\n",
       "      <th>options</th>\n",
       "      <th>meta_info</th>\n",
       "      <th>Disorder</th>\n",
       "      <th>CUI</th>\n",
       "      <th>TUI</th>\n",
       "      <th>short_category</th>\n",
       "      <th>long_category</th>\n",
       "      <th>description</th>\n",
       "      <th>cui_METAMAP</th>\n",
       "    </tr>\n",
       "  </thead>\n",
       "  <tbody>\n",
       "    <tr>\n",
       "      <th>0</th>\n",
       "      <td>3</td>\n",
       "      <td>A pulmonary autopsy specimen from a 58-year-ol...</td>\n",
       "      <td>Thromboembolism</td>\n",
       "      <td>{'A': 'Thromboembolism', 'B': 'Pulmonary ische...</td>\n",
       "      <td>step1</td>\n",
       "      <td>True</td>\n",
       "      <td>C0040038</td>\n",
       "      <td>T046</td>\n",
       "      <td>DISO</td>\n",
       "      <td>Disorders</td>\n",
       "      <td>Pathologic Function</td>\n",
       "      <td>['C0040038']</td>\n",
       "    </tr>\n",
       "    <tr>\n",
       "      <th>1</th>\n",
       "      <td>4</td>\n",
       "      <td>A 20-year-old woman presents with menorrhagia ...</td>\n",
       "      <td>Von Willebrand disease</td>\n",
       "      <td>{'A': 'Factor V Leiden', 'B': 'Hemophilia A', ...</td>\n",
       "      <td>step1</td>\n",
       "      <td>True</td>\n",
       "      <td>C0042974</td>\n",
       "      <td>T047</td>\n",
       "      <td>DISO</td>\n",
       "      <td>Disorders</td>\n",
       "      <td>Disease or Syndrome</td>\n",
       "      <td>['C0042974']</td>\n",
       "    </tr>\n",
       "    <tr>\n",
       "      <th>2</th>\n",
       "      <td>5</td>\n",
       "      <td>A 40-year-old zookeeper presents to the emerge...</td>\n",
       "      <td>Scorpion sting</td>\n",
       "      <td>{'A': 'Aspirin', 'B': 'Oral contraceptive pill...</td>\n",
       "      <td>step1</td>\n",
       "      <td>True</td>\n",
       "      <td>C0238417</td>\n",
       "      <td>T037</td>\n",
       "      <td>DISO</td>\n",
       "      <td>Disorders</td>\n",
       "      <td>Injury or Poisoning</td>\n",
       "      <td>['C0238417']</td>\n",
       "    </tr>\n",
       "    <tr>\n",
       "      <th>3</th>\n",
       "      <td>5</td>\n",
       "      <td>A 40-year-old zookeeper presents to the emerge...</td>\n",
       "      <td>Scorpion sting</td>\n",
       "      <td>{'A': 'Aspirin', 'B': 'Oral contraceptive pill...</td>\n",
       "      <td>step1</td>\n",
       "      <td>True</td>\n",
       "      <td>C0261663</td>\n",
       "      <td>T037</td>\n",
       "      <td>DISO</td>\n",
       "      <td>Disorders</td>\n",
       "      <td>Injury or Poisoning</td>\n",
       "      <td>['C0238417']</td>\n",
       "    </tr>\n",
       "    <tr>\n",
       "      <th>4</th>\n",
       "      <td>21</td>\n",
       "      <td>An investigator is studying the function of th...</td>\n",
       "      <td>Anorexia</td>\n",
       "      <td>{'A': 'Hypothermia', 'B': 'Hyperthermia', 'C':...</td>\n",
       "      <td>step1</td>\n",
       "      <td>True</td>\n",
       "      <td>C0003123</td>\n",
       "      <td>T047</td>\n",
       "      <td>DISO</td>\n",
       "      <td>Disorders</td>\n",
       "      <td>Disease or Syndrome</td>\n",
       "      <td>['C0003123', 'C1971624']</td>\n",
       "    </tr>\n",
       "  </tbody>\n",
       "</table>\n",
       "</div>"
      ],
      "text/plain": [
       "   qid                                              query  \\\n",
       "0    3  A pulmonary autopsy specimen from a 58-year-ol...   \n",
       "1    4  A 20-year-old woman presents with menorrhagia ...   \n",
       "2    5  A 40-year-old zookeeper presents to the emerge...   \n",
       "3    5  A 40-year-old zookeeper presents to the emerge...   \n",
       "4   21  An investigator is studying the function of th...   \n",
       "\n",
       "                   answer                                            options  \\\n",
       "0         Thromboembolism  {'A': 'Thromboembolism', 'B': 'Pulmonary ische...   \n",
       "1  Von Willebrand disease  {'A': 'Factor V Leiden', 'B': 'Hemophilia A', ...   \n",
       "2          Scorpion sting  {'A': 'Aspirin', 'B': 'Oral contraceptive pill...   \n",
       "3          Scorpion sting  {'A': 'Aspirin', 'B': 'Oral contraceptive pill...   \n",
       "4                Anorexia  {'A': 'Hypothermia', 'B': 'Hyperthermia', 'C':...   \n",
       "\n",
       "  meta_info  Disorder       CUI   TUI short_category long_category  \\\n",
       "0     step1      True  C0040038  T046           DISO     Disorders   \n",
       "1     step1      True  C0042974  T047           DISO     Disorders   \n",
       "2     step1      True  C0238417  T037           DISO     Disorders   \n",
       "3     step1      True  C0261663  T037           DISO     Disorders   \n",
       "4     step1      True  C0003123  T047           DISO     Disorders   \n",
       "\n",
       "           description               cui_METAMAP  \n",
       "0  Pathologic Function              ['C0040038']  \n",
       "1  Disease or Syndrome              ['C0042974']  \n",
       "2  Injury or Poisoning              ['C0238417']  \n",
       "3  Injury or Poisoning              ['C0238417']  \n",
       "4  Disease or Syndrome  ['C0003123', 'C1971624']  "
      ]
     },
     "execution_count": 5,
     "metadata": {},
     "output_type": "execute_result"
    }
   ],
   "source": [
    "# Training queries\n",
    "MedQA_queries = pd.read_csv(\"/scratch/s190619/Data_etc/MedQA/disorders_table_train.csv\")\n",
    "MedQA_queries.head()"
   ]
  },
  {
   "cell_type": "code",
   "execution_count": 6,
   "id": "coordinated-paris",
   "metadata": {},
   "outputs": [],
   "source": [
    "def clean_string(x):\n",
    "    return x.replace(\"\\t\",\" \").replace(\"\\n\",\" \")\n",
    "\n",
    "q = MedQA_queries.copy()\n",
    "q[\"options\"] = q[\"options\"].apply(lambda x: ast.literal_eval(x))\n",
    "opts = []\n",
    "for i in range(q[\"options\"].shape[0]):\n",
    "    opt_tmp = [x for x in q[\"options\"].iloc[i].values() if x != q[\"answer\"].iloc[i]]\n",
    "    opt_tmp.insert(0, q[\"answer\"].iloc[i])\n",
    "    opts.append(opt_tmp)\n",
    "q[\"options\"] = opts \n",
    "q = q[[\"query\",\"options\"]]\n",
    "for i in range(5):\n",
    "    q[f\"options{i}\"] = [clean_string(q.iloc[j][\"options\"][i]) for j in range(q.shape[0])]\n",
    "q = q.drop(\"options\",axis=1)\n",
    "q[\"query\"] = [x.lower() for x in q[\"query\"]]\n",
    "q = q.drop_duplicates(\"query\")"
   ]
  },
  {
   "cell_type": "code",
   "execution_count": 7,
   "id": "informational-cargo",
   "metadata": {},
   "outputs": [
    {
     "data": {
      "text/html": [
       "<div>\n",
       "<style scoped>\n",
       "    .dataframe tbody tr th:only-of-type {\n",
       "        vertical-align: middle;\n",
       "    }\n",
       "\n",
       "    .dataframe tbody tr th {\n",
       "        vertical-align: top;\n",
       "    }\n",
       "\n",
       "    .dataframe thead th {\n",
       "        text-align: right;\n",
       "    }\n",
       "</style>\n",
       "<table border=\"1\" class=\"dataframe\">\n",
       "  <thead>\n",
       "    <tr style=\"text-align: right;\">\n",
       "      <th></th>\n",
       "      <th>query</th>\n",
       "      <th>options0</th>\n",
       "      <th>options1</th>\n",
       "      <th>options2</th>\n",
       "      <th>options3</th>\n",
       "      <th>options4</th>\n",
       "    </tr>\n",
       "  </thead>\n",
       "  <tbody>\n",
       "    <tr>\n",
       "      <th>0</th>\n",
       "      <td>a pulmonary autopsy specimen from a 58-year-ol...</td>\n",
       "      <td>Thromboembolism</td>\n",
       "      <td>Pulmonary ischemia</td>\n",
       "      <td>Pulmonary hypertension</td>\n",
       "      <td>Pulmonary passive congestion</td>\n",
       "      <td>Pulmonary hemorrhage</td>\n",
       "    </tr>\n",
       "    <tr>\n",
       "      <th>1</th>\n",
       "      <td>a 20-year-old woman presents with menorrhagia ...</td>\n",
       "      <td>Von Willebrand disease</td>\n",
       "      <td>Factor V Leiden</td>\n",
       "      <td>Hemophilia A</td>\n",
       "      <td>Lupus anticoagulant</td>\n",
       "      <td>Protein C deficiency</td>\n",
       "    </tr>\n",
       "    <tr>\n",
       "      <th>2</th>\n",
       "      <td>a 40-year-old zookeeper presents to the emerge...</td>\n",
       "      <td>Scorpion sting</td>\n",
       "      <td>Aspirin</td>\n",
       "      <td>Oral contraceptive pills</td>\n",
       "      <td>Hypothyroidism</td>\n",
       "      <td>Obesity</td>\n",
       "    </tr>\n",
       "    <tr>\n",
       "      <th>4</th>\n",
       "      <td>an investigator is studying the function of th...</td>\n",
       "      <td>Anorexia</td>\n",
       "      <td>Hypothermia</td>\n",
       "      <td>Hyperthermia</td>\n",
       "      <td>Polydipsia</td>\n",
       "      <td>Nocturnal hyperactivity</td>\n",
       "    </tr>\n",
       "    <tr>\n",
       "      <th>7</th>\n",
       "      <td>a 42-year-old woman is in the hospital recover...</td>\n",
       "      <td>Delirium tremens</td>\n",
       "      <td>Acute cholangitis</td>\n",
       "      <td>Alcoholic hallucinosis</td>\n",
       "      <td>Hepatic encephalopathy</td>\n",
       "      <td>Thyroid storm</td>\n",
       "    </tr>\n",
       "  </tbody>\n",
       "</table>\n",
       "</div>"
      ],
      "text/plain": [
       "                                               query                options0  \\\n",
       "0  a pulmonary autopsy specimen from a 58-year-ol...         Thromboembolism   \n",
       "1  a 20-year-old woman presents with menorrhagia ...  Von Willebrand disease   \n",
       "2  a 40-year-old zookeeper presents to the emerge...          Scorpion sting   \n",
       "4  an investigator is studying the function of th...                Anorexia   \n",
       "7  a 42-year-old woman is in the hospital recover...        Delirium tremens   \n",
       "\n",
       "             options1                  options2                      options3  \\\n",
       "0  Pulmonary ischemia    Pulmonary hypertension  Pulmonary passive congestion   \n",
       "1     Factor V Leiden              Hemophilia A           Lupus anticoagulant   \n",
       "2             Aspirin  Oral contraceptive pills                Hypothyroidism   \n",
       "4         Hypothermia              Hyperthermia                    Polydipsia   \n",
       "7   Acute cholangitis    Alcoholic hallucinosis        Hepatic encephalopathy   \n",
       "\n",
       "                  options4  \n",
       "0     Pulmonary hemorrhage  \n",
       "1     Protein C deficiency  \n",
       "2                  Obesity  \n",
       "4  Nocturnal hyperactivity  \n",
       "7            Thyroid storm  "
      ]
     },
     "execution_count": 7,
     "metadata": {},
     "output_type": "execute_result"
    }
   ],
   "source": [
    "q.head()"
   ]
  },
  {
   "cell_type": "code",
   "execution_count": null,
   "id": "atlantic-drive",
   "metadata": {},
   "outputs": [],
   "source": []
  },
  {
   "cell_type": "markdown",
   "id": "protecting-steam",
   "metadata": {},
   "source": [
    "# Create MedQA triples with options"
   ]
  },
  {
   "cell_type": "code",
   "execution_count": 8,
   "id": "paperback-cache",
   "metadata": {},
   "outputs": [],
   "source": [
    "triples_MedQA = pd.read_csv(\"/scratch/s190619/Data_etc/ColBERT/training_sets/MedQA_textbooks_split_triples.tsv\", sep=\"\\t\", header=None)\n",
    "triples_MedQA.columns = [\"query\",\"positive\",\"negative\"]"
   ]
  },
  {
   "cell_type": "code",
   "execution_count": 9,
   "id": "social-circulation",
   "metadata": {},
   "outputs": [],
   "source": [
    "triples_with_options_MedQA = triples_MedQA.join(q.set_index(\"query\"), on=\"query\")"
   ]
  },
  {
   "cell_type": "code",
   "execution_count": 10,
   "id": "convinced-gross",
   "metadata": {},
   "outputs": [
    {
     "data": {
      "text/plain": [
       "query       0\n",
       "positive    0\n",
       "negative    0\n",
       "options0    0\n",
       "options1    0\n",
       "options2    0\n",
       "options3    0\n",
       "options4    0\n",
       "dtype: int64"
      ]
     },
     "execution_count": 10,
     "metadata": {},
     "output_type": "execute_result"
    }
   ],
   "source": [
    "triples_with_options_MedQA.isna().sum()"
   ]
  },
  {
   "cell_type": "code",
   "execution_count": 11,
   "id": "romance-grade",
   "metadata": {},
   "outputs": [],
   "source": [
    "triples_with_options_MedQA.to_csv(\"/scratch/s190619/Data_etc/ColBERT/training_sets/MedQA_textbooks_split_triples_w_options.tsv\", sep=\"\\t\", header = False, index = False)"
   ]
  },
  {
   "cell_type": "markdown",
   "id": "successful-disclaimer",
   "metadata": {},
   "source": [
    "# Create FZ triples with options"
   ]
  },
  {
   "cell_type": "code",
   "execution_count": 12,
   "id": "prescription-pontiac",
   "metadata": {},
   "outputs": [],
   "source": [
    "triples_FZ = pd.read_csv(\"/scratch/s190619/Data_etc/ColBERT/training_sets/FZ_corpus_split_triples.tsv\", sep=\"\\t\", header=None)\n",
    "triples_FZ.columns = [\"query\",\"positive\",\"negative\"]"
   ]
  },
  {
   "cell_type": "code",
   "execution_count": 13,
   "id": "viral-increase",
   "metadata": {},
   "outputs": [],
   "source": [
    "triples_with_options_FZ = triples_FZ.join(q.set_index(\"query\"), on=\"query\")"
   ]
  },
  {
   "cell_type": "code",
   "execution_count": 14,
   "id": "immediate-unemployment",
   "metadata": {},
   "outputs": [
    {
     "data": {
      "text/plain": [
       "query       0\n",
       "positive    0\n",
       "negative    0\n",
       "options0    0\n",
       "options1    0\n",
       "options2    0\n",
       "options3    0\n",
       "options4    0\n",
       "dtype: int64"
      ]
     },
     "execution_count": 14,
     "metadata": {},
     "output_type": "execute_result"
    }
   ],
   "source": [
    "triples_with_options_FZ.isna().sum()"
   ]
  },
  {
   "cell_type": "code",
   "execution_count": 43,
   "id": "assisted-hygiene",
   "metadata": {},
   "outputs": [],
   "source": [
    "triples_with_options_FZ.to_csv(\"/scratch/s190619/Data_etc/ColBERT/training_sets/FZ_corpus_split_triples_w_options.tsv\", sep=\"\\t\", header = False, index = False)"
   ]
  },
  {
   "cell_type": "code",
   "execution_count": null,
   "id": "novel-produce",
   "metadata": {},
   "outputs": [],
   "source": []
  },
  {
   "cell_type": "code",
   "execution_count": null,
   "id": "korean-durham",
   "metadata": {},
   "outputs": [],
   "source": []
  },
  {
   "cell_type": "code",
   "execution_count": null,
   "id": "amber-insurance",
   "metadata": {},
   "outputs": [],
   "source": []
  },
  {
   "cell_type": "code",
   "execution_count": null,
   "id": "fallen-profit",
   "metadata": {},
   "outputs": [],
   "source": []
  },
  {
   "cell_type": "code",
   "execution_count": null,
   "id": "final-reverse",
   "metadata": {},
   "outputs": [],
   "source": []
  },
  {
   "cell_type": "code",
   "execution_count": null,
   "id": "offensive-survivor",
   "metadata": {},
   "outputs": [],
   "source": []
  },
  {
   "cell_type": "code",
   "execution_count": 41,
   "id": "soviet-chambers",
   "metadata": {},
   "outputs": [
    {
     "data": {
      "text/html": [
       "<div>\n",
       "<style scoped>\n",
       "    .dataframe tbody tr th:only-of-type {\n",
       "        vertical-align: middle;\n",
       "    }\n",
       "\n",
       "    .dataframe tbody tr th {\n",
       "        vertical-align: top;\n",
       "    }\n",
       "\n",
       "    .dataframe thead th {\n",
       "        text-align: right;\n",
       "    }\n",
       "</style>\n",
       "<table border=\"1\" class=\"dataframe\">\n",
       "  <thead>\n",
       "    <tr style=\"text-align: right;\">\n",
       "      <th></th>\n",
       "      <th>query</th>\n",
       "      <th>positive</th>\n",
       "      <th>negative</th>\n",
       "      <th>options0</th>\n",
       "      <th>options1</th>\n",
       "      <th>options2</th>\n",
       "      <th>options3</th>\n",
       "      <th>options4</th>\n",
       "    </tr>\n",
       "  </thead>\n",
       "  <tbody>\n",
       "    <tr>\n",
       "      <th>0</th>\n",
       "      <td>a pulmonary autopsy specimen from a 58-year-ol...</td>\n",
       "      <td>the anticoagulant effect of lmwhs may be parti...</td>\n",
       "      <td>essential tremor may cause difficulty in diagn...</td>\n",
       "      <td>Thromboembolism</td>\n",
       "      <td>Pulmonary ischemia</td>\n",
       "      <td>Pulmonary hypertension</td>\n",
       "      <td>Pulmonary passive congestion</td>\n",
       "      <td>Pulmonary hemorrhage</td>\n",
       "    </tr>\n",
       "    <tr>\n",
       "      <th>1</th>\n",
       "      <td>a pulmonary autopsy specimen from a 58-year-ol...</td>\n",
       "      <td>the longitudinal assessment of bariatric surge...</td>\n",
       "      <td>gut-associated lymphoid tissues (galt)   lymph...</td>\n",
       "      <td>Thromboembolism</td>\n",
       "      <td>Pulmonary ischemia</td>\n",
       "      <td>Pulmonary hypertension</td>\n",
       "      <td>Pulmonary passive congestion</td>\n",
       "      <td>Pulmonary hemorrhage</td>\n",
       "    </tr>\n",
       "    <tr>\n",
       "      <th>2</th>\n",
       "      <td>a pulmonary autopsy specimen from a 58-year-ol...</td>\n",
       "      <td>a randomized controlled trial involving 246 lo...</td>\n",
       "      <td>an autoimmune disorder caused by antibodies di...</td>\n",
       "      <td>Thromboembolism</td>\n",
       "      <td>Pulmonary ischemia</td>\n",
       "      <td>Pulmonary hypertension</td>\n",
       "      <td>Pulmonary passive congestion</td>\n",
       "      <td>Pulmonary hemorrhage</td>\n",
       "    </tr>\n",
       "    <tr>\n",
       "      <th>3</th>\n",
       "      <td>a pulmonary autopsy specimen from a 58-year-ol...</td>\n",
       "      <td>makary et al studied 594 older patients presen...</td>\n",
       "      <td>baerwald ar, walker ra, pierson ra. growth rat...</td>\n",
       "      <td>Thromboembolism</td>\n",
       "      <td>Pulmonary ischemia</td>\n",
       "      <td>Pulmonary hypertension</td>\n",
       "      <td>Pulmonary passive congestion</td>\n",
       "      <td>Pulmonary hemorrhage</td>\n",
       "    </tr>\n",
       "    <tr>\n",
       "      <th>4</th>\n",
       "      <td>a pulmonary autopsy specimen from a 58-year-ol...</td>\n",
       "      <td>with the clini-cal history and physical examin...</td>\n",
       "      <td>few trials have evaluated exercise speciically...</td>\n",
       "      <td>Thromboembolism</td>\n",
       "      <td>Pulmonary ischemia</td>\n",
       "      <td>Pulmonary hypertension</td>\n",
       "      <td>Pulmonary passive congestion</td>\n",
       "      <td>Pulmonary hemorrhage</td>\n",
       "    </tr>\n",
       "  </tbody>\n",
       "</table>\n",
       "</div>"
      ],
      "text/plain": [
       "                                               query  \\\n",
       "0  a pulmonary autopsy specimen from a 58-year-ol...   \n",
       "1  a pulmonary autopsy specimen from a 58-year-ol...   \n",
       "2  a pulmonary autopsy specimen from a 58-year-ol...   \n",
       "3  a pulmonary autopsy specimen from a 58-year-ol...   \n",
       "4  a pulmonary autopsy specimen from a 58-year-ol...   \n",
       "\n",
       "                                            positive  \\\n",
       "0  the anticoagulant effect of lmwhs may be parti...   \n",
       "1  the longitudinal assessment of bariatric surge...   \n",
       "2  a randomized controlled trial involving 246 lo...   \n",
       "3  makary et al studied 594 older patients presen...   \n",
       "4  with the clini-cal history and physical examin...   \n",
       "\n",
       "                                            negative         options0  \\\n",
       "0  essential tremor may cause difficulty in diagn...  Thromboembolism   \n",
       "1  gut-associated lymphoid tissues (galt)   lymph...  Thromboembolism   \n",
       "2  an autoimmune disorder caused by antibodies di...  Thromboembolism   \n",
       "3  baerwald ar, walker ra, pierson ra. growth rat...  Thromboembolism   \n",
       "4  few trials have evaluated exercise speciically...  Thromboembolism   \n",
       "\n",
       "             options1                options2                      options3  \\\n",
       "0  Pulmonary ischemia  Pulmonary hypertension  Pulmonary passive congestion   \n",
       "1  Pulmonary ischemia  Pulmonary hypertension  Pulmonary passive congestion   \n",
       "2  Pulmonary ischemia  Pulmonary hypertension  Pulmonary passive congestion   \n",
       "3  Pulmonary ischemia  Pulmonary hypertension  Pulmonary passive congestion   \n",
       "4  Pulmonary ischemia  Pulmonary hypertension  Pulmonary passive congestion   \n",
       "\n",
       "               options4  \n",
       "0  Pulmonary hemorrhage  \n",
       "1  Pulmonary hemorrhage  \n",
       "2  Pulmonary hemorrhage  \n",
       "3  Pulmonary hemorrhage  \n",
       "4  Pulmonary hemorrhage  "
      ]
     },
     "execution_count": 41,
     "metadata": {},
     "output_type": "execute_result"
    }
   ],
   "source": [
    "triples_with_options_MedQA.head()"
   ]
  },
  {
   "cell_type": "code",
   "execution_count": 19,
   "id": "broadband-audit",
   "metadata": {},
   "outputs": [
    {
     "data": {
      "text/html": [
       "<div>\n",
       "<style scoped>\n",
       "    .dataframe tbody tr th:only-of-type {\n",
       "        vertical-align: middle;\n",
       "    }\n",
       "\n",
       "    .dataframe tbody tr th {\n",
       "        vertical-align: top;\n",
       "    }\n",
       "\n",
       "    .dataframe thead th {\n",
       "        text-align: right;\n",
       "    }\n",
       "</style>\n",
       "<table border=\"1\" class=\"dataframe\">\n",
       "  <thead>\n",
       "    <tr style=\"text-align: right;\">\n",
       "      <th></th>\n",
       "      <th>query</th>\n",
       "      <th>positive</th>\n",
       "      <th>negative</th>\n",
       "      <th>options0</th>\n",
       "      <th>options1</th>\n",
       "      <th>options2</th>\n",
       "      <th>options3</th>\n",
       "      <th>options4</th>\n",
       "    </tr>\n",
       "  </thead>\n",
       "  <tbody>\n",
       "    <tr>\n",
       "      <th>0</th>\n",
       "      <td>a 55-year-old man presents to the emergency de...</td>\n",
       "      <td>deeply infiltrative lesions are consistently a...</td>\n",
       "      <td>seidman, j.g., and leder, p.: the arrangement ...</td>\n",
       "      <td>Adhesions</td>\n",
       "      <td>Enteric nervous system damage</td>\n",
       "      <td>Impacted stool</td>\n",
       "      <td>Norovirus</td>\n",
       "      <td>Twisting of the bowel</td>\n",
       "    </tr>\n",
       "    <tr>\n",
       "      <th>1</th>\n",
       "      <td>a 38-year-old woman with a history of crohn’s ...</td>\n",
       "      <td>the vasoac-tive intestinal peptide-secreting t...</td>\n",
       "      <td>feldmann, m., and maini, r.n.: lasker clinical...</td>\n",
       "      <td>Hypokalemia</td>\n",
       "      <td>Hyperkalemia</td>\n",
       "      <td>Normal random blood glucose levels</td>\n",
       "      <td>Metabolic acidosis</td>\n",
       "      <td>Hypoglycemia</td>\n",
       "    </tr>\n",
       "    <tr>\n",
       "      <th>2</th>\n",
       "      <td>a 66-year-old man is brought to the emergency ...</td>\n",
       "      <td>occasionally, atrophy of bone and pain in the ...</td>\n",
       "      <td>infants with tricuspid atresia are usually sev...</td>\n",
       "      <td>Shoulder pain</td>\n",
       "      <td>Pain radiating to the back</td>\n",
       "      <td>Gross hematuria</td>\n",
       "      <td>Muffled heart sounds</td>\n",
       "      <td>Free air on chest radiograph</td>\n",
       "    </tr>\n",
       "    <tr>\n",
       "      <th>3</th>\n",
       "      <td>a 30-year-old woman, gravida 2, para 1, at 38 ...</td>\n",
       "      <td>oral, direct inhibitors of fxa have been appro...</td>\n",
       "      <td>wang, j., and eck, m.j.: assembling atomic res...</td>\n",
       "      <td>Routine monitoring</td>\n",
       "      <td>Vibroacoustic stimulation</td>\n",
       "      <td>Placement of fetal scalp electrode</td>\n",
       "      <td>Emergent cesarean delivery</td>\n",
       "      <td>Administer tocolytics</td>\n",
       "    </tr>\n",
       "    <tr>\n",
       "      <th>4</th>\n",
       "      <td>a 15-year-old boy is brought to the physician ...</td>\n",
       "      <td>the disruptive, impulse—control, and conduct d...</td>\n",
       "      <td>figure 24-24 a. st segment changes in normal a...</td>\n",
       "      <td>Conduct disorder</td>\n",
       "      <td>Autism spectrum disorder</td>\n",
       "      <td>Oppositional defiant disorder</td>\n",
       "      <td>Antisocial personality disorder</td>\n",
       "      <td>Disruptive mood dysregulation disorder \"</td>\n",
       "    </tr>\n",
       "  </tbody>\n",
       "</table>\n",
       "</div>"
      ],
      "text/plain": [
       "                                               query  \\\n",
       "0  a 55-year-old man presents to the emergency de...   \n",
       "1  a 38-year-old woman with a history of crohn’s ...   \n",
       "2  a 66-year-old man is brought to the emergency ...   \n",
       "3  a 30-year-old woman, gravida 2, para 1, at 38 ...   \n",
       "4  a 15-year-old boy is brought to the physician ...   \n",
       "\n",
       "                                            positive  \\\n",
       "0  deeply infiltrative lesions are consistently a...   \n",
       "1  the vasoac-tive intestinal peptide-secreting t...   \n",
       "2  occasionally, atrophy of bone and pain in the ...   \n",
       "3  oral, direct inhibitors of fxa have been appro...   \n",
       "4  the disruptive, impulse—control, and conduct d...   \n",
       "\n",
       "                                            negative            options0  \\\n",
       "0  seidman, j.g., and leder, p.: the arrangement ...           Adhesions   \n",
       "1  feldmann, m., and maini, r.n.: lasker clinical...         Hypokalemia   \n",
       "2  infants with tricuspid atresia are usually sev...       Shoulder pain   \n",
       "3  wang, j., and eck, m.j.: assembling atomic res...  Routine monitoring   \n",
       "4  figure 24-24 a. st segment changes in normal a...    Conduct disorder   \n",
       "\n",
       "                        options1                            options2  \\\n",
       "0  Enteric nervous system damage                      Impacted stool   \n",
       "1                   Hyperkalemia  Normal random blood glucose levels   \n",
       "2     Pain radiating to the back                     Gross hematuria   \n",
       "3      Vibroacoustic stimulation  Placement of fetal scalp electrode   \n",
       "4       Autism spectrum disorder       Oppositional defiant disorder   \n",
       "\n",
       "                          options3                                  options4  \n",
       "0                        Norovirus                     Twisting of the bowel  \n",
       "1               Metabolic acidosis                              Hypoglycemia  \n",
       "2             Muffled heart sounds              Free air on chest radiograph  \n",
       "3       Emergent cesarean delivery                     Administer tocolytics  \n",
       "4  Antisocial personality disorder  Disruptive mood dysregulation disorder \"  "
      ]
     },
     "execution_count": 19,
     "metadata": {},
     "output_type": "execute_result"
    }
   ],
   "source": [
    "triples_with_options_MedQA.sample(frac=1).reset_index().drop(\"index\",axis=1).head()"
   ]
  },
  {
   "cell_type": "code",
   "execution_count": 20,
   "id": "completed-specification",
   "metadata": {},
   "outputs": [
    {
     "data": {
      "text/plain": [
       "(40069, 8)"
      ]
     },
     "execution_count": 20,
     "metadata": {},
     "output_type": "execute_result"
    }
   ],
   "source": [
    "triples_with_options_MedQA.shape"
   ]
  },
  {
   "cell_type": "code",
   "execution_count": 21,
   "id": "trying-ensemble",
   "metadata": {},
   "outputs": [
    {
     "data": {
      "text/plain": [
       "(40069, 8)"
      ]
     },
     "execution_count": 21,
     "metadata": {},
     "output_type": "execute_result"
    }
   ],
   "source": [
    "triples_with_options_MedQA.sample(frac=1).reset_index().drop(\"index\",axis=1).shape"
   ]
  },
  {
   "cell_type": "code",
   "execution_count": 25,
   "id": "velvet-wayne",
   "metadata": {},
   "outputs": [],
   "source": [
    "triples_MedQA = pd.read_csv(\"/scratch/s190619/Data_etc/ColBERT/training_sets/FZ_corpus_split_triples.tsv\", sep=\"\\t\", header=None)\n",
    "#triples_MedQA.columns = [\"query\",\"positive\",\"negative\"]\n",
    "triples_MedQA.sample(frac=1).reset_index().drop(\"index\",axis=1).to_csv(\"/scratch/s190619/Data_etc/ColBERT/training_sets/FZ_corpus_split_triples_scrambled.tsv\", sep=\"\\t\",header=False,index=False)"
   ]
  },
  {
   "cell_type": "code",
   "execution_count": null,
   "id": "smoking-colorado",
   "metadata": {},
   "outputs": [],
   "source": []
  }
 ],
 "metadata": {
  "kernelspec": {
   "display_name": "Python 3",
   "language": "python",
   "name": "python3"
  },
  "language_info": {
   "codemirror_mode": {
    "name": "ipython",
    "version": 3
   },
   "file_extension": ".py",
   "mimetype": "text/x-python",
   "name": "python",
   "nbconvert_exporter": "python",
   "pygments_lexer": "ipython3",
   "version": "3.7.9"
  }
 },
 "nbformat": 4,
 "nbformat_minor": 5
}
