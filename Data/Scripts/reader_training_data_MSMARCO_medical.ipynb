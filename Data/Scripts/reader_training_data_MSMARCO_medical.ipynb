{
 "cells": [
  {
   "cell_type": "markdown",
   "id": "oriental-opening",
   "metadata": {},
   "source": [
    "# This notebook creates training data for the FiD Reader module using the MSMARCO medical triples and MedQA queries + answers + options"
   ]
  },
  {
   "cell_type": "markdown",
   "id": "tough-franchise",
   "metadata": {},
   "source": [
    "### Look at data structure needed for training FiD\n",
    "\n",
    "Each data point should be in the structure of a dict with these indices:\n",
    "- question: the query. Is a string\n",
    "- answers: corresponds to the options in MedQA. Is a list of strings, of unspecified dimension\n",
    "- target: corresponds to the correct answer in MedQA. Is a string\n",
    "- ctxs: is a list containing passage information:\n",
    "    - id: the unique pid\n",
    "    - title: passage title\n",
    "    - text: the passage itself\n"
   ]
  },
  {
   "cell_type": "code",
   "execution_count": 1,
   "id": "grand-council",
   "metadata": {},
   "outputs": [],
   "source": [
    "import pandas as pd\n",
    "import json"
   ]
  },
  {
   "cell_type": "code",
   "execution_count": 2,
   "id": "rising-comparative",
   "metadata": {},
   "outputs": [],
   "source": [
    "data_path = \"/scratch/s190619/MSMARCO/FiD/FiD/open_domain_data/TQA/\"\n",
    "data_file = \"train.json\"\n",
    "with open(data_path + data_file) as json_file:\n",
    "    data = json.load(json_file)"
   ]
  },
  {
   "cell_type": "code",
   "execution_count": 3,
   "id": "hawaiian-regard",
   "metadata": {},
   "outputs": [
    {
     "data": {
      "text/plain": [
       "{'question': 'Who was President when the first Peanuts cartoon was published?',\n",
       " 'answers': ['Presidency of Harry S. Truman',\n",
       "  'Hary truman',\n",
       "  'Harry Shipp Truman',\n",
       "  \"Harry Truman's\",\n",
       "  'Harry S. Truman',\n",
       "  'Harry S.Truman',\n",
       "  'Harry S Truman',\n",
       "  'H. S. Truman',\n",
       "  'President Harry Truman',\n",
       "  'Truman administration',\n",
       "  'Presidency of Harry Truman',\n",
       "  'Mr. Citizen',\n",
       "  'HST (president)',\n",
       "  'H.S. Truman',\n",
       "  'Mary Jane Truman',\n",
       "  'Harry Shippe Truman',\n",
       "  'S truman',\n",
       "  'Harry Truman',\n",
       "  'President Truman',\n",
       "  '33rd President of the United States',\n",
       "  'Truman Administration',\n",
       "  'Harry Solomon Truman',\n",
       "  'Harold Truman',\n",
       "  'Harry truman',\n",
       "  'H. Truman'],\n",
       " 'target': 'Harry Truman',\n",
       " 'ctxs': [{'id': '525783',\n",
       "   'title': 'Peanuts',\n",
       "   'text': 'the entire life of the Sunday strip. Most of the other characters that eventually became the main characters of Peanuts did not appear until later: Violet (February 1951), Schroeder (May 1951), Lucy (March 1952), Linus (September 1952), Pig-Pen (July 1954), Sally (August 1959), Frieda (March 1961), \"Peppermint\" Patty (August 1966), Woodstock (introduced April 1967; given a name in June 1970), Franklin (July 1968), Marcie (July 1971), and Rerun (March 1973). Schulz decided to produce all aspects of the strip himself from the script to the finished art and lettering. Schulz did, however, hire help to produce the comic book adaptations'},\n",
       "  {'id': '8842317',\n",
       "   'title': 'People to People International',\n",
       "   'text': 'for exemption from income tax under the Internal Revenue Code 501(c)(3). PTPI is funded through program fees, membership dues and donations. Among the early leaders working with President Eisenhower were Joyce C. Hall, the founder of Hallmark Cards, Inc., Walt Disney, Bob Hope and approximately 100 other remarkable individuals from industry, academia and the arts. Charles M. Schulz, creator of the \"Peanuts\" comic strip, contributed three pieces of artwork for PTPI Worldwide Conferences. On June 22, 2006, People to People was the first organization awarded the Cavaliere per la Pace (Knight of Peace Award). Prior to People to People, recipients'},\n",
       "  {'id': '525801',\n",
       "   'title': 'Peanuts',\n",
       "   'text': \"first strip) a beagle, Snoopy. The first addition, Violet, was made on February 7, 1951. Other character introductions that soon followed were Schroeder, on May 30, 1951, as a baby; Lucy, on March 3, 1952; Lucy's baby brother Linus, on September 19, 1952 (after his existence was first mentioned on July 14); and Pig-Pen, on July 13, 1954. Though the strip did not have a lead character at first, it soon began to focus on Charlie Brown, a character developed from some of the painful experiences of Schulz's formative years. In early strips, Charlie Brown was depicted as distinctly younger\"},\n",
       "  {'id': '525782',\n",
       "   'title': 'Peanuts',\n",
       "   'text': 'Denver Post\", \"The Seattle Times\", \"The New York World-Telegram & Sun\", and \"The Boston Globe\". It began as a daily strip. The first strip was four panels long and showed Charlie Brown walking by two other young children, Shermy and Patty. Shermy lauds Charlie Brown as he walks by, but then tells Patty how he hates him in the final panel. Snoopy was also an early character in the strip, first appearing in the third strip, which ran on October 4. Its first Sunday strip appeared January 6, 1952, in the half-page format, which was the only complete format for'},\n",
       "  {'id': '1256902',\n",
       "   'title': 'Charlie Brown',\n",
       "   'text': 'Charlie Brown on the very first Peanuts strip. Charlie Brown had a notably surprisingly successful romantic relationship with Peggy Jean, although this eventually broke up with him when he realized that she already had a boyfriend. Charlie Brown, along with Snoopy, was ranked eighth on TV Guide\\'s 50 Greatest Cartoon Characters of All Time. Charlie Brown Charlie Brown or Charles Brown Esquire (see “A Boy Named Charlie Brown” movie) is the protagonist of the comic strip \"Peanuts\", syndicated in daily and Sunday newspapers in numerous countries all over the world. Depicted as a \"lovable loser,\" Charlie Brown is one of'},\n",
       "  {'id': '525858',\n",
       "   'title': 'Peanuts',\n",
       "   'text': 'from a wide range of acclaimed contemporary artists and designers who have been inspired by the cartoon. Peanuts Peanuts is a syndicated daily and Sunday American comic strip written and illustrated by Charles M. Schulz that ran from October 2, 1950, to February 13, 2000, continuing in reruns afterward. \"Peanuts\" is among the most popular and influential in the history of comic strips, with 17,897 strips published in all, making it \"arguably the longest story ever told by one human being\". At its peak in the mid- to late 1960s, \"Peanuts\" ran in over 2,600 newspapers, with a readership of'},\n",
       "  {'id': '525786',\n",
       "   'title': 'Peanuts',\n",
       "   'text': 'characters appeared, including Peppermint Patty, Snoopy as the \"World War One Flying Ace\", Frieda and her \"naturally curly hair\", and Franklin. \"Peanuts\" is remarkable for its deft social commentary, especially compared with other strips appearing in the 1950s and early 1960s. Schulz did not explicitly address racial and gender equality issues so much as assume them to be self-evident. Peppermint Patty\\'s athletic skill and self-confidence is simply taken for granted, for example, as is Franklin\\'s presence in a racially integrated school and neighborhood. (Franklin came about at least in part as a result of Schulz\\'s correspondence in 1968 with a'},\n",
       "  {'id': '11153006',\n",
       "   'title': 'Percy Crosby',\n",
       "   'text': '1964, after a heart attack that had left him in a coma for months, Crosby died in the asylum on his 73rd birthday. He was buried in Pine Lawn Veterans\\' Cemetery on Long Island. Percy Crosby Percy Lee Crosby (December 8, 1891 – December 8, 1964) was an American author, illustrator and cartoonist best known for his comic strip \"Skippy\". Adapted into movies, a novel and a radio show, Crosby\\'s creation was commemorated on a 1997 U.S. Postal Service stamp. An inspiration for Charles Schulz\\'s \"Peanuts\", the strip is regarded by comics historian Maurice Horn as a \"classic... which innovated'},\n",
       "  {'id': '525775',\n",
       "   'title': 'Peanuts',\n",
       "   'text': 'Peanuts Peanuts is a syndicated daily and Sunday American comic strip written and illustrated by Charles M. Schulz that ran from October 2, 1950, to February 13, 2000, continuing in reruns afterward. \"Peanuts\" is among the most popular and influential in the history of comic strips, with 17,897 strips published in all, making it \"arguably the longest story ever told by one human being\". At its peak in the mid- to late 1960s, \"Peanuts\" ran in over 2,600 newspapers, with a readership of around 355 million in 75 countries, and was translated into 21 languages. It helped to cement the'},\n",
       "  {'id': '525811',\n",
       "   'title': 'Peanuts',\n",
       "   'text': 'early strips. Schulz also added some fantastical characters, sometimes imbuing inanimate objects with life. Charlie Brown\\'s nemesis, the Kite-Eating Tree, is one example. Sally Brown\\'s school building expresses thoughts and feelings about the students and the general business of being a brick building. Linus\\'s security blanket also occasionally displays signs of anthropomorphism. Charlie Brown\\'s pitching mound also sometimes expresses thoughts and opinions (\"Why don\\'t you learn how to pitch, you stupid kid?\"). Schulz received the National Cartoonist Society Humor Comic Strip Award for \"Peanuts\" in 1962, the Reuben Award in 1955 and 1964 (the first cartoonist to receive the honor'},\n",
       "  {'id': '525776',\n",
       "   'title': 'Peanuts',\n",
       "   'text': 'four-panel gag strip as the standard in the United States, and together with its merchandise earned Schulz more than $1 billion. The strip focuses entirely on a social circle of young children, where adults exist but are rarely seen or heard. The main character, Charlie Brown, is meek, nervous, and lacks self-confidence. He is unable to fly a kite, win a baseball game, or kick a football held by his irascible friend Lucy, who always pulls it away at the last instant. \"Peanuts\" is one of the literate strips with philosophical, psychological, and sociological overtones that flourished in the 1950s.'},\n",
       "  {'id': '11152984',\n",
       "   'title': 'Percy Crosby',\n",
       "   'text': 'Percy Crosby Percy Lee Crosby (December 8, 1891 – December 8, 1964) was an American author, illustrator and cartoonist best known for his comic strip \"Skippy\". Adapted into movies, a novel and a radio show, Crosby\\'s creation was commemorated on a 1997 U.S. Postal Service stamp. An inspiration for Charles Schulz\\'s \"Peanuts\", the strip is regarded by comics historian Maurice Horn as a \"classic... which innovated a number of sophisticated and refined touches used later by Charles Schulz and Bill Watterson.\" Humorist Corey Ford, writing in \"Vanity Fair\", praised the strip as \"America\\'s most important contribution to humor of the'},\n",
       "  {'id': '11873069',\n",
       "   'title': 'Pasadena Tournament of Roses Association',\n",
       "   'text': 'as serving as a dressing area for the Royal Court and space for display of the Tournament of Roses history. There are displays of trophies, past Rose Bowl Games, Grand Marshals, Presidents, and Queens and Courts. Of interest is an original panel of \"Peanuts\" comic strip for January 1, 1974, when its creator Charles M. Schulz served as the Grand Marshal. On the panel, Lucy was watching the parade on TV and was telling Linus van Pelt that \"They have some of the most beautiful floats this year I\\'ve ever seen.\" When Linus asked about the grand marshal, Lucy said,'},\n",
       "  {'id': '525744',\n",
       "   'title': 'Charles M. Schulz',\n",
       "   'text': 'comic strip, usually using four panels rather than one, and to Schulz\\'s delight, the syndicate preferred that version. \"Peanuts\" made its first appearance on October 2, 1950, in seven newspapers. The weekly Sunday page debuted on January 6, 1952. After a slow start, \"Peanuts\" eventually became one of the most popular comic strips of all time, as well as one of the most influential. Schulz also had a short-lived sports-oriented comic strip, \"It\\'s Only a Game\" (1957–59), but he abandoned it after the success of \"Peanuts\". From 1956 to 1965 he contributed a single-panel strip, \"Young Pillars\", featuring teenagers, to'},\n",
       "  {'id': '525778',\n",
       "   'title': 'Peanuts',\n",
       "   'text': '\"Peanuts\" television specials the fourth Greatest TV Cartoon of All Time. A computer-animated feature film based on the strip, \"The Peanuts Movie\", was released in 2015. \"Peanuts\" had its origin in \"Li\\'l Folks\", a weekly panel comic that appeared in Schulz\\'s hometown paper, the \"St. Paul Pioneer Press\", from 1947 to 1950. He first used the name \"Charlie Brown\" for a character there, although he applied the name in four gags to three different boys and one buried in sand. The series also had a dog that looked much like the early 1950s version of Snoopy. In 1948, Schulz sold'},\n",
       "  {'id': '6778437',\n",
       "   'title': 'Morrie Turner',\n",
       "   'text': 'Stripes\". After the war, while working for the Oakland Police Department, he created the comic strip \"Baker\\'s Helper\". When Turner began questioning why there were no minorities in cartoons, his mentor, \"Peanuts\" cartoonist Charles M. Schulz, suggested he create one. Morris\\' first attempt, \"Dinky Fellas\", featured an all-black cast, but found publication in only one newspaper, the \"Chicago Defender\". Turner integrated the strip, renaming it \"Wee Pals\", and in 1965 it became the first American syndicated comic strip to have a cast of diverse ethnicity. Although the strip was only originally carried by five newspapers, it was picked up by'},\n",
       "  {'id': '10169248',\n",
       "   'title': 'The Complete Peanuts',\n",
       "   'text': 'original American version (though some of the German volumes feature the original introductions, such as those by Matt Groening and Whoopi Goldberg, while others feature new ones by Germans such as Robert Gernhardt). , the following have been printed: The Complete Peanuts The Complete Peanuts is a series of books containing the entire run of Charles M. Schulz\\'s long-running newspaper comic strip \"Peanuts\". The series was published at a rate of two volumes per year, each containing two years of strips (except for the first volume which includes 1950–1952). Slipcased sets of two volumes are also available. The series comprises'},\n",
       "  {'id': '4128597',\n",
       "   'title': 'United States in the 1950s',\n",
       "   'text': 'Blood\", and \"The Hidden Fortress\". Other distinguished Japanese directors of the period were Yasujirō Ozu whose masterpiece \"Tokyo Story\" was released in 1953 and Kenji Mizoguchi whose 1954 \"Sansho the Bailiff\" was one of his most highly revered films. The films of Japan were also influenced by and influential on American cinema. Comic book audiences grew during and after World War II. Charles Schulz\\'s \"Peanuts\" appeared for the first time on October 2, 1950, in seven US newspapers. This and comic strips such as \"Hi & Lois\" and \"Dennis the Menace\" marked a revival of humor strips, a genre that'},\n",
       "  {'id': '525774',\n",
       "   'title': 'Charles M. Schulz',\n",
       "   'text': 'people had described him as a \"secular humanist\" though he didn\\'t know one way or another: In 2013, Schulz\\'s widow said: Primary sources Secondary studies Charles M. Schulz Charles Monroe \"Sparky\" Schulz (; November 26, 1922 – February 12, 2000), nicknamed Sparky, was an American cartoonist. Schulz is known for the comic strip \"Peanuts\" (which featured the characters Charlie Brown and Snoopy, among others). He is widely regarded as one of the most influential cartoonists of all time, cited by cartoonists including Jim Davis, Bill Watterson, and Matt Groening. Born in Minneapolis, Minnesota, Schulz grew up in Saint Paul. He'},\n",
       "  {'id': '525836',\n",
       "   'title': 'Peanuts',\n",
       "   'text': 'years. Some represented chronological reprints of the newspaper strip, while others were thematic collections such as \"Snoopy\\'s Tennis Book\", or collections of inspirational adages such as \"Happiness Is a Warm Puppy\". Some single-story books were produced, such as \"Snoopy and the Red Baron.\" In addition, many of the animated television specials and feature films were adapted into book form. The primary series of reprints was published by Rinehart & Company (later Holt, Rinehart and Winston) beginning in 1952, with the release of a collection simply titled \"Peanuts\". This series, which presented the strips in rough chronological order (albeit with many'},\n",
       "  {'id': '10404397',\n",
       "   'title': 'Saint Paul Public Schools',\n",
       "   'text': 'adult learners, including Early Childhood Family Education, GED Diploma, language programs and various learning opportunities for community members of all ages. In 1993, St. Paul became the first city in the U.S. to sponsor and open a charter school, now found in most states across the nation. Saint Paul is currently home to 21 charter schools. In 2006, the St. Paul Public Schools celebrated its 150th anniversary. Notable graduates of St. Paul Public Schools include former U.S. Supreme Court justices Harry Blackmun and Warren Burger, civil rights leader Roy Wilkins, creator of the Peanuts cartoon strip Charles M. Schulz, and'},\n",
       "  {'id': '1256846',\n",
       "   'title': 'Charlie Brown',\n",
       "   'text': 'boy (\"Charlie Brown\") when asked. He made his official debut in the first \"Peanuts\" comic strip, on October 2, 1950. The strip features Charlie Brown walking by, as two other children named Shermy and Patty look at him. Shermy refers to him as \"Good Ol\\' Charlie Brown\" as he passes by, but then immediately reveals his hatred toward him once he is gone on the last panel. During the strip\\'s early years, Charlie Brown was much more playful than he is known for, as he often played pranks and jokes on the other characters. On December 21 of the same'},\n",
       "  {'id': '525781',\n",
       "   'title': 'Peanuts',\n",
       "   'text': 'the syndication editor. In a 1987 interview, Schulz said: \"It\\'s totally ridiculous, has no meaning, is simply confusing, and has no dignity—and I think my humor has dignity.\" The periodic collections of the strips in paperback book form typically had either \"Charlie Brown\" or \"Snoopy\" in the title, not \"Peanuts\", because of Schulz\\'s distaste. From November 20, 1966, to January 4, 1987, the opening Sunday panels typically read \"Peanuts, featuring Good Ol\\' Charlie Brown\". \"Peanuts\" premiered on October 2, 1950, in nine newspapers: \"The Washington Post, The Chicago Tribune, The Minneapolis Tribune\", \"The Allentown Morning Call\", \"The Bethlehem Globe-Times\", \"The'},\n",
       "  {'id': '525802',\n",
       "   'title': 'Peanuts',\n",
       "   'text': \"than his cohorts Patty and Shermy. His main characteristic is either self-defeating stubbornness or admirably determined persistence to try his best against all odds: he can never win a ballgame but continues playing baseball; he can never fly a kite successfully but continues to try. Though his inferiority complex was evident from the start, in the earlier strips he also got in his own jabs when verbally sparring with Patty and Shermy. Some early strips also involved romantic attractions between Charlie Brown and Patty or Violet. On September 1, 1958, Charlie Brown's father was formally revealed to be a barber\"},\n",
       "  {'id': '2645111',\n",
       "   'title': \"Ripley's Believe It or Not!\",\n",
       "   'text': 'over the decades. Recent \"Ripley\\'s Believe It or Not!\" books containing new material have supplemented illustrations with photographs. \"Peanuts\" creator Charles M. Schulz\\'s first publication of artwork was published by Ripley. It was a cartoon claiming his dog was \"a hunting dog who eats pins, tacks, screws, nails and razor blades.\" Schulz\\'s dog Spike later became the model for \"Peanuts\"\\' Snoopy. Some notable books: A series of paperback books containing annotated sketches from the newspaper feature: Ripley Entertainment produces a range of books featuring unusual facts, news stories and photographs. In 2004 Ripley Entertainment founded Ripley Publishing Ltd, based in'},\n",
       "  {'id': '8119422',\n",
       "   'title': 'Robb Armstrong',\n",
       "   'text': 'Robb Armstrong Robb Armstrong is an American cartoonist, best known for creating the comic strip \"Jump Start\", as well as for some of his motivational speeches. Armstrong was born on March 4, 1962, in Philadelphia, Pennsylvania. Armstrong graduated from Syracuse University with a bachelor’s degree in Fine Arts. He started drawing sketches of Charlie Brown at age five, and he lists Charles M. Schulz as one of his influences and heroes. Schulz gave his Franklin, the \"Peanuts\" strip’s black character, the surname Armstrong, after Robb Armstrong. Armstrong\\'s mother, Dorothy was a seamstress. He had four siblings. \"Jump Start\", Armstrong\\'s comic'},\n",
       "  {'id': '1827977',\n",
       "   'title': 'The Perishers',\n",
       "   'text': 'remember us with the affecshun we feel for you.\" The tone of the strip is reminiscent of Charles M. Schulz\\'s final \"Peanuts\" strip, from which the Perishers strip took its inspiration. The strip was initially replaced by the short-lived \"Ronaldinho\", during the then-ongoing World Cup. After the tournament, the American \"Pooch Cafe\" appeared as a more permanent replacement. After a gap of nearly four years, the original cartoon strip returned to the \"Daily Mirror\" as reprints, on 22 February 2010. Additionally, over the years there have been a number of cheaply printed reprint collections in paperback, all of which went'},\n",
       "  {'id': '525807',\n",
       "   'title': 'Peanuts',\n",
       "   'text': 'the strip\\'s first black character, Franklin; a Mexican–Swedish kid named José Peterson; and Peppermint Patty\\'s bookish sidekick Marcie, who calls Peppermint Patty \"Sir\" and Charlie Brown \"Charles\" and sometimes \"Chuck\" (most characters only call him \"Charlie Brown\", though he was known as \"Charles\" to Eudora, \"big brother\" to his sister Sally Brown, \"that round-headed kid\" to Snoopy, and \"Brownie Charles\" to Peggy Jean after misspeaking his name out of nervousness). Several additional family members of the characters were also introduced: Charlie Brown\\'s younger sister Sally, who became fixated on Linus; Linus and Lucy van Pelt\\'s younger brother Rerun, who for'},\n",
       "  {'id': '3279733',\n",
       "   'title': 'Shermy',\n",
       "   'text': 'at some point.\" Shermy Shermy is a fictional character from the comic strip \"Peanuts\", by Charles Schulz. Schulz named him after a friend from high school. When Peanuts made its debut on October 2, 1950, Shermy had the first lines of dialogue in the series, ending with \"Good ol\\' Charlie Brown . . . How I hate him!\" As Peanuts matured, however, Shermy became an extraneous character who was used less and less frequently, until his final appearance in 1969. In a television interview, Schulz said that in the 1950 debut of the strip, it was solely Charlie Brown, Snoopy,'},\n",
       "  {'id': '525812',\n",
       "   'title': 'Peanuts',\n",
       "   'text': 'twice), the Elzie Segar Award in 1980, and the Milton Caniff Lifetime Achievement Award in 1999. \"A Charlie Brown Christmas\" won a Peabody Award and an Emmy; \"Peanuts\" cartoon specials have received a total of two Peabody Awards and four Emmys. For his work on the strip, Schulz has a star on the Hollywood Walk of Fame (as does Snoopy) and a place in the William Randolph Hearst Cartoon Hall of Fame. \"Peanuts\" was featured on the cover of \"Time\" on April 9, 1965, with the accompanying article calling it \"the leader of a refreshing new breed that takes an'},\n",
       "  {'id': '4423447',\n",
       "   'title': \"Li'l Folks\",\n",
       "   'text': 'Li\\'l Folks Li\\'l Folks, the first comic strip by \"Peanuts\" creator Charles M. Schulz, was a weekly panel that appeared mainly in Schulz\\'s hometown paper, the \"St. Paul Pioneer Press\", from June 22, 1947, to January 22, 1950. Schulz\\'s first regular cartoon, \"Li\\'l Folks\" can be regarded as an embryonic version of \"Peanuts\", containing characters and themes which were to reappear in the later strip: a well-dressed young boy with a fondness for Beethoven, à la Schroeder; a dog with a resemblance to Snoopy; and a boy named Charlie Brown. Schulz was 24 at the time he drew \"Li\\'l Folks\",'},\n",
       "  {'id': '525737',\n",
       "   'title': 'Charles M. Schulz',\n",
       "   'text': 'Charles M. Schulz Charles Monroe \"Sparky\" Schulz (; November 26, 1922 – February 12, 2000), nicknamed Sparky, was an American cartoonist. Schulz is known for the comic strip \"Peanuts\" (which featured the characters Charlie Brown and Snoopy, among others). He is widely regarded as one of the most influential cartoonists of all time, cited by cartoonists including Jim Davis, Bill Watterson, and Matt Groening. Born in Minneapolis, Minnesota, Schulz grew up in Saint Paul. He was the only child of Carl Schulz, who was born in Germany, and Dena Halverson, who had Norwegian heritage. His uncle called him \"Sparky\" after'},\n",
       "  {'id': '4423452',\n",
       "   'title': \"Li'l Folks\",\n",
       "   'text': 'Fantagraphics Books. The complete run of the strip was also included in the penultimate volume of \"The Complete Peanuts\", published in May 2016 by Fantagraphics Books. Li\\'l Folks Li\\'l Folks, the first comic strip by \"Peanuts\" creator Charles M. Schulz, was a weekly panel that appeared mainly in Schulz\\'s hometown paper, the \"St. Paul Pioneer Press\", from June 22, 1947, to January 22, 1950. Schulz\\'s first regular cartoon, \"Li\\'l Folks\" can be regarded as an embryonic version of \"Peanuts\", containing characters and themes which were to reappear in the later strip: a well-dressed young boy with a fondness for Beethoven,'},\n",
       "  {'id': '17287485',\n",
       "   'title': 'The Peanuts Movie',\n",
       "   'text': 'Snoopy and Woodstock. The film sees Charlie Brown trying to improve his odds with the Little Red-Haired Girl, while Snoopy writes a book about the World War I Flying Ace as he imagines himself as a legend trying to save his love interest and fellow pilot Fifi from the Red Baron and his army. \"The Peanuts Movie\" was released on November 6, 2015, commemorating the 65th anniversary of the original comic strip and the 50th anniversary of the TV special \"A Charlie Brown Christmas\". It grossed $246 million worldwide against a $99 million budget. The critical consensus on Rotten Tomatoes'},\n",
       "  {'id': '101822',\n",
       "   'title': 'Doonesbury',\n",
       "   'text': 'Zonker\\'s nephew Zipper Harris, and Uncle Duke\\'s son Earl. \"Doonesbury\" has delved into a number of political and social issues, causing controversies and breaking new ground on the comics pages. Among the controversies: Charles M. Schulz of Peanuts called Trudeau \"unprofessional\" for taking a long sabbatical. (See also, similar comments by Schulz about sabbaticals taken by Bill Watterson.) Nor was the return of the strip itself greeted with universal acclaim; in 1985, \"Saturday Review\" listed Trudeau as one of the country\\'s \"Most Overrated People in American Arts and Letters,\" commenting that the \"most publicized return since MacArthur\\'s has produced a'},\n",
       "  {'id': '525745',\n",
       "   'title': 'Charles M. Schulz',\n",
       "   'text': '\"Youth\", a publication associated with the Church of God. In 1957 and 1961 he illustrated two volumes of Art Linkletter\\'s \"Kids Say the Darndest Things\", and in 1964 a collection of letters, \"Dear President Johnson\", by Bill Adler. At its height, \"Peanuts\" was published daily in 2,600 papers in 75 countries, in 21 languages. Over the nearly 50 years that \"Peanuts\" was published, Schulz drew nearly 18,000 strips. The strips, plus merchandise and product endorsements, produced revenues of more than $1 billion per year, with Schulz earning an estimated $30 million to $40 million annually. During the strip\\'s run, Schulz'},\n",
       "  {'id': '168685',\n",
       "   'title': 'George Washington Carver',\n",
       "   'text': \"from 1933 to 1940, and as Franklin Delano Roosevelt's vice president from 1941 to 1945. The American industrialist, farmer, and inventor William Edenborn of Winn Parish, Louisiana, grew peanuts on his demonstration farm. He consulted with Carver. In 1916, Carver was made a member of the Royal Society of Arts in England, one of only a handful of Americans at that time to receive this honor. Carver's promotion of peanuts gained him the most notice. In 1919, Carver wrote to a peanut company about the potential he saw for peanut milk. Both he and the peanut industry seemed unaware that\"},\n",
       "  {'id': '3279723',\n",
       "   'title': 'Shermy',\n",
       "   'text': 'Shermy Shermy is a fictional character from the comic strip \"Peanuts\", by Charles Schulz. Schulz named him after a friend from high school. When Peanuts made its debut on October 2, 1950, Shermy had the first lines of dialogue in the series, ending with \"Good ol\\' Charlie Brown . . . How I hate him!\" As Peanuts matured, however, Shermy became an extraneous character who was used less and less frequently, until his final appearance in 1969. In a television interview, Schulz said that in the 1950 debut of the strip, it was solely Charlie Brown, Snoopy, and a few'},\n",
       "  {'id': '7802812',\n",
       "   'title': 'Charles M. Schulz–Sonoma County Airport',\n",
       "   'text': 'Charles M. Schulz–Sonoma County Airport Charles M. Schulz–Sonoma County Airport is 7 miles (11 km) northwest of downtown Santa Rosa, in Sonoma County, California. The airport is named after Charles M. Schulz, the famed cartoonist of the \"Peanuts\" comic strip, who lived in Santa Rosa for more than 30 years. The airport\\'s logo features Snoopy in World War I flying ace attire atop his doghouse. In the 1930s Santa Rosa had a small municipal airfield owned by Richfield Oil Corporation next to the Redwood Highway about 6 miles southeast of the present airport. Use of the 3,000-foot sod runway at'},\n",
       "  {'id': '4310753',\n",
       "   'title': 'Walt Disney Animation Studios',\n",
       "   'text': 'and the \"Donald Duck\" cartoons eclipsed the \"Mickey Mouse\" series in popularity. The \"Silly Symphonies\", which garnered seven , ended in 1939. The success of \"Snow White\" allowed Disney to build a new, larger studio on Buena Vista Street in Burbank, where The Walt Disney Company remains headquartered to this day. Walt Disney Productions had its initial public offering on April 2, 1940, with Walt Disney as president and chairman and Roy Disney as CEO. The studio launched into the production of new animated features, the first of which was \"Pinocchio\", released in February 1940. \"Pinocchio\" was not initially a'},\n",
       "  {'id': '1483747',\n",
       "   'title': 'Bill Mauldin',\n",
       "   'text': 'Mauldin with a personal letter from Army Chief of Staff General Eric K. Shinseki, and a hardbound book with notes from other senior Army leaders and several celebrities, including TV broadcasters Walter Cronkite and Tom Brokaw, and actor Tom Hanks. Tilley also promoted Mauldin to the honorary rank of first sergeant. Mauldin drew Willie and Joe for publication one last time on Veterans Day in 1998 for a \"Peanuts\" comic strip, in collaboration with its creator Charles M. Schulz, also a World War II veteran. Schulz signed the strip \"Schulz, and my hero...\" with Mauldin\\'s signature underneath. New Mexico native'},\n",
       "  {'id': '4423450',\n",
       "   'title': \"Li'l Folks\",\n",
       "   'text': 'To Schulz\\'s delight, the syndicate preferred the strip; however, the name \"Li\\'l Folks\" was too close to the names of two other comics of the time: Al Capp\\'s \"Li\\'l Abner\" and a strip titled \"Little Folks\". To avoid confusion, the syndicate chose the name \"Peanuts\", after the peanut gallery featured in the \"Howdy Doody\" TV show. \"Peanuts\" made its first appearance on October 2, 1950, in seven newspapers. \"Li\\'l Folks\" saw the first use of the name Charlie Brown on May 30, 1948, although Schulz applied the name in four gags to three different boys, as well as one buried'},\n",
       "  {'id': '70134',\n",
       "   'title': 'Comic strip',\n",
       "   'text': 'Pastis. The issue was addressed in six consecutive \"Pearls\" strips in 2005. Charles Schulz, of \"Peanuts\" fame, requested that his strip not be continued by another cartoonist after his death. He also rejected the idea of hiring an inker or letterer, comparing it to a golfer hiring a man to make his putts. Schulz\\'s family has honored his wishes and refused numerous proposals by syndicators to continue \"Peanuts\" with a new author. Since the consolidation of newspaper comics by the first quarter of the 20th century, most cartoonists have used a group of assistants (with usually one of them credited).'},\n",
       "  {'id': '3213377',\n",
       "   'title': 'Sonoma State University',\n",
       "   'text': 'writings and original letters from Jack London, as well as memorabilia relating to his works. The $41.5 million building is named after Charles M. Schulz, the creator of the Peanuts comic cartoon, and his wife Jean, who donated $5 million to help build and furnish the structure. The Sonoma State Bookstore was operated by Sonoma State Enterprises, Inc. until the spring of 2006 when the operation was outsourced to Barnes & Noble College Booksellers, despite some opposition from faculty members. In addition to the main campus, the university also owns and operates two off–campus study sites for students of the'},\n",
       "  {'id': '2481618',\n",
       "   'title': 'Félix Houphouët-Boigny',\n",
       "   'text': 'along with a check for €122,000, by an international jury composed of 11 persons from five continents, led by former United States Secretary of State and Nobel Peace Prize winner Henry Kissinger. The prize was first awarded in 1991 to Nelson Mandela, president of the African National Congress, and Frederik Willem de Klerk, president of the Republic of South Africa, and has been awarded each year since, with the exception of 2001 and 2004. Félix Houphouët-Boigny Félix Houphouët-Boigny (; 18 October 1905 – 7 December 1993), affectionately called Papa Houphouët or Le Vieux (The Old One), was the first President'},\n",
       "  {'id': '6617200',\n",
       "   'title': 'Jim Sasseville',\n",
       "   'text': 'Jim Sasseville James Frederick Sasseville (August 28, 1927 – November 30, 2005) was an American cartoonist and graphic artist, best known for his work with \"Peanuts\" creator Charles M. Schulz. Born in Minneapolis, Minnesota, he graduated from the Minneapolis College of Art in 1948. He served in both World War II and the Korean War. He worked at the Art Instruction Schools, where he met fellow Minnesotan Schulz. Sasseville worked with Schulz on the short-lived sports comic strip \"It\\'s Only a Game\" (1957–1959) and the \"Peanuts\" comic book feature, where he was succeeded by Dale Hale. Though he followed Schulz'},\n",
       "  {'id': '3324861',\n",
       "   'title': 'Woodstock (Peanuts)',\n",
       "   'text': 'again try to determine what species Woodstock belongs to. Snoopy theorizes Woodstock might be an eagle. Since Snoopy has heard somewhere that eagles are capable of lifting a small child, he suggests Woodstock to try that with Linus. The bird successfully lifts Linus with his wings three inches in the air and holds him up. A last instance is when Snoopy, posing as a football coach, is angry at his player Woodstock for losing \"the book with all our secret plays\", and orders the bird to run twenty thousand laps around the field as punishment. Woodstock fearfully complies. Woodstock is'},\n",
       "  {'id': '525746',\n",
       "   'title': 'Charles M. Schulz',\n",
       "   'text': 'took only one vacation, a five-week break in late 1997 to celebrate his 75th birthday; reruns of the strip ran during his vacation, the only time that occurred during Schulz\\'s life. The first collection of \"Peanuts\" strips was published in July 1952 by Rinehart & Company. Many more books followed, greatly contributing to the strip\\'s increasing popularity. In 2004, Fantagraphics began their \"Complete Peanuts\" series. \"Peanuts\" also proved popular in other media; the first animated TV special, \"A Charlie Brown Christmas\", aired in December 1965 and won an Emmy award. Numerous TV specials followed, the latest being \"Happiness is a'},\n",
       "  {'id': '525747',\n",
       "   'title': 'Charles M. Schulz',\n",
       "   'text': 'Warm Blanket, Charlie Brown\" in 2011. Until his death, Schulz wrote or co-wrote the TV specials and carefully oversaw their production. Charlie Brown, the principal character of \"Peanuts\", was named after a co-worker at Art Instruction Inc. Schulz drew much from his own life, some examples being: The Charles M. Schulz Museum counts Milton Caniff (\"Terry and the Pirates\") and Bill Mauldin as key influences on Schulz\\'s work. In his own strip, Schulz regularly described Snoopy\\'s annual Veterans Day visits with Mauldin, including mention of Mauldin\\'s World War II cartoons. Schulz (and critics) also credited George Herriman (\"Krazy Kat\"), Roy'},\n",
       "  {'id': '1256853',\n",
       "   'title': 'Charlie Brown',\n",
       "   'text': '(and other \"Peanuts \"characters) made his first animated appearances after they were sponsored by the Ford Motor Company in commercials for its automobiles, as well as for intros to \"The Tennessee Ernie Ford Show. \"The ads were animated by Bill Meléndez for Playhouse Pictures, a cartoon studio that had Ford as a client. In the 1960s, the \"Peanuts \"comic strip entered its Golden Age, and Charlie Brown reached heights higher than ever before, becoming known in numerous countries, with the strip reaching a peak of 355 million readers. In 1960, the now-popular line of Charlie Brown greeting cards was introduced'},\n",
       "  {'id': '17287484',\n",
       "   'title': 'The Peanuts Movie',\n",
       "   'text': 'The Peanuts Movie The Peanuts Movie (known in some countries as Snoopy and Charlie Brown: A Peanuts Movie) is a 2015 American 3D computer-animated comedy film based on Charles M. Schulz\\'s comic strip \"Peanuts\", produced by Blue Sky Studios and distributed by 20th Century Fox. It is the fifth full-length \"Peanuts\" film, and the first feature film in 35 years. The film is directed by Steve Martino from a screenplay by Craig and Bryan Schulz (Schulz\\'s son and grandson, respectively), and Cornelius Uliano, and stars the voices of Noah Schnapp as Charlie Brown and, via archival recordings, Bill Melendez as'},\n",
       "  {'id': '7473212',\n",
       "   'title': 'Wee Pals',\n",
       "   'text': 'Wee Pals Wee Pals is an American syndicated comic strip about a diverse group of children, created and produced by Morrie Turner. It was the first comic strip syndicated in the United States to have a cast of diverse ethnicity, dubbed the \"Rainbow Gang\". When cartoonist Morrie Turner began questioning why there were no minorities in the comic strips, his mentor, \"Peanuts\" cartoonist Charles M. Schulz, suggested he create one. Morris\\' first attempt, \"Dinky Fellas\", featured an all-black cast, but found publication in only one newspaper, the \"Chicago Defender\". Turner integrated the strip, renaming it \"Wee Pals\", and on February'},\n",
       "  {'id': '5911677',\n",
       "   'title': 'Why, Charlie Brown, Why?',\n",
       "   'text': 'Why, Charlie Brown, Why? Why, Charlie Brown, Why? is the 33rd prime-time animated TV special based upon the comic strip \"Peanuts\" by Charles M. Schulz. It originally aired on March 16, 1990 and was also nominated for an Emmy. In a departure of the light-hearted themes presented in previous (and subsequent) \"Peanuts\" specials, the story deals with a new character, named Janice, who is diagnosed with cancer. This is the first \"Peanuts\" special of the 1990s. Janice Emmons is a new friend and classmate of Charlie Brown and Linus, who loves to play on the swings. The special begins with'},\n",
       "  {'id': '3612396',\n",
       "   'title': '1940s in comics',\n",
       "   'text': 'appears in \"All Winners Comics\" #19, published by Timely Comics. \"Sazae-san\", by Machiko Hasegawa debuts in Fukunichi Shimbun. \"Li\\'l Folks\", the first comic strip by \"Peanuts\" creator Charles M. Schulz, debuts mainly in Schulz\\'s hometown paper, the \"St. Paul Pioneer Press\", on June 22. \"Li\\'l Folks\" can almost be regarded as an embryonic version of \"Peanuts\", containing characters and themes which were to reappear in the later strip: a well-dressed young man with a fondness for Beethoven a la Schroeder, a dog with a striking resemblance to Snoopy, and even a boy named Charlie Brown. The Association of Comics Magazine'},\n",
       "  {'id': '12368162',\n",
       "   'title': 'Snoopy',\n",
       "   'text': 'to be inducted with a star, after Schulz. Snoopy Snoopy is Charlie Brown\\'s pet beagle in the comic strip \"Peanuts\" by Charles M. Schulz. He can also be found in all of the \"Peanuts\" movies and television specials, like \"The Peanuts Movie\". Since his debut on October 4, 1950, Snoopy has become one of the most recognizable and iconic characters in the comic strip, and is considered more famous than Charlie Brown in other countries. The original drawings of Snoopy were inspired by Spike, one of Schulz\\'s childhood dogs. Snoopy is a loyal, innocent, imaginative and good-natured beagle who is'},\n",
       "  {'id': '5915578',\n",
       "   'title': \"It's a Mystery, Charlie Brown\",\n",
       "   'text': 'It\\'s a Mystery, Charlie Brown It\\'s a Mystery, Charlie Brown is the 11th prime-time animated television special based upon the popular comic strip \"Peanuts,\" by Charles M. Schulz. It was originally aired on the CBS network on February 1, 1974. This was the first Charlie Brown television special that Bill Melendez did not direct, but he still served as producer and provided the voices of Snoopy and Woodstock. This special was released on DVD for the first time, in remastered form as part of the DVD box set, \"Peanuts 1970\\'s Collection, Volume One\". When Woodstock\\'s fancy new nest disappears one'},\n",
       "  {'id': '7802829',\n",
       "   'title': 'Charles M. Schulz–Sonoma County Airport',\n",
       "   'text': 'War II, and is still in use today. Charles M. Schulz–Sonoma County Airport Charles M. Schulz–Sonoma County Airport is 7 miles (11 km) northwest of downtown Santa Rosa, in Sonoma County, California. The airport is named after Charles M. Schulz, the famed cartoonist of the \"Peanuts\" comic strip, who lived in Santa Rosa for more than 30 years. The airport\\'s logo features Snoopy in World War I flying ace attire atop his doghouse. In the 1930s Santa Rosa had a small municipal airfield owned by Richfield Oil Corporation next to the Redwood Highway about 6 miles southeast of the present'},\n",
       "  {'id': '525857',\n",
       "   'title': 'Peanuts',\n",
       "   'text': 'game by Namco Networks. In 1980 (with a new edition published in 1990), the Funk & Wagnalls publishing house also produced a children\\'s encyclopedia called the \"Charlie Brown\\'s \\'Cyclopedia\". The 15-volume set features many of the Peanuts characters. In April 2002, board game was released by USAopoly. The game was dedicated to Schulz in memory of his passing. An exhibition entitled \"Good Grief, Charlie Brown! Celebrating Snoopy and the Enduring Power of Peanuts\" opens at Somerset House in London on 25 October 2018, running until 3 March 2019. The exhibition brings together Charles M. Schulz original Peanuts cartoons with work'},\n",
       "  {'id': '10340813',\n",
       "   'title': 'Snoopy vs. the Red Baron (song)',\n",
       "   'text': 'Red Baron\" and \"Snoopy\\'s Christmas\" – together with other tunes such as \"Snoopy for President\". In 2006 they released \"Snoopy vs Osama\". \"Snoopy vs. the Red Baron\" was inspired by the comic strip \"Peanuts\" by Charles Schulz, which featured a recurring storyline of Snoopy imagining himself in the role of a World War I airman fighting the Red Baron. The song was released approximately one year after the first comic strip featuring Snoopy fighting the Red Baron appeared on Sunday October 10, 1965. Schulz and United Features Syndicate sued the Royal Guardsmen for using the name Snoopy without permission or'},\n",
       "  {'id': '525810',\n",
       "   'title': 'Peanuts',\n",
       "   'text': 'World War II (the vicious cat who lives next door to Snoopy—not to be confused with Frieda\\'s cat, Faron), and Charlie Brown\\'s unnamed pen pal, known as his \"pencil-pal\" after Charlie Brown fails to master the fountain pen. Adult figures appeared in the strip only once, during a four-week Sunday-comic sequence in 1954 in which Lucy plays in an amateur golf tournament, with Charlie Brown \"coaching\" her. At no time, however, were any adult faces seen (it was also in this sequence that Lucy\\'s family name, van Pelt, was first revealed). There are adult voices in a few of the'},\n",
       "  {'id': '525785',\n",
       "   'title': 'Peanuts',\n",
       "   'text': 'While the strip in its early years resembles its later form, there are significant differences. The art was cleaner, sleeker, and simpler, with thicker lines and short, squat characters. For example, in these early strips, Charlie Brown\\'s famous round head is closer to the shape of an American football or rugby football. Most of the kids were initially fairly round-headed. As another example, all the characters (except Charlie Brown) had their mouths longer and had smaller eyes when they looked sideways. The 1960s is known as the \"golden age\" for \"Peanuts\". During this period some of the best-known themes and'},\n",
       "  {'id': '525808',\n",
       "   'title': 'Peanuts',\n",
       "   'text': \"a time almost always appeared on the back of his mother's bike; and Spike, Snoopy's desert-dwelling brother from Needles, California, who was apparently named for Schulz's own childhood dog. Snoopy also had six other siblings, and four of them made appearances in the strip (his brothers Andy, Olaf, and Marbles, and his sister Belle). Other notable characters include Snoopy's friend Woodstock, a bird whose chirping is represented in print as hash marks but is nevertheless clearly understood by Snoopy; three of Woodstock's friends who usually appeared when on a scouting trip with Snoopy as their scout leader; Pig-Pen, the perpetually\"},\n",
       "  {'id': '10007998',\n",
       "   'title': 'Mark J. Cohen',\n",
       "   'text': 'during the time the exhibit was being planned. As an agent representing cartoonists in the sale of their original comic strip art, Cohen\\'s clientele included Charles M. Schulz, Lynn Johnston, Pat Brady, Greg Evans and Jerry Scott. Cohen got to know Charles Schulz, creator of \"Peanuts\", very well, and Schulz called Cohen his \"cartoon connection\" because of the many cartoonists he met through him. After Schulz\\' death, the cartoonist\\'s wife started the Charles Schulz Museum, and Mark Cohen became a member of the board of directors. Cohen\\'s wife, Rose Marie McDaniel, later became director of the museum. Cohen died at'},\n",
       "  {'id': '525791',\n",
       "   'title': 'Peanuts',\n",
       "   'text': 'and subsequently helps him build a sand castle, during which he mentions that his father is in Vietnam. He never occupies the same panel, however, with Sally. In 1975, the panel format was shortened slightly horizontally, and shortly thereafter the lettering became larger to compensate. Previously, the daily \"Peanuts\" strips were formatted in a four-panel \"space saving\" format beginning in the 1950s, with a few very rare eight-panel strips, that still fit into the four-panel mold. Beginning on Leap Day in 1988, Schulz abandoned the four-panel format in favor of three-panel dailies and occasionally used the entire length of the'},\n",
       "  {'id': '12368144',\n",
       "   'title': 'Snoopy',\n",
       "   'text': 'Snoopy Snoopy is Charlie Brown\\'s pet beagle in the comic strip \"Peanuts\" by Charles M. Schulz. He can also be found in all of the \"Peanuts\" movies and television specials, like \"The Peanuts Movie\". Since his debut on October 4, 1950, Snoopy has become one of the most recognizable and iconic characters in the comic strip, and is considered more famous than Charlie Brown in other countries. The original drawings of Snoopy were inspired by Spike, one of Schulz\\'s childhood dogs. Snoopy is a loyal, innocent, imaginative and good-natured beagle who is prone to imagining fantasy lives, including being an'},\n",
       "  {'id': '525839',\n",
       "   'title': 'Peanuts',\n",
       "   'text': 'year published every May and October. The first volume (collecting strips from 1950 to 1952) was published in May 2004; the volume containing the final newspaper strips (including all the strips from 1999 and seven strips from 2000, along with the complete run of \"Lil\\' Folks\") was published in May 2016, with a twenty-sixth volume containing outside-the-daily-strip Peanuts material by Schulz appeared in the fall of that year. A companion series, titled \"Peanuts Every Sunday\" and presenting the complete Sunday strips in color (as the main \"Complete Peanuts\" books reproduce them in black and white only), was launched in December'},\n",
       "  {'id': '3415860',\n",
       "   'title': 'Jeff Smith (cartoonist)',\n",
       "   'text': 'Jeff Smith (cartoonist) Jeff Smith (born February 27, 1960) is an American cartoonist. He is best known as the creator of the self-published comic book series \"Bone\". Jeff Smith was born in McKees Rocks, Pennsylvania to William Earl Smith and Barbara Goodsell. He grew up in Columbus, Ohio. Smith learned about cartooning from comic strips, comic books, and animated TV shows. The strip he found to be the most entertaining was Charles M. Schulz\\'s \"Peanuts\", which he had his father read to him every Sunday, and which inspired him to learn to read. Smith was also inspired by Scrooge McDuck'},\n",
       "  {'id': '3324862',\n",
       "   'title': 'Woodstock (Peanuts)',\n",
       "   'text': 'left-handed. Both Snoopy and Woodstock were voiced by Bill Melendez from 1972 to 2006. Schulz originally considered the bird to be a female, but after the naming on June 22, 1970, it incidentally changed to be a male. As he explained in an interview in 1987: Despite this, Woodstock was referred to as a male as early as the strip from June 12, 1968. In the Norwegian translation of \"Peanuts\", the bird is named \"Fredrikke\"—a female name—and is always referred to as female. Finnish translation uses the name \"Kaustinen\", without a specified gender and Spain translations uses the name \"Emilio\"—a'},\n",
       "  {'id': '4239163',\n",
       "   'title': 'A Charlie Brown Christmas (soundtrack)',\n",
       "   'text': 'voted into the Grammy Hall of Fame and added to the National Recording Registry of the Library Congress On August 19, 2016, the Recording Industry Association of America (RIAA) certified the album quadruple platinum for sales of four millions copies. In November 2014, it was the tenth best-selling Christmas/holiday album in the United States during the SoundScan era. By the early 1960s, Charles M. Schulz\\'s comic strip \"Peanuts\" had become a sensation worldwide. Television producer Lee Mendelson acknowledged the strip\\'s cultural impression and produced a documentary on the subject, titled \"A Boy Named Charlie Brown\". Mendelson, a fan of jazz,'},\n",
       "  {'id': '525803',\n",
       "   'title': 'Peanuts',\n",
       "   'text': '(after earlier hints). In 1960, Hallmark Cards introduced the now popular line of Charlie Brown greeting cards. Charlie Brown and Snoopy reached new heights on May 18, 1969, as they became the names of the command module and lunar module, respectively, for Apollo 10. As the years went by, Shermy, Patty, and Violet appeared less often and were demoted to supporting roles (eventually disappearing from the strip in 1969, 1976, and 1984 respectively, although Patty and Violet were still seen as late as November 27, 1997), while new major characters were introduced. Schroeder, Lucy van Pelt, and her brother Linus'},\n",
       "  {'id': '15251041',\n",
       "   'title': 'Esterbrook',\n",
       "   'text': 'Esterbrook models, such as the \"Deluxe\" fountain pen and the \"J\" ballpoint pen, both originally released in the 1950s. Esterbrook pens were among those used by Presidents John F. Kennedy and Lyndon B. Johnson to sign legislation. A set of 72 clear Lucite Esterbrook fountain pens were used to sign the civil rights bill into law in 1964. The famous Disney artist Carl Barks was an enthusiastic user of Esterbrook pens. He particularly used a Nº 356 model to ink and letter his famous Donald Duck comic-book pages. Peanuts creator Charles M. Schulz used an Esterbrook 914 Radio nib for'},\n",
       "  {'id': '2804089',\n",
       "   'title': 'Superman (1940s cartoons)',\n",
       "   'text': 'per short as of 2017); this was about four times the typical budget of a six-minute episode of the Fleischers\\' popular \"Popeye the Sailor\" cartoons of that period. To the Fleischers\\' shock, instead of withdrawing its request, Paramount entered into negotiations with them, and got the per-episode budget lowered to $50,000. Now the Fleischers were committed to a project they never wanted to do—with more financial and marketing support than they had ever received for the projects they had done. The first cartoon in the series, simply titled \"Superman\" (a.k.a. \"The Mad Scientist\"), was released on September 26, 1941, and'},\n",
       "  {'id': '4325842',\n",
       "   'title': 'Mark Parisi',\n",
       "   'text': 'and frequently copied comic strips out of newspapers. Parisi said that after reading Charles Schulz\\' comic strip \"Peanuts\", he \"immediately wanted to draw it.\" At Salem State University, he changed his major several times before settling on Art, with a concentration in Graphic Art. In both 2008 and 2011, Parisi won the \"Best Newspaper Panel\" award for \"Off the Mark\" from the National Cartoonists Society. He also was nominated for the award in 2004, 2006, 2013, and 2016. In 2013, he won the \"Best Greeting Cards\" award from the National Cartoonists Society. ^ Scott Nickel (August 9, 2009). \"20 Questions'},\n",
       "  {'id': '5915583',\n",
       "   'title': \"It's a Mystery, Charlie Brown\",\n",
       "   'text': 'out sending Woodstock falling out of his tree. It\\'s a Mystery, Charlie Brown It\\'s a Mystery, Charlie Brown is the 11th prime-time animated television special based upon the popular comic strip \"Peanuts,\" by Charles M. Schulz. It was originally aired on the CBS network on February 1, 1974. This was the first Charlie Brown television special that Bill Melendez did not direct, but he still served as producer and provided the voices of Snoopy and Woodstock. This special was released on DVD for the first time, in remastered form as part of the DVD box set, \"Peanuts 1970\\'s Collection, Volume'},\n",
       "  {'id': '525793',\n",
       "   'title': 'Peanuts',\n",
       "   'text': 'agreement, United Media stored these unpublished strips, the existence of which eventually became public. Plastino himself also claimed to have ghostwritten for Schulz, apparently uncredited, while Schulz underwent heart surgery in 1983. In the 1980s and the 1990s, the strip remained the most popular comic in history, even though other comics, such as \"Garfield\" and \"Calvin and Hobbes\", rivaled \"Peanuts\" in popularity. Schulz continued to write the strip until announcing his retirement on December 14, 1999, due to his failing health. The final daily original \"Peanuts\" comic strip was published on Monday, January 3, 2000. The strip contained a note'},\n",
       "  {'id': '2357966',\n",
       "   'title': 'Alfred Drake',\n",
       "   'text': 'Shakespearean, notably starring as Benedick in \"Much Ado About Nothing\" opposite Katharine Hepburn. Drake was mostly a stage and television actor; he starred in only one film, \"Tars and Spars\" (1946), but played several roles on television, including providing the voice for the Great Ak in the Rankin-Bass stop-motion animated adaptation of the L. Frank Baum novel \"The Life and Adventures of Santa Claus\". He appeared in a minor film role as president of the stock exchange in the classic comedy \"Trading Places\" (1983), with Eddie Murphy and Dan Aykroyd. His first musical television appearance was as Captain Dick Warrington'},\n",
       "  {'id': '3322733',\n",
       "   'title': 'Franklin (Peanuts)',\n",
       "   'text': 'Franklin (Peanuts) Franklin Armstrong is a character in the long-running comic strip \"Peanuts\", created by Charles M. Schulz. Introduced on July 31, 1968, Franklin was the first African American character in the strip. He goes to school with Peppermint Patty and Marcie. In his first story arc, he met Charlie Brown when they were both at the beach. Franklin\\'s father was a soldier fighting in Vietnam, to which Charlie Brown replied \"My dad\\'s a barber...he was in a war too, but I don\\'t know which one.\" Franklin later paid Charlie Brown a visit and found some of Charlie Brown\\'s other'},\n",
       "  {'id': '11164761',\n",
       "   'title': 'Willie and Joe',\n",
       "   'text': 'making a slapstick comedy, he returned his advising fee; he said he had never seen the result. \"Willie and Joe\" were satirized as \"Billie and Moe\" by Warren Sattler in \"National Lampoon Presents The Very Large Book of Comical Funnies\". On Veterans\\' Day 1998, Willie and Joe appeared in the comic strip \"Peanuts\" in a strip that Mauldin drew with Charles M. Schulz. On March 31, 2010, the United States Post Office released a first-class denomination \"$0.44\" postage stamp in Mauldin\\'s honor depicting him with Willie & Joe. Original Willie & Joe comics and other illustrations by Bill Mauldin are'},\n",
       "  {'id': '3012431',\n",
       "   'title': 'Willie McCovey',\n",
       "   'text': 'Giants trailing 1–0, Willie Mays was on second base and Matty Alou was on third base. Any base hit would likely have won the championship for the Giants. McCovey hit a hard line drive that was snared by the Yankees\\' second baseman Bobby Richardson, ending the series with a Yankees\\' win. The moment was immortalized in two \"Peanuts\" comic strips by Charles M. Schulz. The first ran on December 22, 1962, with Charlie Brown sitting silently alongside Linus for three panels before suddenly lamenting, \"Why couldn\\'t McCovey have hit the ball just three feet higher?\" The second, from January 28,'},\n",
       "  {'id': '5123474',\n",
       "   'title': 'It was a dark and stormy night',\n",
       "   'text': 'decided to name the competition after him for entirely the wrong reasons\". The \"Peanuts\" comic strip character Snoopy, in his imagined persona as the World Famous Author, always begins his novels with the phrase \"It was a dark and stormy night.\" Cartoonist Charles Schulz made Snoopy use this phrase because \"it was a cliché, and had been one for a very long time\". A book by Schulz, titled \"It Was a Dark and Stormy Night, Snoopy,\" and credited to Snoopy as author, was published by Holt, Rinehart, and Winston in 1971. It is the opening line in the popular 1962'},\n",
       "  {'id': '3624330',\n",
       "   'title': 'Barney Google and Snuffy Smith',\n",
       "   'text': 'Plug\". Barney\\'s beloved \"brown-eyed baby\" was a bow-legged nag who seldom raced, and he was typically seen almost totally covered by his trademark patched blanket with his name scrawled on the side. \"Peanuts\" creator Charles M. Schulz was known to his friends as Sparky, a lifelong nickname given to him by his uncle as a diminutive of \"Barney Google\"\\'s Spark Plug. Comics historian Don Markstein noted that, In deference to his enormous popularity during this period, the strip was retitled \"Barney Google and Spark Plug\". DeBeck\\'s strip hit its peak of popularity with Spark Plug at about the same time'},\n",
       "  {'id': '6117006',\n",
       "   'title': 'Paul Reinman',\n",
       "   'text': 'Paul Reinman Paul J. Reinman (; born Joseph Paul Reinmann, ; 2 September 1910 – 27 September 1988) was an American comic book artist best known as one of Jack Kirby\\'s frequent inkers during the period comics fans and historians call the Silver Age of Comic Books. This included the first issues of \"The Incredible Hulk\" and \"The X-Men\". Paul Reinman was born in Germany and raised in Pfiffligheim, a borough of Worms, seat of one of the oldest Ashkenazi communities. The second of five children, and the eldest son, of real-estate agent and farm-produce broker Bernhard and his wife,'},\n",
       "  {'id': '5911781',\n",
       "   'title': 'What Have We Learned, Charlie Brown?',\n",
       "   'text': 'What Have We Learned, Charlie Brown? What Have We Learned, Charlie Brown? A Tribute is the 26th prime-time animated television special based upon the comic strip \"Peanuts,\" by Charles M. Schulz, who introduced the special. It originally aired on the CBS network on May 30, 1983, Memorial Day in the United States, and one week prior to the 39th anniversary of the D-Day Invasion. It aired on CBS only one other time, on May 26, 1984, which was the Saturday before Memorial Day, and ten days prior to the 40th anniversary of the D-Day Invasion. The special directly follows the'},\n",
       "  {'id': '2028568',\n",
       "   'title': 'Shmoo',\n",
       "   'text': 'one article at the time, the Shmoo showed \"Thrift, loyalty, trust, duty, truth and common \"cents\" [that] add up to aid to his nation\". Al Capp accompanied President Harry S. Truman at the bond\\'s unveiling ceremony. \"The Life and Times of the Shmoo\" (1948), a paperback collection of the original sequence, was a bestseller for Simon & Schuster and became the first cartoon book to achieve serious literary attention. Distributed to small town magazine racks, it sold 700,000 copies in its first year of publication alone. It was reviewed coast to coast alongside Dwight Eisenhower\\'s \"Crusade in Europe\" (the other'},\n",
       "  {'id': '525795',\n",
       "   'title': 'Peanuts',\n",
       "   'text': 'long, it began with Charlie Brown answering the phone with someone on the other end presumably asking for Snoopy. Charlie Brown responded with \"No, I think he\\'s writing.\" The next panel shows Snoopy sitting at his typewriter with the opening to a letter addressed to \"Dear Friends\". The final panel features a large blue sky background over which several drawings from past strips are placed. Underneath those drawings is a colorized version of Schulz\\'s January 3 strip, with almost the same note he wrote to fans, which reads as follows: Many other cartoonists paid tribute to \"Peanuts\" and Schulz by'},\n",
       "  {'id': '525837',\n",
       "   'title': 'Peanuts',\n",
       "   'text': 'strips omitted from each year) continued through the 1980s, after which reprint rights were handed off to various other publishers. Ballantine Books published the last original series of \"Peanuts\" reprints, including \"Peanuts 2000\", which collected the final year of the strip\\'s run. Coinciding with these reprints were smaller paperback collections published by Fawcett Publications. Drawing material from the main reprints, this paperback series began with \"The Wonderful World of Peanuts\" in 1962 and continued through \"Lead On, Snoopy\" in 1992. Charles Schulz had always resisted republication of the earliest \"Peanuts\" strips, as they did not reflect the characters as he'},\n",
       "  {'id': '525758',\n",
       "   'title': 'Charles M. Schulz',\n",
       "   'text': 'age of 77, of colon cancer. The last original \"Peanuts\" strip was published the next day, Sunday, February 13. Schulz had predicted that the strip would outlive him because the strips were usually drawn weeks before their publication. Schulz was buried at Pleasant Hills Cemetery in Sebastopol, California. As part of his contract with the syndicate, Schulz requested that no other artist be allowed to draw \"Peanuts\". United Features had legal ownership of the strip, but honored his wishes, instead syndicating reruns to newspapers. New television specials have also been produced since Schulz\\'s death, with the stories based on previous'},\n",
       "  {'id': '3322739',\n",
       "   'title': 'Franklin (Peanuts)',\n",
       "   'text': 'full name Franklin Armstrong. Schulz did not consider the animations canonical to the strip. Thus, since this is never stated in the comic strip (nor any other special), it is considered apocryphal. However, while hard core fans say the animated specials don\\'t count since Schultz did not write all of them, it does seem clear that Schultz chose the name Armstrong, naming Franklin after Robb Armstrong, the African-American creator of the comic strip \"Jump Start\". Though much younger, Armstrong knew Schultz professionally. He recounts that in the 1990s Schultz phoned him because a video was coming out for which all'},\n",
       "  {'id': '10169244',\n",
       "   'title': 'The Complete Peanuts',\n",
       "   'text': 'titled \"Peanuts Every Sunday\", collecting only the Sunday strips of the \"Peanuts\" series, was launched by Fantagraphics in 2013 and is scheduled to run until 2022. Schulz began to discuss an anthology of his work with Fantagraphics Books in 1997. The idea of a complete compendium of all published \"Peanuts\" strips was long resisted by Schulz; he did not want some early strips reprinted as he felt they were not as good as the ones he drew later in his career. Approximately 2,000 of the 17,897 strips had never appeared in a previous U.S. collection. The first book in the'},\n",
       "  {'id': '4341827',\n",
       "   'title': '1962 World Series',\n",
       "   'text': 'Series to the Oakland A\\'s in a series interrupted by a major earthquake. 1962 World Series (4–3): New York Yankees (A.L.) over San Francisco Giants (N.L.) For the \"Peanuts\" comic strip of December 22, 1962, cartoonist and Giants fan Charles M. Schulz depicted Charlie Brown sitting glumly with Linus, lamenting in the last panel, \"Why couldn\\'t McCovey have hit the ball just three feet higher?\" The January 28, 1963, strip featured a nearly identical scene, except in the last panel Charlie Brown moaned, \"Or why couldn\\'t McCovey have hit the ball even \"two\" feet higher?\" During the 1981 Major League'},\n",
       "  {'id': '41256',\n",
       "   'title': 'Beagle',\n",
       "   'text': 'doubts. Beagles have been featured across a wide range of media. References to the dog appear before the 19th century in works by such writers as William Shakespeare, John Webster, John Dryden, Thomas Tickell, Henry Fielding, and William Cowper, as well as in Alexander Pope\\'s translation of Homer\\'s \"Iliad\". Beagles appeared in funny animal comic strips and animated cartoons from the 1950s with Courage the Cowardly Dog and the \"Peanuts\" character Snoopy was billed as \"the world\\'s most famous Beagle\". In Disney\\'s Donald Duck universe, the Beagle Boys are a clan of criminal anthropomorphic beagles. Former US President Lyndon Baines'},\n",
       "  {'id': '525821',\n",
       "   'title': 'Peanuts',\n",
       "   'text': 'cartoon studio that had Ford as a client. Schulz and Meléndez became friends, and when producer Lee Mendelson decided to make a two-minute animated sequence for a TV documentary called \"A Boy Named Charlie Brown\" in 1963, he brought on Meléndez for the project. Before the documentary was completed, the three of them (with help from their sponsor, the Coca-Cola Company) produced their first half-hour animated special, the Emmy- and Peabody Award-winning \"A Charlie Brown Christmas\", which was first aired on the CBS network on December 9, 1965. This episode is undoubtedly the most widely recognized of all \"Peanuts\" TV'},\n",
       "  {'id': '13796191',\n",
       "   'title': 'Inter-Governmental Philatelic Corporation',\n",
       "   'text': 'Pokémon, Popeye, John Lennon, the Walt Disney cartoon characters and classic motion pictures, Jackie Chan, Barbra Streisand, Bob Dylan, Major League Baseball, NFL Superbowl\" (sic)\", and the Sylvester Stallone \\'Rocky\\' motion pictures to name just a few.\"\" IGPC has replied to charges of inappropriate issues by saying that \"\"Pop culture stamps are only about 10 percent of what we do, even though they get most of the attention,\" insists Lonnie Ostrow, an I.G.P.C. spokesman. \"The rest are what we call \\'definitives\\' -- the usual flags, flowers, fearless leaders and dead presidents.\"\" According to IGPC, they employ a research team of'},\n",
       "  {'id': '519933',\n",
       "   'title': 'Duke Ellington',\n",
       "   'text': 'me Duke.\" Though Ellington took piano lessons, he was more interested in baseball. \"President Roosevelt (Teddy) would come by on his horse sometimes, and stop and watch us play\", he recalled. Ellington went to Armstrong Technical High School in Washington, D.C. He gained his first job selling peanuts at Washington Senators baseball games. In the summer of 1914, while working as a soda jerk at the Poodle Dog Café, Ellington wrote his first composition, \"Soda Fountain Rag\" (also known as the \"Poodle Dog Rag\"). He created the piece by ear, as he had not yet learned to read and write'},\n",
       "  {'id': '1068019',\n",
       "   'title': 'Billie Jean King',\n",
       "   'text': 'once that if you want to be the best, you must never let anyone, anyone, know what you really feel. You see, she told me, they can\\'t hurt you if they don\\'t know. Concerning the qualities of a champion tennis player, King said, King\\'s friend Elton John wrote the song “Philadelphia Freedom”, a nod to her World TeamTennis team, for King. Released New Year\\'s Day 1975, became a number 1 hit. Charles M. Schulz, creator of the \"Peanuts\" comic strip, was an admirer and close friend. Schulz referred to King several times in \"Peanuts\" and used the comic strip to'},\n",
       "  {'id': '5915818',\n",
       "   'title': 'It Was a Short Summer, Charlie Brown',\n",
       "   'text': 'time, in remastered form as part of the DVD box set, \"Peanuts 1960s Collection.\" On October 6, 2015, the special was released in the remastered deluxe edition of \"He\\'s a Bully, Charlie Brown\" along with an episode from \"The Charlie Brown and Snoopy Show\" as bonus specials. It Was a Short Summer, Charlie Brown It Was a Short Summer, Charlie Brown is the sixth prime-time animated TV specials based upon the popular comic strip \"Peanuts,\" created by Charles M. Schulz. It was directed by Bill Meléndez and originally aired on CBS on 27 September 1969. This was also the first'},\n",
       "  {'id': '5933848',\n",
       "   'title': 'Is This Goodbye, Charlie Brown?',\n",
       "   'text': 'the wider market in 2010. It was re-released as part of the box set Snoopy\\'s Holiday Collection on October 1, 2013. Is This Goodbye, Charlie Brown? Is This Goodbye, Charlie Brown? is the 24th prime-time animated TV special based upon the popular comic strip \"Peanuts,\" by Charles M. Schulz. It was originally aired on the CBS network on February 21, 1983. This special begins, when Linus calls the Brown house, and Sally picks up. She gets very excited that her Sweet Babboo is on the other line. He denies that he is that, and tries to ask if Charlie Brown'},\n",
       "  {'id': '1063934',\n",
       "   'title': 'A Charlie Brown Christmas',\n",
       "   'text': 'and Charlie Brown joins them as the special ends. <br> By the early 1960s, Charles M. Schulz\\'s comic strip \"Peanuts\" had become a sensation worldwide. Television producer Lee Mendelson acknowledged the strip\\'s cultural impression and had an idea for a documentary on its success, phoning Schulz to propose the idea. Schulz, an avid baseball fan, recognized Mendelson from his documentary on ballplayer Willie Mays, \"A Man Named Mays\", and invited him to his home in Sebastopol, California, to discuss the project. Their meeting was cordial, with the plan to produce a half-hour documentary set. Mendelson wanted to feature roughly \"one'},\n",
       "  {'id': '1256847',\n",
       "   'title': 'Charlie Brown',\n",
       "   'text': 'year, his signature zig-zag T-shirt appeared; formerly, he only wore a plain one. On the March 6, 1951, strip, Charlie Brown first appears to play baseball, as he was warming up before telling Shermy that they can start the game; however, he was the catcher, not yet the pitcher. Charlie Brown\\'s relationships with other \"Peanuts \"characters initially differed significantly from their later states, and their concepts were grown up through this decade until they reached their more established forms. An example is his relationship with Violet Gray, to whom he was introduced on the February 7, 1951, strip. The two'},\n",
       "  {'id': '525817',\n",
       "   'title': 'Peanuts',\n",
       "   'text': 'and Snoopy stands in Depot Park in downtown Santa Rosa. Schulz was included in the touring exhibition \"Masters of American Comics\". His work was described as \"psychologically complex,\" and his style as \"perfectly in keeping with the style of its times.\" Despite the widespread acclaim \"Peanuts\" has received, some critics have alleged a decline in quality in the later years of its run, as Schulz frequently digressed from the more cerebral socio-psychological themes that characterized his earlier work in favor of lighter, more whimsical fare. For example, in an essay published in the \"New York Press\" at the time of'}]}"
      ]
     },
     "execution_count": 3,
     "metadata": {},
     "output_type": "execute_result"
    }
   ],
   "source": [
    "data[0]"
   ]
  },
  {
   "cell_type": "markdown",
   "id": "automated-visiting",
   "metadata": {},
   "source": [
    "### Load FZ corpus data"
   ]
  },
  {
   "cell_type": "code",
   "execution_count": 4,
   "id": "vocational-possible",
   "metadata": {},
   "outputs": [],
   "source": [
    "FZ_passages_path = \"/scratch/s190619/MSMARCO/Data/FindZebra/\" + \"collection_FZ_w_titles.tsv\"\n",
    "df_FZ = pd.read_csv(FZ_passages_path, encoding=\"utf8\", sep=\"\\t\", header=None, names=[\"pid\",\"title\",\"passage\"])"
   ]
  },
  {
   "cell_type": "code",
   "execution_count": 5,
   "id": "military-daisy",
   "metadata": {},
   "outputs": [
    {
     "data": {
      "text/html": [
       "<div>\n",
       "<style scoped>\n",
       "    .dataframe tbody tr th:only-of-type {\n",
       "        vertical-align: middle;\n",
       "    }\n",
       "\n",
       "    .dataframe tbody tr th {\n",
       "        vertical-align: top;\n",
       "    }\n",
       "\n",
       "    .dataframe thead th {\n",
       "        text-align: right;\n",
       "    }\n",
       "</style>\n",
       "<table border=\"1\" class=\"dataframe\">\n",
       "  <thead>\n",
       "    <tr style=\"text-align: right;\">\n",
       "      <th></th>\n",
       "      <th>pid</th>\n",
       "      <th>title</th>\n",
       "      <th>passage</th>\n",
       "    </tr>\n",
       "  </thead>\n",
       "  <tbody>\n",
       "    <tr>\n",
       "      <th>0</th>\n",
       "      <td>0</td>\n",
       "      <td>Kernicterus</td>\n",
       "      <td>Kernicterusrefers to brain damage that may occ...</td>\n",
       "    </tr>\n",
       "    <tr>\n",
       "      <th>1</th>\n",
       "      <td>1</td>\n",
       "      <td>47 XXX syndrome</td>\n",
       "      <td>47 XXX syndrome, also called trisomy X or trip...</td>\n",
       "    </tr>\n",
       "    <tr>\n",
       "      <th>2</th>\n",
       "      <td>2</td>\n",
       "      <td>Pseudoxanthoma elasticum</td>\n",
       "      <td>Pseudoxanthoma elasticum, PXE, is an inherited...</td>\n",
       "    </tr>\n",
       "    <tr>\n",
       "      <th>3</th>\n",
       "      <td>3</td>\n",
       "      <td>Smith-Magenis Syndrome</td>\n",
       "      <td>SummaryClinical characteristics.Smith-Magenis ...</td>\n",
       "    </tr>\n",
       "    <tr>\n",
       "      <th>4</th>\n",
       "      <td>4</td>\n",
       "      <td>Smith-Lemli-Opitz Syndrome</td>\n",
       "      <td>SummaryClinical characteristics.Smith-Lemli-Op...</td>\n",
       "    </tr>\n",
       "  </tbody>\n",
       "</table>\n",
       "</div>"
      ],
      "text/plain": [
       "   pid                       title  \\\n",
       "0    0                 Kernicterus   \n",
       "1    1             47 XXX syndrome   \n",
       "2    2    Pseudoxanthoma elasticum   \n",
       "3    3      Smith-Magenis Syndrome   \n",
       "4    4  Smith-Lemli-Opitz Syndrome   \n",
       "\n",
       "                                             passage  \n",
       "0  Kernicterusrefers to brain damage that may occ...  \n",
       "1  47 XXX syndrome, also called trisomy X or trip...  \n",
       "2  Pseudoxanthoma elasticum, PXE, is an inherited...  \n",
       "3  SummaryClinical characteristics.Smith-Magenis ...  \n",
       "4  SummaryClinical characteristics.Smith-Lemli-Op...  "
      ]
     },
     "execution_count": 5,
     "metadata": {},
     "output_type": "execute_result"
    }
   ],
   "source": [
    "df_FZ.head()"
   ]
  },
  {
   "cell_type": "markdown",
   "id": "accepting-container",
   "metadata": {},
   "source": [
    "### Load ColBERT retrievals\n",
    "This is probably not needed for training data"
   ]
  },
  {
   "cell_type": "code",
   "execution_count": 6,
   "id": "complex-capability",
   "metadata": {},
   "outputs": [],
   "source": [
    "retrievals_path = \"/scratch/s190619/MSMARCO/Retrievals/dev-test/\" + \"Ranking_Model1.tsv\"\n",
    "df_retrievals = pd.read_csv(retrievals_path, encoding=\"utf8\", sep=\"\\t\", header=None, names=[\"qid\",\"pid\",\"rank\"])"
   ]
  },
  {
   "cell_type": "code",
   "execution_count": 7,
   "id": "lucky-ordinary",
   "metadata": {},
   "outputs": [
    {
     "data": {
      "text/html": [
       "<div>\n",
       "<style scoped>\n",
       "    .dataframe tbody tr th:only-of-type {\n",
       "        vertical-align: middle;\n",
       "    }\n",
       "\n",
       "    .dataframe tbody tr th {\n",
       "        vertical-align: top;\n",
       "    }\n",
       "\n",
       "    .dataframe thead th {\n",
       "        text-align: right;\n",
       "    }\n",
       "</style>\n",
       "<table border=\"1\" class=\"dataframe\">\n",
       "  <thead>\n",
       "    <tr style=\"text-align: right;\">\n",
       "      <th></th>\n",
       "      <th>qid</th>\n",
       "      <th>pid</th>\n",
       "      <th>rank</th>\n",
       "    </tr>\n",
       "  </thead>\n",
       "  <tbody>\n",
       "    <tr>\n",
       "      <th>0</th>\n",
       "      <td>0</td>\n",
       "      <td>1724</td>\n",
       "      <td>1</td>\n",
       "    </tr>\n",
       "    <tr>\n",
       "      <th>1</th>\n",
       "      <td>0</td>\n",
       "      <td>15978</td>\n",
       "      <td>2</td>\n",
       "    </tr>\n",
       "    <tr>\n",
       "      <th>2</th>\n",
       "      <td>0</td>\n",
       "      <td>2624</td>\n",
       "      <td>3</td>\n",
       "    </tr>\n",
       "    <tr>\n",
       "      <th>3</th>\n",
       "      <td>0</td>\n",
       "      <td>16332</td>\n",
       "      <td>4</td>\n",
       "    </tr>\n",
       "    <tr>\n",
       "      <th>4</th>\n",
       "      <td>0</td>\n",
       "      <td>21257</td>\n",
       "      <td>5</td>\n",
       "    </tr>\n",
       "  </tbody>\n",
       "</table>\n",
       "</div>"
      ],
      "text/plain": [
       "   qid    pid  rank\n",
       "0    0   1724     1\n",
       "1    0  15978     2\n",
       "2    0   2624     3\n",
       "3    0  16332     4\n",
       "4    0  21257     5"
      ]
     },
     "execution_count": 7,
     "metadata": {},
     "output_type": "execute_result"
    }
   ],
   "source": [
    "df_retrievals.head()\n",
    "#df_retrievals[\"qid\"].unique()"
   ]
  },
  {
   "cell_type": "markdown",
   "id": "expressed-links",
   "metadata": {},
   "source": [
    "### Load MedQA queries"
   ]
  },
  {
   "cell_type": "code",
   "execution_count": 8,
   "id": "excited-crystal",
   "metadata": {},
   "outputs": [],
   "source": [
    "# MedQA_path = \"/scratch/s190619/MSMARCO/MedQA_US/\" + \"MedQAQueries_disorders_full_v2.csv\"\n",
    "# df_medQA = pd.read_csv(MedQA_path, sep=',', encoding=\"utf8\", index_col=0)\n",
    "queries_path = \"/scratch/s190619/MSMARCO/Data/\" + \"retrieval_queries_dev-test.tsv\"\n",
    "df_queries = pd.read_csv(queries_path, sep='\\t', encoding=\"utf8\", header=None, names=[\"qid\", \"query\"])"
   ]
  },
  {
   "cell_type": "code",
   "execution_count": 9,
   "id": "racial-acting",
   "metadata": {},
   "outputs": [
    {
     "data": {
      "text/html": [
       "<div>\n",
       "<style scoped>\n",
       "    .dataframe tbody tr th:only-of-type {\n",
       "        vertical-align: middle;\n",
       "    }\n",
       "\n",
       "    .dataframe tbody tr th {\n",
       "        vertical-align: top;\n",
       "    }\n",
       "\n",
       "    .dataframe thead th {\n",
       "        text-align: right;\n",
       "    }\n",
       "</style>\n",
       "<table border=\"1\" class=\"dataframe\">\n",
       "  <thead>\n",
       "    <tr style=\"text-align: right;\">\n",
       "      <th></th>\n",
       "      <th>qid</th>\n",
       "      <th>query</th>\n",
       "    </tr>\n",
       "  </thead>\n",
       "  <tbody>\n",
       "    <tr>\n",
       "      <th>0</th>\n",
       "      <td>0</td>\n",
       "      <td>A 5-year-old girl is brought to the emergency ...</td>\n",
       "    </tr>\n",
       "    <tr>\n",
       "      <th>1</th>\n",
       "      <td>1</td>\n",
       "      <td>A 19-year-old boy presents with confusion and ...</td>\n",
       "    </tr>\n",
       "    <tr>\n",
       "      <th>2</th>\n",
       "      <td>2</td>\n",
       "      <td>A 41-year-old woman presents to her primary ca...</td>\n",
       "    </tr>\n",
       "    <tr>\n",
       "      <th>3</th>\n",
       "      <td>3</td>\n",
       "      <td>A 56-year-old man with known coronary artery d...</td>\n",
       "    </tr>\n",
       "    <tr>\n",
       "      <th>4</th>\n",
       "      <td>4</td>\n",
       "      <td>A 16-year-old female high school student is br...</td>\n",
       "    </tr>\n",
       "  </tbody>\n",
       "</table>\n",
       "</div>"
      ],
      "text/plain": [
       "   qid                                              query\n",
       "0    0  A 5-year-old girl is brought to the emergency ...\n",
       "1    1  A 19-year-old boy presents with confusion and ...\n",
       "2    2  A 41-year-old woman presents to her primary ca...\n",
       "3    3  A 56-year-old man with known coronary artery d...\n",
       "4    4  A 16-year-old female high school student is br..."
      ]
     },
     "execution_count": 9,
     "metadata": {},
     "output_type": "execute_result"
    }
   ],
   "source": [
    "df_queries.head()"
   ]
  },
  {
   "cell_type": "markdown",
   "id": "mediterranean-infrastructure",
   "metadata": {},
   "source": [
    "### Load detailed MedQA queries with METAMAP CUIs"
   ]
  },
  {
   "cell_type": "code",
   "execution_count": 10,
   "id": "favorite-tradition",
   "metadata": {},
   "outputs": [],
   "source": [
    "MedQA_path = \"/scratch/s190619/MSMARCO/Data/\" + \"disorders_table_dev-test.csv\"\n",
    "df_medQA = pd.read_csv(MedQA_path, sep=',', encoding=\"utf8\")#, header=None, names=[\"qid\", \"query\"])"
   ]
  },
  {
   "cell_type": "code",
   "execution_count": 11,
   "id": "ceramic-upper",
   "metadata": {},
   "outputs": [
    {
     "data": {
      "text/html": [
       "<div>\n",
       "<style scoped>\n",
       "    .dataframe tbody tr th:only-of-type {\n",
       "        vertical-align: middle;\n",
       "    }\n",
       "\n",
       "    .dataframe tbody tr th {\n",
       "        vertical-align: top;\n",
       "    }\n",
       "\n",
       "    .dataframe thead th {\n",
       "        text-align: right;\n",
       "    }\n",
       "</style>\n",
       "<table border=\"1\" class=\"dataframe\">\n",
       "  <thead>\n",
       "    <tr style=\"text-align: right;\">\n",
       "      <th></th>\n",
       "      <th>qid</th>\n",
       "      <th>query</th>\n",
       "      <th>answer</th>\n",
       "      <th>options</th>\n",
       "      <th>meta_info</th>\n",
       "      <th>Disorder</th>\n",
       "      <th>CUI</th>\n",
       "      <th>TUI</th>\n",
       "      <th>short_category</th>\n",
       "      <th>long_category</th>\n",
       "      <th>description</th>\n",
       "      <th>cui_METAMAP</th>\n",
       "    </tr>\n",
       "  </thead>\n",
       "  <tbody>\n",
       "    <tr>\n",
       "      <th>0</th>\n",
       "      <td>0</td>\n",
       "      <td>A 5-year-old girl is brought to the emergency ...</td>\n",
       "      <td>Cyclic vomiting syndrome</td>\n",
       "      <td>{'A': 'Cyclic vomiting syndrome', 'B': 'Gastro...</td>\n",
       "      <td>step2&amp;3</td>\n",
       "      <td>True</td>\n",
       "      <td>NaN</td>\n",
       "      <td>NaN</td>\n",
       "      <td>NaN</td>\n",
       "      <td>NaN</td>\n",
       "      <td>NaN</td>\n",
       "      <td>['C0152164']</td>\n",
       "    </tr>\n",
       "    <tr>\n",
       "      <th>1</th>\n",
       "      <td>1</td>\n",
       "      <td>A 19-year-old boy presents with confusion and ...</td>\n",
       "      <td>Hypoperfusion</td>\n",
       "      <td>{'A': 'Hypoperfusion', 'B': 'Hyperglycemia', '...</td>\n",
       "      <td>step1</td>\n",
       "      <td>True</td>\n",
       "      <td>C0442856</td>\n",
       "      <td>T046</td>\n",
       "      <td>DISO</td>\n",
       "      <td>Disorders</td>\n",
       "      <td>Pathologic Function</td>\n",
       "      <td>['C0442856']</td>\n",
       "    </tr>\n",
       "    <tr>\n",
       "      <th>2</th>\n",
       "      <td>2</td>\n",
       "      <td>A 41-year-old woman presents to her primary ca...</td>\n",
       "      <td>Iron deficiency</td>\n",
       "      <td>{'A': 'Vitamin B12 deficiency', 'B': 'Folate d...</td>\n",
       "      <td>step2&amp;3</td>\n",
       "      <td>True</td>\n",
       "      <td>C0240066</td>\n",
       "      <td>T047</td>\n",
       "      <td>DISO</td>\n",
       "      <td>Disorders</td>\n",
       "      <td>Disease or Syndrome</td>\n",
       "      <td>['C0240066']</td>\n",
       "    </tr>\n",
       "    <tr>\n",
       "      <th>3</th>\n",
       "      <td>3</td>\n",
       "      <td>A 56-year-old man with known coronary artery d...</td>\n",
       "      <td>Monomorphic ventricular tachycardia</td>\n",
       "      <td>{'A': 'Premature ventricular contractions', 'B...</td>\n",
       "      <td>step1</td>\n",
       "      <td>True</td>\n",
       "      <td>NaN</td>\n",
       "      <td>NaN</td>\n",
       "      <td>NaN</td>\n",
       "      <td>NaN</td>\n",
       "      <td>NaN</td>\n",
       "      <td>['C0344431']</td>\n",
       "    </tr>\n",
       "    <tr>\n",
       "      <th>4</th>\n",
       "      <td>4</td>\n",
       "      <td>A 16-year-old female high school student is br...</td>\n",
       "      <td>Oppositional defiant disorder</td>\n",
       "      <td>{'A': 'Reactive attachment disorder', 'B': 'Co...</td>\n",
       "      <td>step2&amp;3</td>\n",
       "      <td>True</td>\n",
       "      <td>C0029121</td>\n",
       "      <td>T048</td>\n",
       "      <td>DISO</td>\n",
       "      <td>Disorders</td>\n",
       "      <td>Mental or Behavioral Dysfunction</td>\n",
       "      <td>['C0029121']</td>\n",
       "    </tr>\n",
       "  </tbody>\n",
       "</table>\n",
       "</div>"
      ],
      "text/plain": [
       "   qid                                              query  \\\n",
       "0    0  A 5-year-old girl is brought to the emergency ...   \n",
       "1    1  A 19-year-old boy presents with confusion and ...   \n",
       "2    2  A 41-year-old woman presents to her primary ca...   \n",
       "3    3  A 56-year-old man with known coronary artery d...   \n",
       "4    4  A 16-year-old female high school student is br...   \n",
       "\n",
       "                                answer  \\\n",
       "0             Cyclic vomiting syndrome   \n",
       "1                        Hypoperfusion   \n",
       "2                      Iron deficiency   \n",
       "3  Monomorphic ventricular tachycardia   \n",
       "4        Oppositional defiant disorder   \n",
       "\n",
       "                                             options meta_info  Disorder  \\\n",
       "0  {'A': 'Cyclic vomiting syndrome', 'B': 'Gastro...   step2&3      True   \n",
       "1  {'A': 'Hypoperfusion', 'B': 'Hyperglycemia', '...     step1      True   \n",
       "2  {'A': 'Vitamin B12 deficiency', 'B': 'Folate d...   step2&3      True   \n",
       "3  {'A': 'Premature ventricular contractions', 'B...     step1      True   \n",
       "4  {'A': 'Reactive attachment disorder', 'B': 'Co...   step2&3      True   \n",
       "\n",
       "        CUI   TUI short_category long_category  \\\n",
       "0       NaN   NaN            NaN           NaN   \n",
       "1  C0442856  T046           DISO     Disorders   \n",
       "2  C0240066  T047           DISO     Disorders   \n",
       "3       NaN   NaN            NaN           NaN   \n",
       "4  C0029121  T048           DISO     Disorders   \n",
       "\n",
       "                        description   cui_METAMAP  \n",
       "0                               NaN  ['C0152164']  \n",
       "1               Pathologic Function  ['C0442856']  \n",
       "2               Disease or Syndrome  ['C0240066']  \n",
       "3                               NaN  ['C0344431']  \n",
       "4  Mental or Behavioral Dysfunction  ['C0029121']  "
      ]
     },
     "execution_count": 11,
     "metadata": {},
     "output_type": "execute_result"
    }
   ],
   "source": [
    "df_medQA.head()"
   ]
  },
  {
   "cell_type": "markdown",
   "id": "missing-flesh",
   "metadata": {},
   "source": [
    "# Processing"
   ]
  },
  {
   "cell_type": "code",
   "execution_count": 12,
   "id": "better-certificate",
   "metadata": {},
   "outputs": [],
   "source": [
    "from tqdm.notebook import tqdm\n",
    "import ast"
   ]
  },
  {
   "cell_type": "markdown",
   "id": "clinical-strategy",
   "metadata": {},
   "source": [
    "### MSMARCO medical data processing"
   ]
  },
  {
   "cell_type": "code",
   "execution_count": 3,
   "id": "arctic-hardware",
   "metadata": {},
   "outputs": [],
   "source": [
    "from pyspark.sql.functions import countDistinct"
   ]
  },
  {
   "cell_type": "code",
   "execution_count": 4,
   "id": "technical-america",
   "metadata": {},
   "outputs": [],
   "source": [
    "# Create pyspark session\n",
    "from pyspark.sql import SparkSession\n",
    "\n",
    "spark = SparkSession \\\n",
    "    .builder \\\n",
    "    .appName(\"Python Spark SQL basic example\") \\\n",
    "    .config(\"spark.some.config.option\", \"some-value\") \\\n",
    "    .getOrCreate()\n",
    "\n",
    "from pyspark.sql.types import *\n",
    "\n",
    "schema = StructType([\n",
    "    StructField(\"query\", StringType()),\n",
    "    StructField(\"positive_doc\", StringType()),\n",
    "    StructField(\"negative_doc\", StringType())])\n"
   ]
  },
  {
   "cell_type": "code",
   "execution_count": 7,
   "id": "stylish-expert",
   "metadata": {},
   "outputs": [
    {
     "data": {
      "text/html": [
       "<div>\n",
       "<style scoped>\n",
       "    .dataframe tbody tr th:only-of-type {\n",
       "        vertical-align: middle;\n",
       "    }\n",
       "\n",
       "    .dataframe tbody tr th {\n",
       "        vertical-align: top;\n",
       "    }\n",
       "\n",
       "    .dataframe thead th {\n",
       "        text-align: right;\n",
       "    }\n",
       "</style>\n",
       "<table border=\"1\" class=\"dataframe\">\n",
       "  <thead>\n",
       "    <tr style=\"text-align: right;\">\n",
       "      <th></th>\n",
       "      <th>query</th>\n",
       "      <th>positive_doc</th>\n",
       "      <th>negative_doc</th>\n",
       "    </tr>\n",
       "  </thead>\n",
       "  <tbody>\n",
       "    <tr>\n",
       "      <th>0</th>\n",
       "      <td>is a little caffeine ok during pregnancy</td>\n",
       "      <td>We don’t know a lot about the effects of caffe...</td>\n",
       "      <td>It is generally safe for pregnant women to eat...</td>\n",
       "    </tr>\n",
       "    <tr>\n",
       "      <th>1</th>\n",
       "      <td>how many calories a day are lost breastfeeding</td>\n",
       "      <td>Not only is breastfeeding better for the baby,...</td>\n",
       "      <td>However, you still need some niacin each day; ...</td>\n",
       "    </tr>\n",
       "    <tr>\n",
       "      <th>2</th>\n",
       "      <td>cancer of the pancreas symptoms</td>\n",
       "      <td>Symptoms of Pancreatic Cancer. Pancreatic canc...</td>\n",
       "      <td>Pancreatic cancer develops as abnormal pancrea...</td>\n",
       "    </tr>\n",
       "    <tr>\n",
       "      <th>3</th>\n",
       "      <td>what is the genus of the weeping willow tree</td>\n",
       "      <td>The weeping willow belongs to the Salix genus....</td>\n",
       "      <td>The kola nut is the fruit of the kola tree, a ...</td>\n",
       "    </tr>\n",
       "    <tr>\n",
       "      <th>4</th>\n",
       "      <td>can polycythemia cause stroke</td>\n",
       "      <td>Polycythemia Vera Complications. If you have P...</td>\n",
       "      <td>Stroke Recovery. Stroke affects everybody diff...</td>\n",
       "    </tr>\n",
       "  </tbody>\n",
       "</table>\n",
       "</div>"
      ],
      "text/plain": [
       "                                            query  \\\n",
       "0        is a little caffeine ok during pregnancy   \n",
       "1  how many calories a day are lost breastfeeding   \n",
       "2                 cancer of the pancreas symptoms   \n",
       "3    what is the genus of the weeping willow tree   \n",
       "4                   can polycythemia cause stroke   \n",
       "\n",
       "                                        positive_doc  \\\n",
       "0  We don’t know a lot about the effects of caffe...   \n",
       "1  Not only is breastfeeding better for the baby,...   \n",
       "2  Symptoms of Pancreatic Cancer. Pancreatic canc...   \n",
       "3  The weeping willow belongs to the Salix genus....   \n",
       "4  Polycythemia Vera Complications. If you have P...   \n",
       "\n",
       "                                        negative_doc  \n",
       "0  It is generally safe for pregnant women to eat...  \n",
       "1  However, you still need some niacin each day; ...  \n",
       "2  Pancreatic cancer develops as abnormal pancrea...  \n",
       "3  The kola nut is the fruit of the kola tree, a ...  \n",
       "4  Stroke Recovery. Stroke affects everybody diff...  "
      ]
     },
     "execution_count": 7,
     "metadata": {},
     "output_type": "execute_result"
    }
   ],
   "source": [
    "msmarco_medical_path = \"/scratch/s190619/Data_etc/Medical_MSMARCO/triples.msmarco.medical.tsv\"\n",
    "MSM_M = spark.read.format('csv').options(header='false',multiline=True,delimiter='\\t',encoding='utf-8').schema(schema).load(msmarco_medical_path)\n",
    "MSM_M.limit(10).toPandas().head()"
   ]
  },
  {
   "cell_type": "code",
   "execution_count": 25,
   "id": "active-trademark",
   "metadata": {},
   "outputs": [
    {
     "name": "stdout",
     "output_type": "stream",
     "text": [
      "+----------------------------+\n",
      "|count(DISTINCT positive_doc)|\n",
      "+----------------------------+\n",
      "|                       40102|\n",
      "+----------------------------+\n",
      "\n",
      "CPU times: user 46.4 ms, sys: 17.5 ms, total: 63.9 ms\n",
      "Wall time: 4min 31s\n"
     ]
    }
   ],
   "source": [
    "# %%time\n",
    "# # MSM_M.filter(MSM_M[\"query\"] == \"is a little caffeine ok during pregnancy\").count()\n",
    "# MSM_M.select(countDistinct(\"positive_doc\")).show()"
   ]
  },
  {
   "cell_type": "code",
   "execution_count": 28,
   "id": "speaking-washington",
   "metadata": {},
   "outputs": [
    {
     "name": "stdout",
     "output_type": "stream",
     "text": [
      "CPU times: user 298 ms, sys: 108 ms, total: 407 ms\n",
      "Wall time: 4min 47s\n"
     ]
    }
   ],
   "source": [
    "%%time\n",
    "ms_docs = MSM_M.select('positive_doc').distinct().collect()"
   ]
  },
  {
   "cell_type": "code",
   "execution_count": 8,
   "id": "distributed-hopkins",
   "metadata": {},
   "outputs": [
    {
     "name": "stdout",
     "output_type": "stream",
     "text": [
      "+----------------------------+\n",
      "|count(DISTINCT negative_doc)|\n",
      "+----------------------------+\n",
      "|                     4839712|\n",
      "+----------------------------+\n",
      "\n"
     ]
    }
   ],
   "source": [
    "%%time\n",
    "# I think that there are a lot more distinct docs in the negatives, and they might not be related to a medical domain. I will just use the positives\n",
    "\n",
    "# %%time\n",
    "# ms_docs_neg = MSM_M.select('negative_doc').distinct().collect()\n",
    "MSM_M.select(countDistinct(\"negative_doc\")).show()"
   ]
  },
  {
   "cell_type": "code",
   "execution_count": 9,
   "id": "optional-enough",
   "metadata": {},
   "outputs": [
    {
     "name": "stdout",
     "output_type": "stream",
     "text": [
      "CPU times: user 71.5 ms, sys: 22.5 ms, total: 94 ms\n",
      "Wall time: 7min 34s\n"
     ]
    }
   ],
   "source": [
    "%%time\n",
    "MSM_M.select(\"negative_doc\").distinct().coalesce(1).write.csv(\"/scratch/s190619/Data_etc/Medical_MSMARCO/MSMARCO_medical_docs_neg.csv\")"
   ]
  },
  {
   "cell_type": "code",
   "execution_count": 29,
   "id": "antique-advance",
   "metadata": {},
   "outputs": [],
   "source": [
    "ms_docs_cl = [x.asDict()[\"positive_doc\"] for x in ms_docs]\n",
    "f=open('/scratch/s190619/Data_etc/Medical_MSMARCO/MSMARCO_medical_docs.txt','w')\n",
    "for doc in ms_docs_cl:\n",
    "    f.write(doc+'\\n')"
   ]
  },
  {
   "cell_type": "code",
   "execution_count": 30,
   "id": "french-bangkok",
   "metadata": {},
   "outputs": [],
   "source": [
    "ms_docs_cl = []\n",
    "f=open('/scratch/s190619/Data_etc/Medical_MSMARCO/MSMARCO_medical_docs.txt','r')\n",
    "for doc in f:\n",
    "    ms_docs_cl.append(doc)"
   ]
  },
  {
   "cell_type": "code",
   "execution_count": 17,
   "id": "funky-increase",
   "metadata": {},
   "outputs": [],
   "source": [
    "schema2 = StructType([StructField(\"negative_doc\", StringType())])\n",
    "\n",
    "MSM_M_neg = spark.read.format('csv').options(header='false',multiline=True,delimiter=',',encoding='utf-8').schema(schema2)\\\n",
    "             .load(\"/scratch/s190619/Data_etc/Medical_MSMARCO/MSMARCO_medical_docs_neg.csv\")\n"
   ]
  },
  {
   "cell_type": "code",
   "execution_count": 24,
   "id": "structured-joseph",
   "metadata": {},
   "outputs": [
    {
     "name": "stdout",
     "output_type": "stream",
     "text": [
      "Contemporary definitions for zafu. noun. a round thick cushion for sitting meditation, sometimes used on top of a mat. Examples. The zafu is ideal for lotus, half-lotus or Burmese style sitting meditation or other postures with your knees down on the zabuton mat. a round thick cushion for sitting meditation, sometimes used on top of a mat.\n",
      "\n",
      "Virginia Open. The Virginia Open is the Virginia state open golf tournament, open to both amateur and professional golfers. It is organized by the Virginia State Golf Association and the Middle Atlantic section of the PGA of America. It has been played annually since 1924 (except for war years) at a variety of courses around the state.\n",
      "\n",
      "Create or modify tables or indexes by using a data-definition query. You can create and modify tables, constraints, indexes and relationships by writing data-definition queries in SQL view. This article explains data-definition queries and how to use them to create tables, constraints, indexes, and relationships.\n",
      "\n",
      "Swallowing problems are a common complaint among older individuals, and the incidence of dysphagia is higher in the elderly, in patients who have had strokes, and in patients who are admitted to acute care hospitals or chronic care facilities.\n",
      "\n",
      "You can close this if you like. (see screenshot below) 14. You will now be able to use the OneDrive website on any PC to fetch any of your files on this PC. OPTION TWO To Remove a Windows 10 PC from OneDrive Fetch files list 1. Do step 2 or step 3 below depending on if you are on the PC you want to remove or not.2.ou can close this if you like. (see screenshot below) 14. You will now be able to use the OneDrive website on any PC to fetch any of your files on this PC. OPTION TWO To Remove a Windows 10 PC from OneDrive Fetch files list 1. Do step 2 or step 3 below depending on if you are on the PC you want to remove or not.\n",
      "\n",
      "Prices for generic ADHD medications can include: 1  amphetamine Salt Combo (generic (Adderall) $50 for 60 tablets. 2  methylphenidate (generic Ritalin) $40 to $60 for 60 tablets. 3  dexmethylphenidate (generic Focalin) $40 to $60 for 60 tablets.  amphetamine Salt Combo XR (generic Adderall XR) $75 to $100 for 30 tablets.\n",
      "\n",
      "Ear congestion relief can be as simple as applying a warm towel to the face and/or ears. Warm a towel or washcloth may reduce ear congestion. This method is especially soothing if the ear congestion is accompanied by pain. Ear Drops. Get rid congested ears by using ear drops.\n",
      "\n",
      "TORONTO – Air Canada has started cracking down on passengers with oversized carry-on luggage, beginning with a trial program at Toronto’s Pearson International Airport.ORONTO – Air Canada has started cracking down on passengers with oversized carry-on luggage, beginning with a trial program at Toronto’s Pearson International Airport.\n",
      "\n",
      "An oil thermometer is inexpensive, but invaluable when deep frying. If a recipe doesn't specify a temperature, 360 F is a good choice for deep frying most fish and seafood. Don't Crowd the Pan. Putting a lot of food into the oil all at once can lower the temperature drastically and allow oil to seep into the food, resulting in greasy and heavy food.\n",
      "\n",
      "When you look at it today, the Singer 403a Slant-O-Matic looks like any other vintage sewing machine. At the time it was made, however, this machine was the hottest thing on the market.hen you look at it today, the Singer 403a Slant-O-Matic looks like any other vintage sewing machine. At the time it was made, however, this machine was the hottest thing on the market.\n",
      "\n"
     ]
    },
    {
     "data": {
      "text/plain": [
       "[None, None, None, None, None, None, None, None, None, None]"
      ]
     },
     "execution_count": 24,
     "metadata": {},
     "output_type": "execute_result"
    }
   ],
   "source": [
    "[print(x.asDict()[\"negative_doc\"]+\"\\n\") for x in list(MSM_M_neg.sample(0.00001).limit(10).collect())]"
   ]
  },
  {
   "cell_type": "code",
   "execution_count": null,
   "id": "rural-chaos",
   "metadata": {},
   "outputs": [],
   "source": []
  },
  {
   "cell_type": "code",
   "execution_count": null,
   "id": "cordless-province",
   "metadata": {},
   "outputs": [],
   "source": []
  },
  {
   "cell_type": "code",
   "execution_count": null,
   "id": "english-easter",
   "metadata": {},
   "outputs": [],
   "source": []
  },
  {
   "cell_type": "code",
   "execution_count": null,
   "id": "charming-valley",
   "metadata": {},
   "outputs": [],
   "source": []
  },
  {
   "cell_type": "code",
   "execution_count": null,
   "id": "normal-payroll",
   "metadata": {},
   "outputs": [],
   "source": []
  },
  {
   "cell_type": "markdown",
   "id": "balanced-scheduling",
   "metadata": {},
   "source": [
    "### Functions"
   ]
  },
  {
   "cell_type": "code",
   "execution_count": 37,
   "id": "differential-validity",
   "metadata": {},
   "outputs": [],
   "source": [
    "from random import sample\n",
    "from rank_bm25 import BM25Okapi\n",
    "import json"
   ]
  },
  {
   "cell_type": "code",
   "execution_count": 38,
   "id": "proprietary-planet",
   "metadata": {},
   "outputs": [],
   "source": [
    "def reader_data_from_ColBERT_retrievals(medQA, retrievals, FZ, topk = 100):\n",
    "    assert retrievals[retrievals[\"qid\"] == retrievals.loc[0,\"qid\"]].shape[0] >= topk\n",
    "    \n",
    "    FZ = FZ.set_index('pid')\n",
    "    \n",
    "    rdata = []\n",
    "    error_qids = []\n",
    "    for i in tqdm(range(medQA.shape[0])):\n",
    "#     for i in tqdm(range(5)):\n",
    "        qid = medQA[\"qid\"].iloc[i]\n",
    "        try:\n",
    "            rdata_i = {}\n",
    "\n",
    "            query = medQA[\"query\"].iloc[i]\n",
    "            answers = list(ast.literal_eval(medQA[\"options\"].iloc[i]).values())\n",
    "            target = medQA[\"answer\"].iloc[i]\n",
    "            rdata_i[\"question\"] = query\n",
    "            rdata_i[\"answers\"] = answers\n",
    "            rdata_i[\"target\"] = target\n",
    "\n",
    "            retrievals_tmp = retrievals[retrievals[\"qid\"] == qid]\n",
    "            retrievals_tmp = retrievals_tmp.join(FZ, on='pid').reset_index()\n",
    "    #         print(retrievals_tmp.head())\n",
    "    #         print(retrievals_tmp.tail())\n",
    "    #         print(retrievals_tmp.shape)\n",
    "            passage_list = []\n",
    "            for j in range(topk):\n",
    "                passages = {}\n",
    "                passages['id'] = int(retrievals_tmp[\"pid\"].iloc[j])\n",
    "                passages['title'] = retrievals_tmp[\"title\"].iloc[j]\n",
    "                passages['text'] = retrievals_tmp[\"passage\"].iloc[j]\n",
    "                passage_list.append(passages)\n",
    "            rdata_i[\"ctxs\"] = passage_list\n",
    "\n",
    "            rdata.append(rdata_i)\n",
    "        except:\n",
    "            error_qids.append(qid)\n",
    "    \n",
    "    return rdata, error_qids"
   ]
  },
  {
   "cell_type": "code",
   "execution_count": 54,
   "id": "touched-theorem",
   "metadata": {},
   "outputs": [],
   "source": [
    "def HRR(query, answer, ms_docs_cl, N):\n",
    "    answer = answer.lower()\n",
    "    corpus = [x for x in ms_docs_cl if answer in x]\n",
    "    if len(corpus) > 0:\n",
    "        tokenized_corpus = [doc.lower().replace(\"\\n\",\"\").split(\" \") for doc in corpus]\n",
    "        bm25 = BM25Okapi(tokenized_corpus)\n",
    "        tokenized_query = query.split(\" \")\n",
    "        doc_scores = bm25.get_scores(tokenized_query)\n",
    "        #N = min(len(doc_scores[np.where(doc_scores>doc_scores.max()/2)]),10)\n",
    "        relevant_passages = bm25.get_top_n(tokenized_query, corpus, n=N)\n",
    "        return relevant_passages\n",
    "    else:\n",
    "        return [\"Not found\"]"
   ]
  },
  {
   "cell_type": "code",
   "execution_count": 40,
   "id": "scheduled-strike",
   "metadata": {},
   "outputs": [],
   "source": [
    "#df_medQA ms_docs_cl\n",
    "\n",
    "def create_reader_train(df_medQA, ms_docs_cl, title_opt=3, N=10):\n",
    "        #title_opt = 3 # Title opt defines how the title should be generated. Can take values = [1,2,3]\n",
    "\n",
    "        reader_data = []\n",
    "        notfound = []\n",
    "\n",
    "        assert title_opt in [1,2,3], \"Incorrect title option\"\n",
    "\n",
    "        #df_medQA2 = df_medQA[~df_medQA[\"answer\"].isin(['1','2','3','4','5','A','B','C','D','E'])]\n",
    "\n",
    "        for i in tqdm(range(df_medQA.shape[0])):\n",
    "            if len(df_medQA[\"answer\"].iloc[i]) < 3:\n",
    "                continue\n",
    "            tmp = {}\n",
    "            tmp[\"question\"] = df_medQA[\"query\"].iloc[i]\n",
    "            tmp[\"answers\"] = list(ast.literal_eval(df_medQA[\"options\"].iloc[i]).values())\n",
    "            tmp[\"target\"] = df_medQA[\"answer\"].iloc[i]\n",
    "\n",
    "            if title_opt == 1:\n",
    "                title = \"\"\n",
    "            elif title_opt == 2:\n",
    "                title = ' '.join(tmp[\"answers\"])\n",
    "            elif title_opt == 3:\n",
    "                title = ' '.join(sample(tmp[\"answers\"],3))\n",
    "\n",
    "            docs = HRR(tmp[\"question\"], tmp[\"target\"], ms_docs_cl, N)\n",
    "            if docs[0] == \"Not found\":\n",
    "                notfound.append(tmp[\"question\"])\n",
    "                continue\n",
    "\n",
    "            tmp_list = []\n",
    "            for i in range(len(docs)):\n",
    "                tmp2 = {}\n",
    "                tmp2[\"title\"] = title\n",
    "                tmp2[\"text\"] = docs[i]\n",
    "                tmp_list.append(tmp2)\n",
    "\n",
    "            tmp[\"ctxs\"] = tmp_list\n",
    "\n",
    "            reader_data.append(tmp)\n",
    "\n",
    "        return reader_data, notfound"
   ]
  },
  {
   "cell_type": "code",
   "execution_count": 139,
   "id": "inner-dayton",
   "metadata": {},
   "outputs": [
    {
     "data": {
      "application/vnd.jupyter.widget-view+json": {
       "model_id": "5afc960e9e2d4e6eabd280fec5ba0dec",
       "version_major": 2,
       "version_minor": 0
      },
      "text/plain": [
       "  0%|          | 0/3 [00:00<?, ?it/s]"
      ]
     },
     "metadata": {},
     "output_type": "display_data"
    },
    {
     "data": {
      "application/vnd.jupyter.widget-view+json": {
       "model_id": "e3f3be7435054d7491bfc66a0b672518",
       "version_major": 2,
       "version_minor": 0
      },
      "text/plain": [
       "  0%|          | 0/611 [00:00<?, ?it/s]"
      ]
     },
     "metadata": {},
     "output_type": "display_data"
    },
    {
     "data": {
      "application/vnd.jupyter.widget-view+json": {
       "model_id": "47de9e415e3f47fba8432de83f03f16e",
       "version_major": 2,
       "version_minor": 0
      },
      "text/plain": [
       "  0%|          | 0/611 [00:00<?, ?it/s]"
      ]
     },
     "metadata": {},
     "output_type": "display_data"
    },
    {
     "data": {
      "application/vnd.jupyter.widget-view+json": {
       "model_id": "8dc7022927a54d91aca0f04025ae2662",
       "version_major": 2,
       "version_minor": 0
      },
      "text/plain": [
       "  0%|          | 0/611 [00:00<?, ?it/s]"
      ]
     },
     "metadata": {},
     "output_type": "display_data"
    }
   ],
   "source": [
    "for title_opt in tqdm([1,2,3]):\n",
    "    reader_data, not_found = create_reader_train(df_medQA, ms_docs_cl, title_opt, N=10)\n",
    "    \n",
    "    path = \"/scratch/s190619/Data_etc/Medical_MSMARCO/FiD_train/\" + \"FiD_train_msmarco_medical_title\" + str(title_opt) + \".json\"\n",
    "    \n",
    "    with open(path, 'w', encoding='utf-8') as f:\n",
    "        json.dump(reader_data, f, ensure_ascii=False, indent=4)"
   ]
  },
  {
   "cell_type": "code",
   "execution_count": 145,
   "id": "earlier-insert",
   "metadata": {},
   "outputs": [],
   "source": [
    "path = \"/scratch/s190619/Data_etc/Medical_MSMARCO/FiD_train/\" + \"FiD_train_msmarco_medical_title\" + str(1) + \".json\"\n",
    "with open(path) as json_file:\n",
    "    data_test = json.load(json_file)"
   ]
  },
  {
   "cell_type": "code",
   "execution_count": 133,
   "id": "linear-wheel",
   "metadata": {},
   "outputs": [
    {
     "data": {
      "text/plain": [
       "329"
      ]
     },
     "execution_count": 133,
     "metadata": {},
     "output_type": "execute_result"
    }
   ],
   "source": [
    "len(reader_data)"
   ]
  },
  {
   "cell_type": "code",
   "execution_count": 134,
   "id": "prescribed-immunology",
   "metadata": {},
   "outputs": [],
   "source": [
    "num_of_docs_per_query = {}\n",
    "for i in range(10):\n",
    "    num_of_docs_per_query[i+1] = 0\n",
    "\n",
    "for i in range(len(reader_data)):\n",
    "    num_of_docs_per_query[len(reader_data[i][\"ctxs\"])] += 1"
   ]
  },
  {
   "cell_type": "code",
   "execution_count": 135,
   "id": "apart-registrar",
   "metadata": {},
   "outputs": [
    {
     "data": {
      "text/plain": [
       "{1: 77, 2: 42, 3: 22, 4: 33, 5: 19, 6: 13, 7: 9, 8: 12, 9: 9, 10: 93}"
      ]
     },
     "execution_count": 135,
     "metadata": {},
     "output_type": "execute_result"
    }
   ],
   "source": [
    "num_of_docs_per_query"
   ]
  },
  {
   "cell_type": "code",
   "execution_count": 44,
   "id": "facial-tactics",
   "metadata": {},
   "outputs": [],
   "source": [
    "import matplotlib.pyplot as plt"
   ]
  },
  {
   "cell_type": "code",
   "execution_count": 137,
   "id": "federal-aaron",
   "metadata": {
    "scrolled": false
   },
   "outputs": [
    {
     "data": {
      "image/png": "[encoded data removed]",
      "text/plain": [
       "<Figure size 1000x600 with 1 Axes>"
      ]
     },
     "metadata": {
      "needs_background": "light"
     },
     "output_type": "display_data"
    }
   ],
   "source": [
    "D = num_of_docs_per_query\n",
    "\n",
    "plt.bar(range(len(D)), list(D.values()), align='center')\n",
    "plt.xticks(range(len(D)), list(D.keys()))\n",
    "plt.yticks([0,20,40,60,80,100])\n",
    "\n",
    "plt.rcParams.update({'figure.figsize':(10,6), 'figure.dpi':100,'font.size': 16})\n",
    "plt.rc('xtick', labelsize=16)    # fontsize of the tick labels\n",
    "plt.rc('ytick', labelsize=16)    # fontsize of the tick labels\n",
    "\n",
    "plt.title(\"The distribution of documents for each query\")\n",
    "plt.ylabel(\"Number of queries with that amount of docs\")\n",
    "plt.xlabel(\"Number of documents per query\")\n",
    "\n",
    "plt.show()"
   ]
  },
  {
   "cell_type": "code",
   "execution_count": null,
   "id": "professional-thong",
   "metadata": {},
   "outputs": [],
   "source": []
  },
  {
   "cell_type": "code",
   "execution_count": null,
   "id": "similar-bristol",
   "metadata": {},
   "outputs": [],
   "source": []
  },
  {
   "cell_type": "code",
   "execution_count": null,
   "id": "nutritional-slope",
   "metadata": {},
   "outputs": [],
   "source": []
  },
  {
   "cell_type": "code",
   "execution_count": 15,
   "id": "initial-argument",
   "metadata": {},
   "outputs": [
    {
     "data": {
      "application/vnd.jupyter.widget-view+json": {
       "model_id": "484135b2193148068be09bcab63b0339",
       "version_major": 2,
       "version_minor": 0
      },
      "text/plain": [
       "  0%|          | 0/611 [00:00<?, ?it/s]"
      ]
     },
     "metadata": {},
     "output_type": "display_data"
    }
   ],
   "source": [
    "rdata, errors = reader_data_from_ColBERT_retrievals(df_medQA, df_retrievals, df_FZ, topk=100)"
   ]
  },
  {
   "cell_type": "code",
   "execution_count": 147,
   "id": "sporting-premiere",
   "metadata": {},
   "outputs": [],
   "source": [
    "save_file_path = \"/scratch/s190619/MSMARCO/Data/FindZebra/FiD_reader_data/Model1_retrieved_f_reader.json\"\n",
    "with open(save_file_path, 'w', encoding='utf-8') as outfile:\n",
    "    json.dump(rdata, outfile, ensure_ascii=False)"
   ]
  },
  {
   "cell_type": "code",
   "execution_count": 148,
   "id": "compound-geneva",
   "metadata": {},
   "outputs": [],
   "source": [
    "with open(save_file_path) as json_file:\n",
    "    data_test = json.load(json_file)"
   ]
  },
  {
   "cell_type": "code",
   "execution_count": 161,
   "id": "dental-right",
   "metadata": {},
   "outputs": [
    {
     "name": "stdout",
     "output_type": "stream",
     "text": [
      "100\n",
      "A 67-year-old woman with a recently found hepatic carcinoma has been an inpatient for more than a week. During morning rounds, she was abnormally disoriented to time and place along with a shortened attention span. The overnight resident reports that she was coming in and out of this state for the past couple nights. The patient was known to drink often, but reported that she has not consumed alcohol in weeks leading up to her admission. She is not jaundiced and has no metabolic imbalance upon laboratory tests. What is the most likely cause of her recent mental impairment?\n",
      "Delirium\n",
      "{'A': 'Delirium', 'B': 'Substance abuse', 'C': 'Brain metastasis', 'D': 'Delirium tremens', 'E': 'Dementia'}\n"
     ]
    }
   ],
   "source": [
    "index = 100\n",
    "print(df_medQA[\"qid\"].iloc[index])\n",
    "print(df_medQA[\"query\"].iloc[index])\n",
    "print(df_medQA[\"answer\"].iloc[index])\n",
    "print(df_medQA[\"options\"].iloc[index])"
   ]
  },
  {
   "cell_type": "code",
   "execution_count": 10,
   "id": "meaningful-stamp",
   "metadata": {},
   "outputs": [],
   "source": [
    "#!python FiD_reader_format.py /scratch/s190619/MSMARCO/Data/FindZebra/collection_FZ_w_titles.tsv /scratch/s190619/MSMARCO/Retrievals/dev-test/Ranking_Model1.tsv /scratch/s190619/MSMARCO/Data/disorders_table_dev-test.csv /scratch/s190619/MSMARCO/Data/FindZebra/FiD_reader_data/test.json"
   ]
  },
  {
   "cell_type": "code",
   "execution_count": null,
   "id": "uniform-arabic",
   "metadata": {},
   "outputs": [],
   "source": []
  },
  {
   "cell_type": "code",
   "execution_count": null,
   "id": "advised-parking",
   "metadata": {},
   "outputs": [],
   "source": []
  },
  {
   "cell_type": "code",
   "execution_count": null,
   "id": "subjective-honduras",
   "metadata": {},
   "outputs": [],
   "source": []
  },
  {
   "cell_type": "code",
   "execution_count": null,
   "id": "operating-component",
   "metadata": {},
   "outputs": [],
   "source": []
  },
  {
   "cell_type": "code",
   "execution_count": null,
   "id": "manufactured-stage",
   "metadata": {},
   "outputs": [],
   "source": []
  },
  {
   "cell_type": "markdown",
   "id": "lonely-plasma",
   "metadata": {},
   "source": [
    "# MedQA textbook"
   ]
  },
  {
   "cell_type": "code",
   "execution_count": 32,
   "id": "industrial-singapore",
   "metadata": {},
   "outputs": [],
   "source": [
    "source = \"/scratch/s190619/MSMARCO/MedQA_US/textbooks/combined_text_books.txt\"\n",
    "\n",
    "textbooks = []\n",
    "f = open(source, \"r\")\n",
    "for x in f:\n",
    "    textbooks.append(x)\n",
    "f.close()\n",
    "\n",
    "TB = [x.replace(\"\\n\",\"\") for x in textbooks if x != \"\\n\"]\n",
    "TB_l = [x.lower() for x in TB]\n",
    "TB_m = [x for x in TB_l if len(x) > 100 and len(x) < 2000]"
   ]
  },
  {
   "cell_type": "code",
   "execution_count": 16,
   "id": "european-binary",
   "metadata": {},
   "outputs": [
    {
     "data": {
      "text/html": [
       "<div>\n",
       "<style scoped>\n",
       "    .dataframe tbody tr th:only-of-type {\n",
       "        vertical-align: middle;\n",
       "    }\n",
       "\n",
       "    .dataframe tbody tr th {\n",
       "        vertical-align: top;\n",
       "    }\n",
       "\n",
       "    .dataframe thead th {\n",
       "        text-align: right;\n",
       "    }\n",
       "</style>\n",
       "<table border=\"1\" class=\"dataframe\">\n",
       "  <thead>\n",
       "    <tr style=\"text-align: right;\">\n",
       "      <th></th>\n",
       "      <th>qid</th>\n",
       "      <th>query</th>\n",
       "      <th>answer</th>\n",
       "      <th>options</th>\n",
       "      <th>meta_info</th>\n",
       "      <th>Disorder</th>\n",
       "      <th>CUI</th>\n",
       "      <th>TUI</th>\n",
       "      <th>short_category</th>\n",
       "      <th>long_category</th>\n",
       "      <th>description</th>\n",
       "      <th>cui_METAMAP</th>\n",
       "    </tr>\n",
       "  </thead>\n",
       "  <tbody>\n",
       "    <tr>\n",
       "      <th>0</th>\n",
       "      <td>0</td>\n",
       "      <td>A 5-year-old girl is brought to the emergency ...</td>\n",
       "      <td>Cyclic vomiting syndrome</td>\n",
       "      <td>{'A': 'Cyclic vomiting syndrome', 'B': 'Gastro...</td>\n",
       "      <td>step2&amp;3</td>\n",
       "      <td>True</td>\n",
       "      <td>NaN</td>\n",
       "      <td>NaN</td>\n",
       "      <td>NaN</td>\n",
       "      <td>NaN</td>\n",
       "      <td>NaN</td>\n",
       "      <td>['C0152164']</td>\n",
       "    </tr>\n",
       "    <tr>\n",
       "      <th>1</th>\n",
       "      <td>1</td>\n",
       "      <td>A 19-year-old boy presents with confusion and ...</td>\n",
       "      <td>Hypoperfusion</td>\n",
       "      <td>{'A': 'Hypoperfusion', 'B': 'Hyperglycemia', '...</td>\n",
       "      <td>step1</td>\n",
       "      <td>True</td>\n",
       "      <td>C0442856</td>\n",
       "      <td>T046</td>\n",
       "      <td>DISO</td>\n",
       "      <td>Disorders</td>\n",
       "      <td>Pathologic Function</td>\n",
       "      <td>['C0442856']</td>\n",
       "    </tr>\n",
       "    <tr>\n",
       "      <th>2</th>\n",
       "      <td>2</td>\n",
       "      <td>A 41-year-old woman presents to her primary ca...</td>\n",
       "      <td>Iron deficiency</td>\n",
       "      <td>{'A': 'Vitamin B12 deficiency', 'B': 'Folate d...</td>\n",
       "      <td>step2&amp;3</td>\n",
       "      <td>True</td>\n",
       "      <td>C0240066</td>\n",
       "      <td>T047</td>\n",
       "      <td>DISO</td>\n",
       "      <td>Disorders</td>\n",
       "      <td>Disease or Syndrome</td>\n",
       "      <td>['C0240066']</td>\n",
       "    </tr>\n",
       "    <tr>\n",
       "      <th>3</th>\n",
       "      <td>3</td>\n",
       "      <td>A 56-year-old man with known coronary artery d...</td>\n",
       "      <td>Monomorphic ventricular tachycardia</td>\n",
       "      <td>{'A': 'Premature ventricular contractions', 'B...</td>\n",
       "      <td>step1</td>\n",
       "      <td>True</td>\n",
       "      <td>NaN</td>\n",
       "      <td>NaN</td>\n",
       "      <td>NaN</td>\n",
       "      <td>NaN</td>\n",
       "      <td>NaN</td>\n",
       "      <td>['C0344431']</td>\n",
       "    </tr>\n",
       "    <tr>\n",
       "      <th>4</th>\n",
       "      <td>4</td>\n",
       "      <td>A 16-year-old female high school student is br...</td>\n",
       "      <td>Oppositional defiant disorder</td>\n",
       "      <td>{'A': 'Reactive attachment disorder', 'B': 'Co...</td>\n",
       "      <td>step2&amp;3</td>\n",
       "      <td>True</td>\n",
       "      <td>C0029121</td>\n",
       "      <td>T048</td>\n",
       "      <td>DISO</td>\n",
       "      <td>Disorders</td>\n",
       "      <td>Mental or Behavioral Dysfunction</td>\n",
       "      <td>['C0029121']</td>\n",
       "    </tr>\n",
       "  </tbody>\n",
       "</table>\n",
       "</div>"
      ],
      "text/plain": [
       "   qid                                              query  \\\n",
       "0    0  A 5-year-old girl is brought to the emergency ...   \n",
       "1    1  A 19-year-old boy presents with confusion and ...   \n",
       "2    2  A 41-year-old woman presents to her primary ca...   \n",
       "3    3  A 56-year-old man with known coronary artery d...   \n",
       "4    4  A 16-year-old female high school student is br...   \n",
       "\n",
       "                                answer  \\\n",
       "0             Cyclic vomiting syndrome   \n",
       "1                        Hypoperfusion   \n",
       "2                      Iron deficiency   \n",
       "3  Monomorphic ventricular tachycardia   \n",
       "4        Oppositional defiant disorder   \n",
       "\n",
       "                                             options meta_info  Disorder  \\\n",
       "0  {'A': 'Cyclic vomiting syndrome', 'B': 'Gastro...   step2&3      True   \n",
       "1  {'A': 'Hypoperfusion', 'B': 'Hyperglycemia', '...     step1      True   \n",
       "2  {'A': 'Vitamin B12 deficiency', 'B': 'Folate d...   step2&3      True   \n",
       "3  {'A': 'Premature ventricular contractions', 'B...     step1      True   \n",
       "4  {'A': 'Reactive attachment disorder', 'B': 'Co...   step2&3      True   \n",
       "\n",
       "        CUI   TUI short_category long_category  \\\n",
       "0       NaN   NaN            NaN           NaN   \n",
       "1  C0442856  T046           DISO     Disorders   \n",
       "2  C0240066  T047           DISO     Disorders   \n",
       "3       NaN   NaN            NaN           NaN   \n",
       "4  C0029121  T048           DISO     Disorders   \n",
       "\n",
       "                        description   cui_METAMAP  \n",
       "0                               NaN  ['C0152164']  \n",
       "1               Pathologic Function  ['C0442856']  \n",
       "2               Disease or Syndrome  ['C0240066']  \n",
       "3                               NaN  ['C0344431']  \n",
       "4  Mental or Behavioral Dysfunction  ['C0029121']  "
      ]
     },
     "execution_count": 16,
     "metadata": {},
     "output_type": "execute_result"
    }
   ],
   "source": [
    "df_medQA.head()"
   ]
  },
  {
   "cell_type": "code",
   "execution_count": 55,
   "id": "complicated-armstrong",
   "metadata": {},
   "outputs": [
    {
     "data": {
      "application/vnd.jupyter.widget-view+json": {
       "model_id": "846e133344d0415f92ed9b5e5fff8b16",
       "version_major": 2,
       "version_minor": 0
      },
      "text/plain": [
       "  0%|          | 0/3 [00:00<?, ?it/s]"
      ]
     },
     "metadata": {},
     "output_type": "display_data"
    },
    {
     "data": {
      "application/vnd.jupyter.widget-view+json": {
       "model_id": "26183ace6cc14c509310d70b3fa23b87",
       "version_major": 2,
       "version_minor": 0
      },
      "text/plain": [
       "  0%|          | 0/611 [00:00<?, ?it/s]"
      ]
     },
     "metadata": {},
     "output_type": "display_data"
    },
    {
     "data": {
      "application/vnd.jupyter.widget-view+json": {
       "model_id": "f15c5a1e4e83499da7754c39994aea06",
       "version_major": 2,
       "version_minor": 0
      },
      "text/plain": [
       "  0%|          | 0/611 [00:00<?, ?it/s]"
      ]
     },
     "metadata": {},
     "output_type": "display_data"
    },
    {
     "data": {
      "application/vnd.jupyter.widget-view+json": {
       "model_id": "8fc6a5b2a4c148fd8024459831c506ad",
       "version_major": 2,
       "version_minor": 0
      },
      "text/plain": [
       "  0%|          | 0/611 [00:00<?, ?it/s]"
      ]
     },
     "metadata": {},
     "output_type": "display_data"
    }
   ],
   "source": [
    "for title_opt in tqdm([1,2,3]):\n",
    "    reader_data, not_found = create_reader_train(df_medQA, TB_m, title_opt, N=10)\n",
    "    \n",
    "    path = \"/scratch/s190619/Data_etc/Medical_MSMARCO/FiD_train/\" + \"FiD_train_medQA_title\" + str(title_opt) + \".json\"\n",
    "    \n",
    "    with open(path, 'w', encoding='utf-8') as f:\n",
    "        json.dump(reader_data, f, ensure_ascii=False, indent=4)"
   ]
  },
  {
   "cell_type": "code",
   "execution_count": null,
   "id": "widespread-unknown",
   "metadata": {},
   "outputs": [],
   "source": []
  },
  {
   "cell_type": "code",
   "execution_count": null,
   "id": "adapted-doubt",
   "metadata": {},
   "outputs": [],
   "source": []
  },
  {
   "cell_type": "code",
   "execution_count": null,
   "id": "fancy-brush",
   "metadata": {},
   "outputs": [],
   "source": []
  },
  {
   "cell_type": "code",
   "execution_count": null,
   "id": "conservative-quick",
   "metadata": {},
   "outputs": [],
   "source": []
  },
  {
   "cell_type": "code",
   "execution_count": 56,
   "id": "impressive-designation",
   "metadata": {},
   "outputs": [],
   "source": [
    "path = \"/scratch/s190619/Data_etc/Medical_MSMARCO/FiD_train/\" + \"FiD_train_medQA_title\" + str(1) + \".json\"\n",
    "with open(path) as json_file:\n",
    "    data_test = json.load(json_file)"
   ]
  },
  {
   "cell_type": "code",
   "execution_count": null,
   "id": "consolidated-cholesterol",
   "metadata": {},
   "outputs": [],
   "source": []
  },
  {
   "cell_type": "code",
   "execution_count": 57,
   "id": "occasional-eight",
   "metadata": {},
   "outputs": [],
   "source": [
    "num_of_docs_per_query = {}\n",
    "for i in range(10):\n",
    "    num_of_docs_per_query[i+1] = 0\n",
    "\n",
    "for i in range(len(reader_data)):\n",
    "    num_of_docs_per_query[len(reader_data[i][\"ctxs\"])] += 1"
   ]
  },
  {
   "cell_type": "code",
   "execution_count": 58,
   "id": "boring-parking",
   "metadata": {},
   "outputs": [
    {
     "data": {
      "text/plain": [
       "{1: 29, 2: 19, 3: 9, 4: 19, 5: 16, 6: 10, 7: 9, 8: 8, 9: 11, 10: 437}"
      ]
     },
     "execution_count": 58,
     "metadata": {},
     "output_type": "execute_result"
    }
   ],
   "source": [
    "num_of_docs_per_query"
   ]
  },
  {
   "cell_type": "code",
   "execution_count": 60,
   "id": "extraordinary-capability",
   "metadata": {},
   "outputs": [
    {
     "data": {
      "image/png": "[encoded data removed]",
      "text/plain": [
       "<Figure size 1000x600 with 1 Axes>"
      ]
     },
     "metadata": {
      "needs_background": "light"
     },
     "output_type": "display_data"
    }
   ],
   "source": [
    "D = num_of_docs_per_query\n",
    "\n",
    "plt.bar(range(len(D)), list(D.values()), align='center')\n",
    "plt.xticks(range(len(D)), list(D.keys()))\n",
    "#plt.yticks([0,20,40,60,80,100])\n",
    "\n",
    "plt.rcParams.update({'figure.figsize':(10,6), 'figure.dpi':100,'font.size': 16})\n",
    "plt.rc('xtick', labelsize=16)    # fontsize of the tick labels\n",
    "plt.rc('ytick', labelsize=16)    # fontsize of the tick labels\n",
    "\n",
    "plt.title(\"The distribution of documents for each query\")\n",
    "plt.ylabel(\"Number of queries with that amount of docs\")\n",
    "plt.xlabel(\"Number of documents per query\")\n",
    "\n",
    "plt.show()"
   ]
  },
  {
   "cell_type": "code",
   "execution_count": 70,
   "id": "inappropriate-danger",
   "metadata": {},
   "outputs": [],
   "source": [
    "df_fz = pd.read_csv(\"/scratch/s190619/MSMARCO/FZ_corpus_evaluation.tsv\", sep=\"\\t\")"
   ]
  },
  {
   "cell_type": "code",
   "execution_count": 72,
   "id": "atlantic-warrior",
   "metadata": {},
   "outputs": [],
   "source": [
    "fz_cuis = df_fz[\"cui\"].unique()"
   ]
  },
  {
   "cell_type": "code",
   "execution_count": 74,
   "id": "short-majority",
   "metadata": {},
   "outputs": [
    {
     "data": {
      "text/plain": [
       "14966"
      ]
     },
     "execution_count": 74,
     "metadata": {},
     "output_type": "execute_result"
    }
   ],
   "source": [
    "len(fz_cuis)"
   ]
  },
  {
   "cell_type": "code",
   "execution_count": 75,
   "id": "foreign-custody",
   "metadata": {},
   "outputs": [
    {
     "data": {
      "text/html": [
       "<div>\n",
       "<style scoped>\n",
       "    .dataframe tbody tr th:only-of-type {\n",
       "        vertical-align: middle;\n",
       "    }\n",
       "\n",
       "    .dataframe tbody tr th {\n",
       "        vertical-align: top;\n",
       "    }\n",
       "\n",
       "    .dataframe thead th {\n",
       "        text-align: right;\n",
       "    }\n",
       "</style>\n",
       "<table border=\"1\" class=\"dataframe\">\n",
       "  <thead>\n",
       "    <tr style=\"text-align: right;\">\n",
       "      <th></th>\n",
       "      <th>qid</th>\n",
       "      <th>query</th>\n",
       "      <th>answer</th>\n",
       "      <th>options</th>\n",
       "      <th>meta_info</th>\n",
       "      <th>Disorder</th>\n",
       "      <th>CUI</th>\n",
       "      <th>TUI</th>\n",
       "      <th>short_category</th>\n",
       "      <th>long_category</th>\n",
       "      <th>description</th>\n",
       "      <th>cui_METAMAP</th>\n",
       "    </tr>\n",
       "  </thead>\n",
       "  <tbody>\n",
       "    <tr>\n",
       "      <th>0</th>\n",
       "      <td>0</td>\n",
       "      <td>A 5-year-old girl is brought to the emergency ...</td>\n",
       "      <td>Cyclic vomiting syndrome</td>\n",
       "      <td>{'A': 'Cyclic vomiting syndrome', 'B': 'Gastro...</td>\n",
       "      <td>step2&amp;3</td>\n",
       "      <td>True</td>\n",
       "      <td>NaN</td>\n",
       "      <td>NaN</td>\n",
       "      <td>NaN</td>\n",
       "      <td>NaN</td>\n",
       "      <td>NaN</td>\n",
       "      <td>['C0152164']</td>\n",
       "    </tr>\n",
       "    <tr>\n",
       "      <th>1</th>\n",
       "      <td>1</td>\n",
       "      <td>A 19-year-old boy presents with confusion and ...</td>\n",
       "      <td>Hypoperfusion</td>\n",
       "      <td>{'A': 'Hypoperfusion', 'B': 'Hyperglycemia', '...</td>\n",
       "      <td>step1</td>\n",
       "      <td>True</td>\n",
       "      <td>C0442856</td>\n",
       "      <td>T046</td>\n",
       "      <td>DISO</td>\n",
       "      <td>Disorders</td>\n",
       "      <td>Pathologic Function</td>\n",
       "      <td>['C0442856']</td>\n",
       "    </tr>\n",
       "    <tr>\n",
       "      <th>2</th>\n",
       "      <td>2</td>\n",
       "      <td>A 41-year-old woman presents to her primary ca...</td>\n",
       "      <td>Iron deficiency</td>\n",
       "      <td>{'A': 'Vitamin B12 deficiency', 'B': 'Folate d...</td>\n",
       "      <td>step2&amp;3</td>\n",
       "      <td>True</td>\n",
       "      <td>C0240066</td>\n",
       "      <td>T047</td>\n",
       "      <td>DISO</td>\n",
       "      <td>Disorders</td>\n",
       "      <td>Disease or Syndrome</td>\n",
       "      <td>['C0240066']</td>\n",
       "    </tr>\n",
       "    <tr>\n",
       "      <th>3</th>\n",
       "      <td>3</td>\n",
       "      <td>A 56-year-old man with known coronary artery d...</td>\n",
       "      <td>Monomorphic ventricular tachycardia</td>\n",
       "      <td>{'A': 'Premature ventricular contractions', 'B...</td>\n",
       "      <td>step1</td>\n",
       "      <td>True</td>\n",
       "      <td>NaN</td>\n",
       "      <td>NaN</td>\n",
       "      <td>NaN</td>\n",
       "      <td>NaN</td>\n",
       "      <td>NaN</td>\n",
       "      <td>['C0344431']</td>\n",
       "    </tr>\n",
       "    <tr>\n",
       "      <th>4</th>\n",
       "      <td>4</td>\n",
       "      <td>A 16-year-old female high school student is br...</td>\n",
       "      <td>Oppositional defiant disorder</td>\n",
       "      <td>{'A': 'Reactive attachment disorder', 'B': 'Co...</td>\n",
       "      <td>step2&amp;3</td>\n",
       "      <td>True</td>\n",
       "      <td>C0029121</td>\n",
       "      <td>T048</td>\n",
       "      <td>DISO</td>\n",
       "      <td>Disorders</td>\n",
       "      <td>Mental or Behavioral Dysfunction</td>\n",
       "      <td>['C0029121']</td>\n",
       "    </tr>\n",
       "  </tbody>\n",
       "</table>\n",
       "</div>"
      ],
      "text/plain": [
       "   qid                                              query  \\\n",
       "0    0  A 5-year-old girl is brought to the emergency ...   \n",
       "1    1  A 19-year-old boy presents with confusion and ...   \n",
       "2    2  A 41-year-old woman presents to her primary ca...   \n",
       "3    3  A 56-year-old man with known coronary artery d...   \n",
       "4    4  A 16-year-old female high school student is br...   \n",
       "\n",
       "                                answer  \\\n",
       "0             Cyclic vomiting syndrome   \n",
       "1                        Hypoperfusion   \n",
       "2                      Iron deficiency   \n",
       "3  Monomorphic ventricular tachycardia   \n",
       "4        Oppositional defiant disorder   \n",
       "\n",
       "                                             options meta_info  Disorder  \\\n",
       "0  {'A': 'Cyclic vomiting syndrome', 'B': 'Gastro...   step2&3      True   \n",
       "1  {'A': 'Hypoperfusion', 'B': 'Hyperglycemia', '...     step1      True   \n",
       "2  {'A': 'Vitamin B12 deficiency', 'B': 'Folate d...   step2&3      True   \n",
       "3  {'A': 'Premature ventricular contractions', 'B...     step1      True   \n",
       "4  {'A': 'Reactive attachment disorder', 'B': 'Co...   step2&3      True   \n",
       "\n",
       "        CUI   TUI short_category long_category  \\\n",
       "0       NaN   NaN            NaN           NaN   \n",
       "1  C0442856  T046           DISO     Disorders   \n",
       "2  C0240066  T047           DISO     Disorders   \n",
       "3       NaN   NaN            NaN           NaN   \n",
       "4  C0029121  T048           DISO     Disorders   \n",
       "\n",
       "                        description   cui_METAMAP  \n",
       "0                               NaN  ['C0152164']  \n",
       "1               Pathologic Function  ['C0442856']  \n",
       "2               Disease or Syndrome  ['C0240066']  \n",
       "3                               NaN  ['C0344431']  \n",
       "4  Mental or Behavioral Dysfunction  ['C0029121']  "
      ]
     },
     "execution_count": 75,
     "metadata": {},
     "output_type": "execute_result"
    }
   ],
   "source": [
    "df_medQA.head()"
   ]
  },
  {
   "cell_type": "code",
   "execution_count": 76,
   "id": "exempt-modification",
   "metadata": {},
   "outputs": [
    {
     "data": {
      "text/plain": [
       "(611, 12)"
      ]
     },
     "execution_count": 76,
     "metadata": {},
     "output_type": "execute_result"
    }
   ],
   "source": [
    "df_medQA.shape"
   ]
  },
  {
   "cell_type": "code",
   "execution_count": 79,
   "id": "intimate-sister",
   "metadata": {},
   "outputs": [],
   "source": [
    "counter = 0\n",
    "for i in range(df_medQA.shape[0]):\n",
    "    con = False\n",
    "    cuis = ast.literal_eval(df_medQA[\"cui_METAMAP\"].iloc[i])\n",
    "    cuis.append(df_medQA[\"CUI\"].iloc[i])\n",
    "    for cui in cuis:\n",
    "        if cui in fz_cuis:\n",
    "            con = True\n",
    "    if con == True:\n",
    "        counter += 1"
   ]
  },
  {
   "cell_type": "code",
   "execution_count": 80,
   "id": "acquired-sensitivity",
   "metadata": {},
   "outputs": [
    {
     "data": {
      "text/plain": [
       "394"
      ]
     },
     "execution_count": 80,
     "metadata": {},
     "output_type": "execute_result"
    }
   ],
   "source": [
    "counter"
   ]
  },
  {
   "cell_type": "code",
   "execution_count": null,
   "id": "stopped-essex",
   "metadata": {},
   "outputs": [],
   "source": []
  }
 ],
 "metadata": {
  "kernelspec": {
   "display_name": "Python 3",
   "language": "python",
   "name": "python3"
  },
  "language_info": {
   "codemirror_mode": {
    "name": "ipython",
    "version": 3
   },
   "file_extension": ".py",
   "mimetype": "text/x-python",
   "name": "python",
   "nbconvert_exporter": "python",
   "pygments_lexer": "ipython3",
   "version": "3.7.9"
  }
 },
 "nbformat": 4,
 "nbformat_minor": 5
}
