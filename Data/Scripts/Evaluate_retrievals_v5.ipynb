{
 "cells": [
  {
   "cell_type": "code",
   "execution_count": 1,
   "id": "supposed-graham",
   "metadata": {},
   "outputs": [],
   "source": [
    "import pandas as pd\n",
    "import jsonlines\n",
    "from tqdm.notebook import tqdm\n",
    "import numpy as np\n",
    "import matplotlib.pyplot as plt\n",
    "import requests\n",
    "import json"
   ]
  },
  {
   "cell_type": "code",
   "execution_count": null,
   "id": "prepared-aluminum",
   "metadata": {},
   "outputs": [],
   "source": []
  },
  {
   "cell_type": "markdown",
   "id": "delayed-economics",
   "metadata": {},
   "source": [
    "### Load METAMAP data\n",
    "\n",
    "1. Load the FZ corpus\n",
    "2. Load the split version\n",
    "3. Load the MedQA queries"
   ]
  },
  {
   "cell_type": "markdown",
   "id": "adult-kentucky",
   "metadata": {},
   "source": [
    "### 1"
   ]
  },
  {
   "cell_type": "code",
   "execution_count": 4,
   "id": "committed-courtesy",
   "metadata": {},
   "outputs": [
    {
     "data": {
      "text/html": [
       "<div>\n",
       "<style scoped>\n",
       "    .dataframe tbody tr th:only-of-type {\n",
       "        vertical-align: middle;\n",
       "    }\n",
       "\n",
       "    .dataframe tbody tr th {\n",
       "        vertical-align: top;\n",
       "    }\n",
       "\n",
       "    .dataframe thead th {\n",
       "        text-align: right;\n",
       "    }\n",
       "</style>\n",
       "<table border=\"1\" class=\"dataframe\">\n",
       "  <thead>\n",
       "    <tr style=\"text-align: right;\">\n",
       "      <th></th>\n",
       "      <th>pid</th>\n",
       "      <th>title</th>\n",
       "      <th>passage</th>\n",
       "      <th>cui</th>\n",
       "      <th>source</th>\n",
       "      <th>source_url</th>\n",
       "      <th>classification_map</th>\n",
       "    </tr>\n",
       "  </thead>\n",
       "  <tbody>\n",
       "    <tr>\n",
       "      <th>0</th>\n",
       "      <td>0</td>\n",
       "      <td>Kernicterus</td>\n",
       "      <td>Kernicterusrefers to brain damage that may occ...</td>\n",
       "      <td>C0022610</td>\n",
       "      <td>gard</td>\n",
       "      <td>https://rarediseases.info.nih.gov/diseases/683...</td>\n",
       "      <td>{\"mesh\": [\"D007647\"], \"umls\": [\"C0022610\"], \"o...</td>\n",
       "    </tr>\n",
       "    <tr>\n",
       "      <th>1</th>\n",
       "      <td>1</td>\n",
       "      <td>47 XXX syndrome</td>\n",
       "      <td>47 XXX syndrome, also called trisomy X or trip...</td>\n",
       "      <td>C0221033</td>\n",
       "      <td>gard</td>\n",
       "      <td>https://rarediseases.info.nih.gov/diseases/567...</td>\n",
       "      <td>{\"mesh\": [\"C535318\"], \"umls\": [\"C0221033\"], \"o...</td>\n",
       "    </tr>\n",
       "    <tr>\n",
       "      <th>2</th>\n",
       "      <td>2</td>\n",
       "      <td>Pseudoxanthoma elasticum</td>\n",
       "      <td>Pseudoxanthoma elasticum, PXE, is an inherited...</td>\n",
       "      <td>C0033847</td>\n",
       "      <td>gard</td>\n",
       "      <td>https://rarediseases.info.nih.gov/diseases/964...</td>\n",
       "      <td>{\"mesh\": [\"D011561\"], \"omim\": [\"264800\"], \"orp...</td>\n",
       "    </tr>\n",
       "    <tr>\n",
       "      <th>3</th>\n",
       "      <td>3</td>\n",
       "      <td>Smith-Magenis Syndrome</td>\n",
       "      <td>SummaryClinical characteristics.Smith-Magenis ...</td>\n",
       "      <td>C0795864</td>\n",
       "      <td>gene_reviews</td>\n",
       "      <td>https://www.ncbi.nlm.nih.gov/books/NBK1310/</td>\n",
       "      <td>{\"mesh\": [\"D058496\"], \"synonyms\": [\"del(17)(p1...</td>\n",
       "    </tr>\n",
       "    <tr>\n",
       "      <th>4</th>\n",
       "      <td>4</td>\n",
       "      <td>Smith-Lemli-Opitz Syndrome</td>\n",
       "      <td>SummaryClinical characteristics.Smith-Lemli-Op...</td>\n",
       "      <td>C0175694</td>\n",
       "      <td>gene_reviews</td>\n",
       "      <td>https://www.ncbi.nlm.nih.gov/books/NBK1143/</td>\n",
       "      <td>{\"mesh\": [\"D019082\"], \"synonyms\": [\"SLOS\"]}</td>\n",
       "    </tr>\n",
       "  </tbody>\n",
       "</table>\n",
       "</div>"
      ],
      "text/plain": [
       "   pid                       title  \\\n",
       "0    0                 Kernicterus   \n",
       "1    1             47 XXX syndrome   \n",
       "2    2    Pseudoxanthoma elasticum   \n",
       "3    3      Smith-Magenis Syndrome   \n",
       "4    4  Smith-Lemli-Opitz Syndrome   \n",
       "\n",
       "                                             passage       cui        source  \\\n",
       "0  Kernicterusrefers to brain damage that may occ...  C0022610          gard   \n",
       "1  47 XXX syndrome, also called trisomy X or trip...  C0221033          gard   \n",
       "2  Pseudoxanthoma elasticum, PXE, is an inherited...  C0033847          gard   \n",
       "3  SummaryClinical characteristics.Smith-Magenis ...  C0795864  gene_reviews   \n",
       "4  SummaryClinical characteristics.Smith-Lemli-Op...  C0175694  gene_reviews   \n",
       "\n",
       "                                          source_url  \\\n",
       "0  https://rarediseases.info.nih.gov/diseases/683...   \n",
       "1  https://rarediseases.info.nih.gov/diseases/567...   \n",
       "2  https://rarediseases.info.nih.gov/diseases/964...   \n",
       "3        https://www.ncbi.nlm.nih.gov/books/NBK1310/   \n",
       "4        https://www.ncbi.nlm.nih.gov/books/NBK1143/   \n",
       "\n",
       "                                  classification_map  \n",
       "0  {\"mesh\": [\"D007647\"], \"umls\": [\"C0022610\"], \"o...  \n",
       "1  {\"mesh\": [\"C535318\"], \"umls\": [\"C0221033\"], \"o...  \n",
       "2  {\"mesh\": [\"D011561\"], \"omim\": [\"264800\"], \"orp...  \n",
       "3  {\"mesh\": [\"D058496\"], \"synonyms\": [\"del(17)(p1...  \n",
       "4        {\"mesh\": [\"D019082\"], \"synonyms\": [\"SLOS\"]}  "
      ]
     },
     "execution_count": 4,
     "metadata": {},
     "output_type": "execute_result"
    }
   ],
   "source": [
    "df_fz = pd.read_csv(\"/scratch/s190619/Data_etc/FindZebra/FZ_corpus_evaluation.tsv\",sep='\\t')\n",
    "df_fz.head()"
   ]
  },
  {
   "cell_type": "code",
   "execution_count": 5,
   "id": "norwegian-expert",
   "metadata": {
    "scrolled": true
   },
   "outputs": [
    {
     "data": {
      "text/plain": [
       "(30658, 7)"
      ]
     },
     "execution_count": 5,
     "metadata": {},
     "output_type": "execute_result"
    }
   ],
   "source": [
    "df_fz.shape"
   ]
  },
  {
   "cell_type": "markdown",
   "id": "stone-pharmacology",
   "metadata": {},
   "source": [
    "### 2\n"
   ]
  },
  {
   "cell_type": "code",
   "execution_count": 167,
   "id": "another-celebration",
   "metadata": {},
   "outputs": [
    {
     "data": {
      "text/html": [
       "<div>\n",
       "<style scoped>\n",
       "    .dataframe tbody tr th:only-of-type {\n",
       "        vertical-align: middle;\n",
       "    }\n",
       "\n",
       "    .dataframe tbody tr th {\n",
       "        vertical-align: top;\n",
       "    }\n",
       "\n",
       "    .dataframe thead th {\n",
       "        text-align: right;\n",
       "    }\n",
       "</style>\n",
       "<table border=\"1\" class=\"dataframe\">\n",
       "  <thead>\n",
       "    <tr style=\"text-align: right;\">\n",
       "      <th></th>\n",
       "      <th>pid</th>\n",
       "      <th>apid</th>\n",
       "      <th>passage</th>\n",
       "      <th>title</th>\n",
       "      <th>cui</th>\n",
       "    </tr>\n",
       "  </thead>\n",
       "  <tbody>\n",
       "    <tr>\n",
       "      <th>0</th>\n",
       "      <td>0</td>\n",
       "      <td>0</td>\n",
       "      <td>Kernicterusrefers to brain damage that may occ...</td>\n",
       "      <td>Kernicterus</td>\n",
       "      <td>C0022610</td>\n",
       "    </tr>\n",
       "    <tr>\n",
       "      <th>1</th>\n",
       "      <td>1</td>\n",
       "      <td>0</td>\n",
       "      <td>Physiologic neonatal jaundice (which can affec...</td>\n",
       "      <td>Kernicterus</td>\n",
       "      <td>C0022610</td>\n",
       "    </tr>\n",
       "    <tr>\n",
       "      <th>2</th>\n",
       "      <td>2</td>\n",
       "      <td>0</td>\n",
       "      <td>However, in some babies, bilirubin levels may ...</td>\n",
       "      <td>Kernicterus</td>\n",
       "      <td>C0022610</td>\n",
       "    </tr>\n",
       "    <tr>\n",
       "      <th>3</th>\n",
       "      <td>3</td>\n",
       "      <td>0</td>\n",
       "      <td>Risk factors for severe jaundice and higher bi...</td>\n",
       "      <td>Kernicterus</td>\n",
       "      <td>C0022610</td>\n",
       "    </tr>\n",
       "    <tr>\n",
       "      <th>4</th>\n",
       "      <td>4</td>\n",
       "      <td>0</td>\n",
       "      <td>After a few days of jaundice, toxic levels of ...</td>\n",
       "      <td>Kernicterus</td>\n",
       "      <td>C0022610</td>\n",
       "    </tr>\n",
       "  </tbody>\n",
       "</table>\n",
       "</div>"
      ],
      "text/plain": [
       "   pid  apid                                            passage        title  \\\n",
       "0    0     0  Kernicterusrefers to brain damage that may occ...  Kernicterus   \n",
       "1    1     0  Physiologic neonatal jaundice (which can affec...  Kernicterus   \n",
       "2    2     0  However, in some babies, bilirubin levels may ...  Kernicterus   \n",
       "3    3     0  Risk factors for severe jaundice and higher bi...  Kernicterus   \n",
       "4    4     0  After a few days of jaundice, toxic levels of ...  Kernicterus   \n",
       "\n",
       "        cui  \n",
       "0  C0022610  \n",
       "1  C0022610  \n",
       "2  C0022610  \n",
       "3  C0022610  \n",
       "4  C0022610  "
      ]
     },
     "execution_count": 167,
     "metadata": {},
     "output_type": "execute_result"
    }
   ],
   "source": [
    "df_fz_split = pd.read_csv(\"/scratch/s190619/Data_etc/FindZebra/FZ_corpus_split_w_info.tsv\",sep='\\t').drop(\"Unnamed: 0\",axis=1)\n",
    "df_fz_split.columns = ['pid', 'apid', 'passage', 'title', 'cui']\n",
    "df_fz_split.head()"
   ]
  },
  {
   "cell_type": "markdown",
   "id": "lesser-discovery",
   "metadata": {},
   "source": [
    "### How to join the passages with the ranking"
   ]
  },
  {
   "cell_type": "code",
   "execution_count": 161,
   "id": "ethical-teens",
   "metadata": {},
   "outputs": [
    {
     "data": {
      "text/html": [
       "<div>\n",
       "<style scoped>\n",
       "    .dataframe tbody tr th:only-of-type {\n",
       "        vertical-align: middle;\n",
       "    }\n",
       "\n",
       "    .dataframe tbody tr th {\n",
       "        vertical-align: top;\n",
       "    }\n",
       "\n",
       "    .dataframe thead th {\n",
       "        text-align: right;\n",
       "    }\n",
       "</style>\n",
       "<table border=\"1\" class=\"dataframe\">\n",
       "  <thead>\n",
       "    <tr style=\"text-align: right;\">\n",
       "      <th></th>\n",
       "      <th>qid</th>\n",
       "      <th>pid</th>\n",
       "      <th>ranking_score</th>\n",
       "    </tr>\n",
       "  </thead>\n",
       "  <tbody>\n",
       "    <tr>\n",
       "      <th>0</th>\n",
       "      <td>0</td>\n",
       "      <td>816822</td>\n",
       "      <td>1</td>\n",
       "    </tr>\n",
       "    <tr>\n",
       "      <th>1</th>\n",
       "      <td>0</td>\n",
       "      <td>116321</td>\n",
       "      <td>2</td>\n",
       "    </tr>\n",
       "    <tr>\n",
       "      <th>2</th>\n",
       "      <td>0</td>\n",
       "      <td>726790</td>\n",
       "      <td>3</td>\n",
       "    </tr>\n",
       "    <tr>\n",
       "      <th>3</th>\n",
       "      <td>0</td>\n",
       "      <td>207526</td>\n",
       "      <td>4</td>\n",
       "    </tr>\n",
       "    <tr>\n",
       "      <th>4</th>\n",
       "      <td>0</td>\n",
       "      <td>382520</td>\n",
       "      <td>5</td>\n",
       "    </tr>\n",
       "  </tbody>\n",
       "</table>\n",
       "</div>"
      ],
      "text/plain": [
       "   qid     pid  ranking_score\n",
       "0    0  816822              1\n",
       "1    0  116321              2\n",
       "2    0  726790              3\n",
       "3    0  207526              4\n",
       "4    0  382520              5"
      ]
     },
     "execution_count": 161,
     "metadata": {},
     "output_type": "execute_result"
    }
   ],
   "source": [
    "dfd = pd.read_csv(rankings, sep=\"\\t\",header=None, names=[\"qid\", \"pid\", \"ranking_score\"])\n",
    "dfd.head()"
   ]
  },
  {
   "cell_type": "code",
   "execution_count": 164,
   "id": "activated-symphony",
   "metadata": {},
   "outputs": [],
   "source": [
    "dfd2 = dfd.join(df_fz_split.set_index(\"pid\"), on=\"pid\")#.join(df_fz[[\"pid\",\"cui\"]].set_index(\"pid\"),on=\"apid\")"
   ]
  },
  {
   "cell_type": "code",
   "execution_count": 165,
   "id": "rental-string",
   "metadata": {},
   "outputs": [
    {
     "data": {
      "text/html": [
       "<div>\n",
       "<style scoped>\n",
       "    .dataframe tbody tr th:only-of-type {\n",
       "        vertical-align: middle;\n",
       "    }\n",
       "\n",
       "    .dataframe tbody tr th {\n",
       "        vertical-align: top;\n",
       "    }\n",
       "\n",
       "    .dataframe thead th {\n",
       "        text-align: right;\n",
       "    }\n",
       "</style>\n",
       "<table border=\"1\" class=\"dataframe\">\n",
       "  <thead>\n",
       "    <tr style=\"text-align: right;\">\n",
       "      <th></th>\n",
       "      <th>qid</th>\n",
       "      <th>pid</th>\n",
       "      <th>ranking_score</th>\n",
       "      <th>apid</th>\n",
       "      <th>passages</th>\n",
       "      <th>title</th>\n",
       "      <th>cui</th>\n",
       "    </tr>\n",
       "  </thead>\n",
       "  <tbody>\n",
       "    <tr>\n",
       "      <th>0</th>\n",
       "      <td>0</td>\n",
       "      <td>816822</td>\n",
       "      <td>1</td>\n",
       "      <td>29022</td>\n",
       "      <td>The girl was brought to hospital at age 6 days...</td>\n",
       "      <td>PSEUDOHYPOALDOSTERONISM, TYPE I, AUTOSOMAL REC...</td>\n",
       "      <td>C1449843</td>\n",
       "    </tr>\n",
       "    <tr>\n",
       "      <th>1</th>\n",
       "      <td>0</td>\n",
       "      <td>116321</td>\n",
       "      <td>2</td>\n",
       "      <td>3206</td>\n",
       "      <td>The 19-month-old girl was admitted with purpur...</td>\n",
       "      <td>COMPLEMENT FACTOR D DEFICIENCY</td>\n",
       "      <td>C0398764</td>\n",
       "    </tr>\n",
       "    <tr>\n",
       "      <th>2</th>\n",
       "      <td>0</td>\n",
       "      <td>726790</td>\n",
       "      <td>3</td>\n",
       "      <td>25265</td>\n",
       "      <td>This 14-year-old girl had severe refractory se...</td>\n",
       "      <td>GLYCOSYLPHOSPHATIDYLINOSITOL BIOSYNTHESIS DEFE...</td>\n",
       "      <td>C1853205</td>\n",
       "    </tr>\n",
       "    <tr>\n",
       "      <th>3</th>\n",
       "      <td>0</td>\n",
       "      <td>207526</td>\n",
       "      <td>4</td>\n",
       "      <td>5481</td>\n",
       "      <td>A girl had recurrent episodes of repeated vomi...</td>\n",
       "      <td>DIHYDROLIPOAMIDE DEHYDROGENASE DEFICIENCY</td>\n",
       "      <td>C0034345</td>\n",
       "    </tr>\n",
       "    <tr>\n",
       "      <th>4</th>\n",
       "      <td>0</td>\n",
       "      <td>382520</td>\n",
       "      <td>5</td>\n",
       "      <td>11956</td>\n",
       "      <td>(9)In 1983, a 4-year-old girl in the USA was a...</td>\n",
       "      <td>Coenurosis in humans</td>\n",
       "      <td>NaN</td>\n",
       "    </tr>\n",
       "  </tbody>\n",
       "</table>\n",
       "</div>"
      ],
      "text/plain": [
       "   qid     pid  ranking_score   apid  \\\n",
       "0    0  816822              1  29022   \n",
       "1    0  116321              2   3206   \n",
       "2    0  726790              3  25265   \n",
       "3    0  207526              4   5481   \n",
       "4    0  382520              5  11956   \n",
       "\n",
       "                                            passages  \\\n",
       "0  The girl was brought to hospital at age 6 days...   \n",
       "1  The 19-month-old girl was admitted with purpur...   \n",
       "2  This 14-year-old girl had severe refractory se...   \n",
       "3  A girl had recurrent episodes of repeated vomi...   \n",
       "4  (9)In 1983, a 4-year-old girl in the USA was a...   \n",
       "\n",
       "                                               title       cui  \n",
       "0  PSEUDOHYPOALDOSTERONISM, TYPE I, AUTOSOMAL REC...  C1449843  \n",
       "1                     COMPLEMENT FACTOR D DEFICIENCY  C0398764  \n",
       "2  GLYCOSYLPHOSPHATIDYLINOSITOL BIOSYNTHESIS DEFE...  C1853205  \n",
       "3          DIHYDROLIPOAMIDE DEHYDROGENASE DEFICIENCY  C0034345  \n",
       "4                               Coenurosis in humans       NaN  "
      ]
     },
     "execution_count": 165,
     "metadata": {},
     "output_type": "execute_result"
    }
   ],
   "source": [
    "dfd2.head()"
   ]
  },
  {
   "cell_type": "markdown",
   "id": "altered-choice",
   "metadata": {},
   "source": [
    "### 3"
   ]
  },
  {
   "cell_type": "code",
   "execution_count": 8,
   "id": "comparable-ordinary",
   "metadata": {
    "scrolled": true
   },
   "outputs": [
    {
     "data": {
      "text/plain": [
       "(611, 12)"
      ]
     },
     "execution_count": 8,
     "metadata": {},
     "output_type": "execute_result"
    }
   ],
   "source": [
    "dfj_MM = pd.read_csv(\"/scratch/s190619/Data_etc/MedQA/disorders_table_dev-test.csv\", converters={'cui_METAMAP': eval})\n",
    "dfj_MM.head(50)\n",
    "dfj_MM.shape"
   ]
  },
  {
   "cell_type": "code",
   "execution_count": 9,
   "id": "placed-crawford",
   "metadata": {},
   "outputs": [
    {
     "name": "stdout",
     "output_type": "stream",
     "text": [
      "Number of CUIs in FindZebra corpus: 14966\n",
      "Number of CUIs in MedQA queries (with METAMAP cuis): 670\n",
      "Number of CUIs found in both (intersection): 334\n",
      "Number of CUIs in MedQA not in FindZebra: 336\n"
     ]
    }
   ],
   "source": [
    "CUIs_found_in_MedQA = list(dfj_MM[\"CUI\"].dropna().unique())\n",
    "for MM_cui in dfj_MM[\"cui_METAMAP\"]:\n",
    "    for cui in MM_cui:\n",
    "        CUIs_found_in_MedQA.append(cui)\n",
    "CUIs_found_in_MedQA = set(CUIs_found_in_MedQA)\n",
    "\n",
    "CUIs_found_in_FindZebra = list(df_fz[\"cui\"].unique())\n",
    "\n",
    "cui_intersection = [x for x in CUIs_found_in_MedQA if x in CUIs_found_in_FindZebra]\n",
    "num_cui_MedQA = len(CUIs_found_in_MedQA)\n",
    "num_cui_FZ = len(CUIs_found_in_FindZebra)\n",
    "num_cui_inter = len(cui_intersection)\n",
    "num_cui_MedQA_not_FZ = num_cui_MedQA - num_cui_inter\n",
    "\n",
    "print(\"Number of CUIs in FindZebra corpus: %d\" %(num_cui_FZ))\n",
    "print(\"Number of CUIs in MedQA queries (with METAMAP cuis): %d\" %(num_cui_MedQA))\n",
    "print(\"Number of CUIs found in both (intersection): %d\" %(num_cui_inter))\n",
    "print(\"Number of CUIs in MedQA not in FindZebra: %d\" %(num_cui_MedQA_not_FZ))"
   ]
  },
  {
   "cell_type": "code",
   "execution_count": 85,
   "id": "brilliant-ballot",
   "metadata": {},
   "outputs": [],
   "source": []
  },
  {
   "cell_type": "code",
   "execution_count": 92,
   "id": "seasonal-method",
   "metadata": {},
   "outputs": [],
   "source": []
  },
  {
   "cell_type": "code",
   "execution_count": null,
   "id": "baking-ecuador",
   "metadata": {},
   "outputs": [],
   "source": []
  },
  {
   "cell_type": "markdown",
   "id": "adjustable-berkeley",
   "metadata": {},
   "source": [
    "# Functions"
   ]
  },
  {
   "cell_type": "code",
   "execution_count": 45,
   "id": "attractive-physics",
   "metadata": {},
   "outputs": [],
   "source": [
    "import math"
   ]
  },
  {
   "cell_type": "code",
   "execution_count": 153,
   "id": "olive-census",
   "metadata": {},
   "outputs": [],
   "source": [
    "def get_top_10_third(qid, rankings, queries, documents, offset = 0, topk = 10, get_passages = False):\n",
    "    '''\n",
    "    qid: the query id represented by an integer\n",
    "    rankings: the dataframe containing the rankings created by FAISS indexing\n",
    "    queries: the dataframe containing all the queries with query ids\n",
    "    documents: the dataframe containing the FindZebra corpus\n",
    "    topk: defines how many of the top results gets retrieved\n",
    "    '''\n",
    "    qid_disorders = list(queries[\"qid\"].unique())\n",
    "    \n",
    "    if qid in qid_disorders:\n",
    "        q = queries[queries[\"qid\"]==qid][\"query\"].iloc[0]\n",
    "        a = queries[queries[\"qid\"]==qid][\"answer\"].iloc[0]\n",
    "        a_cui = queries[queries[\"qid\"]==qid][\"CUI\"].iloc[0]\n",
    "        METAMAP_cuis = queries[queries[\"qid\"]==qid][\"cui_METAMAP\"].iloc[0]\n",
    "        #print(METAMAP_cuis)\n",
    "\n",
    "        df_tmp = rankings[rankings[\"qid\"]==qid].iloc[offset:offset+topk]\n",
    "        docs = []\n",
    "        doc_cuis = []\n",
    "        \n",
    "        df_tmp = df_tmp.join(documents.set_index(\"pid\"), on=\"pid\")\n",
    "        doc_cuis = list(df_tmp[\"cui\"].dropna())\n",
    "        \n",
    "        if get_passages == True:\n",
    "            for i in range(len(df_tmp)):\n",
    "                docs.append(documents[documents[\"pid\"]==df_tmp[\"pid\"].iloc[i]][\"passage\"].iloc[0])\n",
    "            #doc_cuis.append(documents[documents[\"pid\"]==df_tmp[\"pid\"].iloc[i]][\"cui\"].iloc[0])\n",
    "\n",
    "        return q, a, a_cui, METAMAP_cuis, docs, doc_cuis"
   ]
  },
  {
   "cell_type": "code",
   "execution_count": 168,
   "id": "solar-trance",
   "metadata": {},
   "outputs": [],
   "source": [
    "def evaluate_METAMAP(rankings_path='',FZ=False,FZ_reqs=None, CUIs_not_found_in_FZ=0, topk = 100):\n",
    "    if FZ:\n",
    "        try: FZ_reqs.iloc[0]\n",
    "        except: print(\"Please provide FZ requests\")\n",
    "    else:\n",
    "        assert rankings_path != ''\n",
    "        df_rankings = pd.read_csv(rankings_path, sep=\"\\t\",header=None, names=[\"qid\", \"pid\", \"ranking_score\"])\n",
    "    answers = []\n",
    "    occurences = []\n",
    "    ranks = []\n",
    "    k=0\n",
    "    for qid in tqdm(list(dfj_MM[\"qid\"].unique())):\n",
    "        try:\n",
    "            if not FZ:\n",
    "                q, a, a_cui, METAMAP_cuis, docs, doc_cuis = get_top_10_third(qid, df_rankings, dfj_MM_relevant, df_fz_split, offset = 0, topk = topk, get_passages = False)\n",
    "            else:\n",
    "                q, a, a_cui, METAMAP_cuis, doc_cuis = get_top_10_FZ(qid, FZ_reqs, dfj_MM_relevant, df_fz, offset = 0, topk = topk, get_passages = False)\n",
    "            answers.append(a)\n",
    "#             if a_cui in cui_intersection or any(x in cui_intersection for x in METAMAP_cuis):\n",
    "#             occurences.append(sum([1 for cui in doc_cuis if a_cui == cui or cui in METAMAP_cuis]))\n",
    "            occ = []\n",
    "            rank_j = []\n",
    "            for i in range(len(doc_cuis)):\n",
    "                cui = doc_cuis[i]\n",
    "                if cui == a_cui or cui in METAMAP_cuis:\n",
    "                    occ.append(1)\n",
    "                    rank_j.append(i)\n",
    "            occurences.append(sum(occ))\n",
    "            ranks.append(rank_j)\n",
    "#             else:\n",
    "#                 occurences.append(-1)\n",
    "        except:\n",
    "            k+=1\n",
    "            continue\n",
    "    \n",
    "    values, counts = np.unique(occurences, return_counts=True)\n",
    "    counts[0] = counts[0]-CUIs_not_found_in_FZ\n",
    "    print(values)\n",
    "    print(counts)\n",
    "    plt.bar(values[1:],counts[1:])\n",
    "    \n",
    "    return values, counts, ranks"
   ]
  },
  {
   "cell_type": "code",
   "execution_count": 53,
   "id": "taken-laser",
   "metadata": {},
   "outputs": [],
   "source": [
    "#Used to get FindZebra requests\n",
    "def get_requests(MM_df, api_key, response_format = 'json', num_docs = 10, num_requests = 10, cui_only = False):\n",
    "    \n",
    "    qids = []\n",
    "    num_errors = 0\n",
    "    \n",
    "    if num_requests == -1:\n",
    "        num_requests = MM_df.shape[0]\n",
    "        \n",
    "    if type(num_docs) != str:\n",
    "        num_docs = str(num_docs)\n",
    "        \n",
    "    ploads = {'api_key':api_key,\n",
    "              'response_format':response_format,\n",
    "              'rows':num_docs}\n",
    "    reqs = []\n",
    "    print(\"Collecting FindZebra requests...\")\n",
    "    for i in tqdm(range(num_requests)):\n",
    "#        try:\n",
    "        query = MM_df['query'].iloc[i]\n",
    "        ploads['q'] = query\n",
    "        r = requests.get('https://www.findzebra.com/api/v1/query',params=ploads)\n",
    "        if r.json()['responseHeader']['status'] == 400:\n",
    "            num_errors += 1\n",
    "            continue\n",
    "            \n",
    "        if cui_only == True:\n",
    "            reqs_tmp = []\n",
    "            for j in range(len(r.json()['response']['docs'])):\n",
    "                try:\n",
    "                    reqs_tmp.append(r.json()['response']['docs'][j]['cui'])\n",
    "                except:\n",
    "                    reqs_tmp.append('')\n",
    "            reqs.append(reqs_tmp)\n",
    "            qids.append(MM_df['qid'].iloc[i])\n",
    "            #reqs.append([r.json()['response']['docs'][i] for i in range(len(r.json()['response']['docs']))])\n",
    "        else:\n",
    "            reqs.append(r)\n",
    "#        except:\n",
    "#            print(\"[%s] does not exist.\\n\\n\" %query)\n",
    "    return qids, reqs\n",
    "\n",
    "\n",
    "def get_top_10_FZ(qid, rankings, queries, documents, offset = 0, topk = 10, get_passages = False):\n",
    "    '''\n",
    "    qid: the query id represented by an integer\n",
    "    rankings: the dataframe containing the rankings created by FAISS indexing\n",
    "    queries: the dataframe containing all the queries with query ids\n",
    "    documents: the dataframe containing the FindZebra corpus\n",
    "    topk: defines how many of the top results gets retrieved\n",
    "    '''\n",
    "    qid_disorders = list(queries[\"qid\"].unique())\n",
    "    if qid in qid_disorders:\n",
    "        q = queries[queries[\"qid\"]==qid][\"query\"].iloc[0]\n",
    "        a = queries[queries[\"qid\"]==qid][\"answer\"].iloc[0]\n",
    "        a_cui = queries[queries[\"qid\"]==qid][\"CUI\"].iloc[0]\n",
    "        METAMAP_cuis = queries[queries[\"qid\"]==qid][\"cui_METAMAP\"].iloc[0]\n",
    "        doc_cuis = rankings[rankings[\"qid\"]==qid][\"cuis\"].iloc[0][:topk]\n",
    "        return q, a, a_cui, METAMAP_cuis, doc_cuis"
   ]
  },
  {
   "cell_type": "code",
   "execution_count": 13,
   "id": "laden-blackjack",
   "metadata": {},
   "outputs": [],
   "source": [
    "def MRR(rankings, topk=100000):\n",
    "    MRR = 0\n",
    "    for ranks in rankings:\n",
    "        if ranks != []:\n",
    "            if ranks[0] < topk:\n",
    "                MRR += 1/(ranks[0]+1) # Because Python counts from 0\n",
    "    MRR = MRR*1/len(rankings)\n",
    "    return MRR"
   ]
  },
  {
   "cell_type": "code",
   "execution_count": 14,
   "id": "linear-earth",
   "metadata": {},
   "outputs": [],
   "source": [
    "def MCRR(rankings, topk):\n",
    "    MCRR = 0\n",
    "    for ranks in rankings:\n",
    "        if ranks != []:\n",
    "            for rank in ranks:\n",
    "                if rank < topk:\n",
    "                    MCRR += 1/(rank+1) # Because Python counts from 0\n",
    "    MCRR = MCRR*1/len(rankings)\n",
    "    return MCRR"
   ]
  },
  {
   "cell_type": "markdown",
   "id": "intended-championship",
   "metadata": {},
   "source": [
    "# Evaluate FindZebra"
   ]
  },
  {
   "cell_type": "code",
   "execution_count": 23,
   "id": "initial-album",
   "metadata": {},
   "outputs": [],
   "source": [
    "# Create a new dataset which have relevant CUIs only\n",
    "tmp_list = []\n",
    "for i in range(dfj_MM.shape[0]):\n",
    "    #tmp_list.append([x if x == dfj_MM[\"CUI\"].iloc[i] or x in dfj_MM[\"cui_METAMAP\"].iloc[i] else np.nan for x in CUIs_found_in_MedQA])\n",
    "    tmp_list.append([x for x in cui_intersection if x == dfj_MM[\"CUI\"].iloc[i] or x in dfj_MM[\"cui_METAMAP\"].iloc[i]])\n",
    "#dfj_MM[\"all_cui\"] = "
   ]
  },
  {
   "cell_type": "code",
   "execution_count": 24,
   "id": "varied-japanese",
   "metadata": {},
   "outputs": [],
   "source": [
    "dfj_MM[\"relevant_cuis\"] = tmp_list"
   ]
  },
  {
   "cell_type": "code",
   "execution_count": 25,
   "id": "confidential-diary",
   "metadata": {},
   "outputs": [],
   "source": [
    "dfj_MM_relevant = dfj_MM[dfj_MM[\"relevant_cuis\"].map(len) != 0]"
   ]
  },
  {
   "cell_type": "code",
   "execution_count": 26,
   "id": "placed-impact",
   "metadata": {},
   "outputs": [
    {
     "data": {
      "text/plain": [
       "(394, 13)"
      ]
     },
     "execution_count": 26,
     "metadata": {},
     "output_type": "execute_result"
    }
   ],
   "source": [
    "dfj_MM_relevant.drop_duplicates(subset=['query']).shape"
   ]
  },
  {
   "cell_type": "code",
   "execution_count": 25,
   "id": "loving-plaintiff",
   "metadata": {},
   "outputs": [
    {
     "name": "stdout",
     "output_type": "stream",
     "text": [
      "Collecting FindZebra requests...\n"
     ]
    },
    {
     "data": {
      "application/vnd.jupyter.widget-view+json": {
       "model_id": "a5913d5ade424bdbaa31f6eb6337c43e",
       "version_major": 2,
       "version_minor": 0
      },
      "text/plain": [
       "  0%|          | 0/394 [00:00<?, ?it/s]"
      ]
     },
     "metadata": {},
     "output_type": "display_data"
    },
    {
     "name": "stdout",
     "output_type": "stream",
     "text": [
      "CPU times: user 15min 14s, sys: 17.5 s, total: 15min 32s\n",
      "Wall time: 27min 18s\n"
     ]
    }
   ],
   "source": [
    "%%time\n",
    "FZ_qids, FZ_cuis = get_requests(dfj_MM_relevant,\n",
    "                       '1050b7b5-3988-4ceb-b844-de87977e731d',\n",
    "                       num_docs = 100,\n",
    "                       num_requests = -1,\n",
    "                       cui_only = True)\n",
    "FZ_reqs = pd.DataFrame(list(zip(FZ_qids, FZ_cuis)),columns = ['qid','cuis'])"
   ]
  },
  {
   "cell_type": "code",
   "execution_count": 26,
   "id": "angry-hammer",
   "metadata": {
    "scrolled": false
   },
   "outputs": [
    {
     "data": {
      "application/vnd.jupyter.widget-view+json": {
       "model_id": "9f9ea93653354b9a94fb5dc92e4ad71f",
       "version_major": 2,
       "version_minor": 0
      },
      "text/plain": [
       "  0%|          | 0/611 [00:00<?, ?it/s]"
      ]
     },
     "metadata": {},
     "output_type": "display_data"
    },
    {
     "name": "stdout",
     "output_type": "stream",
     "text": [
      "[0 1 2 3 4 5]\n",
      "[205  94  13   1   1   1]\n"
     ]
    },
    {
     "data": {
      "image/png": "[encoded data removed]",
      "text/plain": [
       "<Figure size 432x288 with 1 Axes>"
      ]
     },
     "metadata": {
      "needs_background": "light"
     },
     "output_type": "display_data"
    }
   ],
   "source": [
    "val_fz, count_fz, ranks_fz = evaluate_METAMAP(rankings_path='',FZ=True,FZ_reqs=FZ_reqs,topk=100)"
   ]
  },
  {
   "cell_type": "code",
   "execution_count": 27,
   "id": "narrow-controversy",
   "metadata": {},
   "outputs": [
    {
     "name": "stdout",
     "output_type": "stream",
     "text": [
      "[ 0  1  2  3  4  5  6  7  8  9 10 11 13 14 15 16 17 19 20 21 23 24 26 27\n",
      " 30 31 33 34 36 37 38 43 44 45 46 48 50 53 55 60 61 62 63 66 70 71 73 74\n",
      " 76 82 83 84 86 88 89 90 91 96]\n",
      "[16  9  9  9  8  4  4  1  1  4  3  1  1  1  2  2  2  2  1  3  2  1  2  3\n",
      "  1  1  2  3  1  2  1  1  1  1  1  1  1  1  1  1  1  3  1  1  1  1  1  1\n",
      "  1  1  1  1  1  1  1  1  2  1]\n"
     ]
    },
    {
     "data": {
      "text/plain": [
       "<BarContainer object of 58 artists>"
      ]
     },
     "execution_count": 27,
     "metadata": {},
     "output_type": "execute_result"
    },
    {
     "data": {
      "image/png": "[encoded data removed]",
      "text/plain": [
       "<Figure size 432x288 with 1 Axes>"
      ]
     },
     "metadata": {
      "needs_background": "light"
     },
     "output_type": "display_data"
    }
   ],
   "source": [
    "rankings_fz = [x for y in ranks_fz for x in y if y != []]\n",
    "values, counts = np.unique(rankings_fz, return_counts=True)\n",
    "print(values)\n",
    "print(counts)\n",
    "plt.bar(values,counts)"
   ]
  },
  {
   "cell_type": "markdown",
   "id": "boring-storm",
   "metadata": {},
   "source": [
    "# Evaluate ColBERT"
   ]
  },
  {
   "cell_type": "code",
   "execution_count": 7,
   "id": "egyptian-millennium",
   "metadata": {},
   "outputs": [],
   "source": [
    "# df_rankings = pd.read_csv(\"ranking.tsv\", sep=\"\\t\",header=None, names=[\"qid\", \"pid\", \"ranking_score\"])\n",
    "# df_rankings_ft = pd.read_csv(\"ranking_finetuned_medQA.tsv\", sep=\"\\t\",header=None, names=[\"qid\", \"pid\", \"ranking_score\"])\n",
    "# df_rankings_bioBERT = pd.read_csv(\"ranking_bioBERT.tsv\", sep=\"\\t\",header=None, names=[\"qid\", \"pid\", \"ranking_score\"])\n",
    "# df_rankings_bioBERT_32k = pd.read_csv(\"ranking_bioBERT_32k.tsv\", sep=\"\\t\",header=None, names=[\"qid\", \"pid\", \"ranking_score\"])"
   ]
  },
  {
   "cell_type": "code",
   "execution_count": 12,
   "id": "romantic-ticket",
   "metadata": {},
   "outputs": [],
   "source": [
    "# rankings_path = \"/scratch/s190619/Data_etc/ColBERT/retrievals/dev-test/\""
   ]
  },
  {
   "cell_type": "code",
   "execution_count": 17,
   "id": "moved-vermont",
   "metadata": {},
   "outputs": [],
   "source": [
    "N = 100"
   ]
  },
  {
   "cell_type": "code",
   "execution_count": 170,
   "id": "prepared-birth",
   "metadata": {},
   "outputs": [
    {
     "data": {
      "application/vnd.jupyter.widget-view+json": {
       "model_id": "94b88a9f26494bf09c4321f875cfd420",
       "version_major": 2,
       "version_minor": 0
      },
      "text/plain": [
       "  0%|          | 0/611 [00:00<?, ?it/s]"
      ]
     },
     "metadata": {},
     "output_type": "display_data"
    },
    {
     "name": "stdout",
     "output_type": "stream",
     "text": [
      "[0 1 2]\n",
      "[376  16   2]\n"
     ]
    },
    {
     "data": {
      "image/png": "[encoded data removed]",
      "text/plain": [
       "<Figure size 432x288 with 1 Axes>"
      ]
     },
     "metadata": {
      "needs_background": "light"
     },
     "output_type": "display_data"
    }
   ],
   "source": [
    "rankings = \"/scratch/s190619/Data_etc/ColBERT/retrievals/FZ_Corpus_Model1_2.cosine.30x200k/\" + \"ranking.tsv\"\n",
    "val1, count1, ranks1 = evaluate_METAMAP(rankings, topk = N, FZ=False)"
   ]
  },
  {
   "cell_type": "code",
   "execution_count": 171,
   "id": "parental-content",
   "metadata": {},
   "outputs": [
    {
     "name": "stdout",
     "output_type": "stream",
     "text": [
      "[ 0  2  3  6 14 17 18 19 40 46 47 51 53 80 81 86 92 93]\n",
      "[1 1 2 1 1 1 1 2 1 1 1 1 1 1 1 1 1 1]\n"
     ]
    },
    {
     "data": {
      "text/plain": [
       "<BarContainer object of 18 artists>"
      ]
     },
     "execution_count": 171,
     "metadata": {},
     "output_type": "execute_result"
    },
    {
     "data": {
      "image/png": "[encoded data removed]",
      "text/plain": [
       "<Figure size 432x288 with 1 Axes>"
      ]
     },
     "metadata": {
      "needs_background": "light"
     },
     "output_type": "display_data"
    }
   ],
   "source": [
    "rankings1 = [x for y in ranks1 for x in y if y != []]\n",
    "values, counts = np.unique(rankings1, return_counts=True)\n",
    "print(values)\n",
    "print(counts)\n",
    "plt.bar(values,counts)"
   ]
  },
  {
   "cell_type": "code",
   "execution_count": 175,
   "id": "loved-retrieval",
   "metadata": {},
   "outputs": [
    {
     "data": {
      "application/vnd.jupyter.widget-view+json": {
       "model_id": "65454a12b1674193907fe44ccbdfe2eb",
       "version_major": 2,
       "version_minor": 0
      },
      "text/plain": [
       "  0%|          | 0/611 [00:00<?, ?it/s]"
      ]
     },
     "metadata": {},
     "output_type": "display_data"
    },
    {
     "name": "stdout",
     "output_type": "stream",
     "text": [
      "[0 1 2 3]\n",
      "[374  17   2   1]\n"
     ]
    },
    {
     "data": {
      "image/png": "[encoded data removed]",
      "text/plain": [
       "<Figure size 432x288 with 1 Axes>"
      ]
     },
     "metadata": {
      "needs_background": "light"
     },
     "output_type": "display_data"
    }
   ],
   "source": [
    "rankings = \"/scratch/s190619/Data_etc/ColBERT/retrievals/FZ_Corpus_Model4_2.cosine.30x200k/\" + \"ranking.tsv\"\n",
    "val4, count4, ranks4 = evaluate_METAMAP(rankings, topk = N, FZ=False)"
   ]
  },
  {
   "cell_type": "code",
   "execution_count": 176,
   "id": "reduced-variance",
   "metadata": {},
   "outputs": [
    {
     "name": "stdout",
     "output_type": "stream",
     "text": [
      "[ 1  8  9 10 11 16 17 21 22 24 26 27 32 35 37 46 47 57 60 65 72]\n",
      "[2 1 2 1 1 1 1 1 1 1 1 1 1 1 1 1 1 1 1 1 2]\n"
     ]
    },
    {
     "data": {
      "text/plain": [
       "<BarContainer object of 21 artists>"
      ]
     },
     "execution_count": 176,
     "metadata": {},
     "output_type": "execute_result"
    },
    {
     "data": {
      "image/png": "[encoded data removed]",
      "text/plain": [
       "<Figure size 432x288 with 1 Axes>"
      ]
     },
     "metadata": {
      "needs_background": "light"
     },
     "output_type": "display_data"
    }
   ],
   "source": [
    "rankings4 = [x for y in ranks4 for x in y if y != []]\n",
    "values, counts = np.unique(rankings4, return_counts=True)\n",
    "print(values)\n",
    "print(counts)\n",
    "plt.bar(values,counts)"
   ]
  },
  {
   "cell_type": "code",
   "execution_count": 173,
   "id": "caroline-partnership",
   "metadata": {},
   "outputs": [
    {
     "data": {
      "application/vnd.jupyter.widget-view+json": {
       "model_id": "ecb990c734bd4e509e21cb2cae83fcfc",
       "version_major": 2,
       "version_minor": 0
      },
      "text/plain": [
       "  0%|          | 0/611 [00:00<?, ?it/s]"
      ]
     },
     "metadata": {},
     "output_type": "display_data"
    },
    {
     "name": "stdout",
     "output_type": "stream",
     "text": [
      "[0 1 2]\n",
      "[351  36   7]\n"
     ]
    },
    {
     "data": {
      "image/png": "[encoded data removed]",
      "text/plain": [
       "<Figure size 432x288 with 1 Axes>"
      ]
     },
     "metadata": {
      "needs_background": "light"
     },
     "output_type": "display_data"
    }
   ],
   "source": [
    "rankings = \"/scratch/s190619/Data_etc/ColBERT/retrievals/FZ_Corpus_Model8.cosine.30x200k/\" + \"ranking.tsv\"\n",
    "val8, count8, ranks8 = evaluate_METAMAP(rankings, topk = N, FZ=False)"
   ]
  },
  {
   "cell_type": "code",
   "execution_count": 174,
   "id": "harmful-upset",
   "metadata": {},
   "outputs": [
    {
     "name": "stdout",
     "output_type": "stream",
     "text": [
      "[ 0  3  4  7  9 10 14 15 17 19 22 23 24 26 29 31 33 35 36 40 41 45 49 52\n",
      " 53 55 58 62 64 73 77 81 87 88 91 96]\n",
      "[1 1 1 2 2 1 1 1 2 3 1 1 1 1 2 2 1 1 4 1 2 1 2 1 1 1 1 1 2 1 1 1 1 2 1 1]\n"
     ]
    },
    {
     "data": {
      "text/plain": [
       "<BarContainer object of 36 artists>"
      ]
     },
     "execution_count": 174,
     "metadata": {},
     "output_type": "execute_result"
    },
    {
     "data": {
      "image/png": "[encoded data removed]",
      "text/plain": [
       "<Figure size 432x288 with 1 Axes>"
      ]
     },
     "metadata": {
      "needs_background": "light"
     },
     "output_type": "display_data"
    }
   ],
   "source": [
    "rankings8 = [x for y in ranks8 for x in y if y != []]\n",
    "values, counts = np.unique(rankings8, return_counts=True)\n",
    "print(values)\n",
    "print(counts)\n",
    "plt.bar(values,counts)"
   ]
  },
  {
   "cell_type": "code",
   "execution_count": 181,
   "id": "basic-fraud",
   "metadata": {},
   "outputs": [
    {
     "data": {
      "application/vnd.jupyter.widget-view+json": {
       "model_id": "ca768d83f15d4d2782ab85fbaa853db1",
       "version_major": 2,
       "version_minor": 0
      },
      "text/plain": [
       "  0%|          | 0/611 [00:00<?, ?it/s]"
      ]
     },
     "metadata": {},
     "output_type": "display_data"
    },
    {
     "name": "stdout",
     "output_type": "stream",
     "text": [
      "[0 1 2 3 4 5 6 7]\n",
      "[320  49  13   6   1   2   2   1]\n"
     ]
    },
    {
     "data": {
      "image/png": "[encoded data removed]",
      "text/plain": [
       "<Figure size 432x288 with 1 Axes>"
      ]
     },
     "metadata": {
      "needs_background": "light"
     },
     "output_type": "display_data"
    }
   ],
   "source": [
    "rankings = \"/scratch/s190619/Data_etc/ColBERT/retrievals/FZ_Corpus_Model9_1.cosine.12x200k/\" + \"ranking.tsv\"\n",
    "val9, count9, ranks9 = evaluate_METAMAP(rankings, topk = N, FZ=False)"
   ]
  },
  {
   "cell_type": "code",
   "execution_count": 182,
   "id": "smoking-memory",
   "metadata": {},
   "outputs": [
    {
     "name": "stdout",
     "output_type": "stream",
     "text": [
      "[ 0  1  2  3  4  5  6  7  8  9 11 12 13 14 15 17 18 19 21 22 24 25 26 27\n",
      " 29 30 32 33 34 35 36 38 39 40 42 43 44 45 46 47 48 50 51 52 53 54 55 58\n",
      " 59 60 61 64 65 66 69 70 72 74 77 78 79 80 81 82 84]\n",
      "[7 3 3 5 3 1 2 2 4 3 1 2 1 1 3 2 1 2 1 1 1 4 2 2 3 2 1 1 1 3 1 2 1 1 3 1 3\n",
      " 1 1 4 2 2 1 2 2 1 1 1 2 3 1 1 2 1 1 1 1 2 4 1 1 1 1 3 2]\n"
     ]
    },
    {
     "data": {
      "text/plain": [
       "<BarContainer object of 65 artists>"
      ]
     },
     "execution_count": 182,
     "metadata": {},
     "output_type": "execute_result"
    },
    {
     "data": {
      "image/png": "[encoded data removed]",
      "text/plain": [
       "<Figure size 432x288 with 1 Axes>"
      ]
     },
     "metadata": {
      "needs_background": "light"
     },
     "output_type": "display_data"
    }
   ],
   "source": [
    "rankings9 = [x for y in ranks9 for x in y if y != []]\n",
    "values, counts = np.unique(rankings9, return_counts=True)\n",
    "print(values)\n",
    "print(counts)\n",
    "plt.bar(values,counts)"
   ]
  },
  {
   "cell_type": "code",
   "execution_count": 179,
   "id": "declared-fence",
   "metadata": {},
   "outputs": [
    {
     "data": {
      "application/vnd.jupyter.widget-view+json": {
       "model_id": "948cee9b4efc4232b9f977b7ab8b12dc",
       "version_major": 2,
       "version_minor": 0
      },
      "text/plain": [
       "  0%|          | 0/611 [00:00<?, ?it/s]"
      ]
     },
     "metadata": {},
     "output_type": "display_data"
    },
    {
     "name": "stdout",
     "output_type": "stream",
     "text": [
      "[0 1 2 3 4 5 6 7]\n",
      "[316  53  15   2   3   2   1   2]\n"
     ]
    },
    {
     "data": {
      "image/png": "[encoded data removed]",
      "text/plain": [
       "<Figure size 432x288 with 1 Axes>"
      ]
     },
     "metadata": {
      "needs_background": "light"
     },
     "output_type": "display_data"
    }
   ],
   "source": [
    "rankings = \"/scratch/s190619/Data_etc/ColBERT/retrievals/FZ_Corpus_Model10_1.cosine.12x200k/\" + \"ranking.tsv\"\n",
    "val10, count10, ranks10 = evaluate_METAMAP(rankings, topk = N, FZ=False)"
   ]
  },
  {
   "cell_type": "code",
   "execution_count": 180,
   "id": "electronic-browse",
   "metadata": {},
   "outputs": [
    {
     "name": "stdout",
     "output_type": "stream",
     "text": [
      "[ 0  1  2  3  4  5  6  7  8  9 10 11 13 14 15 18 19 20 21 23 24 25 26 28\n",
      " 29 30 36 38 39 40 42 43 45 46 47 49 50 52 53 54 55 59 60 62 64 65 67 68\n",
      " 70 71 73 74 75 78 79 80 81 82 83 84 85 87]\n",
      "[5 5 2 3 4 6 5 1 3 2 3 3 1 5 2 4 1 2 4 2 1 1 1 1 2 1 2 1 2 1 1 1 2 2 2 3 2\n",
      " 1 1 1 2 2 2 2 1 1 3 1 2 3 1 1 2 3 1 1 3 1 4 1 1 1]\n"
     ]
    },
    {
     "data": {
      "text/plain": [
       "<BarContainer object of 62 artists>"
      ]
     },
     "execution_count": 180,
     "metadata": {},
     "output_type": "execute_result"
    },
    {
     "data": {
      "image/png": "[encoded data removed]",
      "text/plain": [
       "<Figure size 432x288 with 1 Axes>"
      ]
     },
     "metadata": {
      "needs_background": "light"
     },
     "output_type": "display_data"
    }
   ],
   "source": [
    "rankings10 = [x for y in ranks10 for x in y if y != []]\n",
    "values, counts = np.unique(rankings10, return_counts=True)\n",
    "print(values)\n",
    "print(counts)\n",
    "plt.bar(values,counts)"
   ]
  },
  {
   "cell_type": "code",
   "execution_count": null,
   "id": "alike-universal",
   "metadata": {},
   "outputs": [],
   "source": []
  },
  {
   "cell_type": "code",
   "execution_count": null,
   "id": "liked-guyana",
   "metadata": {},
   "outputs": [],
   "source": []
  },
  {
   "cell_type": "code",
   "execution_count": 52,
   "id": "noticed-idaho",
   "metadata": {},
   "outputs": [],
   "source": [
    "SMALL_SIZE = 16\n",
    "MEDIUM_SIZE = 18\n",
    "BIGGER_SIZE = 20\n",
    "\n",
    "plt.rc('font', size=SMALL_SIZE)          # controls default text sizes\n",
    "plt.rc('axes', titlesize=SMALL_SIZE)     # fontsize of the axes title\n",
    "plt.rc('axes', labelsize=MEDIUM_SIZE)    # fontsize of the x and y labels\n",
    "plt.rc('xtick', labelsize=SMALL_SIZE)    # fontsize of the tick labels\n",
    "plt.rc('ytick', labelsize=SMALL_SIZE)    # fontsize of the tick labels\n",
    "plt.rc('legend', fontsize=SMALL_SIZE)    # legend fontsize\n",
    "plt.rc('figure', titlesize=BIGGER_SIZE)  # fontsize of the figure title"
   ]
  },
  {
   "cell_type": "code",
   "execution_count": 183,
   "id": "voluntary-relaxation",
   "metadata": {},
   "outputs": [
    {
     "data": {
      "image/png": "[encoded data removed]",
      "text/plain": [
       "<Figure size 864x576 with 1 Axes>"
      ]
     },
     "metadata": {
      "needs_background": "light"
     },
     "output_type": "display_data"
    }
   ],
   "source": [
    "\n",
    "my_dict = {#'FindZebra': rankings_fz,\n",
    "           'Model_1': rankings1, \n",
    "          'Model_4': rankings4,\n",
    "          'Model_8': rankings8,\n",
    "          'Model_10': rankings10}\n",
    "\n",
    "fig, ax = plt.subplots(figsize=(12, 8))\n",
    "ax.boxplot(my_dict.values())\n",
    "ax.set_xticklabels(my_dict.keys())\n",
    "ax.set_title(\"Rank distributions of correctly retrieved documents\")\n",
    "ax.set_yticks([0,10,20,40,60,80,100])\n",
    "\n",
    "fig.savefig(\"Figures/Retrieval_boxplot.jpg\")\n",
    "fig.show()"
   ]
  },
  {
   "cell_type": "code",
   "execution_count": 184,
   "id": "consistent-guitar",
   "metadata": {},
   "outputs": [
    {
     "name": "stdout",
     "output_type": "stream",
     "text": [
      "MRR score:\n",
      "Model 1:  0.00491\n",
      "Model 4:  0.00333\n",
      "Model 8:  0.00482\n",
      "Model 10:  0.02775\n"
     ]
    }
   ],
   "source": [
    "topk = 10\n",
    "print(\"MRR score:\")\n",
    "#print(\"FindZebra: \", round(MRR(ranks_fz,topk),5))\n",
    "print(\"Model 1: \", round(MRR(ranks1,topk),5))\n",
    "print(\"Model 4: \", round(MRR(ranks4,topk),5))\n",
    "print(\"Model 8: \", round(MRR(ranks8,topk),5))\n",
    "print(\"Model 10: \", round(MRR(ranks10,topk),5))\n",
    "# print(\"Model 1: \", MRR(ranks1))\n",
    "# print(\"Model 2: \", MRR(ranks2))\n",
    "# print(\"Model 2_1: \", MRR(ranks2_1))\n",
    "# print(\"Model 3: \", MRR(ranks3))"
   ]
  },
  {
   "cell_type": "code",
   "execution_count": 185,
   "id": "fabulous-nurse",
   "metadata": {},
   "outputs": [
    {
     "name": "stdout",
     "output_type": "stream",
     "text": [
      "MCRR score:\n",
      "Model 1:  0.00491\n",
      "Model 4:  0.00333\n",
      "Model 8:  0.00482\n",
      "Model 10:  0.03068\n"
     ]
    }
   ],
   "source": [
    "print(\"MCRR score:\")\n",
    "#print(\"FindZebra: \", round(MCRR(ranks_fz,topk),5))\n",
    "print(\"Model 1: \", round(MCRR(ranks1,topk),5))\n",
    "print(\"Model 4: \", round(MCRR(ranks4,topk),5))\n",
    "print(\"Model 8: \", round(MCRR(ranks8,topk),5))\n",
    "print(\"Model 10: \", round(MCRR(ranks10,topk),5))"
   ]
  },
  {
   "cell_type": "code",
   "execution_count": null,
   "id": "hourly-brush",
   "metadata": {},
   "outputs": [],
   "source": []
  },
  {
   "cell_type": "code",
   "execution_count": null,
   "id": "freelance-dividend",
   "metadata": {},
   "outputs": [],
   "source": []
  },
  {
   "cell_type": "code",
   "execution_count": null,
   "id": "mighty-flash",
   "metadata": {},
   "outputs": [],
   "source": []
  },
  {
   "cell_type": "code",
   "execution_count": null,
   "id": "valued-feature",
   "metadata": {},
   "outputs": [],
   "source": []
  },
  {
   "cell_type": "code",
   "execution_count": null,
   "id": "fifteen-veteran",
   "metadata": {},
   "outputs": [],
   "source": []
  },
  {
   "cell_type": "code",
   "execution_count": null,
   "id": "certified-primary",
   "metadata": {},
   "outputs": [],
   "source": []
  },
  {
   "cell_type": "code",
   "execution_count": null,
   "id": "helpful-mouth",
   "metadata": {},
   "outputs": [],
   "source": []
  },
  {
   "cell_type": "code",
   "execution_count": null,
   "id": "banned-mystery",
   "metadata": {},
   "outputs": [],
   "source": []
  },
  {
   "cell_type": "markdown",
   "id": "adjusted-forward",
   "metadata": {},
   "source": [
    "# Look at retrievals manually"
   ]
  },
  {
   "cell_type": "code",
   "execution_count": 202,
   "id": "engaging-albania",
   "metadata": {},
   "outputs": [
    {
     "name": "stdout",
     "output_type": "stream",
     "text": [
      "C0042961 ['C0042961']\n"
     ]
    },
    {
     "data": {
      "text/html": [
       "<div>\n",
       "<style scoped>\n",
       "    .dataframe tbody tr th:only-of-type {\n",
       "        vertical-align: middle;\n",
       "    }\n",
       "\n",
       "    .dataframe tbody tr th {\n",
       "        vertical-align: top;\n",
       "    }\n",
       "\n",
       "    .dataframe thead th {\n",
       "        text-align: right;\n",
       "    }\n",
       "</style>\n",
       "<table border=\"1\" class=\"dataframe\">\n",
       "  <thead>\n",
       "    <tr style=\"text-align: right;\">\n",
       "      <th></th>\n",
       "      <th>qid</th>\n",
       "      <th>pid</th>\n",
       "      <th>ranking_score</th>\n",
       "      <th>title</th>\n",
       "      <th>passage</th>\n",
       "      <th>cui</th>\n",
       "      <th>source</th>\n",
       "      <th>source_url</th>\n",
       "      <th>classification_map</th>\n",
       "    </tr>\n",
       "  </thead>\n",
       "  <tbody>\n",
       "    <tr>\n",
       "      <th>8000</th>\n",
       "      <td>8</td>\n",
       "      <td>1727</td>\n",
       "      <td>1</td>\n",
       "      <td>Retroperitoneal fibrosis</td>\n",
       "      <td>Retroperitoneal fibrosis is a disorder in whic...</td>\n",
       "      <td>C0494949</td>\n",
       "      <td>medlineplus</td>\n",
       "      <td>https://medlineplus.gov/genetics/condition/ret...</td>\n",
       "      <td>{\"gard\": [\"9568\"], \"mesh\": [\"C537375\"], \"omim\"...</td>\n",
       "    </tr>\n",
       "    <tr>\n",
       "      <th>8001</th>\n",
       "      <td>8</td>\n",
       "      <td>12844</td>\n",
       "      <td>2</td>\n",
       "      <td>Toxic megacolon</td>\n",
       "      <td>Toxic megacolon is an acute form of colonic di...</td>\n",
       "      <td>C0025162</td>\n",
       "      <td>wikipedia</td>\n",
       "      <td>https://en.wikipedia.org/wiki/Toxic_megacolon</td>\n",
       "      <td>{\"mesh\": [\"D008532\"], \"umls\": [\"C0025162\"], \"i...</td>\n",
       "    </tr>\n",
       "    <tr>\n",
       "      <th>8002</th>\n",
       "      <td>8</td>\n",
       "      <td>11713</td>\n",
       "      <td>3</td>\n",
       "      <td>Valentino's syndrome</td>\n",
       "      <td>In medicine, Valentino's syndrome is pain pres...</td>\n",
       "      <td>NaN</td>\n",
       "      <td>wikipedia</td>\n",
       "      <td>https://en.wikipedia.org/wiki/Valentino%27s_sy...</td>\n",
       "      <td>{\"wikidata\": [\"Q7911051\"]}</td>\n",
       "    </tr>\n",
       "    <tr>\n",
       "      <th>8003</th>\n",
       "      <td>8</td>\n",
       "      <td>7497</td>\n",
       "      <td>4</td>\n",
       "      <td>Abdominal aortic aneurysm</td>\n",
       "      <td>Abdominal aortic aneurysm (AAA or triple A) is...</td>\n",
       "      <td>C0162871</td>\n",
       "      <td>wikipedia</td>\n",
       "      <td>https://en.wikipedia.org/wiki/Abdominal_aortic...</td>\n",
       "      <td>{\"gard\": [\"9181\"], \"mesh\": [\"D017544\"], \"umls\"...</td>\n",
       "    </tr>\n",
       "    <tr>\n",
       "      <th>8004</th>\n",
       "      <td>8</td>\n",
       "      <td>5148</td>\n",
       "      <td>5</td>\n",
       "      <td>TIGLIC ACIDEMIA</td>\n",
       "      <td>This is another defect in the degradation of i...</td>\n",
       "      <td>C1848793</td>\n",
       "      <td>omim</td>\n",
       "      <td>https://www.omim.org/entry/275190</td>\n",
       "      <td>{\"mesh\": [\"C536921\"], \"omim\": [\"275190\"]}</td>\n",
       "    </tr>\n",
       "    <tr>\n",
       "      <th>8005</th>\n",
       "      <td>8</td>\n",
       "      <td>11220</td>\n",
       "      <td>6</td>\n",
       "      <td>Indigestion</td>\n",
       "      <td>Upset stomachIndigestion, also known as dyspep...</td>\n",
       "      <td>C0013395</td>\n",
       "      <td>wikipedia</td>\n",
       "      <td>https://en.wikipedia.org/wiki/Indigestion</td>\n",
       "      <td>{\"mesh\": [\"D004415\"], \"umls\": [\"C0013395\"], \"i...</td>\n",
       "    </tr>\n",
       "    <tr>\n",
       "      <th>8006</th>\n",
       "      <td>8</td>\n",
       "      <td>1338</td>\n",
       "      <td>7</td>\n",
       "      <td>SUPERIOR TRANSVERSE SCAPULAR LIGAMENT, CALCIFI...</td>\n",
       "      <td>Cohen et al. (1997) described a 58-year-old ma...</td>\n",
       "      <td>C1866424</td>\n",
       "      <td>omim</td>\n",
       "      <td>https://www.omim.org/entry/601708</td>\n",
       "      <td>{\"mesh\": [\"C566638\"], \"omim\": [\"601708\"]}</td>\n",
       "    </tr>\n",
       "    <tr>\n",
       "      <th>8007</th>\n",
       "      <td>8</td>\n",
       "      <td>11849</td>\n",
       "      <td>8</td>\n",
       "      <td>Budd–Chiari syndrome</td>\n",
       "      <td>Budd–Chiari syndrome is a very rare condition,...</td>\n",
       "      <td>C0019154</td>\n",
       "      <td>wikipedia</td>\n",
       "      <td>https://en.wikipedia.org/wiki/Budd%E2%80%93Chi...</td>\n",
       "      <td>{\"gard\": [\"5968\"], \"mesh\": [\"D006502\"], \"umls\"...</td>\n",
       "    </tr>\n",
       "    <tr>\n",
       "      <th>8008</th>\n",
       "      <td>8</td>\n",
       "      <td>27370</td>\n",
       "      <td>9</td>\n",
       "      <td>Abdominal aortic aneurysm</td>\n",
       "      <td>Abdominal aortic aneurysms (AAAs) are aneurysm...</td>\n",
       "      <td>C0162871</td>\n",
       "      <td>gard</td>\n",
       "      <td>https://rarediseases.info.nih.gov/diseases/918...</td>\n",
       "      <td>{\"mesh\": [\"D017544\"], \"omim\": [\"100070\"], \"uml...</td>\n",
       "    </tr>\n",
       "    <tr>\n",
       "      <th>8009</th>\n",
       "      <td>8</td>\n",
       "      <td>5497</td>\n",
       "      <td>10</td>\n",
       "      <td>ERYTHROCYTE LACTATE TRANSPORTER DEFECT</td>\n",
       "      <td>A number sign (#) is used with this entry beca...</td>\n",
       "      <td>C1855577</td>\n",
       "      <td>omim</td>\n",
       "      <td>https://www.omim.org/entry/245340</td>\n",
       "      <td>{\"mesh\": [\"C565449\"], \"omim\": [\"245340\"], \"orp...</td>\n",
       "    </tr>\n",
       "  </tbody>\n",
       "</table>\n",
       "</div>"
      ],
      "text/plain": [
       "      qid    pid  ranking_score  \\\n",
       "8000    8   1727              1   \n",
       "8001    8  12844              2   \n",
       "8002    8  11713              3   \n",
       "8003    8   7497              4   \n",
       "8004    8   5148              5   \n",
       "8005    8  11220              6   \n",
       "8006    8   1338              7   \n",
       "8007    8  11849              8   \n",
       "8008    8  27370              9   \n",
       "8009    8   5497             10   \n",
       "\n",
       "                                                  title  \\\n",
       "8000                           Retroperitoneal fibrosis   \n",
       "8001                                    Toxic megacolon   \n",
       "8002                               Valentino's syndrome   \n",
       "8003                          Abdominal aortic aneurysm   \n",
       "8004                                    TIGLIC ACIDEMIA   \n",
       "8005                                        Indigestion   \n",
       "8006  SUPERIOR TRANSVERSE SCAPULAR LIGAMENT, CALCIFI...   \n",
       "8007                               Budd–Chiari syndrome   \n",
       "8008                          Abdominal aortic aneurysm   \n",
       "8009             ERYTHROCYTE LACTATE TRANSPORTER DEFECT   \n",
       "\n",
       "                                                passage       cui  \\\n",
       "8000  Retroperitoneal fibrosis is a disorder in whic...  C0494949   \n",
       "8001  Toxic megacolon is an acute form of colonic di...  C0025162   \n",
       "8002  In medicine, Valentino's syndrome is pain pres...       NaN   \n",
       "8003  Abdominal aortic aneurysm (AAA or triple A) is...  C0162871   \n",
       "8004  This is another defect in the degradation of i...  C1848793   \n",
       "8005  Upset stomachIndigestion, also known as dyspep...  C0013395   \n",
       "8006  Cohen et al. (1997) described a 58-year-old ma...  C1866424   \n",
       "8007  Budd–Chiari syndrome is a very rare condition,...  C0019154   \n",
       "8008  Abdominal aortic aneurysms (AAAs) are aneurysm...  C0162871   \n",
       "8009  A number sign (#) is used with this entry beca...  C1855577   \n",
       "\n",
       "           source                                         source_url  \\\n",
       "8000  medlineplus  https://medlineplus.gov/genetics/condition/ret...   \n",
       "8001    wikipedia      https://en.wikipedia.org/wiki/Toxic_megacolon   \n",
       "8002    wikipedia  https://en.wikipedia.org/wiki/Valentino%27s_sy...   \n",
       "8003    wikipedia  https://en.wikipedia.org/wiki/Abdominal_aortic...   \n",
       "8004         omim                  https://www.omim.org/entry/275190   \n",
       "8005    wikipedia          https://en.wikipedia.org/wiki/Indigestion   \n",
       "8006         omim                  https://www.omim.org/entry/601708   \n",
       "8007    wikipedia  https://en.wikipedia.org/wiki/Budd%E2%80%93Chi...   \n",
       "8008         gard  https://rarediseases.info.nih.gov/diseases/918...   \n",
       "8009         omim                  https://www.omim.org/entry/245340   \n",
       "\n",
       "                                     classification_map  \n",
       "8000  {\"gard\": [\"9568\"], \"mesh\": [\"C537375\"], \"omim\"...  \n",
       "8001  {\"mesh\": [\"D008532\"], \"umls\": [\"C0025162\"], \"i...  \n",
       "8002                         {\"wikidata\": [\"Q7911051\"]}  \n",
       "8003  {\"gard\": [\"9181\"], \"mesh\": [\"D017544\"], \"umls\"...  \n",
       "8004          {\"mesh\": [\"C536921\"], \"omim\": [\"275190\"]}  \n",
       "8005  {\"mesh\": [\"D004415\"], \"umls\": [\"C0013395\"], \"i...  \n",
       "8006          {\"mesh\": [\"C566638\"], \"omim\": [\"601708\"]}  \n",
       "8007  {\"gard\": [\"5968\"], \"mesh\": [\"D006502\"], \"umls\"...  \n",
       "8008  {\"mesh\": [\"D017544\"], \"omim\": [\"100070\"], \"uml...  \n",
       "8009  {\"mesh\": [\"C565449\"], \"omim\": [\"245340\"], \"orp...  "
      ]
     },
     "execution_count": 202,
     "metadata": {},
     "output_type": "execute_result"
    }
   ],
   "source": [
    "qid = 8\n",
    "topk = 10\n",
    "a_cui = dfj_MM_relevant[dfj_MM_relevant[\"qid\"]==qid][\"CUI\"].iloc[0]\n",
    "MM_cui = dfj_MM_relevant[dfj_MM_relevant[\"qid\"]==qid][\"cui_METAMAP\"].iloc[0]\n",
    "print(a_cui,MM_cui)\n",
    "model = rankings_path + \"Ranking_Model3.tsv\"\n",
    "df_rankings = pd.read_csv(model, sep=\"\\t\",header=None, names=[\"qid\", \"pid\", \"ranking_score\"])\n",
    "df_tmp = df_rankings[df_rankings[\"qid\"]==qid].iloc[0:topk]\n",
    "df_tmp = df_tmp.join(df_fz.set_index(\"pid\"), on=\"pid\")\n",
    "df_tmp.head(topk)"
   ]
  },
  {
   "cell_type": "code",
   "execution_count": 203,
   "id": "improved-suicide",
   "metadata": {},
   "outputs": [
    {
     "name": "stdout",
     "output_type": "stream",
     "text": [
      "ِA 62-year-old man comes to the emergency department because of colicky pain in the lower abdomen and abdominal distension for the past 12 hours. He has chronic constipation for which he takes lactulose and senna laxatives. His temperature is 37.1°C (98.7°F), blood pressure is 110/60 mm Hg and pulse is 85/min. On physical examination, there is diffuse abdominal distension and tenderness, and bowel sounds are faint. His plain abdominal radiograph is shown. Which of the following is the most likely diagnosis?\n",
      "Volvulus\n",
      "\n",
      "Toxic megacolon is an acute form of colonic distension. It is characterized by a very dilated colon (megacolon), accompanied by abdominal distension (bloating), and sometimes fever, abdominal pain, or shock.Toxic megacolon is usually a complication of inflammatory bowel disease, such as ulcerative colitis and, more rarely, Crohn's disease, and of some infections of the colon, including Clostridium difficile infections, which have led to pseudomembranous colitis. Other forms of megacolon exist and can be congenital (present since birth, such as Hirschsprung's disease). It can also be caused by Entamoeba histolytica and Shigella. It may also be caused by the use of loperamide.Signs and symptomsAbdominal painAbdominal bloatingAbdominal tendernessFeverTachycardia (rapid heart rate)DehydrationThere may be signs of septic shock. A physical examination reveals abdominal tenderness and possible loss of bowel sounds. An abdominal radiography shows colonic dilation. White blood cell count is usually elevated. Severe sepsis may present with hypothermia or leukopenia.PathophysiologyToxic megacolon in a patient with ulcerative colitis: The patient subsequently underwent a colectomy.A pathological specimen showing toxic megacolonThe pathological process involves inflammation and damage to the colonic wall with unknown toxins breaking down the protective mucosal barrier and exposing the muscularis propria. There is relative destruction of the ganglion cells and swelling of the nerve fibers in the myenteric plexus, with concomitant damage to the colonic musculature. This resultsin almost complete paralysis of the diseased segment of the colon with loss of smooth muscle substance, tone and motility. This can lead to further complications as pressure builds up in the colon due to relative fecal stasis including sepsis, intestinal hemorrhage or free perforation and spontaneous decompression.TreatmentThe objective of treatment is to decompress the bowel and to prevent swallowed air from further distending the bowel. If decompression is not achieved or the patient does not improve within 24 hours, a colectomy (surgical removal of all or part of the colon) is indicated. When surgery is required the recommended procedure is a subtotal colectomy with end ileostomy. Fluid and electrolyte replacement help to prevent dehydration and shock. Use of corticosteroids may be indicated to suppress the inflammatory reaction in the colon if megacolon has resulted from active inflammatory bowel disease. Antibiotics may be given to prevent sepsis.PrognosisIf the condition does not improve, the risk of death is significant. In case of poor response to conservative therapy, a colectomy is usually required.ComplicationsPerforation of the colonSepsisShockEmergency action may be required if severe abdominal pain develops, particularly if it is accompanied by fever, rapid heart rate, tenderness when the abdomen is pressed, bloody diarrhea, frequent diarrhea, or painful bowel movements.Colonoscopy is contraindicated, as it may rupture the dilated colon resulting in peritonitis and septic shock.\n"
     ]
    }
   ],
   "source": [
    "q = dfj_MM_relevant[dfj_MM_relevant[\"qid\"]==qid][\"query\"].iloc[0]\n",
    "print(q)\n",
    "print(dfj_MM_relevant[dfj_MM_relevant[\"qid\"]==qid][\"answer\"].iloc[0])\n",
    "print('')\n",
    "print(df_tmp.reset_index().loc[1,\"passage\"])"
   ]
  },
  {
   "cell_type": "code",
   "execution_count": 176,
   "id": "every-apple",
   "metadata": {},
   "outputs": [],
   "source": [
    "index = -1\n",
    "for j in range(len(FZ_cuis)):\n",
    "    if FZ_cuis [index].json()['responseHeader']['params']['q'] == q:\n",
    "        index = j\n",
    "        break\n",
    "\n",
    "if index != -1:\n",
    "    print(FZ_cuis[index].json()['responseHeader'])\n",
    "    for i in range(topk):\n",
    "        print(FZ_cuis[index].json()['response']['docs'][i]['cui'])\n",
    "        print(FZ_cuis[index].json()['response']['docs'][i]['title'])\n",
    "        print('')"
   ]
  },
  {
   "cell_type": "code",
   "execution_count": 201,
   "id": "israeli-seating",
   "metadata": {},
   "outputs": [
    {
     "name": "stdout",
     "output_type": "stream",
     "text": [
      "{'status': 0, 'QTime': 13, 'params': {'q': 'ِA 62-year-old man comes to the emergency department because of colicky pain in the lower abdomen and abdominal distension for the past 12 hours. He has chronic constipation for which he takes lactulose and senna laxatives. His temperature is 37.1°C (98.7°F), blood pressure is 110/60 mm Hg and pulse is 85/min. On physical examination, there is diffuse abdominal distension and tenderness, and bowel sounds are faint. His plain abdominal radiograph is shown. Which of the following is the most likely diagnosis?', 'fl': ['title', 'display_content', 'genes', 'retrieved_date', 'source_url', 'source', 'cui', 'score'], 'start': '0', 'sort': 'score desc', 'rows': '100', 'wt': 'json'}}\n",
      "Constipation\n",
      "\n",
      "Acute abdomen\n",
      "\n",
      "Constipation in children\n",
      "\n",
      "Encopresis\n",
      "\n",
      "Toxic megacolon\n",
      "\n",
      "Bowel obstruction\n",
      "\n",
      "Appendicitis\n",
      "\n",
      "Abdominal aortic aneurysm\n",
      "\n",
      "Ischemic colitis\n",
      "\n",
      "Umbilical hernia\n",
      "\n"
     ]
    }
   ],
   "source": [
    "index = 3\n",
    "print(FZ_cuis[index].json()['responseHeader'])\n",
    "for i in range(topk):\n",
    "    #print(FZ_cuis[index].json()['response']['docs'][i]['cui'])\n",
    "    print(FZ_cuis[index].json()['response']['docs'][i]['title'])\n",
    "    print('')"
   ]
  },
  {
   "cell_type": "code",
   "execution_count": null,
   "id": "racial-wesley",
   "metadata": {},
   "outputs": [],
   "source": []
  }
 ],
 "metadata": {
  "kernelspec": {
   "display_name": "Python 3",
   "language": "python",
   "name": "python3"
  },
  "language_info": {
   "codemirror_mode": {
    "name": "ipython",
    "version": 3
   },
   "file_extension": ".py",
   "mimetype": "text/x-python",
   "name": "python",
   "nbconvert_exporter": "python",
   "pygments_lexer": "ipython3",
   "version": "3.7.9"
  }
 },
 "nbformat": 4,
 "nbformat_minor": 5
}
