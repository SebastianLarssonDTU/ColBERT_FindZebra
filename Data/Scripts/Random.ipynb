{
 "cells": [
  {
   "cell_type": "code",
   "execution_count": 1,
   "id": "solved-stuff",
   "metadata": {},
   "outputs": [],
   "source": [
    "gold = [\"Hello\"]"
   ]
  },
  {
   "cell_type": "code",
   "execution_count": 2,
   "id": "judicial-guarantee",
   "metadata": {},
   "outputs": [
    {
     "data": {
      "text/plain": [
       "list"
      ]
     },
     "execution_count": 2,
     "metadata": {},
     "output_type": "execute_result"
    }
   ],
   "source": [
    "type(gold)"
   ]
  },
  {
   "cell_type": "code",
   "execution_count": 5,
   "id": "secure-wyoming",
   "metadata": {},
   "outputs": [
    {
     "name": "stdout",
     "output_type": "stream",
     "text": [
      "tensor([[ 0.3172,  1.3184,  0.7532,  1.3983, -0.0528],\n",
      "        [ 0.6171, -0.1718, -0.7258, -0.4337, -1.8280],\n",
      "        [-0.1450, -0.0343, -1.0849, -1.9390, -0.9128],\n",
      "        [-0.6625,  1.1694,  0.8957, -1.7908,  0.8997],\n",
      "        [-0.3444, -0.8088,  1.7349,  0.3875,  1.4911]])\n",
      "tensor([3, 0, 1, 1, 2])\n"
     ]
    }
   ],
   "source": [
    "import torch\n",
    "A = torch.randn(5,5)\n",
    "print(A)\n",
    "indexes = torch.argmax(A,dim=1)\n",
    "print(indexes)"
   ]
  },
  {
   "cell_type": "code",
   "execution_count": 7,
   "id": "chronic-batch",
   "metadata": {},
   "outputs": [
    {
     "data": {
      "text/plain": [
       "tensor([[-0.6625,  1.1694,  0.8957, -1.7908,  0.8997],\n",
       "        [ 0.3172,  1.3184,  0.7532,  1.3983, -0.0528],\n",
       "        [ 0.6171, -0.1718, -0.7258, -0.4337, -1.8280],\n",
       "        [ 0.6171, -0.1718, -0.7258, -0.4337, -1.8280],\n",
       "        [-0.1450, -0.0343, -1.0849, -1.9390, -0.9128]])"
      ]
     },
     "execution_count": 7,
     "metadata": {},
     "output_type": "execute_result"
    }
   ],
   "source": [
    "A[indexes]"
   ]
  },
  {
   "cell_type": "code",
   "execution_count": 9,
   "id": "intelligent-laundry",
   "metadata": {},
   "outputs": [
    {
     "data": {
      "text/plain": [
       "tensor([-0.9988, -0.5318, -1.3841,  1.6433, -0.2941])"
      ]
     },
     "execution_count": 9,
     "metadata": {},
     "output_type": "execute_result"
    }
   ],
   "source": [
    "B = torch.randn(5)\n",
    "B"
   ]
  },
  {
   "cell_type": "code",
   "execution_count": 12,
   "id": "given-gregory",
   "metadata": {},
   "outputs": [
    {
     "data": {
      "text/plain": [
       "tensor([1.3184, 1.3184])"
      ]
     },
     "execution_count": 12,
     "metadata": {},
     "output_type": "execute_result"
    }
   ],
   "source": [
    "A[[0,0],[1,1]]"
   ]
  },
  {
   "cell_type": "code",
   "execution_count": 13,
   "id": "portable-encounter",
   "metadata": {},
   "outputs": [
    {
     "data": {
      "text/plain": [
       "array([-0.9987995 , -0.53177553, -1.3840991 ,  1.6433138 , -0.29411176],\n",
       "      dtype=float32)"
      ]
     },
     "execution_count": 13,
     "metadata": {},
     "output_type": "execute_result"
    }
   ],
   "source": [
    "B.numpy()"
   ]
  },
  {
   "cell_type": "code",
   "execution_count": 6,
   "id": "apparent-value",
   "metadata": {},
   "outputs": [],
   "source": [
    "import numpy as np"
   ]
  },
  {
   "cell_type": "code",
   "execution_count": 15,
   "id": "narrow-zimbabwe",
   "metadata": {},
   "outputs": [],
   "source": [
    "targets =[0,2,4]\n",
    "A = [[0,1,2,3,4],\n",
    "     [1,5,2,4,3],\n",
    "     [4,5,1,2,3]]\n",
    "\n",
    "agg_scores_sub = [1 if A[i][0] == targets[i] else 0 for i in range(len(A))]"
   ]
  },
  {
   "cell_type": "code",
   "execution_count": 16,
   "id": "fewer-maine",
   "metadata": {},
   "outputs": [
    {
     "data": {
      "text/plain": [
       "[1, 0, 1]"
      ]
     },
     "execution_count": 16,
     "metadata": {},
     "output_type": "execute_result"
    }
   ],
   "source": [
    "agg_scores_sub"
   ]
  },
  {
   "cell_type": "code",
   "execution_count": 20,
   "id": "anonymous-ladder",
   "metadata": {},
   "outputs": [
    {
     "data": {
      "text/plain": [
       "array([[-0.46174113, -0.43215481, -0.5271436 , -0.19536413, -0.59523973],\n",
       "       [-0.835877  , -0.57362481, -0.77541399, -0.59251377, -0.63999592],\n",
       "       [-0.60123602, -0.51882045, -0.67241142, -0.57793889, -0.4413286 ],\n",
       "       ...,\n",
       "       [-0.65115807, -0.27039428, -0.46680561, -0.58290139, -0.39362022],\n",
       "       [-0.31676811, -0.52288601, -0.76192637, -0.98930498, -0.82150723],\n",
       "       [-0.30511314, -0.83488515, -0.52080337, -0.76221204, -0.04844705]])"
      ]
     },
     "execution_count": 20,
     "metadata": {},
     "output_type": "execute_result"
    }
   ],
   "source": [
    "scores = np.random.rand(20000,5)*(-1)\n",
    "scores"
   ]
  },
  {
   "cell_type": "code",
   "execution_count": 31,
   "id": "painful-contest",
   "metadata": {},
   "outputs": [],
   "source": [
    "c = 1\n",
    "stored_scores = []\n",
    "agg_stored_scores_sub_sub = []\n",
    "agg_stored_scores_sub = []\n",
    "agg_stored_scores = []\n",
    "print_when = [1,3,5,10,50,100,500,1000]\n",
    "for k in range(10000):\n",
    "    stored_scores.append(scores[k])\n",
    "    if c in print_when:\n",
    "        for i in range(5):\n",
    "            agg_stored_scores_sub_sub.append(sum([s[i] for s in stored_scores])/c)\n",
    "        agg_stored_scores_sub.append(agg_stored_scores_sub_sub)\n",
    "        agg_stored_scores_sub_sub = []\n",
    "    if c == 1000:\n",
    "        agg_stored_scores.append(agg_stored_scores_sub)\n",
    "        agg_stored_scores_sub = []\n",
    "        stored_scores = []\n",
    "        c = 0\n",
    "    c+=1"
   ]
  },
  {
   "cell_type": "code",
   "execution_count": 32,
   "id": "animated-building",
   "metadata": {},
   "outputs": [
    {
     "data": {
      "text/plain": [
       "[[[-0.46174112943271306,\n",
       "   -0.43215480929024985,\n",
       "   -0.527143598963762,\n",
       "   -0.1953641285023363,\n",
       "   -0.595239733629185],\n",
       "  [-0.6329513841218192,\n",
       "   -0.5082000242683512,\n",
       "   -0.6583230021090074,\n",
       "   -0.455272263997123,\n",
       "   -0.5588547519879549],\n",
       "  [-0.7016634298102342,\n",
       "   -0.5263627701480562,\n",
       "   -0.6118632521292663,\n",
       "   -0.5237274484414731,\n",
       "   -0.4318708275136296],\n",
       "  [-0.5105952065436096,\n",
       "   -0.4575490603950585,\n",
       "   -0.5756881714045889,\n",
       "   -0.5407273531351942,\n",
       "   -0.5402626889302712],\n",
       "  [-0.5167221277899295,\n",
       "   -0.4767276771191352,\n",
       "   -0.4763424916741513,\n",
       "   -0.4748973656440845,\n",
       "   -0.5142026527927819],\n",
       "  [-0.4910319816241519,\n",
       "   -0.5089573401053885,\n",
       "   -0.5033725470265856,\n",
       "   -0.5109090874578406,\n",
       "   -0.5449431076107212],\n",
       "  [-0.505012430396002,\n",
       "   -0.5017051128844012,\n",
       "   -0.5067660748360795,\n",
       "   -0.5113571179613811,\n",
       "   -0.5018823984646407],\n",
       "  [-0.48852206832575934,\n",
       "   -0.5012187218383872,\n",
       "   -0.498215200293936,\n",
       "   -0.4900928707658567,\n",
       "   -0.497779250512689]],\n",
       " [[-0.47087869565703455,\n",
       "   -0.29623363713365847,\n",
       "   -0.0793961861621778,\n",
       "   -0.48421620178710956,\n",
       "   -0.5135608331399298],\n",
       "  [-0.5039561042119717,\n",
       "   -0.32564416782771044,\n",
       "   -0.36744675435278973,\n",
       "   -0.27772391319777606,\n",
       "   -0.627019137485226],\n",
       "  [-0.36166030417682676,\n",
       "   -0.49004724753820084,\n",
       "   -0.3871500750804194,\n",
       "   -0.3301301748421205,\n",
       "   -0.4472028973369399],\n",
       "  [-0.5185583364003326,\n",
       "   -0.5019368537249249,\n",
       "   -0.4352853948571265,\n",
       "   -0.39391259017741803,\n",
       "   -0.5005007516332973],\n",
       "  [-0.5135007403067217,\n",
       "   -0.5377531757882452,\n",
       "   -0.47225443663550004,\n",
       "   -0.5177738829160622,\n",
       "   -0.5248987649044111],\n",
       "  [-0.5426172094467933,\n",
       "   -0.5543449322730583,\n",
       "   -0.4707823562545268,\n",
       "   -0.5237976797128063,\n",
       "   -0.4974660063424464],\n",
       "  [-0.525824434782064,\n",
       "   -0.4979806292555534,\n",
       "   -0.48409583199767237,\n",
       "   -0.5289348575598456,\n",
       "   -0.5080997775396097],\n",
       "  [-0.5184792472985247,\n",
       "   -0.49167080003611924,\n",
       "   -0.4891335611164473,\n",
       "   -0.5031979486658985,\n",
       "   -0.5115220117002934]],\n",
       " [[-0.45907386075501866,\n",
       "   -0.352106782921461,\n",
       "   -0.5769341266956761,\n",
       "   -0.47947016293749223,\n",
       "   -0.851167839767323],\n",
       "  [-0.4203635347893114,\n",
       "   -0.5368531758801973,\n",
       "   -0.5590747376604684,\n",
       "   -0.7764306717416001,\n",
       "   -0.59708292971542],\n",
       "  [-0.4573346219879724,\n",
       "   -0.5652150290804433,\n",
       "   -0.6503565287276187,\n",
       "   -0.6139469600637281,\n",
       "   -0.6768828037262968],\n",
       "  [-0.45860117978606285,\n",
       "   -0.476166774979412,\n",
       "   -0.5073140293826591,\n",
       "   -0.5526334471509976,\n",
       "   -0.5387727702689611],\n",
       "  [-0.550376351415552,\n",
       "   -0.5124528075496921,\n",
       "   -0.47206677666017816,\n",
       "   -0.44966827187832037,\n",
       "   -0.45047476018694405],\n",
       "  [-0.512572310020189,\n",
       "   -0.5020533786507514,\n",
       "   -0.45047740421034055,\n",
       "   -0.48226402383282996,\n",
       "   -0.47026723535208625],\n",
       "  [-0.4981746253823407,\n",
       "   -0.4992561696913937,\n",
       "   -0.5114588625881,\n",
       "   -0.49707426804849686,\n",
       "   -0.507440384879856],\n",
       "  [-0.4950512784460539,\n",
       "   -0.5094300605467732,\n",
       "   -0.5065450465868679,\n",
       "   -0.4916876244275319,\n",
       "   -0.4969786257027252]],\n",
       " [[-0.2645769882038238,\n",
       "   -0.8209321912805286,\n",
       "   -0.7922225992825077,\n",
       "   -0.49035263605772694,\n",
       "   -0.0740493079230361],\n",
       "  [-0.5313301803490027,\n",
       "   -0.503361034972501,\n",
       "   -0.5302313772629227,\n",
       "   -0.357395172669263,\n",
       "   -0.5719586137692482],\n",
       "  [-0.4580599482330541,\n",
       "   -0.38320991209529637,\n",
       "   -0.5833289532093636,\n",
       "   -0.5551861492170372,\n",
       "   -0.3890757428115661],\n",
       "  [-0.4662712962182914,\n",
       "   -0.5782732929671338,\n",
       "   -0.44819732772430704,\n",
       "   -0.5431697494960656,\n",
       "   -0.591877596861034],\n",
       "  [-0.43052572266865163,\n",
       "   -0.47271768406857606,\n",
       "   -0.5311457896763536,\n",
       "   -0.5286026362463297,\n",
       "   -0.48974590038901034],\n",
       "  [-0.46664473692316527,\n",
       "   -0.48902132704880485,\n",
       "   -0.514837716314563,\n",
       "   -0.5064442984059165,\n",
       "   -0.47227611293230126],\n",
       "  [-0.48752722378630153,\n",
       "   -0.48872741282892695,\n",
       "   -0.4988630959694732,\n",
       "   -0.5246970102882351,\n",
       "   -0.5016292118997905],\n",
       "  [-0.4924027475774365,\n",
       "   -0.5057985270807505,\n",
       "   -0.5026464535755975,\n",
       "   -0.5005386448874708,\n",
       "   -0.49746698450676685]],\n",
       " [[-0.8540956169658297,\n",
       "   -0.9980098235907776,\n",
       "   -0.4356067490266594,\n",
       "   -0.2790909782299983,\n",
       "   -0.036321486196028485],\n",
       "  [-0.49603352530967876,\n",
       "   -0.6174865787754313,\n",
       "   -0.5822477597544232,\n",
       "   -0.4118384869585543,\n",
       "   -0.16878515356331067],\n",
       "  [-0.540962746252972,\n",
       "   -0.5627189656881831,\n",
       "   -0.6669186782905039,\n",
       "   -0.3476017587253316,\n",
       "   -0.15679147352364323],\n",
       "  [-0.5040437134068756,\n",
       "   -0.5820026327698671,\n",
       "   -0.5323056735679846,\n",
       "   -0.42789043329347143,\n",
       "   -0.32474546878121446],\n",
       "  [-0.5173349747570987,\n",
       "   -0.5306570205923867,\n",
       "   -0.4930997920880463,\n",
       "   -0.48297564357886585,\n",
       "   -0.4790497112592974],\n",
       "  [-0.5071475004603535,\n",
       "   -0.5242828811616344,\n",
       "   -0.47499418390237336,\n",
       "   -0.4584095707828794,\n",
       "   -0.5100933092955185],\n",
       "  [-0.5084482399928332,\n",
       "   -0.4966160745664686,\n",
       "   -0.492188990665563,\n",
       "   -0.47823043349377947,\n",
       "   -0.5057224231941966],\n",
       "  [-0.4891366865317992,\n",
       "   -0.49788290182891715,\n",
       "   -0.49727685347373424,\n",
       "   -0.48360722556502383,\n",
       "   -0.49606257075677823]],\n",
       " [[-0.07116273792183847,\n",
       "   -0.15107680762131703,\n",
       "   -0.28973551915958196,\n",
       "   -0.09547616853910756,\n",
       "   -0.8503757061898308],\n",
       "  [-0.359212378329298,\n",
       "   -0.5859460518214242,\n",
       "   -0.1413069642459891,\n",
       "   -0.37170038881977785,\n",
       "   -0.843222419967677],\n",
       "  [-0.48042734163169065,\n",
       "   -0.5239886457814312,\n",
       "   -0.2999542253466533,\n",
       "   -0.5002683635639569,\n",
       "   -0.6772016766724414],\n",
       "  [-0.4033413158908582,\n",
       "   -0.4436710690587393,\n",
       "   -0.43181915139159066,\n",
       "   -0.6015591109177484,\n",
       "   -0.5105274178166661],\n",
       "  [-0.4159892351395378,\n",
       "   -0.4698603432635165,\n",
       "   -0.5197806003782242,\n",
       "   -0.5137833243349543,\n",
       "   -0.4719421598111884],\n",
       "  [-0.4981846916510356,\n",
       "   -0.49176975480044777,\n",
       "   -0.5209823803448288,\n",
       "   -0.5043095110453361,\n",
       "   -0.48385454101777137],\n",
       "  [-0.5065609558910765,\n",
       "   -0.5016533037912205,\n",
       "   -0.5065740740213488,\n",
       "   -0.4939509684646378,\n",
       "   -0.48495147102830655],\n",
       "  [-0.5054080104428484,\n",
       "   -0.5029540642953304,\n",
       "   -0.509846475896195,\n",
       "   -0.4853183561347421,\n",
       "   -0.49339560767900703]],\n",
       " [[-0.9542065559725841,\n",
       "   -0.4452575368216627,\n",
       "   -0.9410388452776761,\n",
       "   -0.2513980202423629,\n",
       "   -0.08052685976419716],\n",
       "  [-0.6925971074173277,\n",
       "   -0.40919249141642555,\n",
       "   -0.5753643706126246,\n",
       "   -0.242710698271165,\n",
       "   -0.256419728542003],\n",
       "  [-0.6252527295954186,\n",
       "   -0.36239653316030573,\n",
       "   -0.4943233761855387,\n",
       "   -0.2624359008942145,\n",
       "   -0.304832229390252],\n",
       "  [-0.5901023305616679,\n",
       "   -0.40875880346273075,\n",
       "   -0.48522699959192384,\n",
       "   -0.47430377314517125,\n",
       "   -0.42700381224271255],\n",
       "  [-0.5506419112493076,\n",
       "   -0.43532454747773786,\n",
       "   -0.5259226344815674,\n",
       "   -0.5066136424738116,\n",
       "   -0.47584690963074416],\n",
       "  [-0.4921081361914419,\n",
       "   -0.45189588138112413,\n",
       "   -0.5298964282159414,\n",
       "   -0.5316650503043379,\n",
       "   -0.4788313110130161],\n",
       "  [-0.4892517275934049,\n",
       "   -0.5050682459947208,\n",
       "   -0.5055803308090865,\n",
       "   -0.5010189642257363,\n",
       "   -0.4912115496402214],\n",
       "  [-0.5052210987673075,\n",
       "   -0.5066829472735271,\n",
       "   -0.5030499184106109,\n",
       "   -0.49735282210765136,\n",
       "   -0.48269217401574277]],\n",
       " [[-0.6563743872192636,\n",
       "   -0.4374068149684145,\n",
       "   -0.9832713377695903,\n",
       "   -0.035586764547821836,\n",
       "   -0.8980239064021953],\n",
       "  [-0.5561916984598732,\n",
       "   -0.24575293551922991,\n",
       "   -0.4104086664702457,\n",
       "   -0.25280791886874227,\n",
       "   -0.619444619328234],\n",
       "  [-0.6610077555609075,\n",
       "   -0.2457235532622984,\n",
       "   -0.35635756744456293,\n",
       "   -0.2622134671402264,\n",
       "   -0.5221062409205899],\n",
       "  [-0.5996238838693986,\n",
       "   -0.435007237493893,\n",
       "   -0.3161522724273129,\n",
       "   -0.2764934226262235,\n",
       "   -0.43815278019878645],\n",
       "  [-0.46488907470083235,\n",
       "   -0.49837806637924387,\n",
       "   -0.47998555684201416,\n",
       "   -0.5263636620158502,\n",
       "   -0.5074463911019665],\n",
       "  [-0.5273699011479788,\n",
       "   -0.4782568072342853,\n",
       "   -0.5050837572273261,\n",
       "   -0.5137822476308882,\n",
       "   -0.49852181999600664],\n",
       "  [-0.5057413084147442,\n",
       "   -0.5078907906924449,\n",
       "   -0.5097166219073234,\n",
       "   -0.5011930885245023,\n",
       "   -0.4894802882192798],\n",
       "  [-0.502598120465403,\n",
       "   -0.5066226387590584,\n",
       "   -0.518290513340828,\n",
       "   -0.5015830281597565,\n",
       "   -0.48059328753282454]],\n",
       " [[-0.7507559627909214,\n",
       "   -0.5503838896740456,\n",
       "   -0.10489339484853144,\n",
       "   -0.7653496475336214,\n",
       "   -0.28471305814159265],\n",
       "  [-0.5883028292289465,\n",
       "   -0.24233374273031325,\n",
       "   -0.10083293921089358,\n",
       "   -0.5800708652038766,\n",
       "   -0.46631426472624105],\n",
       "  [-0.39411242723688544,\n",
       "   -0.38789829736352494,\n",
       "   -0.20520988171273666,\n",
       "   -0.5909316993907807,\n",
       "   -0.40764480731228686],\n",
       "  [-0.4434712260967052,\n",
       "   -0.4742856238449935,\n",
       "   -0.32791871844855236,\n",
       "   -0.5326779866324504,\n",
       "   -0.5187867707398637],\n",
       "  [-0.5549815311032266,\n",
       "   -0.47710752467873474,\n",
       "   -0.4494067934898768,\n",
       "   -0.5214021705790168,\n",
       "   -0.5220906070772822],\n",
       "  [-0.5137772268969719,\n",
       "   -0.487643346080995,\n",
       "   -0.4550729499352375,\n",
       "   -0.5235108949139777,\n",
       "   -0.5281827356803385],\n",
       "  [-0.5100604382414222,\n",
       "   -0.4941162248637725,\n",
       "   -0.46749547348009973,\n",
       "   -0.48904150561762383,\n",
       "   -0.518198390800716],\n",
       "  [-0.5203977782306062,\n",
       "   -0.501917230014242,\n",
       "   -0.47819903867194774,\n",
       "   -0.49373522344677917,\n",
       "   -0.5084969032802539]],\n",
       " [[-0.49191330103708164,\n",
       "   -0.7998113009021215,\n",
       "   -0.6438250984611711,\n",
       "   -0.5366823014696346,\n",
       "   -0.07800407044463542],\n",
       "  [-0.3610377152173285,\n",
       "   -0.6049861126822487,\n",
       "   -0.3762022405857042,\n",
       "   -0.4373054367884382,\n",
       "   -0.5416455370310004],\n",
       "  [-0.4183650032114036,\n",
       "   -0.5862191517313307,\n",
       "   -0.3888315288777157,\n",
       "   -0.5623986459953596,\n",
       "   -0.637156537043581],\n",
       "  [-0.5048528985770898,\n",
       "   -0.5099124401800401,\n",
       "   -0.5119081901076925,\n",
       "   -0.6374173844371854,\n",
       "   -0.49065927555288386],\n",
       "  [-0.5150933010297449,\n",
       "   -0.5061295505960086,\n",
       "   -0.5341029730888565,\n",
       "   -0.5140148109368806,\n",
       "   -0.515488981347175],\n",
       "  [-0.5302261999787803,\n",
       "   -0.5214825847514682,\n",
       "   -0.52287927881628,\n",
       "   -0.48846683780599726,\n",
       "   -0.5387362818844971],\n",
       "  [-0.5149437359471771,\n",
       "   -0.5126698386957561,\n",
       "   -0.47987517938994667,\n",
       "   -0.5117665983626469,\n",
       "   -0.5046465617527878],\n",
       "  [-0.5139263542077142,\n",
       "   -0.5000552012122995,\n",
       "   -0.4931924779839364,\n",
       "   -0.506728722734634,\n",
       "   -0.5225655632959278]]]"
      ]
     },
     "execution_count": 32,
     "metadata": {},
     "output_type": "execute_result"
    }
   ],
   "source": [
    "agg_stored_scores"
   ]
  },
  {
   "cell_type": "code",
   "execution_count": 37,
   "id": "guilty-democrat",
   "metadata": {},
   "outputs": [
    {
     "name": "stdout",
     "output_type": "stream",
     "text": [
      "[3, 3, 4, 1, 3, 0, 1, 0]\n",
      "[2, 3, 3, 3, 2, 2, 2, 2]\n",
      "[1, 0, 0, 0, 3, 2, 3, 3]\n",
      "[4, 3, 1, 2, 0, 0, 0, 0]\n",
      "[4, 4, 4, 4, 4, 3, 3, 3]\n",
      "[0, 2, 2, 0, 0, 4, 4, 3]\n",
      "[4, 3, 3, 1, 1, 1, 0, 4]\n",
      "[3, 1, 1, 3, 0, 1, 4, 4]\n",
      "[2, 2, 2, 2, 2, 2, 2, 2]\n",
      "[4, 0, 2, 4, 1, 3, 2, 2]\n"
     ]
    }
   ],
   "source": [
    "for i in range(len(agg_stored_scores)):\n",
    "    print([np.array(agg_stored_scores[i][j]).argmax() for j in range(len(print_when))])"
   ]
  },
  {
   "cell_type": "code",
   "execution_count": 39,
   "id": "informational-marketplace",
   "metadata": {},
   "outputs": [],
   "source": [
    "from rank_bm25 import BM25Okapi"
   ]
  },
  {
   "cell_type": "code",
   "execution_count": 31,
   "id": "intended-yugoslavia",
   "metadata": {},
   "outputs": [],
   "source": [
    "from tqdm.notebook import tqdm"
   ]
  },
  {
   "cell_type": "code",
   "execution_count": 42,
   "id": "eleven-terminal",
   "metadata": {},
   "outputs": [],
   "source": [
    "import pandas as pd\n",
    "df = pd.read_csv(\"/scratch/s190619/Data_etc/ColBERT/training_sets/MedQA_textbooks_split_triples.tsv\", sep=\"\\t\",header=None,encoding=\"utf-8\")"
   ]
  },
  {
   "cell_type": "code",
   "execution_count": 25,
   "id": "institutional-fantasy",
   "metadata": {},
   "outputs": [
    {
     "data": {
      "text/plain": [
       "(40070, 4)"
      ]
     },
     "execution_count": 25,
     "metadata": {},
     "output_type": "execute_result"
    }
   ],
   "source": [
    "#df.drop(\"Unnamed: 0\",axis=1).to_csv(\"/scratch/s190619/Data_etc/ColBERT/training_sets/FZ_corpus_split_triples.tsv\", sep=\"\\t\", index=False,header=False)\n",
    "df.shape"
   ]
  },
  {
   "cell_type": "code",
   "execution_count": 43,
   "id": "cardiac-danish",
   "metadata": {},
   "outputs": [
    {
     "data": {
      "text/html": [
       "<div>\n",
       "<style scoped>\n",
       "    .dataframe tbody tr th:only-of-type {\n",
       "        vertical-align: middle;\n",
       "    }\n",
       "\n",
       "    .dataframe tbody tr th {\n",
       "        vertical-align: top;\n",
       "    }\n",
       "\n",
       "    .dataframe thead th {\n",
       "        text-align: right;\n",
       "    }\n",
       "</style>\n",
       "<table border=\"1\" class=\"dataframe\">\n",
       "  <thead>\n",
       "    <tr style=\"text-align: right;\">\n",
       "      <th></th>\n",
       "      <th>0</th>\n",
       "      <th>1</th>\n",
       "      <th>2</th>\n",
       "    </tr>\n",
       "  </thead>\n",
       "  <tbody>\n",
       "    <tr>\n",
       "      <th>0</th>\n",
       "      <td>a pulmonary autopsy specimen from a 58-year-ol...</td>\n",
       "      <td>the anticoagulant effect of lmwhs may be parti...</td>\n",
       "      <td>essential tremor may cause difficulty in diagn...</td>\n",
       "    </tr>\n",
       "    <tr>\n",
       "      <th>1</th>\n",
       "      <td>a pulmonary autopsy specimen from a 58-year-ol...</td>\n",
       "      <td>the longitudinal assessment of bariatric surge...</td>\n",
       "      <td>gut-associated lymphoid tissues (galt)   lymph...</td>\n",
       "    </tr>\n",
       "    <tr>\n",
       "      <th>2</th>\n",
       "      <td>a pulmonary autopsy specimen from a 58-year-ol...</td>\n",
       "      <td>a randomized controlled trial involving 246 lo...</td>\n",
       "      <td>an autoimmune disorder caused by antibodies di...</td>\n",
       "    </tr>\n",
       "    <tr>\n",
       "      <th>3</th>\n",
       "      <td>a pulmonary autopsy specimen from a 58-year-ol...</td>\n",
       "      <td>makary et al studied 594 older patients presen...</td>\n",
       "      <td>baerwald ar, walker ra, pierson ra. growth rat...</td>\n",
       "    </tr>\n",
       "    <tr>\n",
       "      <th>4</th>\n",
       "      <td>a pulmonary autopsy specimen from a 58-year-ol...</td>\n",
       "      <td>with the clini-cal history and physical examin...</td>\n",
       "      <td>few trials have evaluated exercise speciically...</td>\n",
       "    </tr>\n",
       "  </tbody>\n",
       "</table>\n",
       "</div>"
      ],
      "text/plain": [
       "                                                   0  \\\n",
       "0  a pulmonary autopsy specimen from a 58-year-ol...   \n",
       "1  a pulmonary autopsy specimen from a 58-year-ol...   \n",
       "2  a pulmonary autopsy specimen from a 58-year-ol...   \n",
       "3  a pulmonary autopsy specimen from a 58-year-ol...   \n",
       "4  a pulmonary autopsy specimen from a 58-year-ol...   \n",
       "\n",
       "                                                   1  \\\n",
       "0  the anticoagulant effect of lmwhs may be parti...   \n",
       "1  the longitudinal assessment of bariatric surge...   \n",
       "2  a randomized controlled trial involving 246 lo...   \n",
       "3  makary et al studied 594 older patients presen...   \n",
       "4  with the clini-cal history and physical examin...   \n",
       "\n",
       "                                                   2  \n",
       "0  essential tremor may cause difficulty in diagn...  \n",
       "1  gut-associated lymphoid tissues (galt)   lymph...  \n",
       "2  an autoimmune disorder caused by antibodies di...  \n",
       "3  baerwald ar, walker ra, pierson ra. growth rat...  \n",
       "4  few trials have evaluated exercise speciically...  "
      ]
     },
     "execution_count": 43,
     "metadata": {},
     "output_type": "execute_result"
    }
   ],
   "source": [
    "df.head()"
   ]
  },
  {
   "cell_type": "code",
   "execution_count": 37,
   "id": "instrumental-shape",
   "metadata": {},
   "outputs": [
    {
     "data": {
      "application/vnd.jupyter.widget-view+json": {
       "model_id": "a2691d43763b44bb95f24f7435bc8698",
       "version_major": 2,
       "version_minor": 0
      },
      "text/plain": [
       "  0%|          | 0/40070 [00:00<?, ?it/s]"
      ]
     },
     "metadata": {},
     "output_type": "display_data"
    }
   ],
   "source": [
    "for i in tqdm(range(df.shape[0])):\n",
    "    if \"\\t\" in df2.iloc[i][3]:\n",
    "        print(i)"
   ]
  },
  {
   "cell_type": "code",
   "execution_count": 35,
   "id": "pleasant-yahoo",
   "metadata": {},
   "outputs": [
    {
     "data": {
      "application/vnd.jupyter.widget-view+json": {
       "model_id": "3a1aed3f0b7844a1ac4966d57868ca79",
       "version_major": 2,
       "version_minor": 0
      },
      "text/plain": [
       "  0%|          | 0/40070 [00:00<?, ?it/s]"
      ]
     },
     "metadata": {},
     "output_type": "display_data"
    },
    {
     "data": {
      "application/vnd.jupyter.widget-view+json": {
       "model_id": "acba9ff6a7dc400b9da2f3b0e3163f16",
       "version_major": 2,
       "version_minor": 0
      },
      "text/plain": [
       "  0%|          | 0/40070 [00:00<?, ?it/s]"
      ]
     },
     "metadata": {},
     "output_type": "display_data"
    },
    {
     "data": {
      "application/vnd.jupyter.widget-view+json": {
       "model_id": "6e2b3d5479894364a93d6f1183021d0c",
       "version_major": 2,
       "version_minor": 0
      },
      "text/plain": [
       "  0%|          | 0/40070 [00:00<?, ?it/s]"
      ]
     },
     "metadata": {},
     "output_type": "display_data"
    }
   ],
   "source": [
    "\n",
    "df2 = df.copy()\n",
    "for j in [1,2,3]:\n",
    "    tmp = []\n",
    "    for i in tqdm(range(df.shape[0])):\n",
    "        tmp.append(df.iloc[i][j].replace(\"\\t\",\" \"))\n",
    "    df2[j] = tmp"
   ]
  },
  {
   "cell_type": "code",
   "execution_count": 29,
   "id": "dynamic-archives",
   "metadata": {},
   "outputs": [
    {
     "data": {
      "text/plain": [
       "0"
      ]
     },
     "execution_count": 29,
     "metadata": {},
     "output_type": "execute_result"
    }
   ],
   "source": [
    "i"
   ]
  },
  {
   "cell_type": "code",
   "execution_count": 41,
   "id": "royal-ready",
   "metadata": {},
   "outputs": [],
   "source": [
    "df2.drop(0).drop(0,axis=1).to_csv(\"/scratch/s190619/Data_etc/ColBERT/training_sets/MedQA_textbooks_split_triples.tsv\", sep=\"\\t\", header=False,index=False)"
   ]
  },
  {
   "cell_type": "code",
   "execution_count": 45,
   "id": "great-credit",
   "metadata": {},
   "outputs": [
    {
     "data": {
      "text/plain": [
       "46260"
      ]
     },
     "execution_count": 45,
     "metadata": {},
     "output_type": "execute_result"
    }
   ],
   "source": [
    "1542*30"
   ]
  },
  {
   "cell_type": "code",
   "execution_count": 3,
   "id": "detailed-jackson",
   "metadata": {},
   "outputs": [],
   "source": [
    "import pandas as pd\n",
    "df = pd.read_csv(\"/scratch/s190619/Data_etc/ColBERT/training_sets/FZ_corpus_split_triples_scrambled.tsv\",sep=\"\\t\",header=None)"
   ]
  },
  {
   "cell_type": "code",
   "execution_count": 4,
   "id": "valued-advocacy",
   "metadata": {},
   "outputs": [
    {
     "data": {
      "text/plain": [
       "(46293, 3)"
      ]
     },
     "execution_count": 4,
     "metadata": {},
     "output_type": "execute_result"
    }
   ],
   "source": [
    "df.shape"
   ]
  },
  {
   "cell_type": "code",
   "execution_count": null,
   "id": "applicable-ribbon",
   "metadata": {},
   "outputs": [],
   "source": []
  }
 ],
 "metadata": {
  "kernelspec": {
   "display_name": "Python 3",
   "language": "python",
   "name": "python3"
  },
  "language_info": {
   "codemirror_mode": {
    "name": "ipython",
    "version": 3
   },
   "file_extension": ".py",
   "mimetype": "text/x-python",
   "name": "python",
   "nbconvert_exporter": "python",
   "pygments_lexer": "ipython3",
   "version": "3.7.9"
  }
 },
 "nbformat": 4,
 "nbformat_minor": 5
}
