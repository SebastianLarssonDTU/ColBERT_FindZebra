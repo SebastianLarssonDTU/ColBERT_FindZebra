{
 "cells": [
  {
   "cell_type": "code",
   "execution_count": 1,
   "id": "vocal-mountain",
   "metadata": {},
   "outputs": [],
   "source": [
    "import pandas as pd\n",
    "import jsonlines"
   ]
  },
  {
   "cell_type": "code",
   "execution_count": 2,
   "id": "authentic-migration",
   "metadata": {},
   "outputs": [],
   "source": [
    "# See what queries.dev.small.tsv looks like\n",
    "filename = '/scratch/s190619/MSMARCO/MSMARCO2/' + 'queries.dev.small.tsv'\n",
    "df = pd.read_csv(filename, sep='\\t')"
   ]
  },
  {
   "cell_type": "code",
   "execution_count": 3,
   "id": "agreed-forum",
   "metadata": {},
   "outputs": [
    {
     "data": {
      "text/html": [
       "<div>\n",
       "<style scoped>\n",
       "    .dataframe tbody tr th:only-of-type {\n",
       "        vertical-align: middle;\n",
       "    }\n",
       "\n",
       "    .dataframe tbody tr th {\n",
       "        vertical-align: top;\n",
       "    }\n",
       "\n",
       "    .dataframe thead th {\n",
       "        text-align: right;\n",
       "    }\n",
       "</style>\n",
       "<table border=\"1\" class=\"dataframe\">\n",
       "  <thead>\n",
       "    <tr style=\"text-align: right;\">\n",
       "      <th></th>\n",
       "      <th>1048585</th>\n",
       "      <th>what is paula deen's brother</th>\n",
       "    </tr>\n",
       "  </thead>\n",
       "  <tbody>\n",
       "    <tr>\n",
       "      <th>0</th>\n",
       "      <td>2</td>\n",
       "      <td>Androgen receptor define</td>\n",
       "    </tr>\n",
       "    <tr>\n",
       "      <th>1</th>\n",
       "      <td>524332</td>\n",
       "      <td>treating tension headaches without medication</td>\n",
       "    </tr>\n",
       "    <tr>\n",
       "      <th>2</th>\n",
       "      <td>1048642</td>\n",
       "      <td>what is paranoid sc</td>\n",
       "    </tr>\n",
       "    <tr>\n",
       "      <th>3</th>\n",
       "      <td>524447</td>\n",
       "      <td>treatment of varicose veins in legs</td>\n",
       "    </tr>\n",
       "    <tr>\n",
       "      <th>4</th>\n",
       "      <td>786674</td>\n",
       "      <td>what is prime rate in canada</td>\n",
       "    </tr>\n",
       "  </tbody>\n",
       "</table>\n",
       "</div>"
      ],
      "text/plain": [
       "   1048585                   what is paula deen's brother\n",
       "0        2                       Androgen receptor define\n",
       "1   524332  treating tension headaches without medication\n",
       "2  1048642                            what is paranoid sc\n",
       "3   524447            treatment of varicose veins in legs\n",
       "4   786674                   what is prime rate in canada"
      ]
     },
     "execution_count": 3,
     "metadata": {},
     "output_type": "execute_result"
    }
   ],
   "source": [
    "df.head()"
   ]
  },
  {
   "cell_type": "markdown",
   "id": "artistic-fourth",
   "metadata": {},
   "source": [
    "### Training queries"
   ]
  },
  {
   "cell_type": "code",
   "execution_count": 4,
   "id": "median-partner",
   "metadata": {},
   "outputs": [],
   "source": [
    "medQA_path = '/scratch/s190619/MSMARCO/MedQA_US/'\n",
    "train_file = 'train.jsonl'\n",
    "data = []\n",
    "with jsonlines.open(medQA_path+train_file, 'r') as reader:\n",
    "    #data = reader\n",
    "    for obj in reader:\n",
    "        #json.dumps(obj)\n",
    "        data.append(obj)"
   ]
  },
  {
   "cell_type": "code",
   "execution_count": 5,
   "id": "african-joseph",
   "metadata": {},
   "outputs": [
    {
     "data": {
      "text/plain": [
       "{'question': 'A pulmonary autopsy specimen from a 58-year-old woman who died of acute hypoxic respiratory failure was examined. She had recently undergone surgery for a fractured femur 3 months ago. Initial hospital course was uncomplicated, and she was discharged to a rehab facility in good health. Shortly after discharge home from rehab, she developed sudden shortness of breath and had cardiac arrest. Resuscitation was unsuccessful. On histological examination of lung tissue, fibrous connective tissue around the lumen of the pulmonary artery is observed. Which of the following is the most likely pathogenesis for the present findings?',\n",
       " 'answer': 'Thromboembolism',\n",
       " 'options': {'A': 'Thromboembolism',\n",
       "  'B': 'Pulmonary ischemia',\n",
       "  'C': 'Pulmonary hypertension',\n",
       "  'D': 'Pulmonary passive congestion',\n",
       "  'E': 'Pulmonary hemorrhage'},\n",
       " 'meta_info': 'step1',\n",
       " 'answer_idx': 'A'}"
      ]
     },
     "execution_count": 5,
     "metadata": {},
     "output_type": "execute_result"
    }
   ],
   "source": [
    "data[3]"
   ]
  },
  {
   "cell_type": "code",
   "execution_count": 6,
   "id": "descending-authorization",
   "metadata": {},
   "outputs": [],
   "source": [
    "queries = [data[i]['question'].replace('\\n',' ').replace('\\t', ' ') for i in range(len(data))]\n",
    "qids = [x for x in range(len(data))]"
   ]
  },
  {
   "cell_type": "code",
   "execution_count": 7,
   "id": "weighted-clothing",
   "metadata": {},
   "outputs": [
    {
     "data": {
      "text/plain": [
       "10178"
      ]
     },
     "execution_count": 7,
     "metadata": {},
     "output_type": "execute_result"
    }
   ],
   "source": [
    "len(qids)"
   ]
  },
  {
   "cell_type": "code",
   "execution_count": 8,
   "id": "dressed-spoke",
   "metadata": {},
   "outputs": [],
   "source": [
    "dfq = pd.DataFrame(list(zip(qids, queries)))"
   ]
  },
  {
   "cell_type": "code",
   "execution_count": 9,
   "id": "powerful-device",
   "metadata": {},
   "outputs": [
    {
     "data": {
      "text/html": [
       "<div>\n",
       "<style scoped>\n",
       "    .dataframe tbody tr th:only-of-type {\n",
       "        vertical-align: middle;\n",
       "    }\n",
       "\n",
       "    .dataframe tbody tr th {\n",
       "        vertical-align: top;\n",
       "    }\n",
       "\n",
       "    .dataframe thead th {\n",
       "        text-align: right;\n",
       "    }\n",
       "</style>\n",
       "<table border=\"1\" class=\"dataframe\">\n",
       "  <thead>\n",
       "    <tr style=\"text-align: right;\">\n",
       "      <th></th>\n",
       "      <th>0</th>\n",
       "      <th>1</th>\n",
       "    </tr>\n",
       "  </thead>\n",
       "  <tbody>\n",
       "    <tr>\n",
       "      <th>0</th>\n",
       "      <td>0</td>\n",
       "      <td>A 23-year-old pregnant woman at 22 weeks gesta...</td>\n",
       "    </tr>\n",
       "    <tr>\n",
       "      <th>1</th>\n",
       "      <td>1</td>\n",
       "      <td>A 3-month-old baby died suddenly at night whil...</td>\n",
       "    </tr>\n",
       "    <tr>\n",
       "      <th>2</th>\n",
       "      <td>2</td>\n",
       "      <td>A mother brings her 3-week-old infant to the p...</td>\n",
       "    </tr>\n",
       "    <tr>\n",
       "      <th>3</th>\n",
       "      <td>3</td>\n",
       "      <td>A pulmonary autopsy specimen from a 58-year-ol...</td>\n",
       "    </tr>\n",
       "    <tr>\n",
       "      <th>4</th>\n",
       "      <td>4</td>\n",
       "      <td>A 20-year-old woman presents with menorrhagia ...</td>\n",
       "    </tr>\n",
       "  </tbody>\n",
       "</table>\n",
       "</div>"
      ],
      "text/plain": [
       "   0                                                  1\n",
       "0  0  A 23-year-old pregnant woman at 22 weeks gesta...\n",
       "1  1  A 3-month-old baby died suddenly at night whil...\n",
       "2  2  A mother brings her 3-week-old infant to the p...\n",
       "3  3  A pulmonary autopsy specimen from a 58-year-ol...\n",
       "4  4  A 20-year-old woman presents with menorrhagia ..."
      ]
     },
     "execution_count": 9,
     "metadata": {},
     "output_type": "execute_result"
    }
   ],
   "source": [
    "dfq.head()"
   ]
  },
  {
   "cell_type": "code",
   "execution_count": 11,
   "id": "comparative-nebraska",
   "metadata": {},
   "outputs": [],
   "source": [
    "save_path = \"/scratch/s190619/Data_etc/MedQA/\"\n",
    "with open(save_path + \"queries_medQA_train.tsv\",'w') as write_tsv:\n",
    "    write_tsv.write(dfq.to_csv(sep='\\t', index=False, header=False))"
   ]
  },
  {
   "cell_type": "code",
   "execution_count": 13,
   "id": "parliamentary-karma",
   "metadata": {},
   "outputs": [
    {
     "data": {
      "text/html": [
       "<div>\n",
       "<style scoped>\n",
       "    .dataframe tbody tr th:only-of-type {\n",
       "        vertical-align: middle;\n",
       "    }\n",
       "\n",
       "    .dataframe tbody tr th {\n",
       "        vertical-align: top;\n",
       "    }\n",
       "\n",
       "    .dataframe thead th {\n",
       "        text-align: right;\n",
       "    }\n",
       "</style>\n",
       "<table border=\"1\" class=\"dataframe\">\n",
       "  <thead>\n",
       "    <tr style=\"text-align: right;\">\n",
       "      <th></th>\n",
       "      <th>0</th>\n",
       "      <th>A 23-year-old pregnant woman at 22 weeks gestation presents with burning upon urination. She states it started 1 day ago and has been worsening despite drinking more water and taking cranberry extract. She otherwise feels well and is followed by a doctor for her pregnancy. Her temperature is 97.7°F (36.5°C), blood pressure is 122/77 mmHg, pulse is 80/min, respirations are 19/min, and oxygen saturation is 98% on room air. Physical exam is notable for an absence of costovertebral angle tenderness and a gravid uterus. Which of the following is the best treatment for this patient?</th>\n",
       "    </tr>\n",
       "  </thead>\n",
       "  <tbody>\n",
       "    <tr>\n",
       "      <th>0</th>\n",
       "      <td>1</td>\n",
       "      <td>A 3-month-old baby died suddenly at night whil...</td>\n",
       "    </tr>\n",
       "    <tr>\n",
       "      <th>1</th>\n",
       "      <td>2</td>\n",
       "      <td>A mother brings her 3-week-old infant to the p...</td>\n",
       "    </tr>\n",
       "    <tr>\n",
       "      <th>2</th>\n",
       "      <td>3</td>\n",
       "      <td>A pulmonary autopsy specimen from a 58-year-ol...</td>\n",
       "    </tr>\n",
       "    <tr>\n",
       "      <th>3</th>\n",
       "      <td>4</td>\n",
       "      <td>A 20-year-old woman presents with menorrhagia ...</td>\n",
       "    </tr>\n",
       "    <tr>\n",
       "      <th>4</th>\n",
       "      <td>5</td>\n",
       "      <td>A 40-year-old zookeeper presents to the emerge...</td>\n",
       "    </tr>\n",
       "  </tbody>\n",
       "</table>\n",
       "</div>"
      ],
      "text/plain": [
       "   0  \\\n",
       "0  1   \n",
       "1  2   \n",
       "2  3   \n",
       "3  4   \n",
       "4  5   \n",
       "\n",
       "  A 23-year-old pregnant woman at 22 weeks gestation presents with burning upon urination. She states it started 1 day ago and has been worsening despite drinking more water and taking cranberry extract. She otherwise feels well and is followed by a doctor for her pregnancy. Her temperature is 97.7°F (36.5°C), blood pressure is 122/77 mmHg, pulse is 80/min, respirations are 19/min, and oxygen saturation is 98% on room air. Physical exam is notable for an absence of costovertebral angle tenderness and a gravid uterus. Which of the following is the best treatment for this patient?  \n",
       "0  A 3-month-old baby died suddenly at night whil...                                                                                                                                                                                                                                                                                                                                                                                                                                                                                                                                                       \n",
       "1  A mother brings her 3-week-old infant to the p...                                                                                                                                                                                                                                                                                                                                                                                                                                                                                                                                                       \n",
       "2  A pulmonary autopsy specimen from a 58-year-ol...                                                                                                                                                                                                                                                                                                                                                                                                                                                                                                                                                       \n",
       "3  A 20-year-old woman presents with menorrhagia ...                                                                                                                                                                                                                                                                                                                                                                                                                                                                                                                                                       \n",
       "4  A 40-year-old zookeeper presents to the emerge...                                                                                                                                                                                                                                                                                                                                                                                                                                                                                                                                                       "
      ]
     },
     "execution_count": 13,
     "metadata": {},
     "output_type": "execute_result"
    }
   ],
   "source": [
    "df_test = pd.read_csv(save_path + \"queries_medQA_train.tsv\",sep='\\t')\n",
    "df_test.head()"
   ]
  },
  {
   "cell_type": "markdown",
   "id": "removable-passing",
   "metadata": {},
   "source": [
    "### Testing queries"
   ]
  },
  {
   "cell_type": "code",
   "execution_count": 16,
   "id": "electrical-choir",
   "metadata": {},
   "outputs": [],
   "source": [
    "medQA_path = '/scratch/s190619/MSMARCO/MedQA_US/'\n",
    "dev_file = 'dev.jsonl'\n",
    "test_file = 'test.jsonl'\n",
    "data = []\n",
    "with jsonlines.open(medQA_path+dev_file, 'r') as reader:\n",
    "    #data = reader\n",
    "    for obj in reader:\n",
    "        #json.dumps(obj)\n",
    "        data.append(obj)\n",
    "        \n",
    "with jsonlines.open(medQA_path+test_file, 'r') as reader:\n",
    "    #data = reader\n",
    "    for obj in reader:\n",
    "        #json.dumps(obj)\n",
    "        data.append(obj)\n",
    "        \n",
    "queries = [data[i]['question'].replace('\\n',' ').replace('\\t', ' ') for i in range(len(data))]\n",
    "qids = [x for x in range(len(data))]\n",
    "\n",
    "dfq = pd.DataFrame(list(zip(qids, queries)))\n",
    "\n",
    "save_path = \"/scratch/s190619/Data_etc/MedQA/\"\n",
    "with open(save_path + \"queries_medQA_dev-test.tsv\",'w') as write_tsv:\n",
    "    write_tsv.write(dfq.to_csv(sep='\\t', index=False, header=False))"
   ]
  },
  {
   "cell_type": "code",
   "execution_count": 18,
   "id": "boxed-embassy",
   "metadata": {},
   "outputs": [
    {
     "data": {
      "text/html": [
       "<div>\n",
       "<style scoped>\n",
       "    .dataframe tbody tr th:only-of-type {\n",
       "        vertical-align: middle;\n",
       "    }\n",
       "\n",
       "    .dataframe tbody tr th {\n",
       "        vertical-align: top;\n",
       "    }\n",
       "\n",
       "    .dataframe thead th {\n",
       "        text-align: right;\n",
       "    }\n",
       "</style>\n",
       "<table border=\"1\" class=\"dataframe\">\n",
       "  <thead>\n",
       "    <tr style=\"text-align: right;\">\n",
       "      <th></th>\n",
       "      <th>0</th>\n",
       "      <th>A 21-year-old sexually active male complains of fever, pain during urination, and inflammation and pain in the right knee. A culture of the joint fluid shows a bacteria that does not ferment maltose and has no polysaccharide capsule. The physician orders antibiotic therapy for the patient. The mechanism of action of action of the medication given blocks cell wall synthesis, which of the following was given?</th>\n",
       "    </tr>\n",
       "  </thead>\n",
       "  <tbody>\n",
       "    <tr>\n",
       "      <th>0</th>\n",
       "      <td>1</td>\n",
       "      <td>A 5-year-old girl is brought to the emergency ...</td>\n",
       "    </tr>\n",
       "    <tr>\n",
       "      <th>1</th>\n",
       "      <td>2</td>\n",
       "      <td>A 40-year-old woman presents with difficulty f...</td>\n",
       "    </tr>\n",
       "    <tr>\n",
       "      <th>2</th>\n",
       "      <td>3</td>\n",
       "      <td>A 37-year-old female with a history of type II...</td>\n",
       "    </tr>\n",
       "    <tr>\n",
       "      <th>3</th>\n",
       "      <td>4</td>\n",
       "      <td>A 19-year-old boy presents with confusion and ...</td>\n",
       "    </tr>\n",
       "    <tr>\n",
       "      <th>4</th>\n",
       "      <td>5</td>\n",
       "      <td>A 41-year-old woman presents to her primary ca...</td>\n",
       "    </tr>\n",
       "  </tbody>\n",
       "</table>\n",
       "</div>"
      ],
      "text/plain": [
       "   0  \\\n",
       "0  1   \n",
       "1  2   \n",
       "2  3   \n",
       "3  4   \n",
       "4  5   \n",
       "\n",
       "  A 21-year-old sexually active male complains of fever, pain during urination, and inflammation and pain in the right knee. A culture of the joint fluid shows a bacteria that does not ferment maltose and has no polysaccharide capsule. The physician orders antibiotic therapy for the patient. The mechanism of action of action of the medication given blocks cell wall synthesis, which of the following was given?  \n",
       "0  A 5-year-old girl is brought to the emergency ...                                                                                                                                                                                                                                                                                                                                                                          \n",
       "1  A 40-year-old woman presents with difficulty f...                                                                                                                                                                                                                                                                                                                                                                          \n",
       "2  A 37-year-old female with a history of type II...                                                                                                                                                                                                                                                                                                                                                                          \n",
       "3  A 19-year-old boy presents with confusion and ...                                                                                                                                                                                                                                                                                                                                                                          \n",
       "4  A 41-year-old woman presents to her primary ca...                                                                                                                                                                                                                                                                                                                                                                          "
      ]
     },
     "execution_count": 18,
     "metadata": {},
     "output_type": "execute_result"
    }
   ],
   "source": [
    "df_test = pd.read_csv(save_path + \"queries_medQA_dev-test.tsv\",sep='\\t')\n",
    "df_test.head()"
   ]
  },
  {
   "cell_type": "code",
   "execution_count": 31,
   "id": "historical-fiber",
   "metadata": {},
   "outputs": [],
   "source": [
    "dfj_MM = pd.read_csv(\"Data/disorders_table_dev-test.csv\", converters={'cui_METAMAP': eval})\n",
    "dfq = dfj_MM[[\"qid\",\"query\"]]\n",
    "\n",
    "save_path = \"/scratch/s190619/Data_etc/MedQA/\"\n",
    "with open(save_path + \"queries_medQA_dev-test.tsv\",'w') as write_tsv:\n",
    "    write_tsv.write(dfq.to_csv(sep='\\t', index=False, header=False))"
   ]
  },
  {
   "cell_type": "code",
   "execution_count": 32,
   "id": "bright-haiti",
   "metadata": {},
   "outputs": [
    {
     "data": {
      "text/html": [
       "<div>\n",
       "<style scoped>\n",
       "    .dataframe tbody tr th:only-of-type {\n",
       "        vertical-align: middle;\n",
       "    }\n",
       "\n",
       "    .dataframe tbody tr th {\n",
       "        vertical-align: top;\n",
       "    }\n",
       "\n",
       "    .dataframe thead th {\n",
       "        text-align: right;\n",
       "    }\n",
       "</style>\n",
       "<table border=\"1\" class=\"dataframe\">\n",
       "  <thead>\n",
       "    <tr style=\"text-align: right;\">\n",
       "      <th></th>\n",
       "      <th>0</th>\n",
       "      <th>A 5-year-old girl is brought to the emergency department by her mother because of multiple episodes of nausea and vomiting that last about 2 hours. During this period, she has had 6–8 episodes of bilious vomiting and abdominal pain. The vomiting was preceded by fatigue. The girl feels well between these episodes. She has missed several days of school and has been hospitalized 2 times during the past 6 months for dehydration due to similar episodes of vomiting and nausea. The patient has lived with her mother since her parents divorced 8 months ago. Her immunizations are up-to-date. She is at the 60th percentile for height and 30th percentile for weight. She appears emaciated. Her temperature is 36.8°C (98.8°F), pulse is 99/min, and blood pressure is 82/52 mm Hg. Examination shows dry mucous membranes. The lungs are clear to auscultation. Abdominal examination shows a soft abdomen with mild diffuse tenderness with no guarding or rebound. The remainder of the physical examination shows no abnormalities. Which of the following is the most likely diagnosis?</th>\n",
       "    </tr>\n",
       "  </thead>\n",
       "  <tbody>\n",
       "    <tr>\n",
       "      <th>0</th>\n",
       "      <td>1</td>\n",
       "      <td>A 19-year-old boy presents with confusion and ...</td>\n",
       "    </tr>\n",
       "    <tr>\n",
       "      <th>1</th>\n",
       "      <td>2</td>\n",
       "      <td>A 41-year-old woman presents to her primary ca...</td>\n",
       "    </tr>\n",
       "    <tr>\n",
       "      <th>2</th>\n",
       "      <td>3</td>\n",
       "      <td>A 56-year-old man with known coronary artery d...</td>\n",
       "    </tr>\n",
       "    <tr>\n",
       "      <th>3</th>\n",
       "      <td>4</td>\n",
       "      <td>A 16-year-old female high school student is br...</td>\n",
       "    </tr>\n",
       "    <tr>\n",
       "      <th>4</th>\n",
       "      <td>5</td>\n",
       "      <td>A 35-year-old male presents to his primary car...</td>\n",
       "    </tr>\n",
       "  </tbody>\n",
       "</table>\n",
       "</div>"
      ],
      "text/plain": [
       "   0  \\\n",
       "0  1   \n",
       "1  2   \n",
       "2  3   \n",
       "3  4   \n",
       "4  5   \n",
       "\n",
       "  A 5-year-old girl is brought to the emergency department by her mother because of multiple episodes of nausea and vomiting that last about 2 hours. During this period, she has had 6–8 episodes of bilious vomiting and abdominal pain. The vomiting was preceded by fatigue. The girl feels well between these episodes. She has missed several days of school and has been hospitalized 2 times during the past 6 months for dehydration due to similar episodes of vomiting and nausea. The patient has lived with her mother since her parents divorced 8 months ago. Her immunizations are up-to-date. She is at the 60th percentile for height and 30th percentile for weight. She appears emaciated. Her temperature is 36.8°C (98.8°F), pulse is 99/min, and blood pressure is 82/52 mm Hg. Examination shows dry mucous membranes. The lungs are clear to auscultation. Abdominal examination shows a soft abdomen with mild diffuse tenderness with no guarding or rebound. The remainder of the physical examination shows no abnormalities. Which of the following is the most likely diagnosis?  \n",
       "0  A 19-year-old boy presents with confusion and ...                                                                                                                                                                                                                                                                                                                                                                                                                                                                                                                                                                                                                                                                                                                                                                                                                                                                                                                                                                                                                                                             \n",
       "1  A 41-year-old woman presents to her primary ca...                                                                                                                                                                                                                                                                                                                                                                                                                                                                                                                                                                                                                                                                                                                                                                                                                                                                                                                                                                                                                                                             \n",
       "2  A 56-year-old man with known coronary artery d...                                                                                                                                                                                                                                                                                                                                                                                                                                                                                                                                                                                                                                                                                                                                                                                                                                                                                                                                                                                                                                                             \n",
       "3  A 16-year-old female high school student is br...                                                                                                                                                                                                                                                                                                                                                                                                                                                                                                                                                                                                                                                                                                                                                                                                                                                                                                                                                                                                                                                             \n",
       "4  A 35-year-old male presents to his primary car...                                                                                                                                                                                                                                                                                                                                                                                                                                                                                                                                                                                                                                                                                                                                                                                                                                                                                                                                                                                                                                                             "
      ]
     },
     "execution_count": 32,
     "metadata": {},
     "output_type": "execute_result"
    }
   ],
   "source": [
    "df_test = pd.read_csv(save_path + \"queries_medQA_dev-test.tsv\",sep='\\t')\n",
    "df_test.head()"
   ]
  },
  {
   "cell_type": "markdown",
   "id": "loose-senior",
   "metadata": {},
   "source": [
    "## Create dataframe with the rest of the data (used for evaluation)"
   ]
  },
  {
   "cell_type": "code",
   "execution_count": 11,
   "id": "czech-absolute",
   "metadata": {},
   "outputs": [],
   "source": [
    "queries = [data[i]['question'].replace('\\n',' ').replace('\\t', ' ') for i in range(len(data))]\n",
    "qids = [x for x in range(len(data))]\n",
    "answers = [data[i]['answer'] for i in range(len(data))]\n",
    "meta_infos = [data[i]['meta_info'] for i in range(len(data))]\n",
    "options = [data[i]['options'] for i in range(len(data))]"
   ]
  },
  {
   "cell_type": "code",
   "execution_count": 19,
   "id": "hispanic-marble",
   "metadata": {},
   "outputs": [],
   "source": [
    "# dataframe for evaluation\n",
    "dfe = pd.DataFrame(list(zip(qids, queries, answers, options, meta_infos)))\n",
    "dfe.columns = [\"qid\",\"query\",\"answer\",\"options\",\"meta_info\"]\n",
    "#dfe.head()"
   ]
  },
  {
   "cell_type": "code",
   "execution_count": 20,
   "id": "prescribed-diagnosis",
   "metadata": {},
   "outputs": [],
   "source": [
    "with open(medQA_path + \"medQA_evaluation.tsv\",'w') as write_tsv:\n",
    "    write_tsv.write(dfe.to_csv(sep='\\t', index=False))"
   ]
  },
  {
   "cell_type": "code",
   "execution_count": 21,
   "id": "turkish-electron",
   "metadata": {},
   "outputs": [
    {
     "data": {
      "text/html": [
       "<div>\n",
       "<style scoped>\n",
       "    .dataframe tbody tr th:only-of-type {\n",
       "        vertical-align: middle;\n",
       "    }\n",
       "\n",
       "    .dataframe tbody tr th {\n",
       "        vertical-align: top;\n",
       "    }\n",
       "\n",
       "    .dataframe thead th {\n",
       "        text-align: right;\n",
       "    }\n",
       "</style>\n",
       "<table border=\"1\" class=\"dataframe\">\n",
       "  <thead>\n",
       "    <tr style=\"text-align: right;\">\n",
       "      <th></th>\n",
       "      <th>qid</th>\n",
       "      <th>query</th>\n",
       "      <th>answer</th>\n",
       "      <th>options</th>\n",
       "      <th>meta_info</th>\n",
       "    </tr>\n",
       "  </thead>\n",
       "  <tbody>\n",
       "    <tr>\n",
       "      <th>0</th>\n",
       "      <td>0</td>\n",
       "      <td>A 23-year-old pregnant woman at 22 weeks gesta...</td>\n",
       "      <td>Nitrofurantoin</td>\n",
       "      <td>{'A': 'Ampicillin', 'B': 'Ceftriaxone', 'C': '...</td>\n",
       "      <td>step2&amp;3</td>\n",
       "    </tr>\n",
       "    <tr>\n",
       "      <th>1</th>\n",
       "      <td>1</td>\n",
       "      <td>A 3-month-old baby died suddenly at night whil...</td>\n",
       "      <td>Placing the infant in a supine position on a f...</td>\n",
       "      <td>{'A': 'Placing the infant in a supine position...</td>\n",
       "      <td>step2&amp;3</td>\n",
       "    </tr>\n",
       "    <tr>\n",
       "      <th>2</th>\n",
       "      <td>2</td>\n",
       "      <td>A mother brings her 3-week-old infant to the p...</td>\n",
       "      <td>Abnormal migration of ventral pancreatic bud</td>\n",
       "      <td>{'A': 'Abnormal migration of ventral pancreati...</td>\n",
       "      <td>step1</td>\n",
       "    </tr>\n",
       "    <tr>\n",
       "      <th>3</th>\n",
       "      <td>3</td>\n",
       "      <td>A pulmonary autopsy specimen from a 58-year-ol...</td>\n",
       "      <td>Thromboembolism</td>\n",
       "      <td>{'A': 'Thromboembolism', 'B': 'Pulmonary ische...</td>\n",
       "      <td>step1</td>\n",
       "    </tr>\n",
       "    <tr>\n",
       "      <th>4</th>\n",
       "      <td>4</td>\n",
       "      <td>A 20-year-old woman presents with menorrhagia ...</td>\n",
       "      <td>Von Willebrand disease</td>\n",
       "      <td>{'A': 'Factor V Leiden', 'B': 'Hemophilia A', ...</td>\n",
       "      <td>step1</td>\n",
       "    </tr>\n",
       "  </tbody>\n",
       "</table>\n",
       "</div>"
      ],
      "text/plain": [
       "   qid                                              query  \\\n",
       "0    0  A 23-year-old pregnant woman at 22 weeks gesta...   \n",
       "1    1  A 3-month-old baby died suddenly at night whil...   \n",
       "2    2  A mother brings her 3-week-old infant to the p...   \n",
       "3    3  A pulmonary autopsy specimen from a 58-year-ol...   \n",
       "4    4  A 20-year-old woman presents with menorrhagia ...   \n",
       "\n",
       "                                              answer  \\\n",
       "0                                     Nitrofurantoin   \n",
       "1  Placing the infant in a supine position on a f...   \n",
       "2       Abnormal migration of ventral pancreatic bud   \n",
       "3                                    Thromboembolism   \n",
       "4                             Von Willebrand disease   \n",
       "\n",
       "                                             options meta_info  \n",
       "0  {'A': 'Ampicillin', 'B': 'Ceftriaxone', 'C': '...   step2&3  \n",
       "1  {'A': 'Placing the infant in a supine position...   step2&3  \n",
       "2  {'A': 'Abnormal migration of ventral pancreati...     step1  \n",
       "3  {'A': 'Thromboembolism', 'B': 'Pulmonary ische...     step1  \n",
       "4  {'A': 'Factor V Leiden', 'B': 'Hemophilia A', ...     step1  "
      ]
     },
     "execution_count": 21,
     "metadata": {},
     "output_type": "execute_result"
    }
   ],
   "source": [
    "df_test2 = pd.read_csv(medQA_path + \"medQA_evaluation.tsv\",sep='\\t')\n",
    "df_test2.head()"
   ]
  },
  {
   "cell_type": "code",
   "execution_count": null,
   "id": "northern-money",
   "metadata": {},
   "outputs": [],
   "source": []
  }
 ],
 "metadata": {
  "kernelspec": {
   "display_name": "Python 3",
   "language": "python",
   "name": "python3"
  },
  "language_info": {
   "codemirror_mode": {
    "name": "ipython",
    "version": 3
   },
   "file_extension": ".py",
   "mimetype": "text/x-python",
   "name": "python",
   "nbconvert_exporter": "python",
   "pygments_lexer": "ipython3",
   "version": "3.7.9"
  }
 },
 "nbformat": 4,
 "nbformat_minor": 5
}
