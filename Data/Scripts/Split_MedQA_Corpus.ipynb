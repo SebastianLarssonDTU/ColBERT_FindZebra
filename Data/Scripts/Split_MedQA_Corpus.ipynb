{
 "cells": [
  {
   "cell_type": "code",
   "execution_count": 2,
   "id": "difficult-profit",
   "metadata": {},
   "outputs": [],
   "source": [
    "import pandas as pd\n",
    "import numpy as np\n",
    "from nltk.tokenize import word_tokenize, sent_tokenize\n",
    "from tqdm.notebook import tqdm\n",
    "import matplotlib.pyplot as plt\n",
    "from collections import Counter"
   ]
  },
  {
   "cell_type": "markdown",
   "id": "greek-russia",
   "metadata": {},
   "source": [
    "# Split the FindZebra corpus\n",
    "The FindZebra corpus contrains a lot of different articles on rare and orphan diseases, each of which has a unique CUI linked to it. The CUI identifies which disease the article is about. The article might potentially be about more than one disease, but only one CUI is connected to it. Even though the whole article is about one disease, some parts of the article might be more relevant than others. In this notebook, every article will be split into several passages to use for both training and retrieval. Every article will be identified with a unique apid (article passage id), and every passage will be linked to the apid of the article it came from.\n",
    "\n",
    "Further: Should I link METAMAP CUIs to the passages? Does that make sense?"
   ]
  },
  {
   "cell_type": "code",
   "execution_count": 17,
   "id": "transparent-prerequisite",
   "metadata": {},
   "outputs": [],
   "source": [
    "corpus_path = \"/scratch/s190619/Data_etc/MedQA/textbooks/combined_text_books.txt\"\n",
    "#corpus_path = \"/scratch/s190619/Data_etc/MedQA/textbooks/en/Anatomy_Gray.txt\"\n",
    "collection = []\n",
    "with open(corpus_path, 'r') as fd:\n",
    "    for row in fd:\n",
    "        if row != '\\n':\n",
    "            collection.append(row.replace(\"\\n\",\"\"))"
   ]
  },
  {
   "cell_type": "code",
   "execution_count": 18,
   "id": "respiratory-detector",
   "metadata": {},
   "outputs": [
    {
     "data": {
      "text/plain": [
       "['What is anatomy?',\n",
       " 'Anatomy includes those structures that can be seen grossly (without the aid of magnification) and microscopically (with the aid of magnification). Typically, when used by itself, the term anatomy tends to mean gross or macroscopic anatomy—that is, the study of structures that can be seen without using a microscopic. Microscopic anatomy, also called histology, is the study of cells and tissues using a microscope.',\n",
       " 'Anatomy forms the basis for the practice of medicine. Anatomy leads the physician toward an understanding of a patient’s disease, whether he or she is carrying out a physical examination or using the most advanced imaging techniques. Anatomy is also important for dentists, chiropractors, physical therapists, and all others involved in any aspect of patient treatment that begins with an analysis of clinical signs. The ability to interpret a clinical observation correctly is therefore the endpoint of a sound anatomical understanding.',\n",
       " 'Observation and visualization are the primary techniques a student should use to learn anatomy. Anatomy is much more than just memorization of lists of names. Although the language of anatomy is important, the network of information needed to visualize the position of physical structures in a patient goes far beyond simple memorization. Knowing the names of the various branches of the external carotid artery is not the same as being able to visualize the course of the lingual artery from its origin in the neck to its termination in the tongue. Similarly, understanding the organization of the soft palate, how it is related to the oral and nasal cavities, and how it moves during swallowing is very different from being able to recite the names of its individual muscles and nerves. An understanding of anatomy requires an understanding of the context in which the terminology can be remembered.',\n",
       " 'How can gross anatomy be studied?',\n",
       " 'The term anatomy is derived from the Greek word temnein, meaning “to cut.” Clearly, therefore, the study of anatomy is linked, at its root, to dissection, although dissection of cadavers by students is now augmented, or even in some cases replaced, by viewing prosected (previously dissected) material and plastic models, or using computer teaching modules and other learning aids.',\n",
       " 'Anatomy can be studied following either a regional or a systemic approach.',\n",
       " 'With a regional approach, each region of the body is studied separately and all aspects of that region are studied at the same time. For example, if the thorax is to be studied, all of its structures are examined.',\n",
       " 'This includes the vasculature, the nerves, the bones, the muscles, and all other structures and organs located in the region of the body defined as the thorax. After studying this region, the other regions of the body (i.e., the abdomen, pelvis, lower limb, upper limb, back, head, and neck) are studied in a similar fashion.',\n",
       " 'In contrast, in a systemic approach, each system of the body is studied and followed throughout the entire body. For example, a study of the cardiovascular system looks at the heart and all of the blood vessels in the body. When this is completed, the nervous system (brain, spinal cord, and all the nerves) might be examined in detail. This approach continues for the whole body until every system, including the nervous, skeletal, muscular, gastrointestinal, respiratory, lymphatic, and reproductive systems, has been studied.']"
      ]
     },
     "execution_count": 18,
     "metadata": {},
     "output_type": "execute_result"
    }
   ],
   "source": [
    "collection[:10]"
   ]
  },
  {
   "cell_type": "markdown",
   "id": "wrong-drinking",
   "metadata": {},
   "source": [
    "It looks like very short sentences with less than 10 words, wont give us any interesting information, but might simply be titles or the like. So we want to remove these."
   ]
  },
  {
   "cell_type": "code",
   "execution_count": 20,
   "id": "cultural-twelve",
   "metadata": {},
   "outputs": [
    {
     "name": "stdout",
     "output_type": "stream",
     "text": [
      "Number of documents before: 213313\n"
     ]
    },
    {
     "data": {
      "application/vnd.jupyter.widget-view+json": {
       "model_id": "caa74fb4994e407ba24300ec26be8fb2",
       "version_major": 2,
       "version_minor": 0
      },
      "text/plain": [
       "  0%|          | 0/213313 [00:00<?, ?it/s]"
      ]
     },
     "metadata": {},
     "output_type": "display_data"
    },
    {
     "name": "stdout",
     "output_type": "stream",
     "text": [
      "Number of documents after: 170552\n",
      "CPU times: user 2min 48s, sys: 1.05 s, total: 2min 49s\n",
      "Wall time: 2min 48s\n"
     ]
    }
   ],
   "source": [
    "%%time\n",
    "print(\"Number of documents before: %d\" %len(collection))\n",
    "collection = [x for x in tqdm(collection) if len(word_tokenize(x)) > 10]\n",
    "print(\"Number of documents after: %d\" %len(collection))"
   ]
  },
  {
   "cell_type": "code",
   "execution_count": 24,
   "id": "featured-stretch",
   "metadata": {},
   "outputs": [],
   "source": [
    "df = pd.DataFrame([])\n",
    "df[\"article\"] = collection\n",
    "df = df.reset_index()\n",
    "df.columns = [\"apid\",\"article\"]"
   ]
  },
  {
   "cell_type": "code",
   "execution_count": 25,
   "id": "legendary-advocacy",
   "metadata": {},
   "outputs": [
    {
     "data": {
      "text/html": [
       "<div>\n",
       "<style scoped>\n",
       "    .dataframe tbody tr th:only-of-type {\n",
       "        vertical-align: middle;\n",
       "    }\n",
       "\n",
       "    .dataframe tbody tr th {\n",
       "        vertical-align: top;\n",
       "    }\n",
       "\n",
       "    .dataframe thead th {\n",
       "        text-align: right;\n",
       "    }\n",
       "</style>\n",
       "<table border=\"1\" class=\"dataframe\">\n",
       "  <thead>\n",
       "    <tr style=\"text-align: right;\">\n",
       "      <th></th>\n",
       "      <th>apid</th>\n",
       "      <th>article</th>\n",
       "    </tr>\n",
       "  </thead>\n",
       "  <tbody>\n",
       "    <tr>\n",
       "      <th>0</th>\n",
       "      <td>0</td>\n",
       "      <td>Anatomy includes those structures that can be ...</td>\n",
       "    </tr>\n",
       "    <tr>\n",
       "      <th>1</th>\n",
       "      <td>1</td>\n",
       "      <td>Anatomy forms the basis for the practice of me...</td>\n",
       "    </tr>\n",
       "    <tr>\n",
       "      <th>2</th>\n",
       "      <td>2</td>\n",
       "      <td>Observation and visualization are the primary ...</td>\n",
       "    </tr>\n",
       "    <tr>\n",
       "      <th>3</th>\n",
       "      <td>3</td>\n",
       "      <td>The term anatomy is derived from the Greek wor...</td>\n",
       "    </tr>\n",
       "    <tr>\n",
       "      <th>4</th>\n",
       "      <td>4</td>\n",
       "      <td>Anatomy can be studied following either a regi...</td>\n",
       "    </tr>\n",
       "  </tbody>\n",
       "</table>\n",
       "</div>"
      ],
      "text/plain": [
       "   apid                                            article\n",
       "0     0  Anatomy includes those structures that can be ...\n",
       "1     1  Anatomy forms the basis for the practice of me...\n",
       "2     2  Observation and visualization are the primary ...\n",
       "3     3  The term anatomy is derived from the Greek wor...\n",
       "4     4  Anatomy can be studied following either a regi..."
      ]
     },
     "execution_count": 25,
     "metadata": {},
     "output_type": "execute_result"
    }
   ],
   "source": [
    "#df.columns = ['apid', 'title', 'article', 'cui', 'source', 'source_url', 'classification_map']\n",
    "df.head()"
   ]
  },
  {
   "cell_type": "markdown",
   "id": "joined-relay",
   "metadata": {},
   "source": [
    "### Passage length\n",
    "ColBERT prefers to take queries with a max length of 32, and documents with a max length of 180. Let's see how long a standard MedQA article is"
   ]
  },
  {
   "cell_type": "code",
   "execution_count": 27,
   "id": "outstanding-amsterdam",
   "metadata": {},
   "outputs": [
    {
     "data": {
      "application/vnd.jupyter.widget-view+json": {
       "model_id": "2f951e71302e44c28d031d679d9b2165",
       "version_major": 2,
       "version_minor": 0
      },
      "text/plain": [
       "  0%|          | 0/1000 [00:00<?, ?it/s]"
      ]
     },
     "metadata": {},
     "output_type": "display_data"
    },
    {
     "name": "stdout",
     "output_type": "stream",
     "text": [
      "45.624\n"
     ]
    }
   ],
   "source": [
    "k = 0\n",
    "for i in tqdm(range(1000)):\n",
    "    k += len(word_tokenize(df[\"article\"].iloc[i]))\n",
    "print(k/1000)"
   ]
  },
  {
   "cell_type": "markdown",
   "id": "acting-reflection",
   "metadata": {},
   "source": [
    "The documents are far too long. Let's find a good split. How about splitting with nltk?"
   ]
  },
  {
   "cell_type": "code",
   "execution_count": 28,
   "id": "thick-institute",
   "metadata": {},
   "outputs": [
    {
     "data": {
      "application/vnd.jupyter.widget-view+json": {
       "model_id": "320a8d98cfa340b6adbfb4c67d4a0d70",
       "version_major": 2,
       "version_minor": 0
      },
      "text/plain": [
       "  0%|          | 0/1000 [00:00<?, ?it/s]"
      ]
     },
     "metadata": {},
     "output_type": "display_data"
    },
    {
     "data": {
      "image/png": "[encoded data removed]",
      "text/plain": [
       "<Figure size 432x288 with 1 Axes>"
      ]
     },
     "metadata": {
      "needs_background": "light"
     },
     "output_type": "display_data"
    }
   ],
   "source": [
    "c = []\n",
    "for i in tqdm(range(1000)):\n",
    "    tmp = sent_tokenize(df[\"article\"].iloc[i])\n",
    "    for t in tmp:\n",
    "        c.append(len(word_tokenize(t)))\n",
    "\n",
    "c_keys = Counter(c).keys()\n",
    "c_values = Counter(c).values()\n",
    "plt.bar(c_keys,c_values)\n",
    "plt.xlim(0,200)\n",
    "plt.title(\"The distribution of the number of tokens in each passage\")\n",
    "plt.xlabel(\"Count of tokens in passage\")\n",
    "plt.ylabel(\"Number of sentences\")\n",
    "plt.show()\n",
    "        "
   ]
  },
  {
   "cell_type": "markdown",
   "id": "matched-hunger",
   "metadata": {},
   "source": [
    "Again, many of the splits are very short. We want to remove these as well"
   ]
  },
  {
   "cell_type": "markdown",
   "id": "established-evolution",
   "metadata": {},
   "source": [
    "Using NLTK to split on sentences, seem to provide a short average length, but one that keeps the number of tokens below 180. Since ColBERT retrieves 1000 documents, it might be good that they are so short, at least for the task of MedQA's multiple choice.\n",
    "\n",
    "### Split the articles with NLTK sentence tokeniser"
   ]
  },
  {
   "cell_type": "code",
   "execution_count": 30,
   "id": "amber-serial",
   "metadata": {},
   "outputs": [],
   "source": [
    "tqdm.pandas()"
   ]
  },
  {
   "cell_type": "code",
   "execution_count": 42,
   "id": "cultural-proxy",
   "metadata": {},
   "outputs": [
    {
     "data": {
      "application/vnd.jupyter.widget-view+json": {
       "model_id": "31a3aaff46c34b90916e2422fd62c71e",
       "version_major": 2,
       "version_minor": 0
      },
      "text/plain": [
       "  0%|          | 0/170552 [00:00<?, ?it/s]"
      ]
     },
     "metadata": {},
     "output_type": "display_data"
    }
   ],
   "source": [
    "df[\"passages\"] = df[\"article\"].progress_apply(lambda x: sent_tokenize(x))"
   ]
  },
  {
   "cell_type": "code",
   "execution_count": 35,
   "id": "joint-demonstration",
   "metadata": {},
   "outputs": [
    {
     "data": {
      "application/vnd.jupyter.widget-view+json": {
       "model_id": "a707bd853ac944f3b08cdbb241161b41",
       "version_major": 2,
       "version_minor": 0
      },
      "text/plain": [
       "  0%|          | 0/170552 [00:00<?, ?it/s]"
      ]
     },
     "metadata": {},
     "output_type": "display_data"
    }
   ],
   "source": [
    "# pass_split = []\n",
    "# for i in tqdm(range(df.shape[0])):\n",
    "#     pass_split.append([x for x in df[\"passages_tmp\"].iloc[i] if len(word_tokenize(x)) > 10])\n",
    "# df[\"passages\"] = pass_split"
   ]
  },
  {
   "cell_type": "code",
   "execution_count": 43,
   "id": "coordinate-aruba",
   "metadata": {},
   "outputs": [],
   "source": [
    "#df2 = df.drop(\"passages_tmp\",axis=1).copy()\n",
    "df2 = df.copy()"
   ]
  },
  {
   "cell_type": "code",
   "execution_count": 44,
   "id": "excited-lending",
   "metadata": {},
   "outputs": [
    {
     "data": {
      "text/html": [
       "<div>\n",
       "<style scoped>\n",
       "    .dataframe tbody tr th:only-of-type {\n",
       "        vertical-align: middle;\n",
       "    }\n",
       "\n",
       "    .dataframe tbody tr th {\n",
       "        vertical-align: top;\n",
       "    }\n",
       "\n",
       "    .dataframe thead th {\n",
       "        text-align: right;\n",
       "    }\n",
       "</style>\n",
       "<table border=\"1\" class=\"dataframe\">\n",
       "  <thead>\n",
       "    <tr style=\"text-align: right;\">\n",
       "      <th></th>\n",
       "      <th>apid</th>\n",
       "      <th>article</th>\n",
       "      <th>passages</th>\n",
       "      <th>passages_tmp</th>\n",
       "    </tr>\n",
       "  </thead>\n",
       "  <tbody>\n",
       "    <tr>\n",
       "      <th>0</th>\n",
       "      <td>0</td>\n",
       "      <td>Anatomy includes those structures that can be ...</td>\n",
       "      <td>[Anatomy includes those structures that can be...</td>\n",
       "      <td>[Anatomy includes those structures that can be...</td>\n",
       "    </tr>\n",
       "    <tr>\n",
       "      <th>1</th>\n",
       "      <td>1</td>\n",
       "      <td>Anatomy forms the basis for the practice of me...</td>\n",
       "      <td>[Anatomy forms the basis for the practice of m...</td>\n",
       "      <td>[Anatomy forms the basis for the practice of m...</td>\n",
       "    </tr>\n",
       "    <tr>\n",
       "      <th>2</th>\n",
       "      <td>2</td>\n",
       "      <td>Observation and visualization are the primary ...</td>\n",
       "      <td>[Observation and visualization are the primary...</td>\n",
       "      <td>[Observation and visualization are the primary...</td>\n",
       "    </tr>\n",
       "    <tr>\n",
       "      <th>3</th>\n",
       "      <td>3</td>\n",
       "      <td>The term anatomy is derived from the Greek wor...</td>\n",
       "      <td>[The term anatomy is derived from the Greek wo...</td>\n",
       "      <td>[The term anatomy is derived from the Greek wo...</td>\n",
       "    </tr>\n",
       "    <tr>\n",
       "      <th>4</th>\n",
       "      <td>4</td>\n",
       "      <td>Anatomy can be studied following either a regi...</td>\n",
       "      <td>[Anatomy can be studied following either a reg...</td>\n",
       "      <td>[Anatomy can be studied following either a reg...</td>\n",
       "    </tr>\n",
       "  </tbody>\n",
       "</table>\n",
       "</div>"
      ],
      "text/plain": [
       "   apid                                            article  \\\n",
       "0     0  Anatomy includes those structures that can be ...   \n",
       "1     1  Anatomy forms the basis for the practice of me...   \n",
       "2     2  Observation and visualization are the primary ...   \n",
       "3     3  The term anatomy is derived from the Greek wor...   \n",
       "4     4  Anatomy can be studied following either a regi...   \n",
       "\n",
       "                                            passages  \\\n",
       "0  [Anatomy includes those structures that can be...   \n",
       "1  [Anatomy forms the basis for the practice of m...   \n",
       "2  [Observation and visualization are the primary...   \n",
       "3  [The term anatomy is derived from the Greek wo...   \n",
       "4  [Anatomy can be studied following either a reg...   \n",
       "\n",
       "                                        passages_tmp  \n",
       "0  [Anatomy includes those structures that can be...  \n",
       "1  [Anatomy forms the basis for the practice of m...  \n",
       "2  [Observation and visualization are the primary...  \n",
       "3  [The term anatomy is derived from the Greek wo...  \n",
       "4  [Anatomy can be studied following either a reg...  "
      ]
     },
     "execution_count": 44,
     "metadata": {},
     "output_type": "execute_result"
    }
   ],
   "source": [
    "df2.head()"
   ]
  },
  {
   "cell_type": "code",
   "execution_count": 45,
   "id": "smooth-colony",
   "metadata": {},
   "outputs": [
    {
     "data": {
      "application/vnd.jupyter.widget-view+json": {
       "model_id": "285d7bf049cb42d484d3fedbc7e6100a",
       "version_major": 2,
       "version_minor": 0
      },
      "text/plain": [
       "  0%|          | 0/170552 [00:00<?, ?it/s]"
      ]
     },
     "metadata": {},
     "output_type": "display_data"
    },
    {
     "name": "stdout",
     "output_type": "stream",
     "text": [
      "CPU times: user 40.4 s, sys: 40.1 s, total: 1min 20s\n",
      "Wall time: 1min 20s\n"
     ]
    }
   ],
   "source": [
    "%%time\n",
    "passages = []\n",
    "apid = []\n",
    "for i in tqdm(range(df2.shape[0])):\n",
    "    for sent in df[\"passages\"].iloc[i]:\n",
    "        passages.append(sent)\n",
    "        apid.append(df[\"apid\"].iloc[i])\n",
    "        \n",
    "df3 = pd.DataFrame(np.array([apid,passages]).T)\n",
    "df3 = df3.reset_index()"
   ]
  },
  {
   "cell_type": "code",
   "execution_count": 46,
   "id": "italic-chambers",
   "metadata": {},
   "outputs": [
    {
     "data": {
      "text/html": [
       "<div>\n",
       "<style scoped>\n",
       "    .dataframe tbody tr th:only-of-type {\n",
       "        vertical-align: middle;\n",
       "    }\n",
       "\n",
       "    .dataframe tbody tr th {\n",
       "        vertical-align: top;\n",
       "    }\n",
       "\n",
       "    .dataframe thead th {\n",
       "        text-align: right;\n",
       "    }\n",
       "</style>\n",
       "<table border=\"1\" class=\"dataframe\">\n",
       "  <thead>\n",
       "    <tr style=\"text-align: right;\">\n",
       "      <th></th>\n",
       "      <th>pid</th>\n",
       "      <th>apid</th>\n",
       "      <th>passages</th>\n",
       "    </tr>\n",
       "  </thead>\n",
       "  <tbody>\n",
       "    <tr>\n",
       "      <th>0</th>\n",
       "      <td>0</td>\n",
       "      <td>0</td>\n",
       "      <td>Anatomy includes those structures that can be ...</td>\n",
       "    </tr>\n",
       "    <tr>\n",
       "      <th>1</th>\n",
       "      <td>1</td>\n",
       "      <td>0</td>\n",
       "      <td>Typically, when used by itself, the term anato...</td>\n",
       "    </tr>\n",
       "    <tr>\n",
       "      <th>2</th>\n",
       "      <td>2</td>\n",
       "      <td>0</td>\n",
       "      <td>Microscopic anatomy, also called histology, is...</td>\n",
       "    </tr>\n",
       "    <tr>\n",
       "      <th>3</th>\n",
       "      <td>3</td>\n",
       "      <td>1</td>\n",
       "      <td>Anatomy forms the basis for the practice of me...</td>\n",
       "    </tr>\n",
       "    <tr>\n",
       "      <th>4</th>\n",
       "      <td>4</td>\n",
       "      <td>1</td>\n",
       "      <td>Anatomy leads the physician toward an understa...</td>\n",
       "    </tr>\n",
       "  </tbody>\n",
       "</table>\n",
       "</div>"
      ],
      "text/plain": [
       "   pid  apid                                           passages\n",
       "0    0     0  Anatomy includes those structures that can be ...\n",
       "1    1     0  Typically, when used by itself, the term anato...\n",
       "2    2     0  Microscopic anatomy, also called histology, is...\n",
       "3    3     1  Anatomy forms the basis for the practice of me...\n",
       "4    4     1  Anatomy leads the physician toward an understa..."
      ]
     },
     "execution_count": 46,
     "metadata": {},
     "output_type": "execute_result"
    }
   ],
   "source": [
    "df3.columns = [\"pid\",\"apid\",\"passages\"]\n",
    "df3[\"apid\"] = df3[\"apid\"].astype(int)\n",
    "#df4 = df3.join(df[[\"apid\"]].set_index(\"apid\"), on=\"apid\")\n",
    "df3.head()"
   ]
  },
  {
   "cell_type": "markdown",
   "id": "considerable-grain",
   "metadata": {},
   "source": [
    "## Export to tsv\n",
    "The full dataset is exported to use for end evaluation, and a subset containing only the unique pid and passages, are exported to be used as the retrieval corpus in FindZebra."
   ]
  },
  {
   "cell_type": "code",
   "execution_count": 47,
   "id": "adult-potential",
   "metadata": {},
   "outputs": [],
   "source": [
    "dir_path = \"/scratch/s190619/Data_etc/MedQA/\"\n",
    "save_full_name = \"MedQA_corpus_split_w_info.tsv\"\n",
    "save_retrieval_name = \"MedQA_corpus_split.tsv\"\n",
    "\n",
    "df3.to_csv(dir_path + save_full_name, sep=\"\\t\")\n",
    "df3[[\"pid\",\"passages\"]].to_csv(dir_path + save_retrieval_name, sep=\"\\t\",header=False,index=False)"
   ]
  },
  {
   "cell_type": "code",
   "execution_count": 3,
   "id": "invisible-essence",
   "metadata": {},
   "outputs": [
    {
     "data": {
      "text/plain": [
       "(712054, 2)"
      ]
     },
     "execution_count": 3,
     "metadata": {},
     "output_type": "execute_result"
    }
   ],
   "source": [
    "dir_path = \"/scratch/s190619/Data_etc/MedQA/\"\n",
    "save_full_name = \"MedQA_corpus_split_w_info.tsv\"\n",
    "save_retrieval_name = \"MedQA_corpus_split.tsv\"\n",
    "\n",
    "pd.read_csv(dir_path + save_retrieval_name, sep=\"\\t\").shape"
   ]
  },
  {
   "cell_type": "markdown",
   "id": "going-client",
   "metadata": {},
   "source": [
    "# Get the most relevant passage from document using BM25\n",
    "\n",
    "### Load queries"
   ]
  },
  {
   "cell_type": "code",
   "execution_count": 237,
   "id": "becoming-feeling",
   "metadata": {},
   "outputs": [],
   "source": [
    "from rank_bm25 import BM25Okapi"
   ]
  },
  {
   "cell_type": "code",
   "execution_count": 7,
   "id": "arbitrary-emerald",
   "metadata": {},
   "outputs": [
    {
     "data": {
      "text/html": [
       "<div>\n",
       "<style scoped>\n",
       "    .dataframe tbody tr th:only-of-type {\n",
       "        vertical-align: middle;\n",
       "    }\n",
       "\n",
       "    .dataframe tbody tr th {\n",
       "        vertical-align: top;\n",
       "    }\n",
       "\n",
       "    .dataframe thead th {\n",
       "        text-align: right;\n",
       "    }\n",
       "</style>\n",
       "<table border=\"1\" class=\"dataframe\">\n",
       "  <thead>\n",
       "    <tr style=\"text-align: right;\">\n",
       "      <th></th>\n",
       "      <th>qid</th>\n",
       "      <th>query</th>\n",
       "      <th>answer</th>\n",
       "      <th>options</th>\n",
       "      <th>meta_info</th>\n",
       "      <th>Disorder</th>\n",
       "      <th>CUI</th>\n",
       "      <th>TUI</th>\n",
       "      <th>short_category</th>\n",
       "      <th>long_category</th>\n",
       "      <th>description</th>\n",
       "      <th>cui_METAMAP</th>\n",
       "    </tr>\n",
       "  </thead>\n",
       "  <tbody>\n",
       "    <tr>\n",
       "      <th>882</th>\n",
       "      <td>3602</td>\n",
       "      <td>A 10-year-old boy who recently immigrated to t...</td>\n",
       "      <td>t(8;14)</td>\n",
       "      <td>{'A': 't(8;14)', 'B': 't(9;22)', 'C': 't(11;14...</td>\n",
       "      <td>step1</td>\n",
       "      <td>True</td>\n",
       "      <td>C4287935</td>\n",
       "      <td>T049</td>\n",
       "      <td>DISO</td>\n",
       "      <td>Disorders</td>\n",
       "      <td>Cell or Molecular Dysfunction</td>\n",
       "      <td>[]</td>\n",
       "    </tr>\n",
       "    <tr>\n",
       "      <th>883</th>\n",
       "      <td>3603</td>\n",
       "      <td>An investigator is studying the teratogenicity...</td>\n",
       "      <td>Cleft lip</td>\n",
       "      <td>{'A': 'Cleft palate', 'B': 'Cleft lip', 'C': '...</td>\n",
       "      <td>step1</td>\n",
       "      <td>True</td>\n",
       "      <td>C4321245</td>\n",
       "      <td>T190</td>\n",
       "      <td>DISO</td>\n",
       "      <td>Disorders</td>\n",
       "      <td>Anatomical Abnormality</td>\n",
       "      <td>['C0008924', 'C4321245']</td>\n",
       "    </tr>\n",
       "    <tr>\n",
       "      <th>884</th>\n",
       "      <td>3604</td>\n",
       "      <td>A 79-year-old woman who lives alone is brought...</td>\n",
       "      <td>Delirium</td>\n",
       "      <td>{'A': \"Alzheimer's dementia\", 'B': 'Depression...</td>\n",
       "      <td>step2&amp;3</td>\n",
       "      <td>True</td>\n",
       "      <td>C0011206</td>\n",
       "      <td>T048</td>\n",
       "      <td>DISO</td>\n",
       "      <td>Disorders</td>\n",
       "      <td>Mental or Behavioral Dysfunction</td>\n",
       "      <td>['C0011206', 'C4552941']</td>\n",
       "    </tr>\n",
       "    <tr>\n",
       "      <th>885</th>\n",
       "      <td>3604</td>\n",
       "      <td>A 79-year-old woman who lives alone is brought...</td>\n",
       "      <td>Delirium</td>\n",
       "      <td>{'A': \"Alzheimer's dementia\", 'B': 'Depression...</td>\n",
       "      <td>step2&amp;3</td>\n",
       "      <td>True</td>\n",
       "      <td>C4552941</td>\n",
       "      <td>T033</td>\n",
       "      <td>DISO</td>\n",
       "      <td>Disorders</td>\n",
       "      <td>Finding</td>\n",
       "      <td>['C0011206', 'C4552941']</td>\n",
       "    </tr>\n",
       "    <tr>\n",
       "      <th>886</th>\n",
       "      <td>3620</td>\n",
       "      <td>A 51-year-old man comes to the physician becau...</td>\n",
       "      <td>Chronic pelvic pain syndrome</td>\n",
       "      <td>{'A': 'Prostatic abscess', 'B': 'Benign prosta...</td>\n",
       "      <td>step2&amp;3</td>\n",
       "      <td>True</td>\n",
       "      <td>C1536168</td>\n",
       "      <td>T184</td>\n",
       "      <td>DISO</td>\n",
       "      <td>Disorders</td>\n",
       "      <td>Sign or Symptom</td>\n",
       "      <td>['C0039082', 'C1298685', 'C0404484', 'C0152078']</td>\n",
       "    </tr>\n",
       "  </tbody>\n",
       "</table>\n",
       "</div>"
      ],
      "text/plain": [
       "      qid                                              query  \\\n",
       "882  3602  A 10-year-old boy who recently immigrated to t...   \n",
       "883  3603  An investigator is studying the teratogenicity...   \n",
       "884  3604  A 79-year-old woman who lives alone is brought...   \n",
       "885  3604  A 79-year-old woman who lives alone is brought...   \n",
       "886  3620  A 51-year-old man comes to the physician becau...   \n",
       "\n",
       "                           answer  \\\n",
       "882                       t(8;14)   \n",
       "883                     Cleft lip   \n",
       "884                      Delirium   \n",
       "885                      Delirium   \n",
       "886  Chronic pelvic pain syndrome   \n",
       "\n",
       "                                               options meta_info  Disorder  \\\n",
       "882  {'A': 't(8;14)', 'B': 't(9;22)', 'C': 't(11;14...     step1      True   \n",
       "883  {'A': 'Cleft palate', 'B': 'Cleft lip', 'C': '...     step1      True   \n",
       "884  {'A': \"Alzheimer's dementia\", 'B': 'Depression...   step2&3      True   \n",
       "885  {'A': \"Alzheimer's dementia\", 'B': 'Depression...   step2&3      True   \n",
       "886  {'A': 'Prostatic abscess', 'B': 'Benign prosta...   step2&3      True   \n",
       "\n",
       "          CUI   TUI short_category long_category  \\\n",
       "882  C4287935  T049           DISO     Disorders   \n",
       "883  C4321245  T190           DISO     Disorders   \n",
       "884  C0011206  T048           DISO     Disorders   \n",
       "885  C4552941  T033           DISO     Disorders   \n",
       "886  C1536168  T184           DISO     Disorders   \n",
       "\n",
       "                          description  \\\n",
       "882     Cell or Molecular Dysfunction   \n",
       "883            Anatomical Abnormality   \n",
       "884  Mental or Behavioral Dysfunction   \n",
       "885                           Finding   \n",
       "886                   Sign or Symptom   \n",
       "\n",
       "                                          cui_METAMAP  \n",
       "882                                                []  \n",
       "883                          ['C0008924', 'C4321245']  \n",
       "884                          ['C0011206', 'C4552941']  \n",
       "885                          ['C0011206', 'C4552941']  \n",
       "886  ['C0039082', 'C1298685', 'C0404484', 'C0152078']  "
      ]
     },
     "execution_count": 7,
     "metadata": {},
     "output_type": "execute_result"
    }
   ],
   "source": [
    "q_path = \"/scratch/s190619/Data_etc/MedQA/disorders_table_train.csv\"\n",
    "qs = pd.read_csv(q_path)\n",
    "qs.iloc[882:].head(5)"
   ]
  },
  {
   "cell_type": "code",
   "execution_count": 280,
   "id": "pharmaceutical-bridges",
   "metadata": {},
   "outputs": [],
   "source": [
    "def rank_documents(q,a,docs, apid = None):\n",
    "    # The sentences are very short, so (and to) conserve context, let each doc be the \n",
    "    # sentence + the preceding one\n",
    "    if len(docs) > 2:\n",
    "        docs = [docs[i] + \" \" + docs[i+1] for i in range(0,len(docs)-1)]\n",
    "    else:\n",
    "        docs = docs\n",
    "    docs = [x for x in docs if a in x]\n",
    "    # Tokenise the corpus\n",
    "    tokenised_corpus = [word_tokenize(x) for x in docs]\n",
    "    qt = word_tokenize(q)\n",
    "    # Get the most relevant compared to the query, using BM25\n",
    "    bm25 = BM25Okapi(tokenised_corpus)\n",
    "    doc_scores = bm25.get_scores(qt)\n",
    "    if apid != None:\n",
    "        ranking = np.array([[apid[i],list(docs)[i],doc_scores[i]] for i in range(len(docs))])\n",
    "        rdf = pd.DataFrame(ranking)\n",
    "        rdf.columns = [\"apid\",\"passage\",\"score\"]\n",
    "    else:\n",
    "        ranking = np.array([[list(docs)[i],doc_scores[i]] for i in range(len(docs))])\n",
    "        rdf = pd.DataFrame(ranking)\n",
    "        rdf.columns = [\"passage\",\"score\"]\n",
    "    rdf[\"score\"] = rdf[\"score\"].astype(float)\n",
    "    rdf = rdf.sort_values(by=\"score\",ascending=False)\n",
    "    return rdf"
   ]
  },
  {
   "cell_type": "code",
   "execution_count": 250,
   "id": "suffering-cedar",
   "metadata": {},
   "outputs": [],
   "source": [
    "q = qs[\"query\"].iloc[0].lower()\n",
    "a = qs[\"answer\"].iloc[0].lower()"
   ]
  },
  {
   "cell_type": "code",
   "execution_count": 128,
   "id": "temporal-raleigh",
   "metadata": {},
   "outputs": [],
   "source": [
    "# Get articles that contain the answer\n",
    "ps = df[\"article\"][df[\"article\"].str.contains(a)]\n",
    "# Tokenise the corpus\n",
    "tokenised_corpus = [word_tokenize(x) for x in ps]\n",
    "qt = word_tokenize(q)\n",
    "# Get the most relevant compared to the query, using BM25\n",
    "bm25 = BM25Okapi(tokenised_corpus)\n",
    "doc_scores = bm25.get_scores(qt)\n",
    "ranking = np.array([[list(ps)[i],doc_scores[i]] for i in range(len(ps))])\n",
    "#doc_scores = bm25.get_top_n(qt,tokenised_corpus,n=1)"
   ]
  },
  {
   "cell_type": "code",
   "execution_count": 134,
   "id": "backed-concord",
   "metadata": {},
   "outputs": [],
   "source": [
    "rdf = pd.DataFrame(ranking)"
   ]
  },
  {
   "cell_type": "code",
   "execution_count": 149,
   "id": "impressive-postage",
   "metadata": {},
   "outputs": [
    {
     "data": {
      "text/html": [
       "<div>\n",
       "<style scoped>\n",
       "    .dataframe tbody tr th:only-of-type {\n",
       "        vertical-align: middle;\n",
       "    }\n",
       "\n",
       "    .dataframe tbody tr th {\n",
       "        vertical-align: top;\n",
       "    }\n",
       "\n",
       "    .dataframe thead th {\n",
       "        text-align: right;\n",
       "    }\n",
       "</style>\n",
       "<table border=\"1\" class=\"dataframe\">\n",
       "  <thead>\n",
       "    <tr style=\"text-align: right;\">\n",
       "      <th></th>\n",
       "      <th>passage</th>\n",
       "      <th>score</th>\n",
       "    </tr>\n",
       "  </thead>\n",
       "  <tbody>\n",
       "    <tr>\n",
       "      <th>31</th>\n",
       "      <td>Disease caused by severe acute respiratory syn...</td>\n",
       "      <td>133.352631</td>\n",
       "    </tr>\n",
       "    <tr>\n",
       "      <th>81</th>\n",
       "      <td>Death of a region of brain cells due to poor b...</td>\n",
       "      <td>130.078361</td>\n",
       "    </tr>\n",
       "    <tr>\n",
       "      <th>68</th>\n",
       "      <td>Sarcoidosis is a disease involving abnormal co...</td>\n",
       "      <td>130.045586</td>\n",
       "    </tr>\n",
       "    <tr>\n",
       "      <th>52</th>\n",
       "      <td>Overview about the effects of COVID-19 infecti...</td>\n",
       "      <td>129.848091</td>\n",
       "    </tr>\n",
       "    <tr>\n",
       "      <th>48</th>\n",
       "      <td>Blockage of one or more of the arteries to the...</td>\n",
       "      <td>128.726907</td>\n",
       "    </tr>\n",
       "  </tbody>\n",
       "</table>\n",
       "</div>"
      ],
      "text/plain": [
       "                                              passage       score\n",
       "31  Disease caused by severe acute respiratory syn...  133.352631\n",
       "81  Death of a region of brain cells due to poor b...  130.078361\n",
       "68  Sarcoidosis is a disease involving abnormal co...  130.045586\n",
       "52  Overview about the effects of COVID-19 infecti...  129.848091\n",
       "48  Blockage of one or more of the arteries to the...  128.726907"
      ]
     },
     "execution_count": 149,
     "metadata": {},
     "output_type": "execute_result"
    }
   ],
   "source": [
    "rdf.columns = [\"passage\",\"score\"]\n",
    "rdf[\"score\"] = rdf[\"score\"].astype(float)\n",
    "rdf = rdf.sort_values(by=\"score\",ascending=False)\n",
    "rdf.head(5)"
   ]
  },
  {
   "cell_type": "code",
   "execution_count": 241,
   "id": "selected-statistics",
   "metadata": {},
   "outputs": [],
   "source": [
    "num1 = list(sent_tokenize(rdf[\"passage\"].iloc[0]))\n",
    "ranked = rank_documents(q,num1)"
   ]
  },
  {
   "cell_type": "code",
   "execution_count": 242,
   "id": "charged-guyana",
   "metadata": {},
   "outputs": [
    {
     "data": {
      "text/html": [
       "<div>\n",
       "<style scoped>\n",
       "    .dataframe tbody tr th:only-of-type {\n",
       "        vertical-align: middle;\n",
       "    }\n",
       "\n",
       "    .dataframe tbody tr th {\n",
       "        vertical-align: top;\n",
       "    }\n",
       "\n",
       "    .dataframe thead th {\n",
       "        text-align: right;\n",
       "    }\n",
       "</style>\n",
       "<table border=\"1\" class=\"dataframe\">\n",
       "  <thead>\n",
       "    <tr style=\"text-align: right;\">\n",
       "      <th></th>\n",
       "      <th>passage</th>\n",
       "      <th>score</th>\n",
       "    </tr>\n",
       "  </thead>\n",
       "  <tbody>\n",
       "    <tr>\n",
       "      <th>256</th>\n",
       "      <td>In May 2020, George Gao, the director of the C...</td>\n",
       "      <td>59.695831</td>\n",
       "    </tr>\n",
       "    <tr>\n",
       "      <th>64</th>\n",
       "      <td>An acute cardiac injury was found in 12% of in...</td>\n",
       "      <td>58.613780</td>\n",
       "    </tr>\n",
       "    <tr>\n",
       "      <th>292</th>\n",
       "      <td>Research on the antimalarial drugs hydroxychlo...</td>\n",
       "      <td>52.617617</td>\n",
       "    </tr>\n",
       "    <tr>\n",
       "      <th>257</th>\n",
       "      <td>Traces of the virus have been found in wastewa...</td>\n",
       "      <td>52.556400</td>\n",
       "    </tr>\n",
       "    <tr>\n",
       "      <th>293</th>\n",
       "      <td>Because this is a well tested and widely avail...</td>\n",
       "      <td>52.453788</td>\n",
       "    </tr>\n",
       "    <tr>\n",
       "      <th>...</th>\n",
       "      <td>...</td>\n",
       "      <td>...</td>\n",
       "    </tr>\n",
       "    <tr>\n",
       "      <th>49</th>\n",
       "      <td>Several different clade nomenclatures have bee...</td>\n",
       "      <td>11.564277</td>\n",
       "    </tr>\n",
       "    <tr>\n",
       "      <th>142</th>\n",
       "      <td>Ultraviolet germicidal irradiation may also be...</td>\n",
       "      <td>11.564277</td>\n",
       "    </tr>\n",
       "    <tr>\n",
       "      <th>250</th>\n",
       "      <td>Phylogenetics estimates that SARS-CoV-2 arose ...</td>\n",
       "      <td>11.441921</td>\n",
       "    </tr>\n",
       "    <tr>\n",
       "      <th>276</th>\n",
       "      <td>By 15 June 79 cases were officially confirmed.</td>\n",
       "      <td>11.360822</td>\n",
       "    </tr>\n",
       "    <tr>\n",
       "      <th>4</th>\n",
       "      <td>Around one in five infected individuals do not...</td>\n",
       "      <td>11.250711</td>\n",
       "    </tr>\n",
       "  </tbody>\n",
       "</table>\n",
       "<p>318 rows × 2 columns</p>\n",
       "</div>"
      ],
      "text/plain": [
       "                                               passage      score\n",
       "256  In May 2020, George Gao, the director of the C...  59.695831\n",
       "64   An acute cardiac injury was found in 12% of in...  58.613780\n",
       "292  Research on the antimalarial drugs hydroxychlo...  52.617617\n",
       "257  Traces of the virus have been found in wastewa...  52.556400\n",
       "293  Because this is a well tested and widely avail...  52.453788\n",
       "..                                                 ...        ...\n",
       "49   Several different clade nomenclatures have bee...  11.564277\n",
       "142  Ultraviolet germicidal irradiation may also be...  11.564277\n",
       "250  Phylogenetics estimates that SARS-CoV-2 arose ...  11.441921\n",
       "276     By 15 June 79 cases were officially confirmed.  11.360822\n",
       "4    Around one in five infected individuals do not...  11.250711\n",
       "\n",
       "[318 rows x 2 columns]"
      ]
     },
     "execution_count": 242,
     "metadata": {},
     "output_type": "execute_result"
    }
   ],
   "source": [
    "ranked"
   ]
  },
  {
   "cell_type": "code",
   "execution_count": 281,
   "id": "fresh-recording",
   "metadata": {},
   "outputs": [],
   "source": [
    "# Get articles that contain the answer\n",
    "df2 = df.copy()\n",
    "df2[\"article\"] = [x.lower() for x in df2[\"article\"]]\n",
    "ps = df2[\"article\"][df2[\"article\"].str.contains(a)]\n",
    "apid = list(df2[df2[\"article\"].str.contains(a)].loc[:,\"apid\"])\n",
    "# Tokenise the corpus into sentences\n",
    "sent_tokenised_corpus = [sent_tokenize(x) for x in ps]\n",
    "# Get the top 1 sentence for each document\n",
    "top_tokenised_corpus = [rank_documents(q,a,sent_tokenised_corpus[i])[\"passage\"].iloc[0] for i in range(len(sent_tokenised_corpus))]\n",
    "\n",
    "ranking = rank_documents(q,a,top_tokenised_corpus,apid)\n",
    "#ranking[\"apid\"] = apid"
   ]
  },
  {
   "cell_type": "code",
   "execution_count": 282,
   "id": "electronic-niagara",
   "metadata": {},
   "outputs": [
    {
     "name": "stdout",
     "output_type": "stream",
     "text": [
      "\n",
      " this type of embolism is known as a thromboembolism . complications can arise when a venous thromboembolism (commonly called a vte) lodges in the lung as a pulmonary embolism . supraphysiologic production of vegf from many follicles under the prolonged effect of hcg appears to be the specific key process underlying ohss. thus, while the woman accumulates fluid in the third space, primarily in the form of ascites , she actually becomes hypovolemic and is at risk for respiratory, circulatory (such as arterial thromboembolism since blood is now thicker), and renal problems.\n",
      "\n",
      " [2] [4] a study of more than 200,000 women came to the result that admission to inpatient care during pregnancy was associated with an 18-fold increase in the risk of venous thromboembolism (vte) during the stay, and a 6-fold increase in risk in the four weeks after discharge, compared with pregnant women who did not require hospitalization. [5] the study included women admitted to hospital for one or more days for reasons other than delivery or venous thromboembolism. peripartum cardiomyopathy other names post-partum cardiomyopathy [1] specialty obstetrics , cardiology peripartum cardiomyopathy (ppcm) is a form of dilated cardiomyopathy that is defined as a deterioration in cardiac function presenting typically between the last month of pregnancy and up to six months postpartum . as with other forms of dilated cardiomyopathy, ppcm involves systolic dysfunction of the heart with a decrease of the left ventricular ejection fraction (ef) with associated congestive heart failure and an increased risk of atrial and ventricular arrhythmias , thromboembolism (blockage of a blood vessel by a blood clot), and even sudden cardiac death .\n",
      "\n",
      " thrombotic events occurred more often in years in which the patient had been immobile for more than a week or had had surgery. there was no predisposing event such as surgery or pregnancy in 50% of all first episodes and 65% of recurrences of venous thromboembolism in the heterozygotes. the natural history of mvp varies from benign, with a normal life expectancy, to severe complications associated with the development of significant mitral regurgitation, including congestive heart failure, bacterial endocarditis, atrial fibrillation, thromboembolism, and even sudden death. however, complications are uncommon, affecting less than 3% of individuals with mvp (freed et al., 1999; grau et al., 2007; delling and vasan, 2014).\n",
      "\n",
      " venous thromboembolism most commonly manifests as deep vein thrombosis, which may progress to pulmonary embolism if the clot dislodges and travels to the lung. other manifestations include thromboses of the cerebral or visceral veins and recurrent pregnancy loss (summary by seligsohn and lubetsky, 2001 and varga and kujovich, 2012). thrombotic events occurred more often in years in which the patient had been immobile for more than a week or had had surgery. there was no predisposing event such as surgery or pregnancy in 50% of all first episodes and 65% of recurrences of venous thromboembolism in the heterozygotes.\n",
      "\n",
      " the blockages either result from organised (or hardened) blood clots that usually originate from the deep veins of the lower limbs of the body ( thromboembolism ) and lodge in the pulmonary arterial tree after passing through the right side of the heart. the blockages may also result from scar tissue that forms at the site where the clot has damaged the endothelial lining of the pulmonary arteries, causing permanent fibrous obstruction (blood flow blockage). [18] the rcog advised in early april 2020 that because pregnancy is a hypercoagulable state and that people admitted to hospital with covid-19 are also hypercoagulable, infection with covid-19 could increase the risk of venous thromboembolism and that this risk could be compounded by reduced mobility due to self-isolating. [19] their guidelines thus advise that any pregnant woman admitted to hospital with a covid-19 infection should receive at least 10 days of prophylactic low-molecular-weight heparin after being discharged from the hospital.\n",
      "\n",
      " (1996) observed a 23-year-old female and her 19-year-old sister, the offspring of a first-cousin marriage, who presented with unusual recurrent severe thromboembolic phenomenon and were found to have familial antiphospholipid syndrome and also to be heterozygous for the r506q mutation of factor v (612309.0001). the coexistence of hereditary and acquired apc-resistance was thought to explain the severity of the thromboembolism. it is often asymptomatic or presents shortly after birth with respiratory distress, stridor, cyanosis and/or weak cry. complications, such as rupture, thromboembolism, infection, airway erosion and/or compression of the adjacent thoracic structures, can develop.\n",
      "\n",
      " supraphysiologic production of vegf from many follicles under the prolonged effect of hcg appears to be the specific key process underlying ohss. thus, while the woman accumulates fluid in the third space, primarily in the form of ascites , she actually becomes hypovolemic and is at risk for respiratory, circulatory (such as arterial thromboembolism since blood is now thicker), and renal problems. ^ tepper nk, whiteman mk, marchbanks pa, james ah, curtis km (december 2016). \"progestin-only contraception and thromboembolism: a systematic review\".\n",
      "\n",
      " loeffler's endocarditis is a rare restrictive cardiomyopathy (see this term) characterized by hypereosinophilia and fibrous thickening of the endocardium, with usually large thrombi against the ventricle walls, that can lead to cardiovascular complications such as heart failure and thromboembolism. it manifests with symptoms like edema, fatigue and shortness of breath. arterial embolism an embolized fragment of an atrial myxoma at the iliac bifurcation (a tumor embolus) specialty cardiology arterial embolism is a sudden interruption of blood flow to an organ or body part due to an embolus adhering to the wall of an artery blocking the flow of blood, [1] the major type of embolus being a blood clot ( thromboembolism ). sometimes, pulmonary embolism is classified as arterial embolism as well, [2] in the sense that the clot follows the pulmonary artery carrying deoxygenated blood away from the heart.\n",
      "\n",
      " [6] other causes include: takayasu's arteritis [7] giant cell arteritis [8] severe ophthalmic artery occlusion, due to thromboembolism . surgical interruption of anterior ciliary blood vessels supplying the eye, particularly during extensive strabismus surgery on 3 or more rectus muscles , leading to an anterior segment ischemic syndrome . [2] [4] a study of more than 200,000 women came to the result that admission to inpatient care during pregnancy was associated with an 18-fold increase in the risk of venous thromboembolism (vte) during the stay, and a 6-fold increase in risk in the four weeks after discharge, compared with pregnant women who did not require hospitalization. [5] the study included women admitted to hospital for one or more days for reasons other than delivery or venous thromboembolism.\n",
      "\n",
      " [ citation needed ] the superior mesenteric artery supplies: small bowel ascending and proximal two-thirds of the transverse colon the inferior mesenteric artery supplies: distal one-third of the transverse colon descending colon sigmoid colon of note, the splenic flexure , or the junction between the transverse and descending colon, is supplied by the most distal portions of both the inferior mesenteric artery and superior mesenteric artery, and is thus referred to medically as a watershed area , or an area especially vulnerable to ischemia during periods of systemic hypoperfusion, such as in shock . acute abdomen of the ischemic variety is usually due to: a thromboembolism from the left side of the heart, such as may be generated during atrial fibrillation , occluding the sma. [1] a variety of medications have been developed to relax the blood vessels in the lung, calcium channel blockers are used [17] but only work in few cases and according to nice are not recommended for use at all. [18] anticoagulants are used when venous thromboembolism is present.\n",
      "\n",
      " pulmonary emboli were once thought to cause transudative effusions, but have been recently shown to be exudative. [1] the mechanism for the exudative pleural effusion in pulmonary thromboembolism is probably related to increased permeability of the capillaries in the lung, which results from the release of cytokines or inflammatory mediators (e.g. peripartum cardiomyopathy [ edit ] peripartum cardiomyopathy is decrease in heart function which occurs in the last month of pregnancy, or up to six months post-pregnancy. it increases the risk of congestive heart failure , heart arrhythmias , thromboembolism , and cardiac arrest .\n",
      "\n",
      " the son had immature genitalia and an unbroken voice at age 16 but refused examinations. the father of the brother and sister had died from thromboembolism and was not available for study. in a patient presenting with recurrent venous thromboembolism, aiach et al. (1988) identified a reactive site variant (107300.0018) in the at3 gene.\n",
      "\n",
      " the natural history of mvp varies from benign, with a normal life expectancy, to severe complications associated with the development of significant mitral regurgitation, including congestive heart failure, bacterial endocarditis, atrial fibrillation, thromboembolism, and even sudden death. however, complications are uncommon, affecting less than 3% of individuals with mvp (freed et al., 1999; grau et al., 2007; delling and vasan, 2014). (1996) observed a 23-year-old female and her 19-year-old sister, the offspring of a first-cousin marriage, who presented with unusual recurrent severe thromboembolic phenomenon and were found to have familial antiphospholipid syndrome and also to be heterozygous for the r506q mutation of factor v (612309.0001). the coexistence of hereditary and acquired apc-resistance was thought to explain the severity of the thromboembolism.\n",
      "\n",
      " it is often asymptomatic or presents shortly after birth with respiratory distress, stridor, cyanosis and/or weak cry. complications, such as rupture, thromboembolism, infection, airway erosion and/or compression of the adjacent thoracic structures, can develop. the disease course can be characterized by three clinical phases: i) the acute phase (lasting approximately 2 months) with a presentation of severe lung edema, eosinophilia, rash and myalgia, ii) the intermediate phase (2-3 months) with dysphagia, cramps, severe myalgia, skin edema, pulmonary hypertension, paresthesia, major vessel thromboembolism and severe weight loss, iii) the chronic phase, where the skin edema evolves to scleroderma, and the neuromuscular manifestations into paresis and paralysis due to polyneuropathy. liver disease and fibrosis in major organs such as the pancreas and intestines are also present in patients with the poorest prognosis.\n",
      "\n",
      " two probands with complete deletion and the proband with partial duplication had positive family history and the cnv cosegregated with protein s deficiency in family members. inheritance - autosomal dominant cardiovascular vascular - venous thrombosis, recurrent - mesenteric thrombosis - cerebral venous thrombosis - arterial thrombosis - superficial thrombophlebitis respiratory lung - pulmonary embolism skin, nails, & hair skin - warfarin-induced skin necrosis laboratory abnormalities - absent/reduced protein s and normal total proteins in heterozygote miscellaneous - protein s deficiency is found in 2-3% of patients with thromboembolism - acquired protein s deficiency seen in pregnancy, oral contraceptive use, warfarin use, liver disease, dic, and diabetes molecular basis - caused by mutation in the protein s gene (psa, 176880.0002 ) ▲ close the incidence of venous thromboembolism in carriers of the prothrombin gene mutation was slightly lower than that observed in carriers of factor v leiden, whereas in carriers of both mutations it was 2 or 3 times higher. from these findings, martinelli et al.\n",
      "\n",
      " (1993) found high levels of hrg and pai1 in 8 and 10 members, respectively, of a family from which 4 of 7 members with both abnormalities had venous thromboembolism. on the basis of their studies, they concluded that the excess hrg was probably not related to the thromboembolic events. description heparin cofactor ii (hcf2; 142360) rapidly inhibits thrombin in plasma in the presence of dermatan sulfate or heparin. congenital hcf2 deficiency is associated with thromboembolism and is classified into type i (quantitative) or type ii (qualitative) deficiency (kondo et al., 1996).\n",
      "\n",
      " [ citation needed ] apart from thromboembolism, chronically expanding atherosclerotic lesions can cause complete closure of the lumen. chronically expanding lesions are often asymptomatic until lumen stenosis is so severe (usually over 80%) that blood supply to downstream tissue(s) is insufficient, resulting in ischemia . a rare, autosomal recessive systemic dysfunction of the hemostatic pathway, that is due to a defect in the coagulation factor xii (fxii or hageman factor), and is either asymptomatic or characterized by a prolonged activated partial thromboplastin time and an increased risk for thromboembolism.\n",
      "\n",
      " the findings advised the consideration of using a prevention therapy for venous thromboembolism after starting treatment with clozapine, and continuing this for six months. [200] constipation is three times more likely to occur with the use of clozapine, and severe cases can lead to ileus and bowel ischemia resulting in many fatalities. [29] whereas ida is corrected on gf diet, refractory disease or gluten-sensitive malignancies can cause persistent ida. [30] clotting abnormalities [ edit ] thromboembolism is a well-described complication of ibd, with a clinical incidence of up to 6% and a three-fold higher risk of disease, [31] [32] and the factor v leiden mutation further increases the risk of venous thrombosis.\n",
      "\n",
      " a rare, autosomal recessive systemic dysfunction of the hemostatic pathway, that is due to a defect in the coagulation factor xii (fxii or hageman factor), and is either asymptomatic or characterized by a prolonged activated partial thromboplastin time and an increased risk for thromboembolism. pulmonary emboli were once thought to cause transudative effusions, but have been recently shown to be exudative. [1] the mechanism for the exudative pleural effusion in pulmonary thromboembolism is probably related to increased permeability of the capillaries in the lung, which results from the release of cytokines or inflammatory mediators (e.g.\n",
      "\n",
      " by subgroup analysis, significant associations were found between low protein z levels and arterial vascular diseases (or of 2.67, p = 0.0002), pregnancy complications (or of 4.17, p less than 0.00001), and venous thromboembolic diseases (or of 2.18, p = 0.01). these results were consistent with a role for protein z deficiency in various thrombotic diseases, including arterial thrombosis, pregnancy complications, and venous thromboembolism. (1993) found high levels of hrg and pai1 in 8 and 10 members, respectively, of a family from which 4 of 7 members with both abnormalities had venous thromboembolism. on the basis of their studies, they concluded that the excess hrg was probably not related to the thromboembolic events.\n"
     ]
    }
   ],
   "source": [
    "for i in range(20):\n",
    "    print(\"\\n\",ranking[\"passage\"].iloc[i])"
   ]
  },
  {
   "cell_type": "code",
   "execution_count": 304,
   "id": "blind-router",
   "metadata": {},
   "outputs": [],
   "source": [
    "def get_most_relevant(q,a,df, K=25):\n",
    "    df2 = df.copy()\n",
    "    # Get articles that contain the answer\n",
    "    ps = df2[\"article\"][df2[\"article\"].str.contains(a)]\n",
    "    apid = list(df2[df2[\"article\"].str.contains(a)].loc[:,\"apid\"])\n",
    "    \n",
    "    if len(ps) == 0:\n",
    "        return []\n",
    "    # Tokenise the corpus into sentences\n",
    "    sent_tokenised_corpus = [sent_tokenize(x) for x in ps]\n",
    "    # Get the top 1 sentence for each document\n",
    "    top_tokenised_corpus = [rank_documents(q,a,sent_tokenised_corpus[i])[\"passage\"].iloc[0] for i in range(len(sent_tokenised_corpus))]\n",
    "\n",
    "    ranking = rank_documents(q,a,top_tokenised_corpus,apid)\n",
    "    \n",
    "    # Return the min of the top K (25) documents or all documents that have a score over the mean score.\n",
    "    N = min(K, ranking[ranking[\"score\"] > ranking[\"score\"].mean()].shape[0])\n",
    "    return list(ranking[\"passage\"].iloc[0:N])\n",
    "    "
   ]
  },
  {
   "cell_type": "code",
   "execution_count": 305,
   "id": "alpine-triumph",
   "metadata": {},
   "outputs": [
    {
     "data": {
      "application/vnd.jupyter.widget-view+json": {
       "model_id": "4d7ff660e150420f9223df2c679f76da",
       "version_major": 2,
       "version_minor": 0
      },
      "text/plain": [
       "  0%|          | 0/2616 [00:00<?, ?it/s]"
      ]
     },
     "metadata": {},
     "output_type": "display_data"
    },
    {
     "name": "stderr",
     "output_type": "stream",
     "text": [
      "/home/s190619/.conda/envs/colbert-v0.2/lib/python3.7/site-packages/pandas/core/strings/accessor.py:101: UserWarning: This pattern has match groups. To actually get the groups, use str.extract.\n",
      "  return func(self, *args, **kwargs)\n"
     ]
    },
    {
     "ename": "KeyboardInterrupt",
     "evalue": "",
     "output_type": "error",
     "traceback": [
      "\u001b[0;31m---------------------------------------------------------------------------\u001b[0m",
      "\u001b[0;31mKeyboardInterrupt\u001b[0m                         Traceback (most recent call last)",
      "\u001b[0;32m<ipython-input-305-5dfaa1ec2748>\u001b[0m in \u001b[0;36m<module>\u001b[0;34m\u001b[0m\n\u001b[1;32m      6\u001b[0m     \u001b[0mq\u001b[0m \u001b[0;34m=\u001b[0m \u001b[0mqs\u001b[0m\u001b[0;34m[\u001b[0m\u001b[0;34m\"query\"\u001b[0m\u001b[0;34m]\u001b[0m\u001b[0;34m.\u001b[0m\u001b[0miloc\u001b[0m\u001b[0;34m[\u001b[0m\u001b[0mi\u001b[0m\u001b[0;34m]\u001b[0m\u001b[0;34m.\u001b[0m\u001b[0mlower\u001b[0m\u001b[0;34m(\u001b[0m\u001b[0;34m)\u001b[0m\u001b[0;34m\u001b[0m\u001b[0;34m\u001b[0m\u001b[0m\n\u001b[1;32m      7\u001b[0m     \u001b[0ma\u001b[0m \u001b[0;34m=\u001b[0m \u001b[0mqs\u001b[0m\u001b[0;34m[\u001b[0m\u001b[0;34m\"answer\"\u001b[0m\u001b[0;34m]\u001b[0m\u001b[0;34m.\u001b[0m\u001b[0miloc\u001b[0m\u001b[0;34m[\u001b[0m\u001b[0mi\u001b[0m\u001b[0;34m]\u001b[0m\u001b[0;34m.\u001b[0m\u001b[0mlower\u001b[0m\u001b[0;34m(\u001b[0m\u001b[0;34m)\u001b[0m\u001b[0;34m\u001b[0m\u001b[0;34m\u001b[0m\u001b[0m\n\u001b[0;32m----> 8\u001b[0;31m     \u001b[0mtop_passages\u001b[0m\u001b[0;34m.\u001b[0m\u001b[0mappend\u001b[0m\u001b[0;34m(\u001b[0m\u001b[0mget_most_relevant\u001b[0m\u001b[0;34m(\u001b[0m\u001b[0mq\u001b[0m\u001b[0;34m,\u001b[0m\u001b[0ma\u001b[0m\u001b[0;34m,\u001b[0m\u001b[0mdf3\u001b[0m\u001b[0;34m,\u001b[0m\u001b[0mK\u001b[0m\u001b[0;34m=\u001b[0m\u001b[0;36m25\u001b[0m\u001b[0;34m)\u001b[0m\u001b[0;34m)\u001b[0m\u001b[0;34m\u001b[0m\u001b[0;34m\u001b[0m\u001b[0m\n\u001b[0m",
      "\u001b[0;32m<ipython-input-304-8c522c9b1964>\u001b[0m in \u001b[0;36mget_most_relevant\u001b[0;34m(q, a, df, K)\u001b[0m\n\u001b[1;32m      2\u001b[0m     \u001b[0mdf2\u001b[0m \u001b[0;34m=\u001b[0m \u001b[0mdf\u001b[0m\u001b[0;34m.\u001b[0m\u001b[0mcopy\u001b[0m\u001b[0;34m(\u001b[0m\u001b[0;34m)\u001b[0m\u001b[0;34m\u001b[0m\u001b[0;34m\u001b[0m\u001b[0m\n\u001b[1;32m      3\u001b[0m     \u001b[0;31m# Get articles that contain the answer\u001b[0m\u001b[0;34m\u001b[0m\u001b[0;34m\u001b[0m\u001b[0;34m\u001b[0m\u001b[0m\n\u001b[0;32m----> 4\u001b[0;31m     \u001b[0mps\u001b[0m \u001b[0;34m=\u001b[0m \u001b[0mdf2\u001b[0m\u001b[0;34m[\u001b[0m\u001b[0;34m\"article\"\u001b[0m\u001b[0;34m]\u001b[0m\u001b[0;34m[\u001b[0m\u001b[0mdf2\u001b[0m\u001b[0;34m[\u001b[0m\u001b[0;34m\"article\"\u001b[0m\u001b[0;34m]\u001b[0m\u001b[0;34m.\u001b[0m\u001b[0mstr\u001b[0m\u001b[0;34m.\u001b[0m\u001b[0mcontains\u001b[0m\u001b[0;34m(\u001b[0m\u001b[0ma\u001b[0m\u001b[0;34m)\u001b[0m\u001b[0;34m]\u001b[0m\u001b[0;34m\u001b[0m\u001b[0;34m\u001b[0m\u001b[0m\n\u001b[0m\u001b[1;32m      5\u001b[0m     \u001b[0mapid\u001b[0m \u001b[0;34m=\u001b[0m \u001b[0mlist\u001b[0m\u001b[0;34m(\u001b[0m\u001b[0mdf2\u001b[0m\u001b[0;34m[\u001b[0m\u001b[0mdf2\u001b[0m\u001b[0;34m[\u001b[0m\u001b[0;34m\"article\"\u001b[0m\u001b[0;34m]\u001b[0m\u001b[0;34m.\u001b[0m\u001b[0mstr\u001b[0m\u001b[0;34m.\u001b[0m\u001b[0mcontains\u001b[0m\u001b[0;34m(\u001b[0m\u001b[0ma\u001b[0m\u001b[0;34m)\u001b[0m\u001b[0;34m]\u001b[0m\u001b[0;34m.\u001b[0m\u001b[0mloc\u001b[0m\u001b[0;34m[\u001b[0m\u001b[0;34m:\u001b[0m\u001b[0;34m,\u001b[0m\u001b[0;34m\"apid\"\u001b[0m\u001b[0;34m]\u001b[0m\u001b[0;34m)\u001b[0m\u001b[0;34m\u001b[0m\u001b[0;34m\u001b[0m\u001b[0m\n\u001b[1;32m      6\u001b[0m \u001b[0;34m\u001b[0m\u001b[0m\n",
      "\u001b[0;32m~/.conda/envs/colbert-v0.2/lib/python3.7/site-packages/pandas/core/strings/accessor.py\u001b[0m in \u001b[0;36mwrapper\u001b[0;34m(self, *args, **kwargs)\u001b[0m\n\u001b[1;32m     99\u001b[0m                 )\n\u001b[1;32m    100\u001b[0m                 \u001b[0;32mraise\u001b[0m \u001b[0mTypeError\u001b[0m\u001b[0;34m(\u001b[0m\u001b[0mmsg\u001b[0m\u001b[0;34m)\u001b[0m\u001b[0;34m\u001b[0m\u001b[0;34m\u001b[0m\u001b[0m\n\u001b[0;32m--> 101\u001b[0;31m             \u001b[0;32mreturn\u001b[0m \u001b[0mfunc\u001b[0m\u001b[0;34m(\u001b[0m\u001b[0mself\u001b[0m\u001b[0;34m,\u001b[0m \u001b[0;34m*\u001b[0m\u001b[0margs\u001b[0m\u001b[0;34m,\u001b[0m \u001b[0;34m**\u001b[0m\u001b[0mkwargs\u001b[0m\u001b[0;34m)\u001b[0m\u001b[0;34m\u001b[0m\u001b[0;34m\u001b[0m\u001b[0m\n\u001b[0m\u001b[1;32m    102\u001b[0m \u001b[0;34m\u001b[0m\u001b[0m\n\u001b[1;32m    103\u001b[0m         \u001b[0mwrapper\u001b[0m\u001b[0;34m.\u001b[0m\u001b[0m__name__\u001b[0m \u001b[0;34m=\u001b[0m \u001b[0mfunc_name\u001b[0m\u001b[0;34m\u001b[0m\u001b[0;34m\u001b[0m\u001b[0m\n",
      "\u001b[0;32m~/.conda/envs/colbert-v0.2/lib/python3.7/site-packages/pandas/core/strings/accessor.py\u001b[0m in \u001b[0;36mcontains\u001b[0;34m(self, pat, case, flags, na, regex)\u001b[0m\n\u001b[1;32m   1108\u001b[0m         \u001b[0mdtype\u001b[0m\u001b[0;34m:\u001b[0m \u001b[0mbool\u001b[0m\u001b[0;34m\u001b[0m\u001b[0;34m\u001b[0m\u001b[0m\n\u001b[1;32m   1109\u001b[0m         \"\"\"\n\u001b[0;32m-> 1110\u001b[0;31m         \u001b[0mresult\u001b[0m \u001b[0;34m=\u001b[0m \u001b[0mself\u001b[0m\u001b[0;34m.\u001b[0m\u001b[0m_data\u001b[0m\u001b[0;34m.\u001b[0m\u001b[0marray\u001b[0m\u001b[0;34m.\u001b[0m\u001b[0m_str_contains\u001b[0m\u001b[0;34m(\u001b[0m\u001b[0mpat\u001b[0m\u001b[0;34m,\u001b[0m \u001b[0mcase\u001b[0m\u001b[0;34m,\u001b[0m \u001b[0mflags\u001b[0m\u001b[0;34m,\u001b[0m \u001b[0mna\u001b[0m\u001b[0;34m,\u001b[0m \u001b[0mregex\u001b[0m\u001b[0;34m)\u001b[0m\u001b[0;34m\u001b[0m\u001b[0;34m\u001b[0m\u001b[0m\n\u001b[0m\u001b[1;32m   1111\u001b[0m         \u001b[0;32mreturn\u001b[0m \u001b[0mself\u001b[0m\u001b[0;34m.\u001b[0m\u001b[0m_wrap_result\u001b[0m\u001b[0;34m(\u001b[0m\u001b[0mresult\u001b[0m\u001b[0;34m,\u001b[0m \u001b[0mfill_value\u001b[0m\u001b[0;34m=\u001b[0m\u001b[0mna\u001b[0m\u001b[0;34m,\u001b[0m \u001b[0mreturns_string\u001b[0m\u001b[0;34m=\u001b[0m\u001b[0;32mFalse\u001b[0m\u001b[0;34m)\u001b[0m\u001b[0;34m\u001b[0m\u001b[0;34m\u001b[0m\u001b[0m\n\u001b[1;32m   1112\u001b[0m \u001b[0;34m\u001b[0m\u001b[0m\n",
      "\u001b[0;32m~/.conda/envs/colbert-v0.2/lib/python3.7/site-packages/pandas/core/strings/object_array.py\u001b[0m in \u001b[0;36m_str_contains\u001b[0;34m(self, pat, case, flags, na, regex)\u001b[0m\n\u001b[1;32m    125\u001b[0m                 \u001b[0mupper_pat\u001b[0m \u001b[0;34m=\u001b[0m \u001b[0mpat\u001b[0m\u001b[0;34m.\u001b[0m\u001b[0mupper\u001b[0m\u001b[0;34m(\u001b[0m\u001b[0;34m)\u001b[0m\u001b[0;34m\u001b[0m\u001b[0;34m\u001b[0m\u001b[0m\n\u001b[1;32m    126\u001b[0m                 \u001b[0mf\u001b[0m \u001b[0;34m=\u001b[0m \u001b[0;32mlambda\u001b[0m \u001b[0mx\u001b[0m\u001b[0;34m:\u001b[0m \u001b[0mupper_pat\u001b[0m \u001b[0;32min\u001b[0m \u001b[0mx\u001b[0m\u001b[0;34m.\u001b[0m\u001b[0mupper\u001b[0m\u001b[0;34m(\u001b[0m\u001b[0;34m)\u001b[0m\u001b[0;34m\u001b[0m\u001b[0;34m\u001b[0m\u001b[0m\n\u001b[0;32m--> 127\u001b[0;31m         \u001b[0;32mreturn\u001b[0m \u001b[0mself\u001b[0m\u001b[0;34m.\u001b[0m\u001b[0m_str_map\u001b[0m\u001b[0;34m(\u001b[0m\u001b[0mf\u001b[0m\u001b[0;34m,\u001b[0m \u001b[0mna\u001b[0m\u001b[0;34m,\u001b[0m \u001b[0mdtype\u001b[0m\u001b[0;34m=\u001b[0m\u001b[0mnp\u001b[0m\u001b[0;34m.\u001b[0m\u001b[0mdtype\u001b[0m\u001b[0;34m(\u001b[0m\u001b[0;34m\"bool\"\u001b[0m\u001b[0;34m)\u001b[0m\u001b[0;34m)\u001b[0m\u001b[0;34m\u001b[0m\u001b[0;34m\u001b[0m\u001b[0m\n\u001b[0m\u001b[1;32m    128\u001b[0m \u001b[0;34m\u001b[0m\u001b[0m\n\u001b[1;32m    129\u001b[0m     \u001b[0;32mdef\u001b[0m \u001b[0m_str_startswith\u001b[0m\u001b[0;34m(\u001b[0m\u001b[0mself\u001b[0m\u001b[0;34m,\u001b[0m \u001b[0mpat\u001b[0m\u001b[0;34m,\u001b[0m \u001b[0mna\u001b[0m\u001b[0;34m=\u001b[0m\u001b[0;32mNone\u001b[0m\u001b[0;34m)\u001b[0m\u001b[0;34m:\u001b[0m\u001b[0;34m\u001b[0m\u001b[0;34m\u001b[0m\u001b[0m\n",
      "\u001b[0;32m~/.conda/envs/colbert-v0.2/lib/python3.7/site-packages/pandas/core/strings/object_array.py\u001b[0m in \u001b[0;36m_str_map\u001b[0;34m(self, f, na_value, dtype)\u001b[0m\n\u001b[1;32m     59\u001b[0m         \u001b[0mconvert\u001b[0m \u001b[0;34m=\u001b[0m \u001b[0;32mnot\u001b[0m \u001b[0mnp\u001b[0m\u001b[0;34m.\u001b[0m\u001b[0mall\u001b[0m\u001b[0;34m(\u001b[0m\u001b[0mmask\u001b[0m\u001b[0;34m)\u001b[0m\u001b[0;34m\u001b[0m\u001b[0;34m\u001b[0m\u001b[0m\n\u001b[1;32m     60\u001b[0m         \u001b[0;32mtry\u001b[0m\u001b[0;34m:\u001b[0m\u001b[0;34m\u001b[0m\u001b[0;34m\u001b[0m\u001b[0m\n\u001b[0;32m---> 61\u001b[0;31m             \u001b[0mresult\u001b[0m \u001b[0;34m=\u001b[0m \u001b[0mlib\u001b[0m\u001b[0;34m.\u001b[0m\u001b[0mmap_infer_mask\u001b[0m\u001b[0;34m(\u001b[0m\u001b[0marr\u001b[0m\u001b[0;34m,\u001b[0m \u001b[0mf\u001b[0m\u001b[0;34m,\u001b[0m \u001b[0mmask\u001b[0m\u001b[0;34m.\u001b[0m\u001b[0mview\u001b[0m\u001b[0;34m(\u001b[0m\u001b[0mnp\u001b[0m\u001b[0;34m.\u001b[0m\u001b[0muint8\u001b[0m\u001b[0;34m)\u001b[0m\u001b[0;34m,\u001b[0m \u001b[0mconvert\u001b[0m\u001b[0;34m)\u001b[0m\u001b[0;34m\u001b[0m\u001b[0;34m\u001b[0m\u001b[0m\n\u001b[0m\u001b[1;32m     62\u001b[0m         \u001b[0;32mexcept\u001b[0m \u001b[0;34m(\u001b[0m\u001b[0mTypeError\u001b[0m\u001b[0;34m,\u001b[0m \u001b[0mAttributeError\u001b[0m\u001b[0;34m)\u001b[0m \u001b[0;32mas\u001b[0m \u001b[0me\u001b[0m\u001b[0;34m:\u001b[0m\u001b[0;34m\u001b[0m\u001b[0;34m\u001b[0m\u001b[0m\n\u001b[1;32m     63\u001b[0m             \u001b[0;31m# Reraise the exception if callable `f` got wrong number of args.\u001b[0m\u001b[0;34m\u001b[0m\u001b[0;34m\u001b[0m\u001b[0;34m\u001b[0m\u001b[0m\n",
      "\u001b[0;32mpandas/_libs/lib.pyx\u001b[0m in \u001b[0;36mpandas._libs.lib.map_infer_mask\u001b[0;34m()\u001b[0m\n",
      "\u001b[0;32m~/.conda/envs/colbert-v0.2/lib/python3.7/site-packages/pandas/core/strings/object_array.py\u001b[0m in \u001b[0;36m<lambda>\u001b[0;34m(x)\u001b[0m\n\u001b[1;32m    118\u001b[0m                 )\n\u001b[1;32m    119\u001b[0m \u001b[0;34m\u001b[0m\u001b[0m\n\u001b[0;32m--> 120\u001b[0;31m             \u001b[0mf\u001b[0m \u001b[0;34m=\u001b[0m \u001b[0;32mlambda\u001b[0m \u001b[0mx\u001b[0m\u001b[0;34m:\u001b[0m \u001b[0mregex\u001b[0m\u001b[0;34m.\u001b[0m\u001b[0msearch\u001b[0m\u001b[0;34m(\u001b[0m\u001b[0mx\u001b[0m\u001b[0;34m)\u001b[0m \u001b[0;32mis\u001b[0m \u001b[0;32mnot\u001b[0m \u001b[0;32mNone\u001b[0m\u001b[0;34m\u001b[0m\u001b[0;34m\u001b[0m\u001b[0m\n\u001b[0m\u001b[1;32m    121\u001b[0m         \u001b[0;32melse\u001b[0m\u001b[0;34m:\u001b[0m\u001b[0;34m\u001b[0m\u001b[0;34m\u001b[0m\u001b[0m\n\u001b[1;32m    122\u001b[0m             \u001b[0;32mif\u001b[0m \u001b[0mcase\u001b[0m\u001b[0;34m:\u001b[0m\u001b[0;34m\u001b[0m\u001b[0;34m\u001b[0m\u001b[0m\n",
      "\u001b[0;31mKeyboardInterrupt\u001b[0m: "
     ]
    }
   ],
   "source": [
    "df2 = df.copy()\n",
    "df2[\"article\"] = [x.lower() for x in df2[\"article\"]]\n",
    "df3 = df2[[\"apid\",\"article\"]].copy()\n",
    "top_passages = []\n",
    "for i in tqdm(range(qs.shape[0])):\n",
    "    q = qs[\"query\"].iloc[i].lower()\n",
    "    a = qs[\"answer\"].iloc[i].lower()\n",
    "    top_passages.append(get_most_relevant(q,a,df3,K=25))"
   ]
  },
  {
   "cell_type": "code",
   "execution_count": 306,
   "id": "encouraging-ensemble",
   "metadata": {},
   "outputs": [
    {
     "data": {
      "text/plain": [
       "qid                                                             414\n",
       "query             A 52-year-old female with a history of poorly-...\n",
       "answer                                                            D\n",
       "options           {'A': 'A', 'B': 'B', 'C': 'C', 'D': 'D', 'E': ...\n",
       "meta_info                                                     step1\n",
       "Disorder                                                       True\n",
       "CUI                                                        C3843456\n",
       "TUI                                                            T033\n",
       "short_category                                                 DISO\n",
       "long_category                                             Disorders\n",
       "description                                                 Finding\n",
       "cui_METAMAP                                                      []\n",
       "Name: 112, dtype: object"
      ]
     },
     "execution_count": 306,
     "metadata": {},
     "output_type": "execute_result"
    }
   ],
   "source": [
    "qs.iloc[112]"
   ]
  },
  {
   "cell_type": "code",
   "execution_count": 295,
   "id": "concrete-scroll",
   "metadata": {},
   "outputs": [
    {
     "data": {
      "text/plain": [
       "'Thromboembolism'"
      ]
     },
     "execution_count": 295,
     "metadata": {},
     "output_type": "execute_result"
    }
   ],
   "source": [
    "a"
   ]
  },
  {
   "cell_type": "code",
   "execution_count": 303,
   "id": "cooperative-binding",
   "metadata": {},
   "outputs": [
    {
     "data": {
      "text/plain": [
       "['this type of embolism is known as a thromboembolism . complications can arise when a venous thromboembolism (commonly called a vte) lodges in the lung as a pulmonary embolism . supraphysiologic production of vegf from many follicles under the prolonged effect of hcg appears to be the specific key process underlying ohss. thus, while the woman accumulates fluid in the third space, primarily in the form of ascites , she actually becomes hypovolemic and is at risk for respiratory, circulatory (such as arterial thromboembolism since blood is now thicker), and renal problems.',\n",
       " '[2] [4] a study of more than 200,000 women came to the result that admission to inpatient care during pregnancy was associated with an 18-fold increase in the risk of venous thromboembolism (vte) during the stay, and a 6-fold increase in risk in the four weeks after discharge, compared with pregnant women who did not require hospitalization. [5] the study included women admitted to hospital for one or more days for reasons other than delivery or venous thromboembolism. peripartum cardiomyopathy other names post-partum cardiomyopathy [1] specialty obstetrics , cardiology peripartum cardiomyopathy (ppcm) is a form of dilated cardiomyopathy that is defined as a deterioration in cardiac function presenting typically between the last month of pregnancy and up to six months postpartum . as with other forms of dilated cardiomyopathy, ppcm involves systolic dysfunction of the heart with a decrease of the left ventricular ejection fraction (ef) with associated congestive heart failure and an increased risk of atrial and ventricular arrhythmias , thromboembolism (blockage of a blood vessel by a blood clot), and even sudden cardiac death .',\n",
       " 'thrombotic events occurred more often in years in which the patient had been immobile for more than a week or had had surgery. there was no predisposing event such as surgery or pregnancy in 50% of all first episodes and 65% of recurrences of venous thromboembolism in the heterozygotes. the natural history of mvp varies from benign, with a normal life expectancy, to severe complications associated with the development of significant mitral regurgitation, including congestive heart failure, bacterial endocarditis, atrial fibrillation, thromboembolism, and even sudden death. however, complications are uncommon, affecting less than 3% of individuals with mvp (freed et al., 1999; grau et al., 2007; delling and vasan, 2014).',\n",
       " 'venous thromboembolism most commonly manifests as deep vein thrombosis, which may progress to pulmonary embolism if the clot dislodges and travels to the lung. other manifestations include thromboses of the cerebral or visceral veins and recurrent pregnancy loss (summary by seligsohn and lubetsky, 2001 and varga and kujovich, 2012). thrombotic events occurred more often in years in which the patient had been immobile for more than a week or had had surgery. there was no predisposing event such as surgery or pregnancy in 50% of all first episodes and 65% of recurrences of venous thromboembolism in the heterozygotes.',\n",
       " 'the blockages either result from organised (or hardened) blood clots that usually originate from the deep veins of the lower limbs of the body ( thromboembolism ) and lodge in the pulmonary arterial tree after passing through the right side of the heart. the blockages may also result from scar tissue that forms at the site where the clot has damaged the endothelial lining of the pulmonary arteries, causing permanent fibrous obstruction (blood flow blockage). [18] the rcog advised in early april 2020 that because pregnancy is a hypercoagulable state and that people admitted to hospital with covid-19 are also hypercoagulable, infection with covid-19 could increase the risk of venous thromboembolism and that this risk could be compounded by reduced mobility due to self-isolating. [19] their guidelines thus advise that any pregnant woman admitted to hospital with a covid-19 infection should receive at least 10 days of prophylactic low-molecular-weight heparin after being discharged from the hospital.',\n",
       " '(1996) observed a 23-year-old female and her 19-year-old sister, the offspring of a first-cousin marriage, who presented with unusual recurrent severe thromboembolic phenomenon and were found to have familial antiphospholipid syndrome and also to be heterozygous for the r506q mutation of factor v (612309.0001). the coexistence of hereditary and acquired apc-resistance was thought to explain the severity of the thromboembolism. it is often asymptomatic or presents shortly after birth with respiratory distress, stridor, cyanosis and/or weak cry. complications, such as rupture, thromboembolism, infection, airway erosion and/or compression of the adjacent thoracic structures, can develop.',\n",
       " 'supraphysiologic production of vegf from many follicles under the prolonged effect of hcg appears to be the specific key process underlying ohss. thus, while the woman accumulates fluid in the third space, primarily in the form of ascites , she actually becomes hypovolemic and is at risk for respiratory, circulatory (such as arterial thromboembolism since blood is now thicker), and renal problems. ^ tepper nk, whiteman mk, marchbanks pa, james ah, curtis km (december 2016). \"progestin-only contraception and thromboembolism: a systematic review\".',\n",
       " \"loeffler's endocarditis is a rare restrictive cardiomyopathy (see this term) characterized by hypereosinophilia and fibrous thickening of the endocardium, with usually large thrombi against the ventricle walls, that can lead to cardiovascular complications such as heart failure and thromboembolism. it manifests with symptoms like edema, fatigue and shortness of breath. arterial embolism an embolized fragment of an atrial myxoma at the iliac bifurcation (a tumor embolus) specialty cardiology arterial embolism is a sudden interruption of blood flow to an organ or body part due to an embolus adhering to the wall of an artery blocking the flow of blood, [1] the major type of embolus being a blood clot ( thromboembolism ). sometimes, pulmonary embolism is classified as arterial embolism as well, [2] in the sense that the clot follows the pulmonary artery carrying deoxygenated blood away from the heart.\",\n",
       " \"[6] other causes include: takayasu's arteritis [7] giant cell arteritis [8] severe ophthalmic artery occlusion, due to thromboembolism . surgical interruption of anterior ciliary blood vessels supplying the eye, particularly during extensive strabismus surgery on 3 or more rectus muscles , leading to an anterior segment ischemic syndrome . [2] [4] a study of more than 200,000 women came to the result that admission to inpatient care during pregnancy was associated with an 18-fold increase in the risk of venous thromboembolism (vte) during the stay, and a 6-fold increase in risk in the four weeks after discharge, compared with pregnant women who did not require hospitalization. [5] the study included women admitted to hospital for one or more days for reasons other than delivery or venous thromboembolism.\",\n",
       " '[ citation needed ] the superior mesenteric artery supplies: small bowel ascending and proximal two-thirds of the transverse colon the inferior mesenteric artery supplies: distal one-third of the transverse colon descending colon sigmoid colon of note, the splenic flexure , or the junction between the transverse and descending colon, is supplied by the most distal portions of both the inferior mesenteric artery and superior mesenteric artery, and is thus referred to medically as a watershed area , or an area especially vulnerable to ischemia during periods of systemic hypoperfusion, such as in shock . acute abdomen of the ischemic variety is usually due to: a thromboembolism from the left side of the heart, such as may be generated during atrial fibrillation , occluding the sma. [1] a variety of medications have been developed to relax the blood vessels in the lung, calcium channel blockers are used [17] but only work in few cases and according to nice are not recommended for use at all. [18] anticoagulants are used when venous thromboembolism is present.',\n",
       " 'pulmonary emboli were once thought to cause transudative effusions, but have been recently shown to be exudative. [1] the mechanism for the exudative pleural effusion in pulmonary thromboembolism is probably related to increased permeability of the capillaries in the lung, which results from the release of cytokines or inflammatory mediators (e.g. peripartum cardiomyopathy [ edit ] peripartum cardiomyopathy is decrease in heart function which occurs in the last month of pregnancy, or up to six months post-pregnancy. it increases the risk of congestive heart failure , heart arrhythmias , thromboembolism , and cardiac arrest .',\n",
       " 'the son had immature genitalia and an unbroken voice at age 16 but refused examinations. the father of the brother and sister had died from thromboembolism and was not available for study. in a patient presenting with recurrent venous thromboembolism, aiach et al. (1988) identified a reactive site variant (107300.0018) in the at3 gene.',\n",
       " 'the natural history of mvp varies from benign, with a normal life expectancy, to severe complications associated with the development of significant mitral regurgitation, including congestive heart failure, bacterial endocarditis, atrial fibrillation, thromboembolism, and even sudden death. however, complications are uncommon, affecting less than 3% of individuals with mvp (freed et al., 1999; grau et al., 2007; delling and vasan, 2014). (1996) observed a 23-year-old female and her 19-year-old sister, the offspring of a first-cousin marriage, who presented with unusual recurrent severe thromboembolic phenomenon and were found to have familial antiphospholipid syndrome and also to be heterozygous for the r506q mutation of factor v (612309.0001). the coexistence of hereditary and acquired apc-resistance was thought to explain the severity of the thromboembolism.',\n",
       " 'it is often asymptomatic or presents shortly after birth with respiratory distress, stridor, cyanosis and/or weak cry. complications, such as rupture, thromboembolism, infection, airway erosion and/or compression of the adjacent thoracic structures, can develop. the disease course can be characterized by three clinical phases: i) the acute phase (lasting approximately 2 months) with a presentation of severe lung edema, eosinophilia, rash and myalgia, ii) the intermediate phase (2-3 months) with dysphagia, cramps, severe myalgia, skin edema, pulmonary hypertension, paresthesia, major vessel thromboembolism and severe weight loss, iii) the chronic phase, where the skin edema evolves to scleroderma, and the neuromuscular manifestations into paresis and paralysis due to polyneuropathy. liver disease and fibrosis in major organs such as the pancreas and intestines are also present in patients with the poorest prognosis.',\n",
       " 'two probands with complete deletion and the proband with partial duplication had positive family history and the cnv cosegregated with protein s deficiency in family members. inheritance - autosomal dominant cardiovascular vascular - venous thrombosis, recurrent - mesenteric thrombosis - cerebral venous thrombosis - arterial thrombosis - superficial thrombophlebitis respiratory lung - pulmonary embolism skin, nails, & hair skin - warfarin-induced skin necrosis laboratory abnormalities - absent/reduced protein s and normal total proteins in heterozygote miscellaneous - protein s deficiency is found in 2-3% of patients with thromboembolism - acquired protein s deficiency seen in pregnancy, oral contraceptive use, warfarin use, liver disease, dic, and diabetes molecular basis - caused by mutation in the protein s gene (psa, 176880.0002 ) ▲ close the incidence of venous thromboembolism in carriers of the prothrombin gene mutation was slightly lower than that observed in carriers of factor v leiden, whereas in carriers of both mutations it was 2 or 3 times higher. from these findings, martinelli et al.',\n",
       " '(1993) found high levels of hrg and pai1 in 8 and 10 members, respectively, of a family from which 4 of 7 members with both abnormalities had venous thromboembolism. on the basis of their studies, they concluded that the excess hrg was probably not related to the thromboembolic events. description heparin cofactor ii (hcf2; 142360) rapidly inhibits thrombin in plasma in the presence of dermatan sulfate or heparin. congenital hcf2 deficiency is associated with thromboembolism and is classified into type i (quantitative) or type ii (qualitative) deficiency (kondo et al., 1996).',\n",
       " '[ citation needed ] apart from thromboembolism, chronically expanding atherosclerotic lesions can cause complete closure of the lumen. chronically expanding lesions are often asymptomatic until lumen stenosis is so severe (usually over 80%) that blood supply to downstream tissue(s) is insufficient, resulting in ischemia . a rare, autosomal recessive systemic dysfunction of the hemostatic pathway, that is due to a defect in the coagulation factor xii (fxii or hageman factor), and is either asymptomatic or characterized by a prolonged activated partial thromboplastin time and an increased risk for thromboembolism.',\n",
       " 'the findings advised the consideration of using a prevention therapy for venous thromboembolism after starting treatment with clozapine, and continuing this for six months. [200] constipation is three times more likely to occur with the use of clozapine, and severe cases can lead to ileus and bowel ischemia resulting in many fatalities. [29] whereas ida is corrected on gf diet, refractory disease or gluten-sensitive malignancies can cause persistent ida. [30] clotting abnormalities [ edit ] thromboembolism is a well-described complication of ibd, with a clinical incidence of up to 6% and a three-fold higher risk of disease, [31] [32] and the factor v leiden mutation further increases the risk of venous thrombosis.',\n",
       " 'a rare, autosomal recessive systemic dysfunction of the hemostatic pathway, that is due to a defect in the coagulation factor xii (fxii or hageman factor), and is either asymptomatic or characterized by a prolonged activated partial thromboplastin time and an increased risk for thromboembolism. pulmonary emboli were once thought to cause transudative effusions, but have been recently shown to be exudative. [1] the mechanism for the exudative pleural effusion in pulmonary thromboembolism is probably related to increased permeability of the capillaries in the lung, which results from the release of cytokines or inflammatory mediators (e.g.',\n",
       " 'by subgroup analysis, significant associations were found between low protein z levels and arterial vascular diseases (or of 2.67, p = 0.0002), pregnancy complications (or of 4.17, p less than 0.00001), and venous thromboembolic diseases (or of 2.18, p = 0.01). these results were consistent with a role for protein z deficiency in various thrombotic diseases, including arterial thrombosis, pregnancy complications, and venous thromboembolism. (1993) found high levels of hrg and pai1 in 8 and 10 members, respectively, of a family from which 4 of 7 members with both abnormalities had venous thromboembolism. on the basis of their studies, they concluded that the excess hrg was probably not related to the thromboembolic events.',\n",
       " 'history [ edit ] armand trousseau first described this finding in the 1860s; he later found the same sign in himself, was subsequently diagnosed with gastric cancer and died soon thereafter. [6] trousseau presciently attributed thromboembolism in malignancy to changes in blood composition rather than local inflammatory or mechanical forces. [2] such a blockage (a vascular occlusion ) may affect a part of the body distant from the origin of the embolus. an embolism in which the embolus is a piece of thrombus is called a thromboembolism.',\n",
       " '[3] contents 1 symptoms 2 causes 3 diagnosis 4 management 5 prognosis 6 epidemiology 7 see also 8 references 9 external links symptoms [ edit ] the common mthfr deficiencies are usually asymptomatic, although the 677t variant can cause a mildly increased risk of some diseases. for individuals homozygous in the 677t variant, there is a mildly elevated risk of thromboembolism (odds ratio 1.2), [4] and stroke (odds ratio 1.26). [ citation needed ] apart from thromboembolism, chronically expanding atherosclerotic lesions can cause complete closure of the lumen. chronically expanding lesions are often asymptomatic until lumen stenosis is so severe (usually over 80%) that blood supply to downstream tissue(s) is insufficient, resulting in ischemia .',\n",
       " \"[1] a variety of medications have been developed to relax the blood vessels in the lung, calcium channel blockers are used [17] but only work in few cases and according to nice are not recommended for use at all. [18] anticoagulants are used when venous thromboembolism is present. [6] other causes include: takayasu's arteritis [7] giant cell arteritis [8] severe ophthalmic artery occlusion, due to thromboembolism . surgical interruption of anterior ciliary blood vessels supplying the eye, particularly during extensive strabismus surgery on 3 or more rectus muscles , leading to an anterior segment ischemic syndrome .\",\n",
       " 'the incidence of venous thromboembolism in carriers of the prothrombin gene mutation was slightly lower than that observed in carriers of factor v leiden, whereas in carriers of both mutations it was 2 or 3 times higher. from these findings, martinelli et al. \"management of venous thromboembolism\" . acs surgery .',\n",
       " '[21] these medications are commonly used for both prevention and treatment in people who are at risk for or have experienced a heart attack, stroke, or venous thromboembolism . [21] pregnancy increases the risk of clot formation in women due to elevated levels of certain clotting factors and compounds in the body, and the risk increases even more immediately after birth and remains elevated up to 3 months after delivery. diabetic patients are twice as likely to develop a thromboembolism than are non-diabetic patient. the exact mechanism of how diabetes increases the risk of clot formation remains unclear and could possibly be a future direction for study.']"
      ]
     },
     "execution_count": 303,
     "metadata": {},
     "output_type": "execute_result"
    }
   ],
   "source": [
    "top_passages[0]"
   ]
  },
  {
   "cell_type": "code",
   "execution_count": 1,
   "id": "motivated-wright",
   "metadata": {},
   "outputs": [],
   "source": [
    "mylist = []\n",
    "for h in mylist:\n",
    "    print(1)"
   ]
  },
  {
   "cell_type": "code",
   "execution_count": 3,
   "id": "universal-decrease",
   "metadata": {},
   "outputs": [
    {
     "data": {
      "text/plain": [
       "True"
      ]
     },
     "execution_count": 3,
     "metadata": {},
     "output_type": "execute_result"
    }
   ],
   "source": [
    "len(mylist) < 1"
   ]
  },
  {
   "cell_type": "code",
   "execution_count": null,
   "id": "located-watershed",
   "metadata": {},
   "outputs": [],
   "source": []
  }
 ],
 "metadata": {
  "kernelspec": {
   "display_name": "Python 3",
   "language": "python",
   "name": "python3"
  },
  "language_info": {
   "codemirror_mode": {
    "name": "ipython",
    "version": 3
   },
   "file_extension": ".py",
   "mimetype": "text/x-python",
   "name": "python",
   "nbconvert_exporter": "python",
   "pygments_lexer": "ipython3",
   "version": "3.7.9"
  }
 },
 "nbformat": 4,
 "nbformat_minor": 5
}
